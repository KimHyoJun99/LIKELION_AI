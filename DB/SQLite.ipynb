{
 "cells": [
  {
   "cell_type": "markdown",
   "metadata": {},
   "source": [
    "# SQLite\n",
    "- sqlite는 파이썬에 내장되어 있음"
   ]
  },
  {
   "cell_type": "markdown",
   "metadata": {},
   "source": [
    "### 데이터 입력"
   ]
  },
  {
   "cell_type": "code",
   "execution_count": 3,
   "metadata": {},
   "outputs": [
    {
     "ename": "OperationalError",
     "evalue": "no such table: userTable",
     "output_type": "error",
     "traceback": [
      "\u001b[1;31m---------------------------------------------------------------------------\u001b[0m",
      "\u001b[1;31mOperationalError\u001b[0m                          Traceback (most recent call last)",
      "\u001b[1;32mc:\\Users\\jjjun_ii\\Documents\\GitHub\\LIKELION_AI\\DB\\SQLite.ipynb Cell 3\u001b[0m line \u001b[0;36m2\n\u001b[0;32m     <a href='vscode-notebook-cell:/c%3A/Users/jjjun_ii/Documents/GitHub/LIKELION_AI/DB/SQLite.ipynb#W2sZmlsZQ%3D%3D?line=19'>20</a>\u001b[0m     \u001b[39m# SQL 문법 + python\u001b[39;00m\n\u001b[0;32m     <a href='vscode-notebook-cell:/c%3A/Users/jjjun_ii/Documents/GitHub/LIKELION_AI/DB/SQLite.ipynb#W2sZmlsZQ%3D%3D?line=20'>21</a>\u001b[0m     sql \u001b[39m=\u001b[39m \u001b[39m\"\u001b[39m\u001b[39mINSERT INTO userTable VALUES(\u001b[39m\u001b[39m'\u001b[39m\u001b[39m\"\u001b[39m \u001b[39m+\u001b[39m data1 \u001b[39m+\u001b[39m \u001b[39m\"\u001b[39m\u001b[39m'\u001b[39m\u001b[39m, \u001b[39m\u001b[39m'\u001b[39m\u001b[39m\"\u001b[39m \u001b[39m+\u001b[39m data2 \u001b[39m+\u001b[39m \u001b[39m\"\u001b[39m\u001b[39m'\u001b[39m\u001b[39m, \u001b[39m\u001b[39m'\u001b[39m\u001b[39m\"\u001b[39m \u001b[39m+\u001b[39m data3 \u001b[39m+\u001b[39m \u001b[39m\"\u001b[39m\u001b[39m'\u001b[39m\u001b[39m, \u001b[39m\u001b[39m\"\u001b[39m \u001b[39m+\u001b[39m data4 \u001b[39m+\u001b[39m \u001b[39m\"\u001b[39m\u001b[39m)\u001b[39m\u001b[39m\"\u001b[39m\n\u001b[1;32m---> <a href='vscode-notebook-cell:/c%3A/Users/jjjun_ii/Documents/GitHub/LIKELION_AI/DB/SQLite.ipynb#W2sZmlsZQ%3D%3D?line=21'>22</a>\u001b[0m     cur\u001b[39m.\u001b[39;49mexecute(sql)\n\u001b[0;32m     <a href='vscode-notebook-cell:/c%3A/Users/jjjun_ii/Documents/GitHub/LIKELION_AI/DB/SQLite.ipynb#W2sZmlsZQ%3D%3D?line=23'>24</a>\u001b[0m \u001b[39m# DB에 반영\u001b[39;00m\n\u001b[0;32m     <a href='vscode-notebook-cell:/c%3A/Users/jjjun_ii/Documents/GitHub/LIKELION_AI/DB/SQLite.ipynb#W2sZmlsZQ%3D%3D?line=24'>25</a>\u001b[0m con\u001b[39m.\u001b[39mcommit()\n",
      "\u001b[1;31mOperationalError\u001b[0m: no such table: userTable"
     ]
    }
   ],
   "source": [
    "import sqlite3\n",
    "\n",
    "# 변수 선언 부분\n",
    "con, cur = None, None\n",
    "data1, data2, data3, data4 = \"\", \"\", \"\", \"\"\n",
    "sql = \"\"\n",
    "\n",
    "# 메인 코드 부분\n",
    "con = sqlite3.connect(\"naverDB\")\n",
    "cur = con.cursor()\n",
    "\n",
    "while True:\n",
    "    data1 = input(\"사용자 ID ==> \")\n",
    "    if data1 == \"\":\n",
    "        break\n",
    "    data2 = input(\"사용자 이름 ==> \")\n",
    "    data3 = input(\"사용자 이메일 ==> \")\n",
    "    data4 = input(\"사용자 출생연도 ==> \")\n",
    "\n",
    "    # SQL 문법 + python\n",
    "    sql = \"INSERT INTO userTable VALUES('\" + data1 + \"', '\" + data2 + \"', '\" + data3 + \"', \" + data4 + \")\"\n",
    "    cur.execute(sql)\n",
    "\n",
    "# DB에 반영\n",
    "con.commit()\n",
    "\n",
    "con.close()"
   ]
  },
  {
   "cell_type": "markdown",
   "metadata": {},
   "source": [
    "### 데이터 조회"
   ]
  },
  {
   "cell_type": "code",
   "execution_count": 7,
   "metadata": {},
   "outputs": [
    {
     "name": "stdout",
     "output_type": "stream",
     "text": [
      "사용자ID  사용자이름  이메일  출생연도\n",
      "------------------------------\n",
      "john john Bann john@naver.com 1990\n",
      "lee Lee Pal lee@paran.com 1988\n",
      "hyo Hyo Jun magic@naver.com 1999\n"
     ]
    }
   ],
   "source": [
    "con, cur = None, None\n",
    "data1, data2, data3, data4 = \"\", \"\", \"\", \"\"\n",
    "row = None\n",
    "\n",
    "con = sqlite3.connect(\"naverDB\")\n",
    "cur = con.cursor()\n",
    "\n",
    "cur.execute(\"SELECT * FROM userTable\")\n",
    "\n",
    "print(\"사용자ID  사용자이름  이메일  출생연도\")\n",
    "print('-'*30)\n",
    "\n",
    "while True:\n",
    "    row = cur.fetchone()\n",
    "    if row == None:\n",
    "        break\n",
    "    data1 = row[0]\n",
    "    data2 = row[1]\n",
    "    data3 = row[2]\n",
    "    data4 = row[3]\n",
    "    print(f\"{data1} {data2} {data3} {data4}\")\n",
    "\n",
    "con.close()"
   ]
  },
  {
   "cell_type": "code",
   "execution_count": null,
   "metadata": {},
   "outputs": [],
   "source": []
  }
 ],
 "metadata": {
  "kernelspec": {
   "display_name": "LikeLion",
   "language": "python",
   "name": "python3"
  },
  "language_info": {
   "codemirror_mode": {
    "name": "ipython",
    "version": 3
   },
   "file_extension": ".py",
   "mimetype": "text/x-python",
   "name": "python",
   "nbconvert_exporter": "python",
   "pygments_lexer": "ipython3",
   "version": "3.8.18"
  },
  "orig_nbformat": 4
 },
 "nbformat": 4,
 "nbformat_minor": 2
}
