{
 "cells": [
  {
   "cell_type": "markdown",
   "metadata": {},
   "source": [
    "# parking"
   ]
  },
  {
   "cell_type": "code",
   "execution_count": 11,
   "metadata": {},
   "outputs": [],
   "source": [
    "parking_car = []\n",
    "car_list = [chr(ord('A') + i) for i in range(26)]\n",
    "top = 0\n",
    "\n",
    "def main():\n",
    "    reset()\n",
    "    while True:\n",
    "        response = menu()\n",
    "        if response == 1:\n",
    "            push_car()\n",
    "        elif response == 2:\n",
    "            pop_car()\n",
    "        else:\n",
    "            exit()\n",
    "            break\n",
    "\n",
    "def reset():\n",
    "    global parking_car, top\n",
    "    parking_car = []\n",
    "    top = 0\n",
    "\n",
    "def menu():\n",
    "    response = int(input(\"<1> 자동차 넣기 <2> 자동차 빼기 <3> 끝: \"))\n",
    "    return response\n",
    "\n",
    "def push_car():\n",
    "    global parking_car\n",
    "    global top\n",
    "    parking_car.append(car_list[top])\n",
    "    print(f\"{car_list[top]} 자동차 들어감. 주차장 상태 ==> {parking_car}\")\n",
    "    top += 1\n",
    "\n",
    "def pop_car():\n",
    "    global parking_car\n",
    "    global top\n",
    "    if top == 0:\n",
    "        print(\"빠져나갈 자동차가 없음\")\n",
    "    else:\n",
    "        top -= 1\n",
    "        del parking_car[top]\n",
    "        print(f\"{car_list[top]}자동차 나감. 주차장 상태 ==> {parking_car}\")\n",
    "\n",
    "def exit():\n",
    "    print(f\"현재 주차장에 {len(parking_car)}대가 있음\")\n",
    "    print(\"프로그램을 종료합니다.\")"
   ]
  },
  {
   "cell_type": "code",
   "execution_count": 12,
   "metadata": {},
   "outputs": [
    {
     "name": "stdout",
     "output_type": "stream",
     "text": [
      "A 자동차 들어감. 주차장 상태 ==> ['A']\n",
      "B 자동차 들어감. 주차장 상태 ==> ['A', 'B']\n",
      "B자동차 나감. 주차장 상태 ==> ['A']\n",
      "A자동차 나감. 주차장 상태 ==> []\n",
      "빠져나갈 자동차가 없음\n",
      "현재 주차장에 0대가 있음\n",
      "프로그램을 종료합니다.\n"
     ]
    }
   ],
   "source": [
    "main()"
   ]
  }
 ],
 "metadata": {
  "kernelspec": {
   "display_name": "LikeLion",
   "language": "python",
   "name": "python3"
  },
  "language_info": {
   "codemirror_mode": {
    "name": "ipython",
    "version": 3
   },
   "file_extension": ".py",
   "mimetype": "text/x-python",
   "name": "python",
   "nbconvert_exporter": "python",
   "pygments_lexer": "ipython3",
   "version": "3.8.18"
  }
 },
 "nbformat": 4,
 "nbformat_minor": 2
}
