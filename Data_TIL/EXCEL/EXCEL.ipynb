{
 "cells": [
  {
   "cell_type": "markdown",
   "metadata": {},
   "source": [
    "# EXCEL"
   ]
  },
  {
   "cell_type": "markdown",
   "metadata": {},
   "source": [
    "### 1. EXCEL 파일 처리"
   ]
  },
  {
   "cell_type": "markdown",
   "metadata": {},
   "source": [
    "##### 1-1. 엑셀 파일 정보 출력"
   ]
  },
  {
   "cell_type": "code",
   "execution_count": 2,
   "metadata": {},
   "outputs": [
    {
     "name": "stdout",
     "output_type": "stream",
     "text": [
      "워크시트는 2개 입니다\n",
      "[Sheet  0:<senior>, Sheet  1:<junior>]\n",
      "** 워크시트의 이름: senior\n",
      "행 수는 6, 열 수는 7 입니다\n",
      "** 워크시트의 이름: junior\n",
      "행 수는 6, 열 수는 7 입니다\n"
     ]
    }
   ],
   "source": [
    "import xlrd\n",
    "\n",
    "workbook = xlrd.open_workbook(\"C:\\\\Users\\\\jjjun_ii\\\\Documents\\\\GitHub\\\\LIKELION_AI\\\\Data_TIL\\\\EXCEL\\\\data\\\\singer.xls\")\n",
    "sheetCount = workbook.nsheets\n",
    "print(f\"워크시트는 {sheetCount}개 입니다\")\n",
    "\n",
    "wsheetList = workbook.sheets()\n",
    "print(wsheetList)\n",
    "\n",
    "for worksheet in wsheetList:\n",
    "    print(f\"** 워크시트의 이름: {worksheet.name}\")\n",
    "    print(f\"행 수는 {worksheet.nrows}, 열 수는 {worksheet.ncols} 입니다\")"
   ]
  },
  {
   "cell_type": "markdown",
   "metadata": {},
   "source": [
    "##### 1-2. 엑셀 파일 내용 출력"
   ]
  },
  {
   "cell_type": "code",
   "execution_count": 4,
   "metadata": {},
   "outputs": [
    {
     "name": "stdout",
     "output_type": "stream",
     "text": [
      "** 워크시트의 이름: senior\n",
      "아이디\t이름\t인원\t주소\t평균 키\t데뷔 일자\t유튜브 조회수\t\n",
      "WMN\t여자친구\t6.0\t경기\t166.0\t2015.01.15\t800.0\t\n",
      "GRL\t소녀시대\t8.0\t서울\t168.0\t2007.08.02\t1114600.0\t\n",
      "RED\t레드벨벳\t4.0\t경북\t161.0\t2014.08.01\t44500.0\t\n",
      "APN\t에이핑크\t6.0\t경기\t164.0\t2011.02.10\t2900.0\t\n",
      "MMU\t마마무\t4.0\t전남\t165.0\t2014.06.19\t6900.0\t\n",
      "\n",
      "** 워크시트의 이름: junior\n",
      "아이디\t이름\t인원\t주소\t평균 키\t데뷔 일자\t유튜브 조회수\t\n",
      "TWC\t트와이스\t9.0\t서울\t167.0\t2015.10.19\t3334500.0\t\n",
      "BLK\t블랙핑크\t4.0\t경남\t163.0\t2016.08.08\t443700.0\t\n",
      "OMY\t오마이걸\t7.0\t서울\t160.0\t2015.04.21\t3500.0\t\n",
      "ITZ\t있지\t5.0\t경남\t167.0\t2019.02.12\t21300.0\t\n",
      "SPC\t우주소녀\t13.0\t서울\t162.0\t2016.02.25\t350.0\t\n",
      "\n"
     ]
    }
   ],
   "source": [
    "import xlrd\n",
    "\n",
    "workbook = xlrd.open_workbook(\"C:\\\\Users\\\\jjjun_ii\\\\Documents\\\\GitHub\\\\LIKELION_AI\\\\Data_TIL\\\\EXCEL\\\\data\\\\singer.xls\")\n",
    "sheetCount = workbook.nsheets\n",
    "\n",
    "wsheetList = workbook.sheets()\n",
    "for worksheet in wsheetList:\n",
    "    print(f\"** 워크시트의 이름: {worksheet.name}\")\n",
    "    \n",
    "    for row in range(worksheet.nrows):\n",
    "        for col in range(worksheet.ncols):\n",
    "            print(f\"{worksheet.cell_value(row, col)}\", end='\\t')\n",
    "        print()\n",
    "    print()"
   ]
  },
  {
   "cell_type": "markdown",
   "metadata": {},
   "source": [
    "##### 1-3. 원하는 데이터 처리"
   ]
  },
  {
   "cell_type": "code",
   "execution_count": 5,
   "metadata": {},
   "outputs": [
    {
     "name": "stdout",
     "output_type": "stream",
     "text": [
      "전체 가수그룹 인원 합계:  66\n",
      "가수그룹 인원 평균:  6.6\n"
     ]
    }
   ],
   "source": [
    "# 모든 워크시트에서 인원의 총합과 평균을 계산\n",
    "\n",
    "import xlrd\n",
    "\n",
    "workbook = xlrd.open_workbook(\"C:\\\\Users\\\\jjjun_ii\\\\Documents\\\\GitHub\\\\LIKELION_AI\\\\Data_TIL\\\\EXCEL\\\\data\\\\singer.xls\")\n",
    "sheetCount = workbook.nsheets\n",
    "\n",
    "personNum = 0\n",
    "personIdx = 2  # 인원수 idx\n",
    "rowCount = 0\n",
    "wsheetList = workbook.sheets()\n",
    "\n",
    "for worksheet in wsheetList:\n",
    "    rowCount += worksheet.nrows - 1  # 헤더 부분의 개수는 포함시키지 않기 위해 -1\n",
    "    for row in range(1, worksheet.nrows):\n",
    "        personNum += int(worksheet.cell_value(row, personIdx))\n",
    "\n",
    "print(\"전체 가수그룹 인원 합계: \", personNum)\n",
    "print(\"가수그룹 인원 평균: \", personNum/rowCount)"
   ]
  },
  {
   "cell_type": "markdown",
   "metadata": {},
   "source": [
    "##### 1-4. 엑셀 파일 저장"
   ]
  },
  {
   "cell_type": "code",
   "execution_count": 6,
   "metadata": {},
   "outputs": [
    {
     "name": "stdout",
     "output_type": "stream",
     "text": [
      "Save. OK~\n"
     ]
    }
   ],
   "source": [
    "# singer.xls를 outSinger1으로 복사하여 저장\n",
    "\n",
    "import xlrd\n",
    "import xlwt\n",
    "\n",
    "workbook = xlrd.open_workbook(\"C:\\\\Users\\\\jjjun_ii\\\\Documents\\\\GitHub\\\\LIKELION_AI\\\\Data_TIL\\\\EXCEL\\\\data\\\\singer.xls\")\n",
    "outWorkbook = xlwt.Workbook()\n",
    "\n",
    "wsheetList = workbook.sheets()\n",
    "\n",
    "for worksheet in wsheetList:\n",
    "    outSheet = outWorkbook.add_sheet(worksheet.name)\n",
    "    for row in range(worksheet.nrows):\n",
    "        for col in range(worksheet.ncols):\n",
    "            outSheet.write(row, col, worksheet.cell_value(row, col))\n",
    "\n",
    "outWorkbook.save(\"C:\\\\Users\\\\jjjun_ii\\\\Documents\\\\GitHub\\\\LIKELION_AI\\\\Data_TIL\\\\EXCEL\\\\data\\\\outSinger1.xls\")\n",
    "print(\"Save. OK~\")"
   ]
  },
  {
   "cell_type": "markdown",
   "metadata": {},
   "source": [
    "##### 1-5. 특정 조건의 행만 추출"
   ]
  },
  {
   "cell_type": "code",
   "execution_count": 8,
   "metadata": {},
   "outputs": [
    {
     "ename": "ValueError",
     "evalue": "invalid literal for int() with base 10: '평균 키'",
     "output_type": "error",
     "traceback": [
      "\u001b[1;31m---------------------------------------------------------------------------\u001b[0m",
      "\u001b[1;31mValueError\u001b[0m                                Traceback (most recent call last)",
      "\u001b[1;32mc:\\Users\\jjjun_ii\\Documents\\GitHub\\LIKELION_AI\\Data_TIL\\EXCEL\\EXCEL.ipynb Cell 12\u001b[0m line \u001b[0;36m1\n\u001b[0;32m     <a href='vscode-notebook-cell:/c%3A/Users/jjjun_ii/Documents/GitHub/LIKELION_AI/Data_TIL/EXCEL/EXCEL.ipynb#X16sZmlsZQ%3D%3D?line=11'>12</a>\u001b[0m     \u001b[39mfor\u001b[39;00m row \u001b[39min\u001b[39;00m \u001b[39mrange\u001b[39m(worksheet\u001b[39m.\u001b[39mnrows):\n\u001b[0;32m     <a href='vscode-notebook-cell:/c%3A/Users/jjjun_ii/Documents/GitHub/LIKELION_AI/Data_TIL/EXCEL/EXCEL.ipynb#X16sZmlsZQ%3D%3D?line=12'>13</a>\u001b[0m         \u001b[39mfor\u001b[39;00m col \u001b[39min\u001b[39;00m \u001b[39mrange\u001b[39m(worksheet\u001b[39m.\u001b[39mncols):\n\u001b[1;32m---> <a href='vscode-notebook-cell:/c%3A/Users/jjjun_ii/Documents/GitHub/LIKELION_AI/Data_TIL/EXCEL/EXCEL.ipynb#X16sZmlsZQ%3D%3D?line=13'>14</a>\u001b[0m             \u001b[39mif\u001b[39;00m \u001b[39mint\u001b[39;49m(worksheet\u001b[39m.\u001b[39;49mcell_value(row, \u001b[39m4\u001b[39;49m)) \u001b[39m>\u001b[39m\u001b[39m=\u001b[39m \u001b[39m165\u001b[39m:\n\u001b[0;32m     <a href='vscode-notebook-cell:/c%3A/Users/jjjun_ii/Documents/GitHub/LIKELION_AI/Data_TIL/EXCEL/EXCEL.ipynb#X16sZmlsZQ%3D%3D?line=14'>15</a>\u001b[0m                 out_sheet\u001b[39m.\u001b[39mwrite(row, col, worksheet\u001b[39m.\u001b[39mcell_value(row, col))\n\u001b[0;32m     <a href='vscode-notebook-cell:/c%3A/Users/jjjun_ii/Documents/GitHub/LIKELION_AI/Data_TIL/EXCEL/EXCEL.ipynb#X16sZmlsZQ%3D%3D?line=16'>17</a>\u001b[0m out_workbook\u001b[39m.\u001b[39msave(\u001b[39m\"\u001b[39m\u001b[39mC:\u001b[39m\u001b[39m\\\\\u001b[39;00m\u001b[39mUsers\u001b[39m\u001b[39m\\\\\u001b[39;00m\u001b[39mjjjun_ii\u001b[39m\u001b[39m\\\\\u001b[39;00m\u001b[39mDocuments\u001b[39m\u001b[39m\\\\\u001b[39;00m\u001b[39mGitHub\u001b[39m\u001b[39m\\\\\u001b[39;00m\u001b[39mLIKELION_AI\u001b[39m\u001b[39m\\\\\u001b[39;00m\u001b[39mData_TIL\u001b[39m\u001b[39m\\\\\u001b[39;00m\u001b[39mEXCEL\u001b[39m\u001b[39m\\\\\u001b[39;00m\u001b[39mdata\u001b[39m\u001b[39m\\\\\u001b[39;00m\u001b[39moutSinger2.xls\u001b[39m\u001b[39m\"\u001b[39m)\n",
      "\u001b[1;31mValueError\u001b[0m: invalid literal for int() with base 10: '평균 키'"
     ]
    }
   ],
   "source": [
    "# 평균 키 165 이상인 가수 그룹 추출\n",
    "\n",
    "import xlrd\n",
    "import xlwt\n",
    "\n",
    "workbook = xlrd.open_workbook(\"C:\\\\Users\\\\jjjun_ii\\\\Documents\\\\GitHub\\\\LIKELION_AI\\\\Data_TIL\\\\EXCEL\\\\data\\\\singer.xls\")\n",
    "out_workbook = xlwt.Workbook()\n",
    "\n",
    "height_idx = 4\n",
    "worksheets = workbook.sheets()\n",
    "out_sheet = out_workbook.add_sheet(\"singer\")\n",
    "\n",
    "for worksheet in worksheets:\n",
    "    for row in range(worksheet.nrows):\n",
    "        for col in range(worksheet.ncols):\n",
    "            if int(worksheet.cell_value(row, height_idx)) >= 165:  # 헤더도 비교가 되어서 오류 발생\n",
    "                out_sheet.write(row, col, worksheet.cell_value(row, col))\n",
    "\n",
    "out_workbook.save(\"C:\\\\Users\\\\jjjun_ii\\\\Documents\\\\GitHub\\\\LIKELION_AI\\\\Data_TIL\\\\EXCEL\\\\data\\\\outSinger2.xls\")\n",
    "print(\"Save. OK!\")"
   ]
  },
  {
   "cell_type": "code",
   "execution_count": 10,
   "metadata": {},
   "outputs": [
    {
     "name": "stdout",
     "output_type": "stream",
     "text": [
      "Save. OK!\n"
     ]
    }
   ],
   "source": [
    "# 평균 키 165 이상인 가수 그룹 추출\n",
    "\n",
    "import xlrd\n",
    "import xlwt\n",
    "\n",
    "workbook = xlrd.open_workbook(\"C:\\\\Users\\\\jjjun_ii\\\\Documents\\\\GitHub\\\\LIKELION_AI\\\\Data_TIL\\\\EXCEL\\\\data\\\\singer.xls\")\n",
    "out_workbook = xlwt.Workbook()\n",
    "\n",
    "height_idx = 4\n",
    "worksheets = workbook.sheets()\n",
    "out_sheet = out_workbook.add_sheet(\"singer\")\n",
    "\n",
    "worksheet = worksheets[0]  # 미리 첫 번째 워크시트의 헤더 저장\n",
    "for col in range(worksheet.ncols):\n",
    "    out_sheet.write(0, col, worksheet.cell_value(0, col))\n",
    "\n",
    "total_row = 0  # 165 이상인 사람들에 해당하는 row index\n",
    "for worksheet in worksheets:\n",
    "    for row in range(1, worksheet.nrows):\n",
    "        if int(worksheet.cell_value(row, height_idx)) >= 165:\n",
    "            total_row += 1\n",
    "            for col in range(worksheet.ncols): \n",
    "                out_sheet.write(total_row, col, worksheet.cell_value(row, col))\n",
    "\n",
    "out_workbook.save(\"C:\\\\Users\\\\jjjun_ii\\\\Documents\\\\GitHub\\\\LIKELION_AI\\\\Data_TIL\\\\EXCEL\\\\data\\\\outSinger2.xls\")\n",
    "print(\"Save. OK!\")"
   ]
  },
  {
   "cell_type": "code",
   "execution_count": 11,
   "metadata": {},
   "outputs": [
    {
     "name": "stdout",
     "output_type": "stream",
     "text": [
      "Save. OK!\n"
     ]
    }
   ],
   "source": [
    "# 인원이 6명 이상인 가수 그룹 추출\n",
    "\n",
    "import xlrd\n",
    "import xlwt\n",
    "\n",
    "workbook = xlrd.open_workbook(\"C:\\\\Users\\\\jjjun_ii\\\\Documents\\\\GitHub\\\\LIKELION_AI\\\\Data_TIL\\\\EXCEL\\\\data\\\\singer.xls\")\n",
    "out_workbook = xlwt.Workbook()\n",
    "\n",
    "popul_idx = 2\n",
    "worksheets = workbook.sheets()\n",
    "out_worksheet = out_workbook.add_sheet(\"singer\")\n",
    "\n",
    "worksheet = worksheets[0]\n",
    "for col in range(worksheet.ncols):\n",
    "    out_worksheet.write(0, col, worksheet.cell_value(0, col))\n",
    "\n",
    "total_row = 0\n",
    "for worksheet in worksheets:\n",
    "    for row in range(1, worksheet.nrows):\n",
    "        if worksheet.cell_value(row, popul_idx) >= 6:\n",
    "            total_row += 1\n",
    "            for col in range(worksheet.ncols):\n",
    "                out_worksheet.write(total_row, col, worksheet.cell_value(row, col))\n",
    "                \n",
    "out_workbook.save(\"C:\\\\Users\\\\jjjun_ii\\\\Documents\\\\GitHub\\\\LIKELION_AI\\\\Data_TIL\\\\EXCEL\\\\data\\\\outSinger3.xls\")\n",
    "print(\"Save. OK!\")"
   ]
  },
  {
   "cell_type": "markdown",
   "metadata": {},
   "source": [
    "### 2. EXCEL 파일 활용"
   ]
  },
  {
   "cell_type": "markdown",
   "metadata": {},
   "source": [
    "##### 2-1. EXCEL, CSV 상호 변환"
   ]
  },
  {
   "cell_type": "code",
   "execution_count": 12,
   "metadata": {},
   "outputs": [
    {
     "name": "stdout",
     "output_type": "stream",
     "text": [
      "['아이디', '이름', '인원', '주소', '평균 키', '데뷔 일자', '유튜브 조회수']\n",
      "['WMN', '여자친구', 6.0, '경기', 166.0, '2015.01.15', 800.0]\n",
      "['GRL', '소녀시대', 8.0, '서울', 168.0, '2007.08.02', 1114600.0]\n",
      "['RED', '레드벨벳', 4.0, '경북', 161.0, '2014.08.01', 44500.0]\n",
      "['APN', '에이핑크', 6.0, '경기', 164.0, '2011.02.10', 2900.0]\n",
      "['MMU', '마마무', 4.0, '전남', 165.0, '2014.06.19', 6900.0]\n",
      "['아이디', '이름', '인원', '주소', '평균 키', '데뷔 일자', '유튜브 조회수']\n",
      "['TWC', '트와이스', 9.0, '서울', 167.0, '2015.10.19', 3334500.0]\n",
      "['BLK', '블랙핑크', 4.0, '경남', 163.0, '2016.08.08', 443700.0]\n",
      "['OMY', '오마이걸', 7.0, '서울', 160.0, '2015.04.21', 3500.0]\n",
      "['ITZ', '있지', 5.0, '경남', 167.0, '2019.02.12', 21300.0]\n",
      "['SPC', '우주소녀', 13.0, '서울', 162.0, '2016.02.25', 350.0]\n",
      "Save. OK~\n"
     ]
    }
   ],
   "source": [
    "# EXCEL -> CSV 변환\n",
    "\n",
    "import xlrd\n",
    "import csv\n",
    "\n",
    "workbook = xlrd.open_workbook(\"C:\\\\Users\\\\jjjun_ii\\\\Documents\\\\GitHub\\\\LIKELION_AI\\\\Data_TIL\\\\EXCEL\\\\data\\\\singer.xls\")\n",
    "\n",
    "wsheetList = workbook.sheets()\n",
    "for worksheet in wsheetList:\n",
    "    with open(\"C:\\\\Users\\\\jjjun_ii\\\\Documents\\\\GitHub\\\\LIKELION_AI\\\\Data_TIL\\\\EXCEL\\\\data\\\\singer_\" + worksheet.name + \".csv\", 'w', newline='') as outFp:\n",
    "        csvWriter = csv.writer(outFp)\n",
    "        \n",
    "        for row in range(worksheet.nrows):\n",
    "            row_list = worksheet.row_values(row)\n",
    "            print(row_list)\n",
    "            csvWriter.writerow(row_list)\n",
    "\n",
    "print(\"Save. OK~\")"
   ]
  },
  {
   "cell_type": "code",
   "execution_count": 19,
   "metadata": {},
   "outputs": [
    {
     "name": "stdout",
     "output_type": "stream",
     "text": [
      "Save.OK~\n"
     ]
    }
   ],
   "source": [
    "# CSV -> EXCEL 변환\n",
    "\n",
    "import xlwt\n",
    "import csv\n",
    "import os\n",
    "\n",
    "csvFileList = [\"C:\\\\Users\\\\jjjun_ii\\\\Documents\\\\GitHub\\\\LIKELION_AI\\\\Data_TIL\\\\EXCEL\\\\data\\\\singerA.csv\", \"C:\\\\Users\\\\jjjun_ii\\\\Documents\\\\GitHub\\\\LIKELION_AI\\\\Data_TIL\\\\EXCEL\\\\data\\\\singerB.csv\"]\n",
    "outWorkbook = xlwt.Workbook()\n",
    "\n",
    "for csvFileName in csvFileList:\n",
    "    rowCount = 0\n",
    "    with open(csvFileName, 'r', encoding=\"cp949\") as inFp:\n",
    "        csvReader = csv.reader(inFp)\n",
    "        header_list = next(csvReader)\n",
    "        outSheet = outWorkbook.add_sheet(os.path.basename(csvFileName))  # os.path.basename은 경로 제외하고 파일 이름 반환\n",
    "        \n",
    "        for col in range(len(header_list)):\n",
    "            outSheet.write(rowCount, col, header_list[col])\n",
    "        \n",
    "        for row_list in csvReader:\n",
    "            rowCount += 1\n",
    "            \n",
    "            for col in range(len(row_list)):\n",
    "                if row_list[col].isnumeric():\n",
    "                    outSheet.write(rowCount, col, float(row_list[col]))\n",
    "                else:\n",
    "                    outSheet.write(rowCount, col, row_list[col])\n",
    "\n",
    "outWorkbook.save(\"C:\\\\Users\\\\jjjun_ii\\\\Documents\\\\GitHub\\\\LIKELION_AI\\\\Data_TIL\\\\EXCEL\\\\data\\\\singerCSV.xls\")\n",
    "print(\"Save.OK~\")"
   ]
  },
  {
   "cell_type": "code",
   "execution_count": 37,
   "metadata": {},
   "outputs": [
    {
     "name": "stdout",
     "output_type": "stream",
     "text": [
      "Save file1. OK~\n",
      "Save file2. OK~\n"
     ]
    }
   ],
   "source": [
    "import xlwt\n",
    "import csv\n",
    "import os\n",
    "\n",
    "csvFileList = [\"C:\\\\Users\\\\jjjun_ii\\\\Documents\\\\GitHub\\\\LIKELION_AI\\\\Data_TIL\\\\EXCEL\\\\data\\\\singerA.csv\", \"C:\\\\Users\\\\jjjun_ii\\\\Documents\\\\GitHub\\\\LIKELION_AI\\\\Data_TIL\\\\EXCEL\\\\data\\\\singerB.csv\"]\n",
    "\n",
    "file_num = 0\n",
    "file_name = ['A', 'B']\n",
    "for csvFileName in csvFileList:\n",
    "    file_num += 1\n",
    "    outWorkbook = xlwt.Workbook()\n",
    "    rowCount = 0\n",
    "    with open(csvFileName, 'r', encoding=\"cp949\") as inFp:\n",
    "        csvReader = csv.reader(inFp)\n",
    "        header_list = next(csvReader)\n",
    "        outSheet = outWorkbook.add_sheet(os.path.basename(csvFileName))  # os.path.basename은 경로 제외하고 파일 이름 반환\n",
    "        \n",
    "        for col in range(len(header_list)):\n",
    "            outSheet.write(rowCount, col, header_list[col])\n",
    "        \n",
    "        for row_list in csvReader:\n",
    "            rowCount += 1\n",
    "            \n",
    "            for col in range(len(row_list)):\n",
    "                if row_list[col].isnumeric():\n",
    "                    outSheet.write(rowCount, col, float(row_list[col]))\n",
    "                else:\n",
    "                    outSheet.write(rowCount, col, row_list[col])\n",
    "    outWorkbook.save(f\"C:\\\\Users\\\\jjjun_ii\\\\Documents\\\\GitHub\\\\LIKELION_AI\\\\Data_TIL\\\\EXCEL\\\\data\\\\singer{file_name[file_num-1]}.xls\")\n",
    "    print(f\"Save file{file_num}. OK~\")"
   ]
  },
  {
   "cell_type": "code",
   "execution_count": 35,
   "metadata": {},
   "outputs": [
    {
     "name": "stdout",
     "output_type": "stream",
     "text": [
      "Save. OK~\n"
     ]
    }
   ],
   "source": [
    "import xlrd\n",
    "import csv\n",
    "\n",
    "workbook = xlrd.open_workbook(\"C:\\\\Users\\\\jjjun_ii\\\\Documents\\\\GitHub\\\\LIKELION_AI\\\\Data_TIL\\\\EXCEL\\\\data\\\\singer.xls\")\n",
    "\n",
    "findColumn = [\"이름\", \"주소\", \"유튜브 조회수\"]\n",
    "findIndex = []\n",
    "\n",
    "wsheetList = workbook.sheets()\n",
    "worksheet = wsheetList[0]\n",
    "header_list = worksheet.row_values(0)\n",
    "\n",
    "for name in findColumn:\n",
    "    findIndex.append(header_list.index(name))\n",
    "    \n",
    "wsheetList = workbook.sheets()\n",
    "with open(\"C:\\\\Users\\\\jjjun_ii\\\\Documents\\\\GitHub\\\\LIKELION_AI\\\\Data_TIL\\\\EXCEL\\\\data\\\\singer_youtube.csv\", 'w', newline='') as outFp:\n",
    "    csvWriter = csv.writer(outFp)\n",
    "    csvWriter.writerow(findColumn)\n",
    "    for worksheet in wsheetList:\n",
    "        \n",
    "        for row in range(1, worksheet.nrows):\n",
    "            findList = []\n",
    "            \n",
    "            for col in range(worksheet.ncols):\n",
    "                if col in findIndex:\n",
    "                    findList.append(worksheet.row_values(row)[col])\n",
    "            csvWriter.writerow(findList)\n",
    "            \n",
    "print(\"Save. OK~\")"
   ]
  },
  {
   "cell_type": "markdown",
   "metadata": {},
   "source": [
    "##### 2-2. openpyxl 라이브러리\n",
    "- 엑셀 2007 이후에서 사용하는 xlsx 파일 처리를 위해서 외부 라이브러리인 openpyxl 사용"
   ]
  },
  {
   "cell_type": "code",
   "execution_count": 32,
   "metadata": {},
   "outputs": [
    {
     "name": "stdout",
     "output_type": "stream",
     "text": [
      "** 워크시트의 이름: senior\n",
      "아이디\t이름\t인원\t주소\t평균 키\t데뷔 일자\t유튜브 조회수\t\n",
      "WMN\t여자친구\t6\t경기\t166\t2015.01.15\t800\t\n",
      "GRL\t소녀시대\t8\t서울\t168\t2007.08.02\t1114600\t\n",
      "RED\t레드벨벳\t4\t경북\t161\t2014.08.01\t44500\t\n",
      "APN\t에이핑크\t6\t경기\t164\t2011.02.10\t2900\t\n",
      "MMU\t마마무\t4\t전남\t165\t2014.06.19\t6900\t\n",
      "\n",
      "** 워크시트의 이름: junior\n",
      "아이디\t이름\t인원\t주소\t평균 키\t데뷔 일자\t유튜브 조회수\t\n",
      "TWC\t트와이스\t9\t서울\t167\t2015.10.19\t3334500\t\n",
      "BLK\t블랙핑크\t4\t경남\t163\t2016.08.08\t443700\t\n",
      "OMY\t오마이걸\t7\t서울\t160\t2015.04.21\t3500\t\n",
      "ITZ\t있지\t5\t경남\t167\t2019.02.12\t21300\t\n",
      "SPC\t우주소녀\t13\t서울\t162\t2016.02.25\t350\t\n",
      "\n"
     ]
    }
   ],
   "source": [
    "import openpyxl\n",
    "\n",
    "workbook = openpyxl.load_workbook(\"C:\\\\Users\\\\jjjun_ii\\\\Documents\\\\GitHub\\\\LIKELION_AI\\\\Data_TIL\\\\EXCEL\\\\data\\\\singer.xlsx\")\n",
    "wsheetList = workbook.sheetnames\n",
    "\n",
    "for wsName in wsheetList:\n",
    "    worksheet = workbook[wsName]\n",
    "    print(f\"** 워크시트의 이름: {wsName}\")\n",
    "    \n",
    "    for row in range(1, worksheet.max_row+1):  # xlsx 최소 row 인덱스 1\n",
    "        \n",
    "        for col in range(1, worksheet.max_column+1):  # xlsx 최소 col 인덱스 1\n",
    "            print(f\"{worksheet.cell(row=row, column=col).value}\", end='\\t')\n",
    "        print()\n",
    "    print()"
   ]
  },
  {
   "cell_type": "markdown",
   "metadata": {},
   "source": [
    "##### 2-3. 엑셀 파일 서식 복사"
   ]
  },
  {
   "cell_type": "code",
   "execution_count": 34,
   "metadata": {},
   "outputs": [
    {
     "name": "stdout",
     "output_type": "stream",
     "text": [
      "Save. OK~\n"
     ]
    }
   ],
   "source": [
    "import openpyxl\n",
    "from copy import copy\n",
    "\n",
    "workbook = openpyxl.load_workbook(\"C:\\\\Users\\\\jjjun_ii\\\\Documents\\\\GitHub\\\\LIKELION_AI\\\\Data_TIL\\\\EXCEL\\\\data\\\\singer.xlsx\")\n",
    "wsheetList = workbook.sheetnames\n",
    "\n",
    "outWorkbook = openpyxl.Workbook()\n",
    "outWorkbook.remove(outWorkbook['Sheet'])  # 기본으로 생성된 시트를 제거\n",
    "\n",
    "for wsName in wsheetList:\n",
    "    worksheet = workbook[wsName]\n",
    "    outSheet = outWorkbook.create_sheet(wsName)\n",
    "    \n",
    "    for row in range(1, worksheet.max_row+1):\n",
    "        outSheet.row_dimensions[row].height = worksheet.row_dimensions[row].height\n",
    "        \n",
    "        for col in range(1, worksheet.max_column+1):\n",
    "            outSheet.column_dimensions[chr(ord('A')+col-1)].width = worksheet.column_dimensions[chr(ord('A')+col-1)].width  # ord() 주어진 문자의 유니코드 포인트(정수) 반환, 각 열이 'A', 'B'와 같이 이루어져 있어서 사용\n",
    "            inCell = worksheet.cell(row=row, column=col)\n",
    "            outCell = outSheet.cell(row=row, column=col, value=inCell.value)  # 값 전달은 value로\n",
    "            \n",
    "            if inCell.has_style:\n",
    "                outCell.font = copy(inCell.font)\n",
    "                outCell.border = copy(inCell.border)\n",
    "                outCell.fill = copy(inCell.fill)\n",
    "                outCell.number_format = copy(inCell.number_format)\n",
    "                outCell.alignment = copy(inCell.alignment)\n",
    "                \n",
    "outWorkbook.save(\"C:\\\\Users\\\\jjjun_ii\\\\Documents\\\\GitHub\\\\LIKELION_AI\\\\Data_TIL\\\\EXCEL\\\\data\\\\singer_copy.xlsx\")\n",
    "print(\"Save. OK~\")"
   ]
  },
  {
   "cell_type": "code",
   "execution_count": 44,
   "metadata": {},
   "outputs": [
    {
     "name": "stdout",
     "output_type": "stream",
     "text": [
      "Save. OK~\n"
     ]
    }
   ],
   "source": [
    "import openpyxl\n",
    "from copy import copy\n",
    "\n",
    "workbook = openpyxl.load_workbook(\"C:\\\\Users\\\\jjjun_ii\\\\Documents\\\\GitHub\\\\LIKELION_AI\\\\Data_TIL\\\\EXCEL\\\\data\\\\singer.xlsx\")\n",
    "sheets_name = workbook.sheetnames\n",
    "\n",
    "out_workbook = openpyxl.Workbook()\n",
    "out_workbook.remove(out_workbook['Sheet'])\n",
    "height_idx = 5  # xlsx 파일은 시작 인덱스가 1임을 생각하기\n",
    "\n",
    "for sheet_name in sheets_name:\n",
    "    total_row = 1\n",
    "    worksheet = workbook[sheet_name]\n",
    "    outsheet = out_workbook.create_sheet(sheet_name)\n",
    "        \n",
    "    for row in range(1, worksheet.max_row+1):\n",
    "        if row == 1:\n",
    "            outsheet.row_dimensions[row].height = worksheet.row_dimensions[row].height\n",
    "            \n",
    "            for col in range(1, worksheet.max_column+1):\n",
    "                outsheet.column_dimensions[chr(ord('A')+col-1)].width = worksheet.column_dimensions[chr(ord('A')+col-1)].width\n",
    "                in_cell = worksheet.cell(total_row, col)\n",
    "                out_cell = outsheet.cell(total_row, col, in_cell.value)\n",
    "                if in_cell.has_style:\n",
    "                    out_cell.font = copy(in_cell.font)\n",
    "                    out_cell.border = copy(in_cell.border)\n",
    "                    out_cell.fill = copy(in_cell.fill)\n",
    "                    out_cell.number_format = copy(in_cell.number_format)\n",
    "                    out_cell.alignment = copy(in_cell.alignment)\n",
    "                \n",
    "        else:\n",
    "            if int(worksheet.cell(row, height_idx).value) >= 165:\n",
    "                total_row += 1\n",
    "                outsheet.row_dimensions[row].height = worksheet.row_dimensions[row].height\n",
    "            \n",
    "                for col in range(1, worksheet.max_column+1):\n",
    "                    outsheet.column_dimensions[chr(ord('A')+col-1)].width = worksheet.column_dimensions[chr(ord('A')+col-1)].width\n",
    "                    in_cell = worksheet.cell(row, col)\n",
    "                    out_cell = outsheet.cell(total_row, col, in_cell.value)\n",
    "                    if in_cell.has_style:\n",
    "                        out_cell.font = copy(in_cell.font)\n",
    "                        out_cell.border = copy(in_cell.border)\n",
    "                        out_cell.fill = copy(in_cell.fill)\n",
    "                        out_cell.number_format = copy(in_cell.number_format)\n",
    "                        out_cell.alignment = copy(in_cell.alignment)\n",
    "            else:\n",
    "                continue\n",
    "\n",
    "out_workbook.save(\"C:\\\\Users\\\\jjjun_ii\\\\Documents\\\\GitHub\\\\LIKELION_AI\\\\Data_TIL\\\\EXCEL\\\\data\\\\singer_copy2.xlsx\")\n",
    "print(\"Save. OK~\")"
   ]
  }
 ],
 "metadata": {
  "kernelspec": {
   "display_name": "LikeLion",
   "language": "python",
   "name": "python3"
  },
  "language_info": {
   "codemirror_mode": {
    "name": "ipython",
    "version": 3
   },
   "file_extension": ".py",
   "mimetype": "text/x-python",
   "name": "python",
   "nbconvert_exporter": "python",
   "pygments_lexer": "ipython3",
   "version": "3.8.18"
  }
 },
 "nbformat": 4,
 "nbformat_minor": 2
}
