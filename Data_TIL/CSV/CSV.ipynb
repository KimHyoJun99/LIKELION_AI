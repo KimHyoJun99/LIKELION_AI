{
 "cells": [
  {
   "cell_type": "markdown",
   "metadata": {},
   "source": [
    "# CSV"
   ]
  },
  {
   "cell_type": "markdown",
   "metadata": {},
   "source": [
    "### 1. CSV 파일 처리 방법"
   ]
  },
  {
   "cell_type": "markdown",
   "metadata": {},
   "source": [
    "##### 1-1. 파일 읽기"
   ]
  },
  {
   "cell_type": "code",
   "execution_count": 46,
   "metadata": {},
   "outputs": [
    {
     "name": "stdout",
     "output_type": "stream",
     "text": [
      "아이디,이름,인원,주소,국번,전화 번호,평균 키,데뷔 일자\n",
      "TWC,트와이스,9,서울,02,11111111,167,2015.10.19\n"
     ]
    }
   ],
   "source": [
    "inFp = open(\"C:/Users/jjjun_ii/Documents/GitHub/LIKELION_AI/DA_TIL/CSV/data/singer1.csv\", 'r', encoding = \"cp949\")\n",
    "\n",
    "inStr = inFp.readline()  # readline(), 한 줄을 읽고 \\n도 있음\n",
    "print(inStr, end=\"\")\n",
    "\n",
    "inStr = inFp.readline()\n",
    "print(inStr, end=\"\")\n",
    "\n",
    "inFp.close()"
   ]
  },
  {
   "cell_type": "code",
   "execution_count": 47,
   "metadata": {},
   "outputs": [
    {
     "name": "stdout",
     "output_type": "stream",
     "text": [
      "아이디,이름,인원,주소,국번,전화 번호,평균 키,데뷔 일자\n",
      "TWC,트와이스,9,서울,02,11111111,167,2015.10.19\n"
     ]
    }
   ],
   "source": [
    "with open(\"C:/Users/jjjun_ii/Documents/GitHub/LIKELION_AI/DA_TIL/CSV/data/singer1.csv\", 'r', encoding = \"cp949\") as inFp:\n",
    "    \n",
    "    inStr = inFp.readline()\n",
    "    print(inStr, end=\"\")\n",
    "    \n",
    "    inStr = inFp.readline()\n",
    "    print(inStr, end=\"\")"
   ]
  },
  {
   "cell_type": "code",
   "execution_count": 48,
   "metadata": {},
   "outputs": [
    {
     "name": "stdout",
     "output_type": "stream",
     "text": [
      "아이디\t이름\t인원\t주소\t국번\t전화 번호\t평균 키\t데뷔 일자\t\n",
      "TWC\t트와이스\t9\t서울\t02\t11111111\t167\t2015.10.19\t\n",
      "BLK\t블랙핑크\t4\t경남\t055\t22222222\t163\t2016.08.08\t\n",
      "WMN\t여자친구\t6\t경기\t031\t33333333\t166\t2015.01.15\t\n",
      "OMY\t오마이걸\t7\t서울\t\t\t160\t2015.04.21\t\n",
      "GRL\t소녀시대\t8\t서울\t02\t44444444\t168\t2007.08.02\t\n",
      "ITZ\t있지\t5\t경남\t\t\t167\t2019.02.12\t\n",
      "RED\t레드벨벳\t4\t경북\t054\t55555555\t161\t2014.08.01\t\n",
      "APN\t에이핑크\t6\t경기\t031\t77777777\t164\t2011.02.10\t\n",
      "SPC\t우주소녀\t13\t서울\t02\t88888888\t162\t2016.02.25\t\n",
      "MMU\t마마무\t4\t전남\t061\t99999999\t165\t2014.06.19\t\n"
     ]
    }
   ],
   "source": [
    "def printList(pList):\n",
    "    for data in pList:\n",
    "        print(data, end='\\t')\n",
    "    print()\n",
    "    \n",
    "with open(\"C:/Users/jjjun_ii/Documents/GitHub/LIKELION_AI/DA_TIL/CSV/data/singer1.csv\", 'r', encoding = \"cp949\") as inFp:\n",
    "    header = inFp.readline()\n",
    "    header = header.strip()\n",
    "    header_list = header.split(',')\n",
    "    printList(header_list)\n",
    "    \n",
    "    for inStr in inFp:\n",
    "        inStr = inStr.strip()\n",
    "        row_list = inStr.split(',')\n",
    "        printList(row_list)"
   ]
  },
  {
   "cell_type": "markdown",
   "metadata": {},
   "source": [
    "##### 1-2. replace, format, join, map"
   ]
  },
  {
   "cell_type": "code",
   "execution_count": 49,
   "metadata": {},
   "outputs": [
    {
     "data": {
      "text/plain": [
       "'2025$5$5'"
      ]
     },
     "execution_count": 49,
     "metadata": {},
     "output_type": "execute_result"
    }
   ],
   "source": [
    "myStr = \"2025-5-5\"\n",
    "myStr.replace('-', '$')"
   ]
  },
  {
   "cell_type": "code",
   "execution_count": 50,
   "metadata": {},
   "outputs": [
    {
     "name": "stdout",
     "output_type": "stream",
     "text": [
      "1235 100.00\n"
     ]
    }
   ],
   "source": [
    "num1, num2 = 1234.555, 100\n",
    "print(\"{0:0.0f} {1:0.2f}\".format(num1, num2))  # 0.0f: 소수점 아래 자릿수 0"
   ]
  },
  {
   "cell_type": "code",
   "execution_count": 51,
   "metadata": {},
   "outputs": [
    {
     "data": {
      "text/plain": [
       "'파이썬#데이터#분석'"
      ]
     },
     "execution_count": 51,
     "metadata": {},
     "output_type": "execute_result"
    }
   ],
   "source": [
    "# 리스트를 문자열로 변경\n",
    "# \"구분자\".join()\n",
    "\n",
    "myList = [\"파이썬\", \"데이터\", \"분석\"]\n",
    "'#'.join(myList)"
   ]
  },
  {
   "cell_type": "code",
   "execution_count": 52,
   "metadata": {},
   "outputs": [
    {
     "data": {
      "text/plain": [
       "['100', '200', '300']"
      ]
     },
     "execution_count": 52,
     "metadata": {},
     "output_type": "execute_result"
    }
   ],
   "source": [
    "myList = [100, 200, 300]\n",
    "list(map(str, myList))"
   ]
  },
  {
   "cell_type": "code",
   "execution_count": 53,
   "metadata": {},
   "outputs": [
    {
     "data": {
      "text/plain": [
       "'2025/8/8'"
      ]
     },
     "execution_count": 53,
     "metadata": {},
     "output_type": "execute_result"
    }
   ],
   "source": [
    "myList = [2025, 8, 8]\n",
    "'/'.join(map(str, myList))"
   ]
  },
  {
   "cell_type": "code",
   "execution_count": 54,
   "metadata": {},
   "outputs": [
    {
     "name": "stdout",
     "output_type": "stream",
     "text": [
      "1 4 9 \n",
      "[1, 4, 9]\n"
     ]
    }
   ],
   "source": [
    "# map은 하나하나 대응\n",
    "\n",
    "def pow(x):\n",
    "    return x ** 2\n",
    "\n",
    "temp_li = [1, 2, 3]\n",
    "pow_temp_li = map(pow, temp_li)  # int, str 등의 데이터 타입 뿐만 아니라 함수도 가능\n",
    "\n",
    "for i in pow_temp_li:\n",
    "    print(i, end = ' ')\n",
    "\n",
    "print()\n",
    "pow_temp_li = list(map(pow, temp_li))\n",
    "print(pow_temp_li)"
   ]
  },
  {
   "cell_type": "markdown",
   "metadata": {},
   "source": [
    "##### 1-3. 데이터 변경 후 파일 저장"
   ]
  },
  {
   "cell_type": "code",
   "execution_count": 55,
   "metadata": {},
   "outputs": [
    {
     "name": "stdout",
     "output_type": "stream",
     "text": [
      "Save. OK~\n"
     ]
    }
   ],
   "source": [
    "with open(\"C:/Users/jjjun_ii/Documents/GitHub/LIKELION_AI/DA_TIL/CSV/data/singer1.csv\", 'r', encoding = \"cp949\") as inFp:  # read 모드로 파일 열기\n",
    "    with open(\"C:/Users/jjjun_ii/Documents/GitHub/LIKELION_AI/DA_TIL/CSV/data/new_singer1.csv\", 'w', encoding = \"cp949\") as outFp:  # write 모드로 파일 열기\n",
    "        header = inFp.readline()  # 한 줄 읽기\n",
    "        header = header.strip()  # 공백 제거\n",
    "        header_list = header.split(',')  # ,를 기준으로 문자열을 나눠서 리스트에 저장\n",
    "        header_str = ','.join(map(str, header_list))  # 리스트의 값을 str로 변경하고 ,로 나눠서 문자열 생성\n",
    "        outFp.write(header_str + '\\n')\n",
    "        \n",
    "        for inStr in inFp:\n",
    "            inStr = inStr.strip()\n",
    "            row_list = inStr.split(',')\n",
    "            row_list[-1] = row_list[-1].replace('.', '/')  # 리스트의 마지막 값 .을 /로 변경\n",
    "            height_str = \"{0:.2f}\".format(int(row_list[-2]))  # 리스트의 마지막에서 두 번째 값 int로 변경 후 소수점 둘째 자리까지 저장\n",
    "            row_list[-2] = height_str\n",
    "            row_str = ','.join(map(str, row_list))\n",
    "            outFp.write(row_str + '\\n')\n",
    "\n",
    "print(\"Save. OK~\")"
   ]
  },
  {
   "cell_type": "markdown",
   "metadata": {},
   "source": [
    "##### 1-4. 필요한 데이터 추출해서 파일 저장"
   ]
  },
  {
   "cell_type": "code",
   "execution_count": 56,
   "metadata": {},
   "outputs": [
    {
     "name": "stdout",
     "output_type": "stream",
     "text": [
      "SAVE. OK~\n"
     ]
    }
   ],
   "source": [
    "with open(\"C:/Users/jjjun_ii/Documents/GitHub/LIKELION_AI/DA_TIL/CSV/data/singer1.csv\", 'r', encoding = \"cp949\") as inFp:\n",
    "    with open(\"C:/Users/jjjun_ii/Documents/GitHub/LIKELION_AI/DA_TIL/CSV/data/new_singer2.csv\", 'w', encoding = \"cp949\") as outFp:\n",
    "        header = inFp.readline()\n",
    "        header = header.strip()\n",
    "        header_list = header.split(',')\n",
    "        idx1 = header_list.index(\"아이디\")  # 원소의 인덱스 반환, 원소가 중복되면 첫 번째 원소의 인덱스\n",
    "        idx2 = header_list.index(\"이름\")\n",
    "        idx3 = header_list.index(\"평균 키\")\n",
    "        header_list = [header_list[idx1], header_list[idx2], header_list[idx3]]  # 아이디, 이름, 평균 키의 원소들로 새로운 list 생성\n",
    "        header_str = ','.join(map(str, header_list))\n",
    "        outFp.write(header_str + '\\n')\n",
    "        for inStr in inFp:\n",
    "            inStr = inStr.strip()\n",
    "            row_list = inStr.split(',')\n",
    "            if int(row_list[idx3]) >= 165:  # 평균 키가 165보다 크면\n",
    "                row_list = [row_list[idx1], row_list[idx2], row_list[idx3]]  # 아이디, 이름, 평균 키의 값들로 리스트 생성\n",
    "                row_str = ','.join(map(str, row_list))\n",
    "                outFp.write(row_str + '\\n')\n",
    "        \n",
    "print(\"SAVE. OK~\")"
   ]
  },
  {
   "cell_type": "code",
   "execution_count": 63,
   "metadata": {},
   "outputs": [
    {
     "name": "stdout",
     "output_type": "stream",
     "text": [
      "SAVE. OK!\n"
     ]
    }
   ],
   "source": [
    "with open(\"C:/Users/jjjun_ii/Documents/GitHub/LIKELION_AI/DA_TIL/CSV/data/singer1.csv\", 'r', encoding = \"cp949\") as inFp:\n",
    "    with open(\"C:/Users/jjjun_ii/Documents/GitHub/LIKELION_AI/DA_TIL/CSV/data/new_singer3.csv\", 'w', encoding = \"cp949\") as outFp:\n",
    "        header = inFp.readline()\n",
    "        header = header.strip()\n",
    "        header_list = header.split(',')\n",
    "        idx1 = header_list.index(\"이름\")\n",
    "        idx2 = header_list.index(\"국번\")\n",
    "        idx3 = header_list.index(\"전화 번호\")\n",
    "        header_list = [header_list[idx1], header_list[idx2], header_list[idx3]]\n",
    "        header_str = ','.join(map(str, header_list))\n",
    "        outFp.write(header_str + '\\n')\n",
    "        \n",
    "        for inStr in inFp:\n",
    "            inStr = inStr.strip()\n",
    "            inStr_list = inStr.split(',')\n",
    "            inStr_list = [inStr[idx1], inStr[idx2], inStr[idx3]]\n",
    "            if inStr_list[2] == '':\n",
    "                continue\n",
    "            else:\n",
    "                inStr_str = ','.join(map(str, inStr_list))\n",
    "                outFp.write(inStr_str + '\\n')\n",
    "\n",
    "print(\"SAVE. OK!\")\n",
    "            \n",
    "            "
   ]
  },
  {
   "cell_type": "markdown",
   "metadata": {},
   "source": [
    "### 2. CSV 파일 활용\n",
    "- [python CSV documnet](https://docs.python.org/ko/3/library/csv.html)"
   ]
  },
  {
   "cell_type": "markdown",
   "metadata": {},
   "source": [
    "##### 2-1. 콤마가 포함된 데이터"
   ]
  },
  {
   "cell_type": "code",
   "execution_count": 64,
   "metadata": {},
   "outputs": [
    {
     "name": "stdout",
     "output_type": "stream",
     "text": [
      "이름 유튜브 조회수\n",
      "['TWC', '트와이스', '9', '서울', '167', '2015.10.19', '\"3', '334', '500\"']\n"
     ]
    },
    {
     "ename": "ValueError",
     "evalue": "invalid literal for int() with base 10: '\"3'",
     "output_type": "error",
     "traceback": [
      "\u001b[1;31m---------------------------------------------------------------------------\u001b[0m",
      "\u001b[1;31mValueError\u001b[0m                                Traceback (most recent call last)",
      "\u001b[1;32mc:\\Users\\jjjun_ii\\Documents\\GitHub\\LIKELION_AI\\DA_TIL\\CSV\\CSV.ipynb Cell 20\u001b[0m line \u001b[0;36m1\n\u001b[0;32m      <a href='vscode-notebook-cell:/c%3A/Users/jjjun_ii/Documents/GitHub/LIKELION_AI/DA_TIL/CSV/CSV.ipynb#X33sZmlsZQ%3D%3D?line=8'>9</a>\u001b[0m row_list \u001b[39m=\u001b[39m inStr\u001b[39m.\u001b[39msplit(\u001b[39m'\u001b[39m\u001b[39m,\u001b[39m\u001b[39m'\u001b[39m)  \u001b[39m# 유튜브 조회수 열의 데이터가 \"3,334,123\"의 형태\u001b[39;00m\n\u001b[0;32m     <a href='vscode-notebook-cell:/c%3A/Users/jjjun_ii/Documents/GitHub/LIKELION_AI/DA_TIL/CSV/CSV.ipynb#X33sZmlsZQ%3D%3D?line=9'>10</a>\u001b[0m \u001b[39mprint\u001b[39m(row_list)\n\u001b[1;32m---> <a href='vscode-notebook-cell:/c%3A/Users/jjjun_ii/Documents/GitHub/LIKELION_AI/DA_TIL/CSV/CSV.ipynb#X33sZmlsZQ%3D%3D?line=10'>11</a>\u001b[0m youtube \u001b[39m=\u001b[39m \u001b[39mint\u001b[39;49m(row_list[\u001b[39m6\u001b[39;49m])\n\u001b[0;32m     <a href='vscode-notebook-cell:/c%3A/Users/jjjun_ii/Documents/GitHub/LIKELION_AI/DA_TIL/CSV/CSV.ipynb#X33sZmlsZQ%3D%3D?line=11'>12</a>\u001b[0m youtube \u001b[39m=\u001b[39m \u001b[39mint\u001b[39m(youtube\u001b[39m/\u001b[39m\u001b[39m10000\u001b[39m)\n\u001b[0;32m     <a href='vscode-notebook-cell:/c%3A/Users/jjjun_ii/Documents/GitHub/LIKELION_AI/DA_TIL/CSV/CSV.ipynb#X33sZmlsZQ%3D%3D?line=12'>13</a>\u001b[0m \u001b[39mprint\u001b[39m(row_list[\u001b[39m1\u001b[39m], \u001b[39mstr\u001b[39m(youtube) \u001b[39m+\u001b[39m \u001b[39m\"\u001b[39m\u001b[39m만\u001b[39m\u001b[39m\"\u001b[39m)\n",
      "\u001b[1;31mValueError\u001b[0m: invalid literal for int() with base 10: '\"3'"
     ]
    }
   ],
   "source": [
    "with open(\"C:/Users/jjjun_ii/Documents/GitHub/LIKELION_AI/DA_TIL/CSV/data/singer2.csv\", 'r', encoding = \"cp949\") as inFp:\n",
    "    header = inFp.readline()\n",
    "    header = header.strip()\n",
    "    header_list = header.split(',')\n",
    "    print(header_list[1], header_list[6])\n",
    "    \n",
    "    for inStr in inFp:\n",
    "        inStr = inStr.strip()\n",
    "        row_list = inStr.split(',')  # 유튜브 조회수 열의 데이터가 \"3,334,123\"의 형태\n",
    "        print(row_list)\n",
    "        youtube = int(row_list[6])\n",
    "        youtube = int(youtube/10000)\n",
    "        print(row_list[1], str(youtube) + \"만\")"
   ]
  },
  {
   "cell_type": "code",
   "execution_count": 69,
   "metadata": {},
   "outputs": [
    {
     "name": "stdout",
     "output_type": "stream",
     "text": [
      "이름 유튜브 조회수\n",
      "트와이스 333만\n",
      "블랙핑크 44만\n",
      "여자친구 0만\n",
      "오마이걸 0만\n",
      "소녀시대 111만\n",
      "있지 2만\n",
      "레드벨벳 4만\n",
      "에이핑크 0만\n",
      "우주소녀 0만\n",
      "마마무 0만\n"
     ]
    }
   ],
   "source": [
    "import csv\n",
    "\n",
    "with open(\"C:/Users/jjjun_ii/Documents/GitHub/LIKELION_AI/DA_TIL/CSV/data/singer2.csv\", 'r', encoding = \"cp949\") as inFp:\n",
    "    csvReader = csv.reader(inFp)  # csv 라이브러리, CSV 전용 리더\n",
    "    header_list = next(csvReader)  # next() 함수 사용하면 리스트로 반환\n",
    "    print(header_list[1], header_list[6])\n",
    "    for row_list in csvReader:\n",
    "        youtube = int(row_list[6].replace(',', ''))  # '\"3,334,123\"'의 형태에서 '3,334,123'으로 변환\n",
    "        youtube = int(youtube / 10000)\n",
    "        print(row_list[1], str(youtube) + \"만\")"
   ]
  },
  {
   "cell_type": "markdown",
   "metadata": {},
   "source": [
    "##### 2-2. CSV 파일 합치기"
   ]
  },
  {
   "cell_type": "code",
   "execution_count": 70,
   "metadata": {},
   "outputs": [
    {
     "name": "stdout",
     "output_type": "stream",
     "text": [
      "['아이디', '이름', '인원', '주소', '국번', '전화 번호', '평균 키', '데뷔 일자']\n",
      "['아이디', '이름', '인원', '주소', '국번', '전화 번호', '평균 키', '데뷔 일자']\n",
      "SAVE. OK~\n"
     ]
    }
   ],
   "source": [
    "import csv\n",
    "\n",
    "with open(\"C:/Users/jjjun_ii/Documents/GitHub/LIKELION_AI/DA_TIL/CSV/data/singerA.csv\", 'r', encoding = \"cp949\") as inFpA:\n",
    "    with open(\"C:/Users/jjjun_ii/Documents/GitHub/LIKELION_AI/DA_TIL/CSV/data/singerB.csv\", 'r', encoding = \"cp949\") as inFpB:\n",
    "        with open(\"C:/Users/jjjun_ii/Documents/GitHub/LIKELION_AI/DA_TIL/CSV/data/singerSum.csv\", 'w', encoding = \"cp949\") as outFp:\n",
    "            csvReaderA = csv.reader(inFpA)\n",
    "            csvReaderB = csv.reader(inFpB)\n",
    "            csvWriter = csv.writer(outFp)\n",
    "            header_list = next(csvReaderA)\n",
    "            header_list = next(csvReaderB)  # header 동일함, 행을 넘기기 위해서 사용\n",
    "            csvWriter.writerow(header_list)\n",
    "            \n",
    "            for row_list in csvReaderA:\n",
    "                csvWriter.writerow(row_list)\n",
    "            for row_list in csvReaderB:  # next()로 행을 넘겼기 때문에 데이터만 writerow\n",
    "                csvWriter.writerow(row_list)\n",
    "                \n",
    "print(\"SAVE. OK~\")"
   ]
  },
  {
   "cell_type": "code",
   "execution_count": 71,
   "metadata": {},
   "outputs": [
    {
     "name": "stdout",
     "output_type": "stream",
     "text": [
      "SAVE. OK~\n"
     ]
    }
   ],
   "source": [
    "import csv\n",
    "\n",
    "with open(\"C:/Users/jjjun_ii/Documents/GitHub/LIKELION_AI/DA_TIL/CSV/data/singerA.csv\", 'r', encoding = \"cp949\") as inFpA:\n",
    "    with open(\"C:/Users/jjjun_ii/Documents/GitHub/LIKELION_AI/DA_TIL/CSV/data/singerB.csv\", 'r', encoding = \"cp949\") as inFpB:\n",
    "        with open(\"C:/Users/jjjun_ii/Documents/GitHub/LIKELION_AI/DA_TIL/CSV/data/singerSum2.csv\", 'w', encoding = \"cp949\") as outFp:\n",
    "            csvReaderA = csv.reader(inFpA)\n",
    "            csvReaderB = csv.reader(inFpB)\n",
    "            csvWriter = csv.writer(outFp)\n",
    "            header_list = next(csvReaderA)\n",
    "            header_list = next(csvReaderB)  # header 동일함, 행을 넘기기 위해서 사용\n",
    "            csvWriter.writerow(header_list)\n",
    "            \n",
    "            for row_list in csvReaderA:\n",
    "                if int(row_list[6]) > 165:\n",
    "                    csvWriter.writerow(row_list)\n",
    "                else:\n",
    "                    continue\n",
    "            for row_list in csvReaderB:  # next()로 행을 넘겼기 때문에 데이터만 writerow\n",
    "                if int(row_list[6]) > 165:\n",
    "                    csvWriter.writerow(row_list)\n",
    "                else:\n",
    "                    continue\n",
    "                \n",
    "print(\"SAVE. OK~\")"
   ]
  },
  {
   "cell_type": "markdown",
   "metadata": {},
   "source": [
    "### 3. CSV 파일의 GUI 출력"
   ]
  },
  {
   "cell_type": "markdown",
   "metadata": {},
   "source": [
    "##### 3-1. 기본 출력"
   ]
  },
  {
   "cell_type": "code",
   "execution_count": 72,
   "metadata": {},
   "outputs": [],
   "source": [
    "from tkinter import *\n",
    "window = Tk()\n",
    "\n",
    "def make_empty_sheet(r, w):\n",
    "    retList = []\n",
    "    \n",
    "    for i in range(0, r):\n",
    "        tmpList = []\n",
    "        for k in range(0, w):\n",
    "            ent = Entry(window, text=\"\", width=10)\n",
    "            ent.grid(row=i, column=k)\n",
    "            tmpList.append(ent)\n",
    "        retList.append(tmpList)\n",
    "    return retList"
   ]
  },
  {
   "cell_type": "code",
   "execution_count": 74,
   "metadata": {},
   "outputs": [],
   "source": [
    "csvList = [[\"제목1\", \"제목2\", \"제목3\"],\n",
    "           [111, 222, 333],\n",
    "           [444, 555, 666],\n",
    "           [777, 888, 999]]\n",
    "rowNum, colNum = 4, 3\n",
    "workSheet = []\n",
    "\n",
    "window = Tk()\n",
    "workSheet = make_empty_sheet(rowNum, colNum)\n",
    "\n",
    "for i in range(0, rowNum):\n",
    "    for k in range(0, colNum):\n",
    "        workSheet[i][k].insert(0, csvList[i][k])\n",
    "        \n",
    "window.mainloop()"
   ]
  },
  {
   "cell_type": "markdown",
   "metadata": {},
   "source": [
    "##### 3-2. CSV 파일 출력"
   ]
  },
  {
   "cell_type": "code",
   "execution_count": null,
   "metadata": {},
   "outputs": [],
   "source": [
    "from tkinter import *\n",
    "import csv\n",
    "\n",
    "def make_empty_sheet(r, w):\n",
    "    retList = []\n",
    "    \n",
    "    for i in range(0, r):\n",
    "        tmpList = []\n",
    "        for k in range(0, w):\n",
    "            ent = Entry(window, text=\"\", width=10)\n",
    "            ent.grid(row=i, col=k)\n",
    "            tmpList.append(ent)\n",
    "        retList.append(tmpList)\n",
    "        \n",
    "    return retList"
   ]
  },
  {
   "cell_type": "code",
   "execution_count": 75,
   "metadata": {},
   "outputs": [],
   "source": [
    "csvList = []\n",
    "rowNum, colNum = 0, 0\n",
    "workSheet = []\n",
    "\n",
    "window = Tk()\n",
    "\n",
    "with open(\"C:/Users/jjjun_ii/Documents/GitHub/LIKELION_AI/DA_TIL/CSV/data/singer1.csv\", 'r', encoding = \"cp949\") as inFp:\n",
    "    csvReader = csv.reader(inFp)\n",
    "    header_list = next(csvReader)\n",
    "    csvList.append(header_list)\n",
    "    \n",
    "    for row_list in csvReader:\n",
    "        csvList.append(row_list)\n",
    "    \n",
    "    rowNum = len(csvList)\n",
    "    colNum = len(csvList[0])\n",
    "    workSheet = make_empty_sheet(rowNum, colNum)\n",
    "    idx = 6  # 평균 키 idx\n",
    "    \n",
    "    for i in range(0, rowNum):\n",
    "        for k in range(0, colNum):\n",
    "            if(csvList[i][idx].isnumeric()):  # 평균 키 데이터가 있으면서\n",
    "                if(int(csvList[i][idx]) >= 167):\n",
    "                    ent = workSheet[i][k]\n",
    "                    ent.configure(bg=\"yellow\")\n",
    "            workSheet[i][k].insert(0, csvList[i][k])\n",
    "\n",
    "    window.mainloop()"
   ]
  }
 ],
 "metadata": {
  "kernelspec": {
   "display_name": "LikeLion",
   "language": "python",
   "name": "python3"
  },
  "language_info": {
   "codemirror_mode": {
    "name": "ipython",
    "version": 3
   },
   "file_extension": ".py",
   "mimetype": "text/x-python",
   "name": "python",
   "nbconvert_exporter": "python",
   "pygments_lexer": "ipython3",
   "version": "3.8.18"
  }
 },
 "nbformat": 4,
 "nbformat_minor": 2
}
