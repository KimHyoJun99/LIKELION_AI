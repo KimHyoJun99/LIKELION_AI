{
 "cells": [
  {
   "cell_type": "markdown",
   "metadata": {},
   "source": [
    "# Class"
   ]
  },
  {
   "cell_type": "markdown",
   "metadata": {},
   "source": [
    "### 0. basic class code"
   ]
  },
  {
   "cell_type": "code",
   "execution_count": 5,
   "metadata": {},
   "outputs": [],
   "source": [
    "class Car:\n",
    "    color = \"\"\n",
    "    speed = 0\n",
    "    \n",
    "    def up_speed(self, value):\n",
    "        self.speed += value\n",
    "    \n",
    "    def down_speed(self, value):\n",
    "        self.speed -= value"
   ]
  },
  {
   "cell_type": "code",
   "execution_count": 6,
   "metadata": {},
   "outputs": [
    {
     "name": "stdout",
     "output_type": "stream",
     "text": [
      "자동차1의 색상은 빨간색이며, 현재 속도는 30km 입니다.\n",
      "자동차2의 색상은 파란색이며, 현재 속도는 60km 입니다.\n",
      "자동차3의 색상은 노란색이며, 현재 속도는 0km 입니다.\n"
     ]
    }
   ],
   "source": [
    "myCar1 = Car()\n",
    "myCar1.color = \"빨간색\"\n",
    "myCar1.speed = 0\n",
    "\n",
    "myCar2 = Car()\n",
    "myCar2.color = \"파란색\"\n",
    "myCar2.speed = 0\n",
    "\n",
    "myCar3 = Car()\n",
    "myCar3.color = \"노란색\"\n",
    "myCar3.speed = 0\n",
    "\n",
    "myCar1.up_speed(30)\n",
    "print(f\"자동차1의 색상은 {myCar1.color}이며, 현재 속도는 {myCar1.speed}km 입니다.\")\n",
    "\n",
    "myCar2.up_speed(60)\n",
    "print(f\"자동차2의 색상은 {myCar2.color}이며, 현재 속도는 {myCar2.speed}km 입니다.\")\n",
    "\n",
    "myCar3.up_speed(0)\n",
    "print(f\"자동차3의 색상은 {myCar3.color}이며, 현재 속도는 {myCar3.speed}km 입니다.\")"
   ]
  },
  {
   "cell_type": "code",
   "execution_count": 25,
   "metadata": {},
   "outputs": [],
   "source": [
    "class Animal():\n",
    "    \n",
    "    def __init__(self, name):\n",
    "        self.name = name\n",
    "        \n",
    "    def get_name(self):\n",
    "        return self.name"
   ]
  },
  {
   "cell_type": "code",
   "execution_count": 26,
   "metadata": {},
   "outputs": [
    {
     "name": "stdout",
     "output_type": "stream",
     "text": [
      "이 동물의 이름은 monkey입니다.\n"
     ]
    }
   ],
   "source": [
    "animal1 = Animal(\"monkey\")\n",
    "print(f\"이 동물의 이름은 {animal1.get_name()}입니다.\")"
   ]
  },
  {
   "cell_type": "markdown",
   "metadata": {},
   "source": [
    "### 1. 생성자 (__init__)"
   ]
  },
  {
   "cell_type": "code",
   "execution_count": 2,
   "metadata": {},
   "outputs": [],
   "source": [
    "class Car():\n",
    "    \n",
    "    # 인스턴스 생성하면 무조건 호출되는 메소드\n",
    "    def __init__(self, value1, value2):\n",
    "        self.color = value1\n",
    "        self.speed = value2\n",
    "        \n",
    "    def up_speed(self, speed):\n",
    "        self.speed += speed\n",
    "        \n",
    "    def down_speed(self, speed):\n",
    "        self.speed -= speed"
   ]
  },
  {
   "cell_type": "code",
   "execution_count": 4,
   "metadata": {},
   "outputs": [
    {
     "name": "stdout",
     "output_type": "stream",
     "text": [
      "red\n",
      "90\n"
     ]
    }
   ],
   "source": [
    "my_car1 = Car(\"red\", 60)\n",
    "\n",
    "my_car1.up_speed(50)\n",
    "my_car1.down_speed(20)\n",
    "\n",
    "print(my_car1.color)\n",
    "print(my_car1.speed)"
   ]
  },
  {
   "cell_type": "markdown",
   "metadata": {},
   "source": [
    "### 2. 클래스 변수\n",
    "- 전역변수, return, 클래스 변수"
   ]
  },
  {
   "cell_type": "code",
   "execution_count": 18,
   "metadata": {},
   "outputs": [],
   "source": [
    "class Car:\n",
    "    # field, 정의한 class 실행 시 초기화\n",
    "    \n",
    "    color = \"\"  # 인스턴스 변수\n",
    "    speed = 0  # 인스턴스 변수\n",
    "    count = 0  # 클래스 변수\n",
    "    \n",
    "    # 생성자, 인스턴스 만들 때 초기화\n",
    "    def __init__(self):\n",
    "        self.speed = 0\n",
    "        # 클래스 변수로 사용\n",
    "        Car.count += 1"
   ]
  },
  {
   "cell_type": "code",
   "execution_count": 19,
   "metadata": {},
   "outputs": [
    {
     "name": "stdout",
     "output_type": "stream",
     "text": [
      "자동차1의 현재 속도는 30km, 생산된 자동차 숫자는 총 2대입니다.\n",
      "자동차2의 현재 속도는 50km, 생산된 자동차 숫자는 총 2대입니다.\n",
      "자동차1의 현재 속도는 30km, 생산된 자동차 숫자는 총 2대입니다.\n",
      "자동차2의 현재 속도는 50km, 생산된 자동차 숫자는 총 2대입니다.\n"
     ]
    }
   ],
   "source": [
    "my_car1 = Car()\n",
    "my_car2 = Car()\n",
    "my_car1.speed = 30\n",
    "my_car2.speed = 50\n",
    "\n",
    "print(f\"자동차1의 현재 속도는 {my_car1.speed}km, 생산된 자동차 숫자는 총 {Car.count}대입니다.\")\n",
    "print(f\"자동차2의 현재 속도는 {my_car2.speed}km, 생산된 자동차 숫자는 총 {Car.count}대입니다.\")\n",
    "\n",
    "print(f\"자동차1의 현재 속도는 {my_car1.speed}km, 생산된 자동차 숫자는 총 {my_car1.count}대입니다.\")\n",
    "print(f\"자동차2의 현재 속도는 {my_car2.speed}km, 생산된 자동차 숫자는 총 {my_car2.count}대입니다.\")\n"
   ]
  },
  {
   "cell_type": "code",
   "execution_count": 20,
   "metadata": {},
   "outputs": [],
   "source": [
    "class Car:\n",
    "    # field, 정의한 class 실행 시 초기화\n",
    "    \n",
    "    color = \"\"  # 인스턴스 변수\n",
    "    speed = 0  # 인스턴스 변수\n",
    "    count = 0  # 클래스 변수\n",
    "    \n",
    "    # 생성자, 인스턴스 만들 때 초기화\n",
    "    def __init__(self):\n",
    "        self.speed = 0\n",
    "        # 클래스 변수로 사용\n",
    "        self.count += 1"
   ]
  },
  {
   "cell_type": "code",
   "execution_count": 21,
   "metadata": {},
   "outputs": [
    {
     "name": "stdout",
     "output_type": "stream",
     "text": [
      "자동차1의 현재 속도는 30km, 생산된 자동차 숫자는 총 0대입니다.\n",
      "자동차2의 현재 속도는 50km, 생산된 자동차 숫자는 총 0대입니다.\n",
      "자동차1의 현재 속도는 30km, 생산된 자동차 숫자는 총 1대입니다.\n",
      "자동차2의 현재 속도는 50km, 생산된 자동차 숫자는 총 1대입니다.\n"
     ]
    }
   ],
   "source": [
    "# self.count로 변경 시 인스턴스 호출마다 초기화\n",
    "\n",
    "my_car1 = Car()\n",
    "my_car2 = Car()\n",
    "my_car1.speed = 30\n",
    "my_car2.speed = 50\n",
    "\n",
    "print(f\"자동차1의 현재 속도는 {my_car1.speed}km, 생산된 자동차 숫자는 총 {Car.count}대입니다.\")\n",
    "print(f\"자동차2의 현재 속도는 {my_car2.speed}km, 생산된 자동차 숫자는 총 {Car.count}대입니다.\")\n",
    "\n",
    "print(f\"자동차1의 현재 속도는 {my_car1.speed}km, 생산된 자동차 숫자는 총 {my_car1.count}대입니다.\")\n",
    "print(f\"자동차2의 현재 속도는 {my_car2.speed}km, 생산된 자동차 숫자는 총 {my_car2.count}대입니다.\")"
   ]
  },
  {
   "cell_type": "markdown",
   "metadata": {},
   "source": [
    "### 3. 상속\n",
    "- 기존 클래스의 필드와 메소드를 그대로 물려받는 새로운 클래스\n",
    "- 공통된 특징을 클래스로 정의\n",
    "- 필요한 필드와 메소드를 추가하고 공통된 특징은 상속받는 새로운 클래스 정의\n",
    "```python\n",
    "class 서브 클래스(슈퍼 클래스):\n",
    "    // 서브 클래스의 내용\n",
    "```"
   ]
  },
  {
   "cell_type": "code",
   "execution_count": 27,
   "metadata": {},
   "outputs": [],
   "source": [
    "class Car:\n",
    "    speed = 0\n",
    "    \n",
    "    def up_speed(self, value):\n",
    "        self.speed += value\n",
    "        \n",
    "    def down_speed(self, value):\n",
    "        self.speed -= value\n",
    "        \n",
    "class Sedan(Car):\n",
    "    seatNum = 0\n",
    "    \n",
    "    def get_seatNum(self):\n",
    "        return self.seatNum\n",
    "    \n",
    "class Truck(Car):\n",
    "    capacity = 0\n",
    "    \n",
    "    def get_capacity(self):\n",
    "        return self.capacity"
   ]
  },
  {
   "cell_type": "code",
   "execution_count": 28,
   "metadata": {},
   "outputs": [
    {
     "name": "stdout",
     "output_type": "stream",
     "text": [
      "승용차의 속도는 100km, 좌석수는 5개입니다.\n",
      "트럭의 속도는 80km, 총중량은 50톤입니다.\n"
     ]
    }
   ],
   "source": [
    "sedan1 = Sedan()\n",
    "truck1 = Truck()\n",
    "\n",
    "sedan1.up_speed(100)\n",
    "truck1.up_speed(80)\n",
    "\n",
    "sedan1.seatNum = 5\n",
    "truck1.capacity = 50\n",
    "\n",
    "print(f\"승용차의 속도는 {sedan1.speed}km, 좌석수는 {sedan1.seatNum}개입니다.\")\n",
    "print(f\"트럭의 속도는 {truck1.speed}km, 총중량은 {truck1.capacity}톤입니다.\")"
   ]
  },
  {
   "cell_type": "markdown",
   "metadata": {},
   "source": [
    "[실습]"
   ]
  },
  {
   "cell_type": "code",
   "execution_count": 49,
   "metadata": {},
   "outputs": [],
   "source": [
    "class Animal:\n",
    "    \n",
    "    def __init__(self, name, crying):\n",
    "        self.name = name\n",
    "        self.crying = crying\n",
    "        \n",
    "    def crying_sound (self):\n",
    "        print(self.crying)\n",
    "        \n",
    "class Monkey(Animal):\n",
    "    \n",
    "    def __init__(self, name, crying, food):\n",
    "        super().__init__(name, crying)\n",
    "        self.food = food\n",
    "        \n",
    "    def get_food(self):\n",
    "        print(self.food)"
   ]
  },
  {
   "cell_type": "code",
   "execution_count": 52,
   "metadata": {},
   "outputs": [
    {
     "name": "stdout",
     "output_type": "stream",
     "text": [
      "시저 우끼끼 Banana\n",
      "우끼끼\n",
      "Banana\n"
     ]
    }
   ],
   "source": [
    "monkey1 = Monkey(\"시저\", \"우끼끼\", \"Banana\")\n",
    "print(monkey1.name, monkey1.crying, monkey1.food)\n",
    "\n",
    "monkey1.crying_sound()\n",
    "monkey1.get_food()"
   ]
  },
  {
   "cell_type": "markdown",
   "metadata": {},
   "source": [
    "#### 3-1. 메소드 오버라이딩 (overriding)\n",
    "- 상위 클래스의 메소드를 하위 클래스에서 재정의\n",
    "- 다형성 (Polymorphism)을 구현하는 대표적인 방법 중 하나이다\n",
    "- 다형성은 오버로딩, 추상 클래스, 인터페이스 등의 개념을 통해서도 구현\n",
    "    -  오버로딩은 같은 이름의 함수를 다른 매개변수로 정의"
   ]
  },
  {
   "cell_type": "code",
   "execution_count": 36,
   "metadata": {},
   "outputs": [],
   "source": [
    "class Car:\n",
    "    speed = 0\n",
    "    \n",
    "    def up_speed(self, value):\n",
    "        self.speed += value\n",
    "        \n",
    "        print(f\"현재 속도(슈퍼 클래스) : {self.speed}\")\n",
    "\n",
    "class Sedan(Car):\n",
    "    \n",
    "    def up_speed(self, value):\n",
    "        self.speed += value\n",
    "        \n",
    "        if self.speed > 150:\n",
    "            self.speed = 150\n",
    "            \n",
    "        print(f\"현재 속도 (서브 클래스) : {self.speed}\")\n",
    "\n",
    "class Truck(Car):\n",
    "    pass"
   ]
  },
  {
   "cell_type": "code",
   "execution_count": 37,
   "metadata": {},
   "outputs": [
    {
     "name": "stdout",
     "output_type": "stream",
     "text": [
      "승용차 => 현재 속도 (서브 클래스) : 150\n",
      "트럭 => 현재 속도(슈퍼 클래스) : 200\n"
     ]
    }
   ],
   "source": [
    "sedan1 = Sedan()\n",
    "truck1 = Truck()\n",
    "\n",
    "print(\"승용차 => \", end=\"\")\n",
    "sedan1.up_speed(200)\n",
    "\n",
    "print(\"트럭 => \", end=\"\")\n",
    "truck1.up_speed(200)"
   ]
  },
  {
   "cell_type": "markdown",
   "metadata": {},
   "source": [
    "[실습]"
   ]
  },
  {
   "cell_type": "code",
   "execution_count": 63,
   "metadata": {},
   "outputs": [],
   "source": [
    "class Human:\n",
    "    \n",
    "    def __init__(self, name, tool):\n",
    "        self.name = name\n",
    "        self.tool = tool\n",
    "    \n",
    "    def show_skill(self):\n",
    "        print(f\"{self.tool}을 능숙하게 다룹니다\")\n",
    "        \n",
    "class Student(Human):\n",
    "    \n",
    "    def __init__(self, name, tool, license):\n",
    "        Human.__init__(self, name, tool)\n",
    "        self.license = license\n",
    "        \n",
    "    def show_skill(self):\n",
    "        Human.show_skill(self)\n",
    "        print(f\"{self.license} 자격증을 가지고 있습니다.\")"
   ]
  },
  {
   "cell_type": "code",
   "execution_count": 64,
   "metadata": {},
   "outputs": [
    {
     "name": "stdout",
     "output_type": "stream",
     "text": [
      "python을 능숙하게 다룹니다\n",
      "ADsP 자격증을 가지고 있습니다.\n"
     ]
    }
   ],
   "source": [
    "student1 = Student(\"홍길동\", \"python\", \"ADsP\")\n",
    "student1.show_skill()"
   ]
  },
  {
   "cell_type": "markdown",
   "metadata": {},
   "source": [
    "#### 3-2 super()\n",
    "- 자식클래스에서 부모클래스의 내용을 사용하고 싶은 경우\n",
    "- super().부모클래스내용"
   ]
  },
  {
   "cell_type": "code",
   "execution_count": 38,
   "metadata": {},
   "outputs": [],
   "source": [
    "class Animal:\n",
    "    \n",
    "    def __init__(self, name):\n",
    "        self.name = name\n",
    "        \n",
    "class Human(Animal):\n",
    "    \n",
    "    def __init__(self, name, hand):\n",
    "        super().__init__(name)  # 부모 클래스의 __init__ 메소드 호출\n",
    "        self.hand = hand"
   ]
  },
  {
   "cell_type": "code",
   "execution_count": 39,
   "metadata": {},
   "outputs": [
    {
     "name": "stdout",
     "output_type": "stream",
     "text": [
      "사람\n",
      "오른손\n"
     ]
    }
   ],
   "source": [
    "person1 = Human(\"사람\", \"오른손\")\n",
    "print(person1.name)\n",
    "print(person1.hand)"
   ]
  },
  {
   "cell_type": "code",
   "execution_count": 40,
   "metadata": {},
   "outputs": [],
   "source": [
    "class Person:\n",
    "    \n",
    "    def __init__(self, name, phoneNumber):\n",
    "        self.name = name\n",
    "        self.phoneNumber = phoneNumber\n",
    "    \n",
    "    def print_info(self):\n",
    "        print(f\"Info (Name: {self.name}, Phone Number: {self.phoneNumber})\")\n",
    "\n",
    "class Student(Person):\n",
    "    \n",
    "    def __init__(self, name, phoneNumber, subject, studentID):\n",
    "        Person.__init__(self, name, phoneNumber)\n",
    "        self.subject = subject\n",
    "        self.studentId = studentID"
   ]
  },
  {
   "cell_type": "code",
   "execution_count": 42,
   "metadata": {},
   "outputs": [
    {
     "name": "stdout",
     "output_type": "stream",
     "text": [
      "{'name': '홍길동', 'phoneNumber': '010-222-1234'}\n",
      "{'name': '홍홍홍', 'phoneNumber': '010-237-1234', 'subject': '소융', 'studentId': '2020121245'}\n"
     ]
    }
   ],
   "source": [
    "person1 = Person(\"홍길동\", \"010-222-1234\")\n",
    "student1 = Student(\"홍홍홍\", \"010-237-1234\", \"소융\", \"2020121245\")\n",
    "\n",
    "print(person1.__dict__)\n",
    "print(student1.__dict__)"
   ]
  },
  {
   "cell_type": "code",
   "execution_count": 44,
   "metadata": {},
   "outputs": [],
   "source": [
    "class Person:\n",
    "    \n",
    "    def __init__(self, name, phoneNumber):\n",
    "        self.name = name\n",
    "        self.phoneNumber = phoneNumber\n",
    "    \n",
    "    def print_info(self):\n",
    "        print(f\"Info (Name: {self.name}, Phone Number: {self.phoneNumber})\")\n",
    "\n",
    "class Student(Person):\n",
    "    \n",
    "    def __init__(self, name, phoneNumber, subject, studentID):\n",
    "        Person.__init__(self, name, phoneNumber)\n",
    "        self.subject = subject\n",
    "        self.studentID = studentID\n",
    "    \n",
    "    def print_info(self):\n",
    "        Person.print_info(self)\n",
    "        print(f\"Info (Subject: {self.subject}, StudentID: {self.studentID})\")"
   ]
  },
  {
   "cell_type": "code",
   "execution_count": 45,
   "metadata": {},
   "outputs": [
    {
     "name": "stdout",
     "output_type": "stream",
     "text": [
      "Info (Name: 홍길동, Phone Number: 010-222-1231)\n",
      "Info (Subject: 컴공, StudentID: 2020135456)\n"
     ]
    }
   ],
   "source": [
    "student1 = Student(\"홍길동\", \"010-222-1231\", \"컴공\", 2020135456)\n",
    "student1.print_info()"
   ]
  },
  {
   "cell_type": "markdown",
   "metadata": {},
   "source": [
    "#### 3-3. private\n",
    "- class 외부에서의 접근 차단\n",
    "```python\n",
    "    __변수명\n",
    "```"
   ]
  },
  {
   "cell_type": "code",
   "execution_count": 66,
   "metadata": {},
   "outputs": [],
   "source": [
    "import math\n",
    "\n",
    "class Circle:\n",
    "    \n",
    "    def __init__(self, radius):\n",
    "        self.__radius = radius\n",
    "        \n",
    "    def get_circumference(self):\n",
    "        return 2 * math.pi * self.__radius ** 2\n",
    "    \n",
    "    def get_area(self):\n",
    "        return math.pi * self.__radius ** 2"
   ]
  },
  {
   "cell_type": "code",
   "execution_count": 67,
   "metadata": {},
   "outputs": [
    {
     "name": "stdout",
     "output_type": "stream",
     "text": [
      "# 원의 둘레와 넓이를 구합니다.\n",
      "원의 둘레:  628.3185307179587\n",
      "원의 넓이:  314.1592653589793\n",
      "\n",
      "# __radius에 접근합니다.\n"
     ]
    },
    {
     "ename": "AttributeError",
     "evalue": "'Circle' object has no attribute '__radius'",
     "output_type": "error",
     "traceback": [
      "\u001b[1;31m---------------------------------------------------------------------------\u001b[0m",
      "\u001b[1;31mAttributeError\u001b[0m                            Traceback (most recent call last)",
      "\u001b[1;32mc:\\Users\\jjjun_ii\\Documents\\GitHub\\LIKELION_AI\\Python_TIL\\Class\\class.ipynb Cell 35\u001b[0m line \u001b[0;36m9\n\u001b[0;32m      <a href='vscode-notebook-cell:/c%3A/Users/jjjun_ii/Documents/GitHub/LIKELION_AI/Python_TIL/Class/class.ipynb#X60sZmlsZQ%3D%3D?line=5'>6</a>\u001b[0m \u001b[39mprint\u001b[39m()\n\u001b[0;32m      <a href='vscode-notebook-cell:/c%3A/Users/jjjun_ii/Documents/GitHub/LIKELION_AI/Python_TIL/Class/class.ipynb#X60sZmlsZQ%3D%3D?line=7'>8</a>\u001b[0m \u001b[39mprint\u001b[39m(\u001b[39m\"\u001b[39m\u001b[39m# __radius에 접근합니다.\u001b[39m\u001b[39m\"\u001b[39m)\n\u001b[1;32m----> <a href='vscode-notebook-cell:/c%3A/Users/jjjun_ii/Documents/GitHub/LIKELION_AI/Python_TIL/Class/class.ipynb#X60sZmlsZQ%3D%3D?line=8'>9</a>\u001b[0m \u001b[39mprint\u001b[39m(circle\u001b[39m.\u001b[39;49m__radius)\n",
      "\u001b[1;31mAttributeError\u001b[0m: 'Circle' object has no attribute '__radius'"
     ]
    }
   ],
   "source": [
    "# 원의 둘레와 넓이를 구합니다.\n",
    "circle = Circle(10)\n",
    "print(\"# 원의 둘레와 넓이를 구합니다.\")\n",
    "print(\"원의 둘레: \", circle.get_circumference())\n",
    "print(\"원의 넓이: \", circle.get_area())\n",
    "print()\n",
    "\n",
    "print(\"# __radius에 접근합니다.\")\n",
    "print(circle.__radius)"
   ]
  },
  {
   "cell_type": "code",
   "execution_count": 68,
   "metadata": {},
   "outputs": [],
   "source": [
    "import math\n",
    "\n",
    "class Circle:\n",
    "    \n",
    "    def __init__(self, radius):\n",
    "        self.__radius = radius\n",
    "        \n",
    "    def get_circumference(self):\n",
    "        return 2 * math.pi * self.__radius ** 2\n",
    "    \n",
    "    def get_area(self):\n",
    "        return math.pi * self.__radius ** 2\n",
    "    \n",
    "    # getter와 setter를 선언\n",
    "    def get_radius(self):\n",
    "        return self.__radius\n",
    "    \n",
    "    def set_radius(self, value):\n",
    "        self.__radius = value"
   ]
  },
  {
   "cell_type": "code",
   "execution_count": 72,
   "metadata": {},
   "outputs": [
    {
     "name": "stdout",
     "output_type": "stream",
     "text": [
      "# 원의 둘레와 넓이를 구합니다.\n",
      "원의 둘레:  628.3185307179587\n",
      "원의 넓이:  314.1592653589793\n",
      "\n",
      "# 간접적으로 __radius에 접근합니다.\n",
      "10\n",
      "\n",
      "# 반지름을 변경하고 원의 둘레와 넓이를 구합니다.\n",
      "원의 둘레:  25.132741228718345\n",
      "원의 넓이:  12.566370614359172\n"
     ]
    }
   ],
   "source": [
    "# 원의 둘레와 넓이를 구합니다.\n",
    "circle = Circle(10)\n",
    "print(\"# 원의 둘레와 넓이를 구합니다.\")\n",
    "print(\"원의 둘레: \", circle.get_circumference())\n",
    "print(\"원의 넓이: \", circle.get_area())\n",
    "print()\n",
    "\n",
    "# 간접적으로 __radius에 접근합니다.\n",
    "print(\"# 간접적으로 __radius에 접근합니다.\")\n",
    "print(circle.get_radius())\n",
    "print()\n",
    "\n",
    "# 반지름을 변경하고 원의 둘레와 넓이를 구합니다.\n",
    "circle.set_radius(2)\n",
    "print(\"# 반지름을 변경하고 원의 둘레와 넓이를 구합니다.\")\n",
    "print(\"원의 둘레: \", circle.get_circumference())\n",
    "print(\"원의 넓이: \", circle.get_area())"
   ]
  }
 ],
 "metadata": {
  "kernelspec": {
   "display_name": "LikeLion",
   "language": "python",
   "name": "python3"
  },
  "language_info": {
   "codemirror_mode": {
    "name": "ipython",
    "version": 3
   },
   "file_extension": ".py",
   "mimetype": "text/x-python",
   "name": "python",
   "nbconvert_exporter": "python",
   "pygments_lexer": "ipython3",
   "version": "3.8.18"
  }
 },
 "nbformat": 4,
 "nbformat_minor": 2
}
