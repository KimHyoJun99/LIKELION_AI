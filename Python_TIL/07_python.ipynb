{
 "cells": [
  {
   "cell_type": "markdown",
   "metadata": {},
   "source": [
    "# 반복문 (loop)\n",
    "- 반복되는 코드를 실행할 때 사용\n",
    "- while, for, break, continue\n",
    "- list comprhension"
   ]
  },
  {
   "cell_type": "markdown",
   "metadata": {},
   "source": [
    "## 1. while\n",
    "- 조건에 의한 반복문"
   ]
  },
  {
   "cell_type": "code",
   "execution_count": 1,
   "metadata": {},
   "outputs": [
    {
     "name": "stdout",
     "output_type": "stream",
     "text": [
      "3\n",
      "2\n",
      "1\n"
     ]
    }
   ],
   "source": [
    "# 조건에 의한 반복문\n",
    "\n",
    "data = 3\n",
    "\n",
    "while data:\n",
    "    print(data)\n",
    "    data -= 1"
   ]
  },
  {
   "cell_type": "code",
   "execution_count": 3,
   "metadata": {},
   "outputs": [
    {
     "name": "stdout",
     "output_type": "stream",
     "text": [
      "0\n",
      "1\n",
      "2\n",
      "3\n",
      "4\n",
      "break를 만나서 조건에 의한 반복문을 종료합니다.\n"
     ]
    }
   ],
   "source": [
    "# break\n",
    "# 반복을 중단하고 싶을 때\n",
    "\n",
    "count = 0\n",
    "\n",
    "while True:\n",
    "    print(count)\n",
    "    count += 1\n",
    "    \n",
    "    if (count ==5):\n",
    "        print(\"break를 만나서 조건에 의한 반복문을 종료합니다.\")\n",
    "        break"
   ]
  },
  {
   "cell_type": "code",
   "execution_count": 4,
   "metadata": {},
   "outputs": [],
   "source": [
    "# 무한루프\n",
    "\n",
    "# result = 1\n",
    "\n",
    "# while result:\n",
    "#     result += 1\n",
    "    \n",
    "# print(result)  # 출력 되지 않음"
   ]
  },
  {
   "cell_type": "code",
   "execution_count": 5,
   "metadata": {},
   "outputs": [],
   "source": [
    "# 무한루프\n",
    "\n",
    "result = 0\n",
    "\n",
    "while result:\n",
    "    print(result)\n",
    "    result += 1\n",
    "    \n",
    "    if result == 10:\n",
    "        break"
   ]
  },
  {
   "cell_type": "code",
   "execution_count": 6,
   "metadata": {},
   "outputs": [
    {
     "name": "stdout",
     "output_type": "stream",
     "text": [
      "2\n",
      "4\n",
      "6\n",
      "8\n"
     ]
    }
   ],
   "source": [
    "# continue\n",
    "# continue 실행되면, 현재 반복 루프 내에서 continue 문 아래의 코드는 실행되지 않고,\n",
    "# 반복문의 다음 반복으로 이동합니다.\n",
    "\n",
    "count = 0\n",
    "\n",
    "while True:\n",
    "    count += 1\n",
    "    \n",
    "    if count == 10:\n",
    "        break\n",
    "    \n",
    "    # 짝수\n",
    "    if count % 2:\n",
    "        continue\n",
    "    \n",
    "    print(count)"
   ]
  },
  {
   "cell_type": "code",
   "execution_count": 7,
   "metadata": {},
   "outputs": [],
   "source": [
    "# mini quiz\n",
    "# while 문을 이용\n",
    "# 'q' 문자열이 입력될 때까지 단어를 words(list)에 추가(append) 받는 코드를 작성"
   ]
  },
  {
   "cell_type": "code",
   "execution_count": 9,
   "metadata": {},
   "outputs": [
    {
     "name": "stdout",
     "output_type": "stream",
     "text": [
      "['LikeLion', 'Nice', '싸이']\n"
     ]
    }
   ],
   "source": [
    "words = []\n",
    "\n",
    "while True:\n",
    "    word = input(\"단어를 입력해주세요 : \")\n",
    "    \n",
    "    if word == 'q':\n",
    "        break \n",
    "    else:\n",
    "        words.append(word)\n",
    "\n",
    "print(words)"
   ]
  },
  {
   "cell_type": "code",
   "execution_count": 1,
   "metadata": {},
   "outputs": [
    {
     "data": {
      "text/plain": [
       "['', 'In']"
      ]
     },
     "execution_count": 1,
     "metadata": {},
     "output_type": "execute_result"
    }
   ],
   "source": [
    "# 입력을 저장\n",
    "In"
   ]
  },
  {
   "cell_type": "code",
   "execution_count": 2,
   "metadata": {},
   "outputs": [
    {
     "data": {
      "text/plain": [
       "{1: ['', 'In', 'Out']}"
      ]
     },
     "execution_count": 2,
     "metadata": {},
     "output_type": "execute_result"
    }
   ],
   "source": [
    "# 출력을 저장\n",
    "Out"
   ]
  },
  {
   "cell_type": "markdown",
   "metadata": {},
   "source": [
    "# mini quiz\n",
    "\n",
    "```\n",
    "1. 1부터 100까지 정수를 출력\n",
    "2. 그 중 3의 배수인 수만 출력\n",
    "3. 결과 :\n",
    "3은 3의 배수입니다.\n",
    "6은 3의 배수입니다.\n",
    "9는 3의 배수입니다.\n",
    "````"
   ]
  },
  {
   "cell_type": "code",
   "execution_count": 4,
   "metadata": {},
   "outputs": [
    {
     "name": "stdout",
     "output_type": "stream",
     "text": [
      "3은 3의 배수입니다.\n",
      "6은 3의 배수입니다.\n",
      "9은 3의 배수입니다.\n",
      "12은 3의 배수입니다.\n",
      "15은 3의 배수입니다.\n",
      "18은 3의 배수입니다.\n",
      "21은 3의 배수입니다.\n",
      "24은 3의 배수입니다.\n",
      "27은 3의 배수입니다.\n",
      "30은 3의 배수입니다.\n",
      "33은 3의 배수입니다.\n",
      "36은 3의 배수입니다.\n",
      "39은 3의 배수입니다.\n",
      "42은 3의 배수입니다.\n",
      "45은 3의 배수입니다.\n",
      "48은 3의 배수입니다.\n",
      "51은 3의 배수입니다.\n",
      "54은 3의 배수입니다.\n",
      "57은 3의 배수입니다.\n",
      "60은 3의 배수입니다.\n",
      "63은 3의 배수입니다.\n",
      "66은 3의 배수입니다.\n",
      "69은 3의 배수입니다.\n",
      "72은 3의 배수입니다.\n",
      "75은 3의 배수입니다.\n",
      "78은 3의 배수입니다.\n",
      "81은 3의 배수입니다.\n",
      "84은 3의 배수입니다.\n",
      "87은 3의 배수입니다.\n",
      "90은 3의 배수입니다.\n",
      "93은 3의 배수입니다.\n",
      "96은 3의 배수입니다.\n",
      "99은 3의 배수입니다.\n"
     ]
    }
   ],
   "source": [
    "num = 0\n",
    "\n",
    "while True:\n",
    "    num += 1\n",
    "    \n",
    "    if num == 101:  # while(num >= 100):\n",
    "        break\n",
    "    \n",
    "    if num % 3 == 0:  # not (num % 3)\n",
    "        print(f\"{num}은 3의 배수입니다.\")\n",
    "    else:\n",
    "        continue"
   ]
  },
  {
   "cell_type": "code",
   "execution_count": 5,
   "metadata": {},
   "outputs": [],
   "source": [
    "# 1. 랜덤한 숫자 6개를 출력\n",
    "# 2. 중복되는 숫자가 없이, 6개의 랜덤한 숫자\n",
    "# 3. 오름차순 정렬\n",
    "# 4. 1 ~ 45 숫자\n",
    "# 5. while 문을 사용\n",
    "# 결과: [1, 2, 3, 34, 45]"
   ]
  },
  {
   "cell_type": "code",
   "execution_count": 5,
   "metadata": {},
   "outputs": [
    {
     "name": "stdout",
     "output_type": "stream",
     "text": [
      "[14, 17, 20, 33, 44, 45]\n"
     ]
    }
   ],
   "source": [
    "import random\n",
    "\n",
    "lotto = []\n",
    "\n",
    "while True:\n",
    "    lotto_num = random.randrange(1, 46)\n",
    "    \n",
    "    if lotto_num not in lotto:\n",
    "        lotto.append(lotto_num)\n",
    "    else:\n",
    "        continue\n",
    "\n",
    "    if len(lotto) >= 6:\n",
    "        lotto.sort()\n",
    "        break\n",
    "\n",
    "print(lotto)"
   ]
  },
  {
   "cell_type": "code",
   "execution_count": 2,
   "metadata": {},
   "outputs": [
    {
     "name": "stdout",
     "output_type": "stream",
     "text": [
      "[8, 11, 17, 21, 24, 36]\n"
     ]
    }
   ],
   "source": [
    "# while 문을 사용하지 않는 경우\n",
    "\n",
    "lotto = random.sample(range(1, 46), 6)\n",
    "lotto.sort()\n",
    "\n",
    "print(lotto)"
   ]
  },
  {
   "cell_type": "code",
   "execution_count": 6,
   "metadata": {},
   "outputs": [
    {
     "name": "stdout",
     "output_type": "stream",
     "text": [
      "총점수는 270점입니다. 평균 정수는 90.0입니다. 최저 점수는 80점입니다.\n"
     ]
    }
   ],
   "source": [
    "# 1. 학생이 있습니다\n",
    "# 2. 파이썬: 80점, 머신러닝: 90점, 딥러닝: 100점\n",
    "# points_li = [80, 90, 100]\n",
    "# 3. 총점과 평균, 최저 점수를 출력\n",
    "# 4. while 문을 사용할 것\n",
    "# 결과: 총점수는 270점입니다. 평균 점수는 90.0입니다. 최저 점수는 80점입니다.\n",
    "\n",
    "points_li = [80, 90, 100]\n",
    "count = 0\n",
    "point_sum = 0\n",
    "point_min = 101\n",
    "while count <= 2:\n",
    "    point = points_li[count]\n",
    "    point_sum += point\n",
    "    \n",
    "    if point_min > point:\n",
    "        point_min = point\n",
    "    \n",
    "    count += 1\n",
    "\n",
    "print(f\"총점수는 {point_sum}점입니다. 평균 정수는 {point_sum/len(points_li)}입니다. 최저 점수는 {point_min}점입니다.\")"
   ]
  },
  {
   "cell_type": "code",
   "execution_count": 10,
   "metadata": {},
   "outputs": [
    {
     "name": "stdout",
     "output_type": "stream",
     "text": [
      "총점수는 270점입니다. 평균 정수는 90.0입니다. 최저 점수는 80점입니다.\n"
     ]
    }
   ],
   "source": [
    "# 깊은 복사 이용\n",
    "\n",
    "import copy\n",
    "\n",
    "point_sum = 0\n",
    "point_min = 0\n",
    "point_min = 101\n",
    "datas = copy.deepcopy(points_li)\n",
    "\n",
    "while datas:  # pop()을 통해 리스트가 비면 반복문 종료\n",
    "    score = datas.pop()\n",
    "    point_sum += score\n",
    "    \n",
    "    if score < point_min:\n",
    "        point_min = score\n",
    "        \n",
    "avg = point_sum / 3\n",
    "\n",
    "print(f\"총점수는 {point_sum}점입니다. 평균 정수는 {point_sum/len(points_li)}입니다. 최저 점수는 {point_min}점입니다.\")"
   ]
  },
  {
   "cell_type": "code",
   "execution_count": null,
   "metadata": {},
   "outputs": [],
   "source": []
  }
 ],
 "metadata": {
  "kernelspec": {
   "display_name": "LikeLion",
   "language": "python",
   "name": "python3"
  },
  "language_info": {
   "codemirror_mode": {
    "name": "ipython",
    "version": 3
   },
   "file_extension": ".py",
   "mimetype": "text/x-python",
   "name": "python",
   "nbconvert_exporter": "python",
   "pygments_lexer": "ipython3",
   "version": "3.8.18"
  },
  "orig_nbformat": 4
 },
 "nbformat": 4,
 "nbformat_minor": 2
}
