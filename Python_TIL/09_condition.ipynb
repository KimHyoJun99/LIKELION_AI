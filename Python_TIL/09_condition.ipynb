{
 "cells": [
  {
   "cell_type": "markdown",
   "metadata": {},
   "source": [
    "# Condition"
   ]
  },
  {
   "cell_type": "markdown",
   "metadata": {},
   "source": [
    "## 1. if else elif\n",
    "- 특정 조건에 따라서 코드를 실행하고자 할 때 사용\n",
    "- if else elif"
   ]
  },
  {
   "cell_type": "markdown",
   "metadata": {},
   "source": [
    "```python\n",
    "if condition:  # True 이면 코드를 실행\n",
    "    code\n",
    "```"
   ]
  },
  {
   "cell_type": "code",
   "execution_count": null,
   "metadata": {},
   "outputs": [
    {
     "name": "stdout",
     "output_type": "stream",
     "text": [
      "if 문 안에 있는 print 코드 입니다.\n",
      "if 문 밖에 있는 print 코드 입니다\n"
     ]
    }
   ],
   "source": [
    "# 조건 부분: bool 데이터 타입 이외의 데이터 타입이 오면 자동으로 bool로 형변환\n",
    "\n",
    "if True:\n",
    "    print(\"if 문 안에 있는 print 코드 입니다.\")\n",
    "print(\"if 문 밖에 있는 print 코드 입니다\")"
   ]
  },
  {
   "cell_type": "code",
   "execution_count": null,
   "metadata": {},
   "outputs": [
    {
     "name": "stdout",
     "output_type": "stream",
     "text": [
      "if 문 밖에 있는 print 코드 입니다\n"
     ]
    }
   ],
   "source": [
    "if False:\n",
    "    print(\"if 문 안에 있는 print 코드 입니다.\")\n",
    "print(\"if 문 밖에 있는 print 코드 입니다\")"
   ]
  },
  {
   "cell_type": "code",
   "execution_count": null,
   "metadata": {},
   "outputs": [
    {
     "name": "stdout",
     "output_type": "stream",
     "text": [
      "if\n",
      "True\n"
     ]
    }
   ],
   "source": [
    "# int: 0을 제외한 나머지 값은 모두 True\n",
    "# float: 0.0을 제외한 나머지는 True\n",
    "# str: \"\", ''을 제외한 나머지는 True\n",
    "#list, tuple, dict: [], (), {}을 제외한 나머지는 True\n",
    "\n",
    "if 1:\n",
    "    print(\"if\")\n",
    "\n",
    "print(bool(1))"
   ]
  },
  {
   "cell_type": "code",
   "execution_count": null,
   "metadata": {},
   "outputs": [
    {
     "name": "stdout",
     "output_type": "stream",
     "text": [
      "False\n"
     ]
    }
   ],
   "source": [
    "if 0:\n",
    "    print(\"if\")\n",
    "\n",
    "print(bool(0))"
   ]
  },
  {
   "cell_type": "code",
   "execution_count": null,
   "metadata": {},
   "outputs": [
    {
     "name": "stdout",
     "output_type": "stream",
     "text": [
      "if\n",
      "True\n"
     ]
    }
   ],
   "source": [
    "if 100:\n",
    "    print(\"if\")\n",
    "    \n",
    "print(bool(100))"
   ]
  },
  {
   "cell_type": "code",
   "execution_count": null,
   "metadata": {},
   "outputs": [
    {
     "name": "stdout",
     "output_type": "stream",
     "text": [
      "if\n",
      "True\n"
     ]
    }
   ],
   "source": [
    "if \"hi\":\n",
    "    print(\"if\")\n",
    "    \n",
    "print(bool(\"hi\"))"
   ]
  },
  {
   "cell_type": "code",
   "execution_count": null,
   "metadata": {},
   "outputs": [
    {
     "name": "stdout",
     "output_type": "stream",
     "text": [
      "if\n",
      "True\n"
     ]
    }
   ],
   "source": [
    "if [1, 2, 3]:\n",
    "    print(\"if\")\n",
    "\n",
    "print(bool([1, 2, 3]))"
   ]
  },
  {
   "cell_type": "code",
   "execution_count": null,
   "metadata": {},
   "outputs": [
    {
     "name": "stdout",
     "output_type": "stream",
     "text": [
      "False\n"
     ]
    }
   ],
   "source": [
    "if []:\n",
    "    print(\"if\")\n",
    "\n",
    "print(bool([]))"
   ]
  },
  {
   "cell_type": "code",
   "execution_count": null,
   "metadata": {},
   "outputs": [
    {
     "name": "stdout",
     "output_type": "stream",
     "text": [
      "if\n",
      "True\n"
     ]
    }
   ],
   "source": [
    "if {\"1\" : 1}:\n",
    "    print(\"if\")\n",
    "    \n",
    "print(bool({\"1\" : 1}))"
   ]
  },
  {
   "cell_type": "code",
   "execution_count": null,
   "metadata": {},
   "outputs": [
    {
     "name": "stdout",
     "output_type": "stream",
     "text": [
      "False\n"
     ]
    }
   ],
   "source": [
    "if {}:\n",
    "    print(\"if\")\n",
    "\n",
    "print(bool({}))"
   ]
  },
  {
   "cell_type": "code",
   "execution_count": null,
   "metadata": {},
   "outputs": [
    {
     "name": "stdout",
     "output_type": "stream",
     "text": [
      "if\n",
      "True\n"
     ]
    }
   ],
   "source": [
    "if (1, 2):\n",
    "    print(\"if\")\n",
    "\n",
    "print(bool((1, 2)))"
   ]
  },
  {
   "cell_type": "code",
   "execution_count": null,
   "metadata": {},
   "outputs": [
    {
     "name": "stdout",
     "output_type": "stream",
     "text": [
      "False\n"
     ]
    }
   ],
   "source": [
    "if ():\n",
    "    print(\"if\")\n",
    "    \n",
    "print(bool(()))"
   ]
  },
  {
   "cell_type": "code",
   "execution_count": null,
   "metadata": {},
   "outputs": [
    {
     "name": "stdout",
     "output_type": "stream",
     "text": [
      "홀수\n",
      "홀수\n"
     ]
    }
   ],
   "source": [
    "num = 7\n",
    "\n",
    "if num % 2:\n",
    "    print(\"홀수\")\n",
    "    \n",
    "if num % 2 == 1:\n",
    "    print(\"홀수\")"
   ]
  },
  {
   "cell_type": "code",
   "execution_count": null,
   "metadata": {},
   "outputs": [],
   "source": [
    "# 지갑에 돈이 10000원 이상 있으면 택시\n",
    "# 그렇지 않으면, 걸어서"
   ]
  },
  {
   "cell_type": "code",
   "execution_count": null,
   "metadata": {},
   "outputs": [
    {
     "name": "stdout",
     "output_type": "stream",
     "text": [
      "택시를 타고 집에 값니다. 유후~\n"
     ]
    }
   ],
   "source": [
    "money = 12000\n",
    "\n",
    "if money >= 10000:\n",
    "    print(\"택시를 타고 집에 값니다. 유후~\")\n",
    "\n",
    "if money < 10000:\n",
    "    print(\"걸어서 집에 갑니다. ㅠㅠ\")\n",
    "    \n",
    "\n",
    "# else\n",
    "if money >= 10000:\n",
    "    print(\"택시를 타고 집에 값니다. 유후~\")\n",
    "else:\n",
    "    print(\"걸어서 집에 갑니다. ㅠㅠ\")\n",
    "\n",
    "# if - if의 경우 하나가 끝나도 다른 하나가 무조건 실행되므로 비효율적"
   ]
  },
  {
   "cell_type": "code",
   "execution_count": null,
   "metadata": {},
   "outputs": [
    {
     "name": "stdout",
     "output_type": "stream",
     "text": [
      "버스\n"
     ]
    }
   ],
   "source": [
    "# elif\n",
    "\n",
    "money = 5000\n",
    "\n",
    "if money >= 10000:\n",
    "    print(\"택시\")\n",
    "elif 2000 <= money:\n",
    "    print(\"버스\")\n",
    "else:\n",
    "    print(\"걷기\")"
   ]
  },
  {
   "cell_type": "markdown",
   "metadata": {},
   "source": [
    "## Quiz. 계좌\n",
    "1. 계좌에 10000원이 있습니다.\n",
    "2. 인출 금액을 입력받습니다\n",
    "3. 인출 금액이 계좌에 있는 금액보다 크면 \"인출 불가\"\n",
    "4. 인출 금액이 계좌에 있는 금액보다 작으면 \"인출 가능\"\n",
    "5. 마지막에 현재 계좌의 잔액을 출력"
   ]
  },
  {
   "cell_type": "code",
   "execution_count": null,
   "metadata": {},
   "outputs": [
    {
     "name": "stdout",
     "output_type": "stream",
     "text": [
      "인출 금액을 입력하세요 : 7000\n",
      "인출 가능\n",
      "7000 원 인출되었습니다.\n",
      "3000 원 남아 있습니다.\n"
     ]
    }
   ],
   "source": [
    "account = 10000\n",
    "draw_money = int(input(\"인출 금액을 입력하세요 : \"))\n",
    "\n",
    "if draw_money <= account:\n",
    "    print(\"인출 가능\")\n",
    "    print(draw_money, \"원 인출되었습니다.\")\n",
    "    account -= draw_money\n",
    "    print(account, \"원 남아 있습니다.\")\n",
    "else:\n",
    "    print(\"인출 불가\")\n",
    "    print(draw_money - account, \"원의 잔액이 부족합니다.\")"
   ]
  },
  {
   "cell_type": "markdown",
   "metadata": {},
   "source": [
    "## 추가 Quiz"
   ]
  },
  {
   "cell_type": "code",
   "execution_count": null,
   "metadata": {},
   "outputs": [],
   "source": [
    "answer = int(input(\"5 * 2 = ? \"))\n",
    "\n",
    "if answer == 10:\n",
    "    print(\"정답\")\n",
    "else:\n",
    "    print(\"오답\")"
   ]
  },
  {
   "cell_type": "code",
   "execution_count": null,
   "metadata": {},
   "outputs": [
    {
     "name": "stdout",
     "output_type": "stream",
     "text": [
      "9 - 1 = ? 8\n",
      "정답\n"
     ]
    }
   ],
   "source": [
    "import random\n",
    "\n",
    "questions = [\"5 * 2 = ? \", \"3 + 2 = ? \", \"9 - 1 = ? \"]\n",
    "answers = [10, 5, 8]\n",
    "\n",
    "random_int = random.randint(0, len(questions) - 1)\n",
    "answer = int(input(questions[random_int]))\n",
    "\n",
    "if answer == answers[random_int]:\n",
    "    print(\"정답\")\n",
    "else:\n",
    "    print(\"오답\")"
   ]
  },
  {
   "cell_type": "code",
   "execution_count": null,
   "metadata": {},
   "outputs": [
    {
     "name": "stdout",
     "output_type": "stream",
     "text": [
      "현재 잔액은 10000 원 입니다.\n",
      "현재 잔액은 10000 원 입니다.\n",
      "현재 잔액은 10000 원 입니다. 그리고 인출금액은 5000 입니다.\n",
      "현재 잔액은 10000 원 입니다.\n",
      "현재 잔액은 10000 원 입니다. 그리고 인출금액은 5000 입니다.\n",
      "현재 잔액은 5000 원 입니다. 그리고 인출금액은 10000 입니다.\n",
      "현재 잔액은 10000 원 입니다. 그리고 인출금액은 5000 입니다.\n",
      "현재 잔액은 10000 원 입니다.\n",
      "현재 잔액은 10000 원 입니다. 그리고 인출 금액은 5000 입니다.\n"
     ]
    }
   ],
   "source": [
    "# 문자열 포맷팅\n",
    "# format() 함수\n",
    "\n",
    "account = 10000\n",
    "draw_money = 5000\n",
    "\n",
    "print(\"현재 잔액은 \" + str(account) + \" 원 입니다.\")\n",
    "\n",
    "# f-string 사용 권장\n",
    "print (f\"현재 잔액은 {account} 원 입니다.\")\n",
    "print (f\"현재 잔액은 {account} 원 입니다. 그리고 인출금액은 {draw_money} 입니다.\")\n",
    "\n",
    "print (\"현재 잔액은 {} 원 입니다.\".format(account))\n",
    "print (\"현재 잔액은 {} 원 입니다. 그리고 인출금액은 {} 입니다.\".format(account, draw_money))\n",
    "\n",
    "print (\"현재 잔액은 {} 원 입니다. 그리고 인출금액은 {} 입니다.\".format(draw_money, account))\n",
    "print (\"현재 잔액은 {data1} 원 입니다. 그리고 인출금액은 {data2} 입니다.\".format(data1 = account, data2 = draw_money))\n",
    "\n",
    "print(\"현재 잔액은 %d 원 입니다.\" %account)\n",
    "print(\"현재 잔액은 %d 원 입니다. 그리고 인출 금액은 %d 입니다.\" %(account, draw_money))"
   ]
  },
  {
   "cell_type": "markdown",
   "metadata": {},
   "source": [
    "## 2. 삼항연산자\n",
    "- 간단한 조건일 경우, if else 구문을 한 줄의 코드로 표현할 수 있는 문법"
   ]
  },
  {
   "cell_type": "code",
   "execution_count": null,
   "metadata": {},
   "outputs": [
    {
     "name": "stdout",
     "output_type": "stream",
     "text": [
      "taxi\n"
     ]
    }
   ],
   "source": [
    "money = 10000\n",
    "\n",
    "if money >= 10000:\n",
    "    print(\"taxi\")\n",
    "else:\n",
    "    print(\"walk\")"
   ]
  },
  {
   "cell_type": "code",
   "execution_count": null,
   "metadata": {},
   "outputs": [
    {
     "name": "stdout",
     "output_type": "stream",
     "text": [
      "taxi\n"
     ]
    }
   ],
   "source": [
    "print(\"taxi\") if money >= 10000 else print(\"walk\")"
   ]
  },
  {
   "cell_type": "code",
   "execution_count": null,
   "metadata": {},
   "outputs": [
    {
     "name": "stdout",
     "output_type": "stream",
     "text": [
      "zero????\n"
     ]
    }
   ],
   "source": [
    "data = 0\n",
    "\n",
    "if data:\n",
    "    print(\"zero?\")\n",
    "else:\n",
    "    print(\"zero????\")"
   ]
  },
  {
   "cell_type": "code",
   "execution_count": null,
   "metadata": {},
   "outputs": [],
   "source": [
    "result = \"not zero\" if data else \"zero\""
   ]
  },
  {
   "cell_type": "code",
   "execution_count": null,
   "metadata": {},
   "outputs": [
    {
     "name": "stdout",
     "output_type": "stream",
     "text": [
      "zero\n"
     ]
    }
   ],
   "source": [
    "print(result)"
   ]
  }
 ],
 "metadata": {
  "language_info": {
   "name": "python"
  },
  "orig_nbformat": 4
 },
 "nbformat": 4,
 "nbformat_minor": 2
}
