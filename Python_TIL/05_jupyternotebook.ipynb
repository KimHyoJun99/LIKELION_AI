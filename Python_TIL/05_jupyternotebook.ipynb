{
 "cells": [
  {
   "cell_type": "markdown",
   "id": "b18c550c-dfc4-4f6d-92d1-812aea617956",
   "metadata": {},
   "source": [
    "# Jupyter Notebook"
   ]
  },
  {
   "cell_type": "markdown",
   "id": "b33f40ae-8402-4b5b-acfa-e6215e7dc742",
   "metadata": {},
   "source": [
    "1. terminal (git bash, anaconda prompt) 실행 \n",
    "2. cd Documents/my_ws\n",
    "3. conda activate test_venv\n",
    "4. jupyter notebook"
   ]
  },
  {
   "cell_type": "markdown",
   "id": "b5c7ca50-87c6-4cdc-a2f0-ca31b6c103c3",
   "metadata": {},
   "source": [
    "- cell 단위로 이루어져 있습니다\n",
    "    - cell 단위로 코드를 실행\n",
    "- mode\n",
    "    - 명령모드: cell 을 수정할 때 사용\n",
    "    - 편집모드: cell 의 내용을 수정할 때 사용\n",
    "- cell type\n",
    "    - code: cell 을 python 문법으로 실행\n",
    "    - markdown: cell 을 markdown 문법으로 실행\n",
    "- 자주 쓰는 단축키 \n",
    "    - 코드 실행: shift + enter\n",
    "    - 명령모드\n",
    "        - 위에 새로운 셀 생성: a\n",
    "        - 아래 새로운 셀 생성: b\n",
    "        - 현재 선택된 셀 삭제: x\n",
    "        - cell type 을 markdown 변경: m\n",
    "        - cell type 을 code 변경: y"
   ]
  },
  {
   "cell_type": "markdown",
   "id": "090fd3a5-ad73-4f38-9c3c-3f6360134ba7",
   "metadata": {},
   "source": [
    "# 자주 쓰는 터미널 명령어"
   ]
  },
  {
   "cell_type": "markdown",
   "id": "b5b231b4-a4fd-4ece-8334-3af5dc319dc0",
   "metadata": {},
   "source": [
    "- ls\n",
    "    - list \n",
    "    - 현재 디렉토리 내 파일, 폴더 목록 표기\n",
    "- cd\n",
    "    - change directory \n",
    "    - 디렉토리 변경\n",
    "- pwd\n",
    "    - print working directory\n",
    "    - 현재 작업 중인 디렉토리 경로 표기\n",
    "- mkdir\n",
    "    - make directory\n",
    "    - 새 디렉토리(폴더) 생성\n",
    "- touch\n",
    "    - 빈 파일 생성\n",
    "- mv \n",
    "    - move\n",
    "    - 파일, 디렉토리를 이동하거나 이름 변경\n",
    "    - `mv 대상파일 옮길위치`\n",
    "- cp\n",
    "    - copy\n",
    "    - 파일, 디렉토리를 복사\n",
    "    - `cp 대상파일 옮길위치`\n",
    "- rm\n",
    "    - remove\n",
    "    - 파일, 디렉토리를 삭제\n",
    "    - `rm -rf 대상폴더(파일)`\n",
    "    - -r relation -f force\n",
    "    - 하위 폴더 포함 모두 강제로 삭제 한다는 의미\n",
    "    - 대신, 조심해서 사용"
   ]
  },
  {
   "cell_type": "markdown",
   "id": "0e8e3287-9f01-4704-91cd-a0709b4e4477",
   "metadata": {},
   "source": [
    "# terminal 명령어 사용하기"
   ]
  },
  {
   "cell_type": "code",
   "execution_count": 7,
   "id": "8fa959fe-90d1-4b2c-9bb4-0cca9225fc92",
   "metadata": {},
   "outputs": [
    {
     "name": "stdout",
     "output_type": "stream",
     "text": [
      "02_jupyternotebook.ipynb\n"
     ]
    }
   ],
   "source": [
    "!ls"
   ]
  },
  {
   "cell_type": "code",
   "execution_count": 8,
   "id": "d13b3cc7-cb18-495c-bd9b-9658ace92e62",
   "metadata": {},
   "outputs": [
    {
     "name": "stdout",
     "output_type": "stream",
     "text": [
      "\u001b[1m\u001b[36mpython\u001b[m\u001b[m\n"
     ]
    }
   ],
   "source": [
    "!ls ../"
   ]
  },
  {
   "cell_type": "code",
   "execution_count": 9,
   "id": "34175505-d06e-4954-83d1-fb1439b3fb13",
   "metadata": {},
   "outputs": [],
   "source": [
    "!touch practice.py"
   ]
  },
  {
   "cell_type": "code",
   "execution_count": 10,
   "id": "6d90d45b-9365-43bd-a5b8-972c10b77ca2",
   "metadata": {},
   "outputs": [
    {
     "name": "stdout",
     "output_type": "stream",
     "text": [
      "02_jupyternotebook.ipynb practice.py\n"
     ]
    }
   ],
   "source": [
    "!ls"
   ]
  },
  {
   "cell_type": "code",
   "execution_count": 12,
   "id": "9a1e7cf0-93a7-4a22-90bb-6dd0df6a108f",
   "metadata": {},
   "outputs": [
    {
     "name": "stdout",
     "output_type": "stream",
     "text": [
      "zsh:1: command not found: dir\n"
     ]
    }
   ],
   "source": [
    "# windows mac \n",
    "!dir"
   ]
  },
  {
   "cell_type": "code",
   "execution_count": 13,
   "id": "3553e03f-94e9-4a5b-81b8-aedc7f456e0e",
   "metadata": {},
   "outputs": [],
   "source": [
    "!mkdir practice/"
   ]
  },
  {
   "cell_type": "code",
   "execution_count": 14,
   "id": "328c8ea0-4eed-42ec-8330-f40d14cba346",
   "metadata": {},
   "outputs": [
    {
     "name": "stdout",
     "output_type": "stream",
     "text": [
      "zsh:1: command not found: dir\n"
     ]
    }
   ],
   "source": [
    "!dir"
   ]
  },
  {
   "cell_type": "code",
   "execution_count": 15,
   "id": "4b846c3d-3c57-4bdb-9bd4-621ff8324cdb",
   "metadata": {},
   "outputs": [
    {
     "name": "stdout",
     "output_type": "stream",
     "text": [
      "02_jupyternotebook.ipynb \u001b[1m\u001b[36mpractice\u001b[m\u001b[m                 practice.py\n"
     ]
    }
   ],
   "source": [
    "!ls"
   ]
  },
  {
   "cell_type": "markdown",
   "id": "0a3182fd-2a5a-4720-8c2c-e3ed9d2ad28d",
   "metadata": {},
   "source": [
    "# magic command"
   ]
  },
  {
   "cell_type": "code",
   "execution_count": 16,
   "id": "dac7354d-f7c0-45ab-a6f3-377b55a6a13c",
   "metadata": {},
   "outputs": [
    {
     "name": "stdout",
     "output_type": "stream",
     "text": [
      "02_jupyternotebook.ipynb  \u001b[1m\u001b[36mpractice\u001b[m\u001b[m/                 practice.py\n"
     ]
    }
   ],
   "source": [
    "ls"
   ]
  },
  {
   "cell_type": "code",
   "execution_count": 18,
   "id": "a60a51c9-a48a-49f6-82b9-c56ce0f883c9",
   "metadata": {},
   "outputs": [
    {
     "name": "stdout",
     "output_type": "stream",
     "text": [
      "02_jupyternotebook.ipynb  \u001b[1m\u001b[36mpractice\u001b[m\u001b[m/                 practice.py\n"
     ]
    }
   ],
   "source": [
    "%ls"
   ]
  },
  {
   "cell_type": "code",
   "execution_count": 20,
   "id": "a232978f-5599-47c1-86ef-206a4a3815fb",
   "metadata": {},
   "outputs": [
    {
     "name": "stderr",
     "output_type": "stream",
     "text": [
      "UsageError: Line magic function `%dir` not found.\n"
     ]
    }
   ],
   "source": [
    "%dir"
   ]
  },
  {
   "cell_type": "code",
   "execution_count": 22,
   "id": "598690c9-bbf2-4c82-ab30-1183761b426f",
   "metadata": {},
   "outputs": [
    {
     "name": "stdout",
     "output_type": "stream",
     "text": [
      "mkdir: practice/: File exists\n"
     ]
    }
   ],
   "source": [
    "mkdir practice/"
   ]
  },
  {
   "cell_type": "code",
   "execution_count": 23,
   "id": "b7a53ffe-66f9-4c6e-97a6-9d959fab508d",
   "metadata": {},
   "outputs": [],
   "source": [
    "mkdir test/"
   ]
  },
  {
   "cell_type": "code",
   "execution_count": 24,
   "id": "074a5e7f-6100-4548-bbe3-0b2e13704f0c",
   "metadata": {},
   "outputs": [
    {
     "name": "stdout",
     "output_type": "stream",
     "text": [
      "02_jupyternotebook.ipynb  practice.py\n",
      "\u001b[1m\u001b[36mpractice\u001b[m\u001b[m/                 \u001b[1m\u001b[36mtest\u001b[m\u001b[m/\n"
     ]
    }
   ],
   "source": [
    "ls"
   ]
  },
  {
   "cell_type": "code",
   "execution_count": 25,
   "id": "11bf0ba8-c253-476b-8335-ee2edf81a5c6",
   "metadata": {},
   "outputs": [],
   "source": [
    "rm -rf practice/"
   ]
  },
  {
   "cell_type": "code",
   "execution_count": 26,
   "id": "91cfb902-6e5e-47f7-882d-fa0ae591f026",
   "metadata": {},
   "outputs": [],
   "source": [
    "!rm -rf test/"
   ]
  },
  {
   "cell_type": "code",
   "execution_count": null,
   "id": "73792110-7781-4139-bf10-6f6ae2c0c4a6",
   "metadata": {},
   "outputs": [],
   "source": []
  }
 ],
 "metadata": {
  "kernelspec": {
   "display_name": "Python 3 (ipykernel)",
   "language": "python",
   "name": "python3"
  },
  "language_info": {
   "codemirror_mode": {
    "name": "ipython",
    "version": 3
   },
   "file_extension": ".py",
   "mimetype": "text/x-python",
   "name": "python",
   "nbconvert_exporter": "python",
   "pygments_lexer": "ipython3",
   "version": "3.8.17"
  }
 },
 "nbformat": 4,
 "nbformat_minor": 5
}
