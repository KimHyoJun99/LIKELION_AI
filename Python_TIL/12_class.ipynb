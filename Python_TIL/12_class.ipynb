{
 "cells": [
  {
   "cell_type": "markdown",
   "metadata": {},
   "source": [
    "# 클래스(class)\n",
    "- 클래스 주요 개념 \n",
    "- 클래스 기본\n",
    "- 생성자 함수\n",
    "- self \n",
    "- 클래스 변수\n",
    "- 상속\n",
    "- 오버라이딩\n",
    "- is-a 와 has-a"
   ]
  },
  {
   "cell_type": "markdown",
   "metadata": {},
   "source": [
    "## 1. class 주요 개념 \n",
    "- 함수의 상위 개념 \n",
    "- 변수와 함수를 묶어 놓은 코드 \n",
    "- 주요 용어\n",
    "    - 객체 지향, 객체(object), 속성(attribute), 메서드(method), 인스턴스(instance)\n",
    "    - 카멜케이스(CamelCase)"
   ]
  },
  {
   "cell_type": "markdown",
   "metadata": {},
   "source": [
    "## 2. 클래스 기본"
   ]
  },
  {
   "cell_type": "code",
   "execution_count": 3,
   "metadata": {},
   "outputs": [],
   "source": [
    "# 클래스 기본 문법\n",
    "class ClassName:\n",
    "    pass"
   ]
  },
  {
   "cell_type": "code",
   "execution_count": 18,
   "metadata": {},
   "outputs": [],
   "source": [
    "# 클래스 선언\n",
    "class Person:\n",
    "    # 속성(attribute)\n",
    "    name = \"codelion\"\n",
    "    age = 5\n",
    "\n",
    "    # 메서드(method)  \n",
    "    # 클래스 안에서 함수를 작성하면, 첫 번째 매개변수를 꼭 self 를 받아야 합니다\n",
    "    def introduce(self):\n",
    "        print(f'안녕하세요! 제 이름은 {self.name} 입니다. 나이는 {self.age} 살 입니다.')"
   ]
  },
  {
   "cell_type": "code",
   "execution_count": 7,
   "metadata": {},
   "outputs": [],
   "source": [
    "# Person 클래스의 인스턴스(instance) 생성\n",
    "person = Person()\n",
    "# Person 클래스의 메서드 호출\n",
    "person.introduce()"
   ]
  },
  {
   "cell_type": "code",
   "execution_count": 20,
   "metadata": {},
   "outputs": [
    {
     "name": "stdout",
     "output_type": "stream",
     "text": [
      "안녕하세요! 제 이름은 codelion 입니다. 나이는 5 살 입니다.\n"
     ]
    }
   ],
   "source": [
    "# Person 클래스의 인스턴스(instance)를 생성\n",
    "honggildong = Person()\n",
    "honggildong.introduce()"
   ]
  },
  {
   "cell_type": "code",
   "execution_count": 14,
   "metadata": {},
   "outputs": [],
   "source": [
    "# 인스턴스의 속성값을 변경\n",
    "honggildong.name = \"홍길동\"\n",
    "honggildong.age = 16"
   ]
  },
  {
   "cell_type": "code",
   "execution_count": 17,
   "metadata": {},
   "outputs": [
    {
     "name": "stdout",
     "output_type": "stream",
     "text": [
      "안녕하세요! 제 이름은 홍길동 입니다. 나이는 16 살 입니다.\n"
     ]
    },
    {
     "data": {
      "text/plain": [
       "16"
      ]
     },
     "execution_count": 17,
     "metadata": {},
     "output_type": "execute_result"
    }
   ],
   "source": [
    "honggildong.introduce()\n",
    "honggildong.age"
   ]
  },
  {
   "cell_type": "code",
   "execution_count": 22,
   "metadata": {},
   "outputs": [
    {
     "data": {
      "text/plain": [
       "True"
      ]
     },
     "execution_count": 22,
     "metadata": {},
     "output_type": "execute_result"
    }
   ],
   "source": [
    "# isinstance()\n",
    "# 특정 클래스의 인스턴스인지 확인\n",
    "isinstance(honggildong, Person)"
   ]
  },
  {
   "cell_type": "code",
   "execution_count": 23,
   "metadata": {},
   "outputs": [
    {
     "name": "stdout",
     "output_type": "stream",
     "text": [
      "안녕하세요! 제 이름은 codetiger 입니다. 나이는 1 살 입니다.\n"
     ]
    }
   ],
   "source": [
    "person3 = Person()\n",
    "person3.name = \"codetiger\"\n",
    "person3.age = 1 \n",
    "person3.introduce()"
   ]
  },
  {
   "cell_type": "markdown",
   "metadata": {},
   "source": [
    "## 3. 생성자 함수"
   ]
  },
  {
   "cell_type": "code",
   "execution_count": 24,
   "metadata": {},
   "outputs": [],
   "source": [
    "# 클래스 선언\n",
    "class Person:\n",
    "    # 생성자 함수\n",
    "    def __init__(self, name, age):\n",
    "        self.name = name\n",
    "        self.age = age\n",
    "    \n",
    "    # 메서드 작성\n",
    "    def introduce(self):\n",
    "        print(f'안녕하세요! 제 이름은 {self.name} 입니다. 나이는 {self.age} 살 입니다.')"
   ]
  },
  {
   "cell_type": "code",
   "execution_count": 27,
   "metadata": {},
   "outputs": [],
   "source": [
    "# Person 클래스의 인스턴스 생성\n",
    "person1 = Person(\"조용하\", 18)\n",
    "person2 = Person(\"홍길동\", 16)"
   ]
  },
  {
   "cell_type": "code",
   "execution_count": 28,
   "metadata": {},
   "outputs": [
    {
     "name": "stdout",
     "output_type": "stream",
     "text": [
      "안녕하세요! 제 이름은 조용하 입니다. 나이는 18 살 입니다.\n",
      "안녕하세요! 제 이름은 홍길동 입니다. 나이는 16 살 입니다.\n"
     ]
    }
   ],
   "source": [
    "# 메서드 호출\n",
    "person1.introduce()\n",
    "person2.introduce()"
   ]
  },
  {
   "cell_type": "code",
   "execution_count": 30,
   "metadata": {},
   "outputs": [
    {
     "name": "stdout",
     "output_type": "stream",
     "text": [
      "조용하\n",
      "홍길동\n"
     ]
    }
   ],
   "source": [
    "# 속성 확인\n",
    "print(person1.name)\n",
    "print(person2.name)"
   ]
  },
  {
   "cell_type": "code",
   "execution_count": 32,
   "metadata": {},
   "outputs": [
    {
     "data": {
      "text/plain": [
       "'PYTHON'"
      ]
     },
     "execution_count": 32,
     "metadata": {},
     "output_type": "execute_result"
    }
   ],
   "source": [
    "# 파이썬 기본 자료형 모두 클래스로 구현되어 있습니다\n",
    "text = \"python\"\n",
    "text.upper()"
   ]
  },
  {
   "cell_type": "code",
   "execution_count": 49,
   "metadata": {},
   "outputs": [
    {
     "data": {
      "text/plain": [
       "['__add__',\n",
       " '__class__',\n",
       " '__contains__',\n",
       " '__delattr__',\n",
       " '__dir__',\n",
       " '__doc__',\n",
       " '__eq__',\n",
       " '__format__',\n",
       " '__ge__',\n",
       " '__getattribute__',\n",
       " '__getitem__',\n",
       " '__getnewargs__',\n",
       " '__gt__',\n",
       " '__hash__',\n",
       " '__init__',\n",
       " '__init_subclass__',\n",
       " '__iter__',\n",
       " '__le__',\n",
       " '__len__',\n",
       " '__lt__',\n",
       " '__mod__',\n",
       " '__mul__',\n",
       " '__ne__',\n",
       " '__new__',\n",
       " '__reduce__',\n",
       " '__reduce_ex__',\n",
       " '__repr__',\n",
       " '__rmod__',\n",
       " '__rmul__',\n",
       " '__setattr__',\n",
       " '__sizeof__',\n",
       " '__str__',\n",
       " '__subclasshook__',\n",
       " 'capitalize',\n",
       " 'casefold',\n",
       " 'center',\n",
       " 'count',\n",
       " 'encode',\n",
       " 'endswith',\n",
       " 'expandtabs',\n",
       " 'find',\n",
       " 'format',\n",
       " 'format_map',\n",
       " 'index',\n",
       " 'isalnum',\n",
       " 'isalpha',\n",
       " 'isascii',\n",
       " 'isdecimal',\n",
       " 'isdigit',\n",
       " 'isidentifier',\n",
       " 'islower',\n",
       " 'isnumeric',\n",
       " 'isprintable',\n",
       " 'isspace',\n",
       " 'istitle',\n",
       " 'isupper',\n",
       " 'join',\n",
       " 'ljust',\n",
       " 'lower',\n",
       " 'lstrip',\n",
       " 'maketrans',\n",
       " 'partition',\n",
       " 'replace',\n",
       " 'rfind',\n",
       " 'rindex',\n",
       " 'rjust',\n",
       " 'rpartition',\n",
       " 'rsplit',\n",
       " 'rstrip',\n",
       " 'split',\n",
       " 'splitlines',\n",
       " 'startswith',\n",
       " 'strip',\n",
       " 'swapcase',\n",
       " 'title',\n",
       " 'translate',\n",
       " 'upper',\n",
       " 'zfill']"
      ]
     },
     "execution_count": 49,
     "metadata": {},
     "output_type": "execute_result"
    }
   ],
   "source": [
    "# dir()\n",
    "# 클래스가 가진 속성과 메서드를 확인합니다\n",
    "dir(text)"
   ]
  },
  {
   "cell_type": "markdown",
   "metadata": {},
   "source": [
    "## 4. 클래스 변수"
   ]
  },
  {
   "cell_type": "markdown",
   "metadata": {},
   "source": [
    "### 노트북을 클래스 구현"
   ]
  },
  {
   "cell_type": "code",
   "execution_count": 58,
   "metadata": {},
   "outputs": [],
   "source": [
    "class NoteBook:\n",
    "    # 생성자 함수\n",
    "    def __init__(self, os, cpu, ram, ssd):\n",
    "        self.__os = os  # private attribute\n",
    "        self.cpu = cpu  # public attribute\n",
    "        self.__ram = ram\n",
    "        self.ssd = ssd\n",
    "\n",
    "    # 노트북 정보를 보여주는 메서드\n",
    "    def show_notebook_info(self):\n",
    "        print(f'os is {self.__os}')\n",
    "        print(f'cpu is {self.cpu}')\n",
    "        print(f'ram is {self.__ram}')\n",
    "        print(f'ssd is {self.ssd}')\n",
    "    \n",
    "    def upgrade_ram(self, upgrade):\n",
    "        print(f'정식기사님이 {self.__ram} 을 {upgrade} 로 업그레이드 했습니다.')\n",
    "        self.__ram = upgrade \n",
    "        print('노트북은 좋아졌지만.. 내 통장이 가벼워집니다..')"
   ]
  },
  {
   "cell_type": "code",
   "execution_count": 59,
   "metadata": {},
   "outputs": [
    {
     "name": "stdout",
     "output_type": "stream",
     "text": [
      "os is mac\n",
      "cpu is m1\n",
      "ram is 32gb\n",
      "ssd is 512gb\n"
     ]
    }
   ],
   "source": [
    "# NoteBook 클래스의 인스턴스 생성 \n",
    "notebook1 = NoteBook('mac', 'm1', '32gb', '512gb')\n",
    "notebook1.show_notebook_info()"
   ]
  },
  {
   "cell_type": "code",
   "execution_count": 60,
   "metadata": {},
   "outputs": [
    {
     "name": "stdout",
     "output_type": "stream",
     "text": [
      "os is mac\n",
      "cpu is m2\n",
      "ram is 32gb\n",
      "ssd is 1024gb\n"
     ]
    }
   ],
   "source": [
    "# 속성 값 변경\n",
    "# 불법 개조 \n",
    "notebook1.os = \"windows\"\n",
    "notebook1.cpu = \"m2\"\n",
    "notebook1.ram = \"64gb\"\n",
    "notebook1.ssd = \"1024gb\"\n",
    "\n",
    "notebook1.show_notebook_info()"
   ]
  },
  {
   "cell_type": "code",
   "execution_count": 61,
   "metadata": {},
   "outputs": [
    {
     "name": "stdout",
     "output_type": "stream",
     "text": [
      "정식기사님이 32gb 을 64gb 로 업그레이드 했습니다.\n",
      "노트북은 좋아졌지만.. 내 통장이 가벼워집니다..\n"
     ]
    }
   ],
   "source": [
    "# 서비스센터를 방문합니다 \n",
    "notebook1.upgrade_ram(\"64gb\")"
   ]
  },
  {
   "cell_type": "code",
   "execution_count": 62,
   "metadata": {},
   "outputs": [
    {
     "name": "stdout",
     "output_type": "stream",
     "text": [
      "os is mac\n",
      "cpu is m2\n",
      "ram is 64gb\n",
      "ssd is 1024gb\n"
     ]
    }
   ],
   "source": [
    "notebook1.show_notebook_info()"
   ]
  },
  {
   "cell_type": "markdown",
   "metadata": {},
   "source": [
    "## [mini practice]\n",
    "\n",
    "```\n",
    "사자 (포유류)가 로어 소리를 냅니다.\n",
    "고양이 (포유류)가 야옹 소리를 냅니다.\n",
    "앵무새 (조류)가 안녕하세요 소리를 냅니다.\n",
    "```"
   ]
  },
  {
   "cell_type": "code",
   "execution_count": 65,
   "metadata": {},
   "outputs": [],
   "source": [
    "class Animal:\n",
    "    def __init__(self, name, species):\n",
    "        self.name = name\n",
    "        self.species = species\n",
    "\n",
    "    # 메서드\n",
    "    def make_sound(self, sound):\n",
    "        print(f'{self.name} {self.species}가 {sound} 소리를 냅니다.')"
   ]
  },
  {
   "cell_type": "code",
   "execution_count": 66,
   "metadata": {},
   "outputs": [
    {
     "name": "stdout",
     "output_type": "stream",
     "text": [
      "사자 포유류가 으어어어그으크아앙 소리를 냅니다.\n"
     ]
    }
   ],
   "source": [
    "# 동물 객체 생성\n",
    "lion = Animal(\"사자\", \"포유류\")\n",
    "# 동물 소리 내기\n",
    "lion.make_sound(\"으어어어그으크아앙\")"
   ]
  },
  {
   "cell_type": "markdown",
   "metadata": {},
   "source": [
    "## 5. self?\n",
    "- 객체 자신"
   ]
  },
  {
   "cell_type": "code",
   "execution_count": 1,
   "metadata": {},
   "outputs": [],
   "source": [
    "class Person:\n",
    "    def __init__(self, name):\n",
    "        self.name = name\n",
    "\n",
    "    def say_hello(self):\n",
    "        print(f\"hello, my name is {self.name}\")"
   ]
  },
  {
   "cell_type": "code",
   "execution_count": 3,
   "metadata": {},
   "outputs": [],
   "source": [
    "class Name:\n",
    "    def __init__(self, name):\n",
    "        self.name = name\n",
    "        \n",
    "    def my_name(self):\n",
    "        print(\"my name is {self.name}\")"
   ]
  },
  {
   "cell_type": "code",
   "execution_count": null,
   "metadata": {},
   "outputs": [],
   "source": []
  }
 ],
 "metadata": {
  "kernelspec": {
   "display_name": "test_venv",
   "language": "python",
   "name": "python3"
  },
  "language_info": {
   "codemirror_mode": {
    "name": "ipython",
    "version": 3
   },
   "file_extension": ".py",
   "mimetype": "text/x-python",
   "name": "python",
   "nbconvert_exporter": "python",
   "pygments_lexer": "ipython3",
   "version": "3.8.18"
  },
  "orig_nbformat": 4
 },
 "nbformat": 4,
 "nbformat_minor": 2
}
