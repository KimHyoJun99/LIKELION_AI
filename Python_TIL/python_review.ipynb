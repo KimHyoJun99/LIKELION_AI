{
 "cells": [
  {
   "cell_type": "markdown",
   "metadata": {},
   "source": [
    "# Review"
   ]
  },
  {
   "cell_type": "code",
   "execution_count": 2,
   "metadata": {},
   "outputs": [
    {
     "name": "stdout",
     "output_type": "stream",
     "text": [
      "피아노\n",
      "피아노\n"
     ]
    }
   ],
   "source": [
    "information = {\"특기\":\"피아노\", \"사는 곳\":\"서울\"}\n",
    "print(information.get(\"특기\"))\n",
    "print(information[\"특기\"])"
   ]
  },
  {
   "cell_type": "code",
   "execution_count": 3,
   "metadata": {},
   "outputs": [
    {
     "name": "stdout",
     "output_type": "stream",
     "text": [
      "{'사는 곳': '서울'}\n"
     ]
    }
   ],
   "source": [
    "del information[\"특기\"]\n",
    "print(information)"
   ]
  },
  {
   "cell_type": "code",
   "execution_count": 4,
   "metadata": {},
   "outputs": [
    {
     "name": "stdout",
     "output_type": "stream",
     "text": [
      "{'사는 곳': '서울', '나이': 19}\n"
     ]
    }
   ],
   "source": [
    "information[\"나이\"] = 19\n",
    "print(information)"
   ]
  },
  {
   "cell_type": "code",
   "execution_count": 5,
   "metadata": {},
   "outputs": [
    {
     "name": "stdout",
     "output_type": "stream",
     "text": [
      "{}\n"
     ]
    }
   ],
   "source": [
    "information.clear()\n",
    "print(information)"
   ]
  },
  {
   "cell_type": "code",
   "execution_count": 6,
   "metadata": {},
   "outputs": [
    {
     "name": "stdout",
     "output_type": "stream",
     "text": [
      "고향\n",
      "수원\n",
      "취미\n",
      "영화관람\n",
      "좋아하는 음식\n",
      "국수\n",
      "\n",
      "고향\n",
      "취미\n",
      "좋아하는 음식\n",
      "\n",
      "수원\n",
      "영화관람\n",
      "국수\n",
      "\n",
      "dict_items([('고향', '수원'), ('취미', '영화관람'), ('좋아하는 음식', '국수')])\n",
      "dict_keys(['고향', '취미', '좋아하는 음식'])\n",
      "dict_values(['수원', '영화관람', '국수'])\n"
     ]
    }
   ],
   "source": [
    "information = {\"고향\":\"수원\", \"취미\":\"영화관람\", \"좋아하는 음식\":\"국수\"}\n",
    "\n",
    "for x, y in information.items():\n",
    "    print(x)\n",
    "    print(y)\n",
    "print()\n",
    "\n",
    "for x in information.keys():\n",
    "    print(x)\n",
    "print()\n",
    "\n",
    "for y in information.values():\n",
    "    print(y)\n",
    "\n",
    "print()\n",
    "print(information.items())\n",
    "print(information.keys())\n",
    "print(information.values())"
   ]
  },
  {
   "cell_type": "code",
   "execution_count": 12,
   "metadata": {},
   "outputs": [
    {
     "name": "stdout",
     "output_type": "stream",
     "text": [
      "2023년 10(Oct)월 19일 17시 47분 14초 a태그 내역입니다.\n",
      "\n"
     ]
    }
   ],
   "source": [
    "from datetime import datetime\n",
    "\n",
    "print(datetime.today().strftime(\"%Y년 %m(%h)월 %d일 %H시 %M분 %S초 a태그 내역입니다.\\n\"))"
   ]
  },
  {
   "cell_type": "code",
   "execution_count": 1,
   "metadata": {},
   "outputs": [
    {
     "name": "stdout",
     "output_type": "stream",
     "text": [
      "<re.Match object; span=(0, 26), match='codelion.example@gmail.com'>\n",
      "None\n",
      "['안ab녕c', '하', 'de세f', '요']\n",
      "문자: 안ab녕c하de세f요\n",
      "숫자: 123456\n"
     ]
    }
   ],
   "source": [
    "# 유효성 검사\n",
    "import re # python 정규 표현식 기능\n",
    "\n",
    "reg = \"^[a-zA-Z0-9.+_-]+@[a-zA-Z0-9]+\\.[a-zA-Z]{2,3}$\"\n",
    "print(re.match(reg, \"codelion.example@gmail.com\"))\n",
    "print(re.match(reg, \"dkfjeiskdjf\"))  # None\n",
    "\n",
    "# 문자열 분류\n",
    "input_string = \"안ab녕c12하3de세f4요56\"\n",
    "letters = \"\".join(re.findall(r'[a-zA-Zㄱ-ㅎ가-힣]+', input_string))  # r: raw-string, 문자열 내의 백슬래시 문자 그대로 사용. 이스케이프 문자가 아님을 의미\n",
    "numbers = \"\".join(re.findall(r'\\d', input_string))\n",
    "\n",
    "print(re.findall(r'[a-zA-Zㄱ-ㅎ가-힣]+', input_string))  # 리스트로 반환됨을 확인\n",
    "print(\"문자:\", letters)\n",
    "print(\"숫자:\", numbers)"
   ]
  },
  {
   "cell_type": "code",
   "execution_count": 16,
   "metadata": {},
   "outputs": [
    {
     "name": "stdout",
     "output_type": "stream",
     "text": [
      "[1, 5, 4, 6, 111, 111, 10, 45, 3, 2, 14, 15]\n",
      "[1, 10, 5, 4, 6, 111, 111, 10, 45, 3, 2, 14, 15]\n",
      "2\n",
      "5\n"
     ]
    }
   ],
   "source": [
    "my_li = [1, 5, 4, 6, 111, 111, 10, 45, 3, 2]\n",
    "# extend()\n",
    "my_li.extend([14, 15])\n",
    "print(my_li)\n",
    "\n",
    "# insert(index, value)\n",
    "my_li.insert(1, 10)\n",
    "print(my_li)\n",
    "\n",
    "# count()\n",
    "print(my_li.count(111))\n",
    "\n",
    "# index()\n",
    "print(my_li.index(111))"
   ]
  },
  {
   "cell_type": "markdown",
   "metadata": {},
   "source": [
    "- 얕은복사: 원본 데이터에 영향을 줍니다\n",
    "- 깊은복사: 원본 데이터에 영향을 주지 않습니다"
   ]
  },
  {
   "cell_type": "code",
   "execution_count": 17,
   "metadata": {},
   "outputs": [
    {
     "name": "stdout",
     "output_type": "stream",
     "text": [
      "[4, 1, 10]\n",
      "[4, 1, 10]\n",
      "\n",
      "[1, 4, 10]\n",
      "[1, 4, 10]\n"
     ]
    }
   ],
   "source": [
    "# 얕은 복사\n",
    "\n",
    "li1 = [4, 1, 10]\n",
    "li2 = li1\n",
    "\n",
    "print(li1)\n",
    "print(li2)\n",
    "print()\n",
    "\n",
    "# li2 리스트 데이터 정렬\n",
    "li2.sort()\n",
    "\n",
    "print(li2)\n",
    "print(li1)"
   ]
  },
  {
   "cell_type": "code",
   "execution_count": 2,
   "metadata": {},
   "outputs": [
    {
     "name": "stdout",
     "output_type": "stream",
     "text": [
      "[4, 1, 10]\n",
      "[4, 1, 10]\n",
      "\n",
      "[1, 4, 10]\n",
      "[4, 1, 10]\n",
      "\n",
      "[1, 4, 10]\n",
      "[4, 1, 10]\n"
     ]
    }
   ],
   "source": [
    "# 깊은 복사 \n",
    "import copy \n",
    "\n",
    "li1 = [4, 1, 10]\n",
    "li2 = copy.deepcopy(li1)  # 깊은복사\n",
    "\n",
    "print(li1)\n",
    "print(li2)\n",
    "print()\n",
    "\n",
    "li2.sort()\n",
    "print(li2)\n",
    "print(li1)\n",
    "print()\n",
    "\n",
    "li3 = sorted(li1)\n",
    "print(li3)\n",
    "print(li1)"
   ]
  },
  {
   "cell_type": "code",
   "execution_count": 1,
   "metadata": {},
   "outputs": [
    {
     "name": "stdout",
     "output_type": "stream",
     "text": [
      "[4, 1, 10]\n",
      "[4, 1, 10]\n",
      "\n",
      "[1, 4, 10]\n",
      "[4, 1, 10]\n",
      "\n"
     ]
    }
   ],
   "source": [
    "# 깊은 복사\n",
    "li1 = [4, 1, 10]\n",
    "li2 = li1.copy()  # 깊은복사\n",
    "\n",
    "print(li1)\n",
    "print(li2)\n",
    "print()\n",
    "\n",
    "li2.sort()\n",
    "print(li2)\n",
    "print(li1)\n",
    "print()\n"
   ]
  },
  {
   "cell_type": "code",
   "execution_count": 2,
   "metadata": {},
   "outputs": [
    {
     "name": "stdout",
     "output_type": "stream",
     "text": [
      "[100   1   2   3   4   5   6   7   8   9]\n",
      "[3 4 5 6]\n",
      "[77 77 77 77]\n",
      "[100   1   2  77  77  77  77   7   8   9]\n"
     ]
    }
   ],
   "source": [
    "# numpy에서의 얕은 복사 깊은 복사\n",
    "\n",
    "import numpy as np\n",
    "\n",
    "ary = np.arange(10)\n",
    "ary[0] = 100\n",
    "print(ary)\n",
    "ary_sub1 = ary[3:7]  # shallow copy\n",
    "print(ary_sub1)\n",
    "ary_sub1[:] = 77\n",
    "print(ary_sub1)\n",
    "print(ary)"
   ]
  },
  {
   "cell_type": "code",
   "execution_count": 3,
   "metadata": {},
   "outputs": [
    {
     "name": "stdout",
     "output_type": "stream",
     "text": [
      "[3 4 5 6]\n",
      "[88 88 88 88]\n",
      "[0 1 2 3 4 5 6 7 8 9]\n"
     ]
    }
   ],
   "source": [
    "ary = np.arange(10)\n",
    "ary_sub2 = ary[3:7].copy()  # 복사의 방식, deep copy\n",
    "print(ary_sub2)\n",
    "ary_sub2[:] = 88\n",
    "print(ary_sub2)\n",
    "print(ary)"
   ]
  },
  {
   "cell_type": "code",
   "execution_count": 19,
   "metadata": {},
   "outputs": [
    {
     "name": "stdout",
     "output_type": "stream",
     "text": [
      "80\n",
      "64\n"
     ]
    }
   ],
   "source": [
    "# 리스트와 튜플의 저장공간 차이 비교\n",
    "\n",
    "import sys\n",
    "\n",
    "li = [1, 2, 3]\n",
    "tp = (1, 2, 3)\n",
    "\n",
    "print(sys.getsizeof(li))\n",
    "print(sys.getsizeof(tp))"
   ]
  },
  {
   "cell_type": "code",
   "execution_count": 5,
   "metadata": {},
   "outputs": [
    {
     "name": "stdout",
     "output_type": "stream",
     "text": [
      "{'seoul': 500, 'daegu': 300, 'busan': 200}\n",
      "[('seoul', 500), ('daegu', 300), ('busan', 200)]\n",
      "<class 'tuple'>\n"
     ]
    }
   ],
   "source": [
    "#list\n",
    "city = [\"seoul\", \"daegu\", \"busan\"]\n",
    "pop = [500, 300, 200]\n",
    "\n",
    "# zip(list1, list2)\n",
    "data = dict(zip(city, pop))\n",
    "print(data)\n",
    "\n",
    "data = list(zip(city, pop))\n",
    "print(data)\n",
    "print(type(data[0]))"
   ]
  },
  {
   "cell_type": "markdown",
   "metadata": {},
   "source": [
    "[연산자의 종류와 우선순위]\n",
    "- 괄호: () (괄호 안의 표현식이 가장 먼저)\n",
    "- 지수 연산자: **\n",
    "- 단항 연산자: -(음수), +(양수), ~(반전)\n",
    "- 곱셈, 나눗셈, 나머지 연산자 : *, /, //, %\n",
    "- 덧셈, 뺄셈 연산자 : +, -\n",
    "- 비교 연산자: <, >, <=, >=, ==, !=\n",
    "- 논리 연산자: and, or, not\n",
    "- 멤버 연산자: in, not in\n",
    "- 항등 연산자: is, is not\n",
    "- 할당 연산자: +=, -=, *=, /=, //=, %=, **=\n",
    "- 삼항 조건 연산자: if-else"
   ]
  },
  {
   "cell_type": "code",
   "execution_count": 21,
   "metadata": {},
   "outputs": [
    {
     "name": "stdout",
     "output_type": "stream",
     "text": [
      "taxi\n"
     ]
    }
   ],
   "source": [
    "# 삼항 연산자\n",
    "money = 10000\n",
    "\n",
    "print(\"taxi\") if money >= 10000 else print(\"walk\")"
   ]
  },
  {
   "cell_type": "code",
   "execution_count": 13,
   "metadata": {},
   "outputs": [
    {
     "name": "stdout",
     "output_type": "stream",
     "text": [
      "[6, 2, 5]\n",
      "[24, 28, 5]\n"
     ]
    }
   ],
   "source": [
    "import random\n",
    "\n",
    "print(random.sample([1, 2, 3, 4, 5, 6], 3))\n",
    "print(random.sample(range(1, 46), 3))"
   ]
  },
  {
   "cell_type": "code",
   "execution_count": 14,
   "metadata": {},
   "outputs": [
    {
     "name": "stdout",
     "output_type": "stream",
     "text": [
      "프로그램 실행 시간:  0.0\n"
     ]
    }
   ],
   "source": [
    "import time\n",
    "\n",
    "start = time.time()\n",
    "### 프로그램 작성 ###\n",
    "end = time.time()\n",
    "\n",
    "print(\"프로그램 실행 시간: \", end-start)"
   ]
  },
  {
   "cell_type": "code",
   "execution_count": 15,
   "metadata": {},
   "outputs": [
    {
     "data": {
      "text/plain": [
       "[2, 6, 10]"
      ]
     },
     "execution_count": 15,
     "metadata": {},
     "output_type": "execute_result"
    }
   ],
   "source": [
    "# 조건이 있는 리스트 컴프리헨션\n",
    "\n",
    "li1 = [1, 2, 3, 4, 5]\n",
    "li2 = [i * 2 for i in li1 if i % 2 == 1]\n",
    "li2"
   ]
  },
  {
   "cell_type": "code",
   "execution_count": 1,
   "metadata": {},
   "outputs": [
    {
     "ename": "ValueError",
     "evalue": "too many values to unpack (expected 2)",
     "output_type": "error",
     "traceback": [
      "\u001b[1;31m---------------------------------------------------------------------------\u001b[0m",
      "\u001b[1;31mValueError\u001b[0m                                Traceback (most recent call last)",
      "\u001b[1;32mc:\\Users\\jjjun_ii\\Documents\\GitHub\\LIKELION_AI\\Python_TIL\\python_review.ipynb Cell 23\u001b[0m line \u001b[0;36m6\n\u001b[0;32m      <a href='vscode-notebook-cell:/c%3A/Users/jjjun_ii/Documents/GitHub/LIKELION_AI/Python_TIL/python_review.ipynb#X31sZmlsZQ%3D%3D?line=2'>3</a>\u001b[0m li1 \u001b[39m=\u001b[39m [\u001b[39m1\u001b[39m, \u001b[39m2\u001b[39m, \u001b[39m3\u001b[39m]\n\u001b[0;32m      <a href='vscode-notebook-cell:/c%3A/Users/jjjun_ii/Documents/GitHub/LIKELION_AI/Python_TIL/python_review.ipynb#X31sZmlsZQ%3D%3D?line=3'>4</a>\u001b[0m li2 \u001b[39m=\u001b[39m [\u001b[39m4\u001b[39m, \u001b[39m5\u001b[39m, \u001b[39m6\u001b[39m]\n\u001b[1;32m----> <a href='vscode-notebook-cell:/c%3A/Users/jjjun_ii/Documents/GitHub/LIKELION_AI/Python_TIL/python_review.ipynb#X31sZmlsZQ%3D%3D?line=5'>6</a>\u001b[0m \u001b[39mfor\u001b[39;00m i, k \u001b[39min\u001b[39;00m li1, li2:\n\u001b[0;32m      <a href='vscode-notebook-cell:/c%3A/Users/jjjun_ii/Documents/GitHub/LIKELION_AI/Python_TIL/python_review.ipynb#X31sZmlsZQ%3D%3D?line=6'>7</a>\u001b[0m     \u001b[39mprint\u001b[39m(i, k)\n",
      "\u001b[1;31mValueError\u001b[0m: too many values to unpack (expected 2)"
     ]
    }
   ],
   "source": [
    "# zip\n",
    "\n",
    "li1 = [1, 2, 3]\n",
    "li2 = [4, 5, 6]\n",
    "\n",
    "for i, k in li1, li2:\n",
    "    print(i, k)"
   ]
  },
  {
   "cell_type": "code",
   "execution_count": 2,
   "metadata": {},
   "outputs": [
    {
     "name": "stdout",
     "output_type": "stream",
     "text": [
      "1 4\n",
      "2 5\n",
      "3 6\n"
     ]
    }
   ],
   "source": [
    "for i, k in zip(li1, li2):\n",
    "    print(i, k)"
   ]
  },
  {
   "cell_type": "code",
   "execution_count": 3,
   "metadata": {},
   "outputs": [
    {
     "name": "stdout",
     "output_type": "stream",
     "text": [
      "2019/30/20\n"
     ]
    }
   ],
   "source": [
    "# strip\n",
    "\n",
    "temp = \"/2019/30/20/\"\n",
    "temp = temp.strip('/')  # strip은 양쪽 끝 문자를 제거\n",
    "print(temp)"
   ]
  },
  {
   "cell_type": "code",
   "execution_count": 5,
   "metadata": {},
   "outputs": [
    {
     "name": "stdout",
     "output_type": "stream",
     "text": [
      "20193020\n"
     ]
    }
   ],
   "source": [
    "# 만약 모든 /를 없애고 싶다면 replace 문자\n",
    "\n",
    "temp = \"/2019/30/20/\"\n",
    "temp = temp.replace('/', '')\n",
    "print(temp)"
   ]
  }
 ],
 "metadata": {
  "kernelspec": {
   "display_name": "LikeLion",
   "language": "python",
   "name": "python3"
  },
  "language_info": {
   "codemirror_mode": {
    "name": "ipython",
    "version": 3
   },
   "file_extension": ".py",
   "mimetype": "text/x-python",
   "name": "python",
   "nbconvert_exporter": "python",
   "pygments_lexer": "ipython3",
   "version": "3.8.18"
  }
 },
 "nbformat": 4,
 "nbformat_minor": 2
}
