{
 "cells": [
  {
   "cell_type": "markdown",
   "metadata": {},
   "source": [
    "# Review"
   ]
  },
  {
   "cell_type": "code",
   "execution_count": 2,
   "metadata": {},
   "outputs": [
    {
     "name": "stdout",
     "output_type": "stream",
     "text": [
      "피아노\n",
      "피아노\n"
     ]
    }
   ],
   "source": [
    "information = {\"특기\":\"피아노\", \"사는 곳\":\"서울\"}\n",
    "print(information.get(\"특기\"))\n",
    "print(information[\"특기\"])"
   ]
  },
  {
   "cell_type": "code",
   "execution_count": 3,
   "metadata": {},
   "outputs": [
    {
     "name": "stdout",
     "output_type": "stream",
     "text": [
      "{'사는 곳': '서울'}\n"
     ]
    }
   ],
   "source": [
    "del information[\"특기\"]\n",
    "print(information)"
   ]
  },
  {
   "cell_type": "code",
   "execution_count": 4,
   "metadata": {},
   "outputs": [
    {
     "name": "stdout",
     "output_type": "stream",
     "text": [
      "{'사는 곳': '서울', '나이': 19}\n"
     ]
    }
   ],
   "source": [
    "information[\"나이\"] = 19\n",
    "print(information)"
   ]
  },
  {
   "cell_type": "code",
   "execution_count": 5,
   "metadata": {},
   "outputs": [
    {
     "name": "stdout",
     "output_type": "stream",
     "text": [
      "{}\n"
     ]
    }
   ],
   "source": [
    "information.clear()\n",
    "print(information)"
   ]
  },
  {
   "cell_type": "code",
   "execution_count": 6,
   "metadata": {},
   "outputs": [
    {
     "name": "stdout",
     "output_type": "stream",
     "text": [
      "고향\n",
      "수원\n",
      "취미\n",
      "영화관람\n",
      "좋아하는 음식\n",
      "국수\n",
      "\n",
      "고향\n",
      "취미\n",
      "좋아하는 음식\n",
      "\n",
      "수원\n",
      "영화관람\n",
      "국수\n",
      "\n",
      "dict_items([('고향', '수원'), ('취미', '영화관람'), ('좋아하는 음식', '국수')])\n",
      "dict_keys(['고향', '취미', '좋아하는 음식'])\n",
      "dict_values(['수원', '영화관람', '국수'])\n"
     ]
    }
   ],
   "source": [
    "information = {\"고향\":\"수원\", \"취미\":\"영화관람\", \"좋아하는 음식\":\"국수\"}\n",
    "\n",
    "for x, y in information.items():\n",
    "    print(x)\n",
    "    print(y)\n",
    "print()\n",
    "\n",
    "for x in information.keys():\n",
    "    print(x)\n",
    "print()\n",
    "\n",
    "for y in information.values():\n",
    "    print(y)\n",
    "\n",
    "print()\n",
    "print(information.items())\n",
    "print(information.keys())\n",
    "print(information.values())"
   ]
  },
  {
   "cell_type": "code",
   "execution_count": 12,
   "metadata": {},
   "outputs": [
    {
     "name": "stdout",
     "output_type": "stream",
     "text": [
      "2023년 10(Oct)월 19일 17시 47분 14초 a태그 내역입니다.\n",
      "\n"
     ]
    }
   ],
   "source": [
    "from datetime import datetime\n",
    "\n",
    "print(datetime.today().strftime(\"%Y년 %m(%h)월 %d일 %H시 %M분 %S초 a태그 내역입니다.\\n\"))"
   ]
  },
  {
   "cell_type": "code",
   "execution_count": 1,
   "metadata": {},
   "outputs": [
    {
     "name": "stdout",
     "output_type": "stream",
     "text": [
      "<re.Match object; span=(0, 26), match='codelion.example@gmail.com'>\n",
      "None\n",
      "['안ab녕c', '하', 'de세f', '요']\n",
      "문자: 안ab녕c하de세f요\n",
      "숫자: 123456\n"
     ]
    }
   ],
   "source": [
    "# 유효성 검사\n",
    "import re # python 정규 표현식 기능\n",
    "\n",
    "reg = \"^[a-zA-Z0-9.+_-]+@[a-zA-Z0-9]+\\.[a-zA-Z]{2,3}$\"\n",
    "print(re.match(reg, \"codelion.example@gmail.com\"))\n",
    "print(re.match(reg, \"dkfjeiskdjf\"))  # None\n",
    "\n",
    "# 문자열 분류\n",
    "input_string = \"안ab녕c12하3de세f4요56\"\n",
    "letters = \"\".join(re.findall(r'[a-zA-Zㄱ-ㅎ가-힣]+', input_string))  # r: raw-string, 문자열 내의 백슬래시 문자 그대로 사용. 이스케이프 문자가 아님을 의미\n",
    "numbers = \"\".join(re.findall(r'\\d', input_string))\n",
    "\n",
    "print(re.findall(r'[a-zA-Zㄱ-ㅎ가-힣]+', input_string))  # 리스트로 반환됨을 확인\n",
    "print(\"문자:\", letters)\n",
    "print(\"숫자:\", numbers)"
   ]
  },
  {
   "cell_type": "code",
   "execution_count": 16,
   "metadata": {},
   "outputs": [
    {
     "name": "stdout",
     "output_type": "stream",
     "text": [
      "[1, 5, 4, 6, 111, 111, 10, 45, 3, 2, 14, 15]\n",
      "[1, 10, 5, 4, 6, 111, 111, 10, 45, 3, 2, 14, 15]\n",
      "2\n",
      "5\n"
     ]
    }
   ],
   "source": [
    "my_li = [1, 5, 4, 6, 111, 111, 10, 45, 3, 2]\n",
    "# extend()\n",
    "my_li.extend([14, 15])\n",
    "print(my_li)\n",
    "\n",
    "# insert(index, value)\n",
    "my_li.insert(1, 10)\n",
    "print(my_li)\n",
    "\n",
    "# count()\n",
    "print(my_li.count(111))\n",
    "\n",
    "# index()\n",
    "print(my_li.index(111))"
   ]
  },
  {
   "cell_type": "markdown",
   "metadata": {},
   "source": [
    "- 얕은복사: 원본 데이터에 영향을 줍니다\n",
    "- 깊은복사: 원본 데이터에 영향을 주지 않습니다"
   ]
  },
  {
   "cell_type": "code",
   "execution_count": 17,
   "metadata": {},
   "outputs": [
    {
     "name": "stdout",
     "output_type": "stream",
     "text": [
      "[4, 1, 10]\n",
      "[4, 1, 10]\n",
      "\n",
      "[1, 4, 10]\n",
      "[1, 4, 10]\n"
     ]
    }
   ],
   "source": [
    "# 얕은 복사\n",
    "\n",
    "li1 = [4, 1, 10]\n",
    "li2 = li1\n",
    "\n",
    "print(li1)\n",
    "print(li2)\n",
    "print()\n",
    "\n",
    "# li2 리스트 데이터 정렬\n",
    "li2.sort()\n",
    "\n",
    "print(li2)\n",
    "print(li1)"
   ]
  },
  {
   "cell_type": "code",
   "execution_count": 2,
   "metadata": {},
   "outputs": [
    {
     "name": "stdout",
     "output_type": "stream",
     "text": [
      "[4, 1, 10]\n",
      "[4, 1, 10]\n",
      "\n",
      "[1, 4, 10]\n",
      "[4, 1, 10]\n",
      "\n",
      "[1, 4, 10]\n",
      "[4, 1, 10]\n"
     ]
    }
   ],
   "source": [
    "# 깊은 복사 \n",
    "import copy \n",
    "\n",
    "li1 = [4, 1, 10]\n",
    "li2 = copy.deepcopy(li1)  # 깊은복사\n",
    "\n",
    "print(li1)\n",
    "print(li2)\n",
    "print()\n",
    "\n",
    "li2.sort()\n",
    "print(li2)\n",
    "print(li1)\n",
    "print()\n",
    "\n",
    "li3 = sorted(li1)\n",
    "print(li3)\n",
    "print(li1)"
   ]
  },
  {
   "cell_type": "code",
   "execution_count": 1,
   "metadata": {},
   "outputs": [
    {
     "name": "stdout",
     "output_type": "stream",
     "text": [
      "[4, 1, 10]\n",
      "[4, 1, 10]\n",
      "\n",
      "[1, 4, 10]\n",
      "[4, 1, 10]\n",
      "\n"
     ]
    }
   ],
   "source": [
    "# 깊은 복사\n",
    "li1 = [4, 1, 10]\n",
    "li2 = li1.copy()  # 깊은복사\n",
    "\n",
    "print(li1)\n",
    "print(li2)\n",
    "print()\n",
    "\n",
    "li2.sort()\n",
    "print(li2)\n",
    "print(li1)\n",
    "print()\n"
   ]
  },
  {
   "cell_type": "code",
   "execution_count": 2,
   "metadata": {},
   "outputs": [
    {
     "name": "stdout",
     "output_type": "stream",
     "text": [
      "[100   1   2   3   4   5   6   7   8   9]\n",
      "[3 4 5 6]\n",
      "[77 77 77 77]\n",
      "[100   1   2  77  77  77  77   7   8   9]\n"
     ]
    }
   ],
   "source": [
    "# numpy에서의 얕은 복사 깊은 복사\n",
    "\n",
    "import numpy as np\n",
    "\n",
    "ary = np.arange(10)\n",
    "ary[0] = 100\n",
    "print(ary)\n",
    "ary_sub1 = ary[3:7]  # shallow copy\n",
    "print(ary_sub1)\n",
    "ary_sub1[:] = 77\n",
    "print(ary_sub1)\n",
    "print(ary)"
   ]
  },
  {
   "cell_type": "code",
   "execution_count": 3,
   "metadata": {},
   "outputs": [
    {
     "name": "stdout",
     "output_type": "stream",
     "text": [
      "[3 4 5 6]\n",
      "[88 88 88 88]\n",
      "[0 1 2 3 4 5 6 7 8 9]\n"
     ]
    }
   ],
   "source": [
    "ary = np.arange(10)\n",
    "ary_sub2 = ary[3:7].copy()  # 복사의 방식, deep copy\n",
    "print(ary_sub2)\n",
    "ary_sub2[:] = 88\n",
    "print(ary_sub2)\n",
    "print(ary)"
   ]
  },
  {
   "cell_type": "code",
   "execution_count": 19,
   "metadata": {},
   "outputs": [
    {
     "name": "stdout",
     "output_type": "stream",
     "text": [
      "80\n",
      "64\n"
     ]
    }
   ],
   "source": [
    "# 리스트와 튜플의 저장공간 차이 비교\n",
    "\n",
    "import sys\n",
    "\n",
    "li = [1, 2, 3]\n",
    "tp = (1, 2, 3)\n",
    "\n",
    "print(sys.getsizeof(li))\n",
    "print(sys.getsizeof(tp))"
   ]
  },
  {
   "cell_type": "code",
   "execution_count": 5,
   "metadata": {},
   "outputs": [
    {
     "name": "stdout",
     "output_type": "stream",
     "text": [
      "{'seoul': 500, 'daegu': 300, 'busan': 200}\n",
      "[('seoul', 500), ('daegu', 300), ('busan', 200)]\n",
      "<class 'tuple'>\n"
     ]
    }
   ],
   "source": [
    "#list\n",
    "city = [\"seoul\", \"daegu\", \"busan\"]\n",
    "pop = [500, 300, 200]\n",
    "\n",
    "# zip(list1, list2)\n",
    "data = dict(zip(city, pop))\n",
    "print(data)\n",
    "\n",
    "data = list(zip(city, pop))\n",
    "print(data)\n",
    "print(type(data[0]))"
   ]
  },
  {
   "cell_type": "markdown",
   "metadata": {},
   "source": [
    "[연산자의 종류와 우선순위]\n",
    "- 괄호: () (괄호 안의 표현식이 가장 먼저)\n",
    "- 지수 연산자: **\n",
    "- 단항 연산자: -(음수), +(양수), ~(반전)\n",
    "- 곱셈, 나눗셈, 나머지 연산자 : *, /, //, %\n",
    "- 덧셈, 뺄셈 연산자 : +, -\n",
    "- 비교 연산자: <, >, <=, >=, ==, !=\n",
    "- 논리 연산자: and, or, not\n",
    "- 멤버 연산자: in, not in\n",
    "- 항등 연산자: is, is not\n",
    "- 할당 연산자: +=, -=, *=, /=, //=, %=, **=\n",
    "- 삼항 조건 연산자: if-else"
   ]
  },
  {
   "cell_type": "code",
   "execution_count": 21,
   "metadata": {},
   "outputs": [
    {
     "name": "stdout",
     "output_type": "stream",
     "text": [
      "taxi\n"
     ]
    }
   ],
   "source": [
    "# 삼항 연산자\n",
    "money = 10000\n",
    "\n",
    "print(\"taxi\") if money >= 10000 else print(\"walk\")"
   ]
  },
  {
   "cell_type": "code",
   "execution_count": 13,
   "metadata": {},
   "outputs": [
    {
     "name": "stdout",
     "output_type": "stream",
     "text": [
      "[6, 2, 5]\n",
      "[24, 28, 5]\n"
     ]
    }
   ],
   "source": [
    "import random\n",
    "\n",
    "print(random.sample([1, 2, 3, 4, 5, 6], 3))\n",
    "print(random.sample(range(1, 46), 3))"
   ]
  },
  {
   "cell_type": "code",
   "execution_count": 14,
   "metadata": {},
   "outputs": [
    {
     "name": "stdout",
     "output_type": "stream",
     "text": [
      "프로그램 실행 시간:  0.0\n"
     ]
    }
   ],
   "source": [
    "import time\n",
    "\n",
    "start = time.time()\n",
    "### 프로그램 작성 ###\n",
    "end = time.time()\n",
    "\n",
    "print(\"프로그램 실행 시간: \", end-start)"
   ]
  },
  {
   "cell_type": "code",
   "execution_count": 15,
   "metadata": {},
   "outputs": [
    {
     "data": {
      "text/plain": [
       "[2, 6, 10]"
      ]
     },
     "execution_count": 15,
     "metadata": {},
     "output_type": "execute_result"
    }
   ],
   "source": [
    "# 조건이 있는 리스트 컴프리헨션\n",
    "\n",
    "li1 = [1, 2, 3, 4, 5]\n",
    "li2 = [i * 2 for i in li1 if i % 2 == 1]\n",
    "li2"
   ]
  },
  {
   "cell_type": "code",
   "execution_count": 1,
   "metadata": {},
   "outputs": [
    {
     "ename": "ValueError",
     "evalue": "too many values to unpack (expected 2)",
     "output_type": "error",
     "traceback": [
      "\u001b[1;31m---------------------------------------------------------------------------\u001b[0m",
      "\u001b[1;31mValueError\u001b[0m                                Traceback (most recent call last)",
      "\u001b[1;32mc:\\Users\\jjjun_ii\\Documents\\GitHub\\LIKELION_AI\\Python_TIL\\python_review.ipynb Cell 23\u001b[0m line \u001b[0;36m6\n\u001b[0;32m      <a href='vscode-notebook-cell:/c%3A/Users/jjjun_ii/Documents/GitHub/LIKELION_AI/Python_TIL/python_review.ipynb#X31sZmlsZQ%3D%3D?line=2'>3</a>\u001b[0m li1 \u001b[39m=\u001b[39m [\u001b[39m1\u001b[39m, \u001b[39m2\u001b[39m, \u001b[39m3\u001b[39m]\n\u001b[0;32m      <a href='vscode-notebook-cell:/c%3A/Users/jjjun_ii/Documents/GitHub/LIKELION_AI/Python_TIL/python_review.ipynb#X31sZmlsZQ%3D%3D?line=3'>4</a>\u001b[0m li2 \u001b[39m=\u001b[39m [\u001b[39m4\u001b[39m, \u001b[39m5\u001b[39m, \u001b[39m6\u001b[39m]\n\u001b[1;32m----> <a href='vscode-notebook-cell:/c%3A/Users/jjjun_ii/Documents/GitHub/LIKELION_AI/Python_TIL/python_review.ipynb#X31sZmlsZQ%3D%3D?line=5'>6</a>\u001b[0m \u001b[39mfor\u001b[39;00m i, k \u001b[39min\u001b[39;00m li1, li2:\n\u001b[0;32m      <a href='vscode-notebook-cell:/c%3A/Users/jjjun_ii/Documents/GitHub/LIKELION_AI/Python_TIL/python_review.ipynb#X31sZmlsZQ%3D%3D?line=6'>7</a>\u001b[0m     \u001b[39mprint\u001b[39m(i, k)\n",
      "\u001b[1;31mValueError\u001b[0m: too many values to unpack (expected 2)"
     ]
    }
   ],
   "source": [
    "# zip\n",
    "\n",
    "li1 = [1, 2, 3]\n",
    "li2 = [4, 5, 6]\n",
    "\n",
    "for i, k in li1, li2:\n",
    "    print(i, k)"
   ]
  },
  {
   "cell_type": "code",
   "execution_count": 2,
   "metadata": {},
   "outputs": [
    {
     "name": "stdout",
     "output_type": "stream",
     "text": [
      "1 4\n",
      "2 5\n",
      "3 6\n"
     ]
    }
   ],
   "source": [
    "for i, k in zip(li1, li2):\n",
    "    print(i, k)"
   ]
  },
  {
   "cell_type": "code",
   "execution_count": 3,
   "metadata": {},
   "outputs": [
    {
     "name": "stdout",
     "output_type": "stream",
     "text": [
      "2019/30/20\n"
     ]
    }
   ],
   "source": [
    "# strip\n",
    "\n",
    "temp = \"/2019/30/20/\"\n",
    "temp = temp.strip('/')  # strip은 양쪽 끝 문자를 제거\n",
    "print(temp)"
   ]
  },
  {
   "cell_type": "code",
   "execution_count": 4,
   "metadata": {},
   "outputs": [
    {
     "name": "stdout",
     "output_type": "stream",
     "text": [
      "/2019%30$20\n"
     ]
    }
   ],
   "source": [
    "# 만약 모든 /를 없애고 싶다면 replace 문자\n",
    "\n",
    "temp = \"/2019/30/20\"\n",
    "temp = temp.replace('/', '')\n",
    "print(temp)"
   ]
  },
  {
   "cell_type": "code",
   "execution_count": 5,
   "metadata": {},
   "outputs": [
    {
     "name": "stdout",
     "output_type": "stream",
     "text": [
      "This is a string with @, @, and @ symbols.\n"
     ]
    }
   ],
   "source": [
    "# 여러 문자를 대체하고 싶을 때\n",
    "\n",
    "original_string = \"This is a string with /, %, and $ symbols.\"\n",
    "characters_to_replace = \"/%$\"\n",
    "replacement_character = \"@\"\n",
    "\n",
    "for char in characters_to_replace:  # 대체하고 싶은 모든 문자를 담은 문자열을 반목문으로 접근\n",
    "    original_string = original_string.replace(char, replacement_character)\n",
    "\n",
    "print(original_string)"
   ]
  },
  {
   "cell_type": "code",
   "execution_count": 6,
   "metadata": {},
   "outputs": [
    {
     "name": "stdout",
     "output_type": "stream",
     "text": [
      "This is a string with @, @, and @ symbols.\n"
     ]
    }
   ],
   "source": [
    "# 정규 표현식으로 여러 문자를 대체\n",
    "\n",
    "import re\n",
    "\n",
    "original_string = \"This is a string with /, %, and $ symbols.\"\n",
    "pattern = r\"[/%$]\"\n",
    "replacement_character = \"@\"\n",
    "\n",
    "new_string = re.sub(pattern, replacement_character, original_string)\n",
    "print(new_string)"
   ]
  },
  {
   "cell_type": "code",
   "execution_count": 10,
   "metadata": {},
   "outputs": [
    {
     "name": "stdout",
     "output_type": "stream",
     "text": [
      "(0, 'data1')\n",
      "(1, 'data2')\n",
      "(2, 'data3')\n",
      "0 data1\n",
      "1 data2\n",
      "2 data3\n"
     ]
    }
   ],
   "source": [
    "# enumerate\n",
    "\n",
    "temp_dict = {\"data1\": 1, \"data2\": 2, \"data3\": 3}\n",
    "\n",
    "for data in enumerate(temp_dict):\n",
    "    print(data)\n",
    "\n",
    "for idx, data in enumerate(temp_dict):\n",
    "    print(idx, data)"
   ]
  },
  {
   "cell_type": "code",
   "execution_count": 13,
   "metadata": {},
   "outputs": [
    {
     "name": "stdout",
     "output_type": "stream",
     "text": [
      "3\n",
      "11\n"
     ]
    }
   ],
   "source": [
    "def my_add(num1, num2=10):  # parameter, default parameter\n",
    "    print(num1 + num2)\n",
    "    \n",
    "my_add(1, 2)  # argument\n",
    "my_add(1)\n",
    "my_add(1, num2 = 30)  # keyword argument"
   ]
  },
  {
   "cell_type": "code",
   "execution_count": 14,
   "metadata": {},
   "outputs": [],
   "source": [
    "#  매개변수 힌트와 docstring\n",
    "\n",
    "def my_sum(num1 : int, num2 : int, num3 : int) -> int:\n",
    "    \"\"\"\n",
    "    이 함수는 숫자 3개를 입력 받습니다.\n",
    "    입력받은 정수 데이터 3개를 합산합니다.\n",
    "    \"\"\"\n",
    "    return num1 + num2 + num3"
   ]
  },
  {
   "cell_type": "code",
   "execution_count": 15,
   "metadata": {},
   "outputs": [
    {
     "name": "stdout",
     "output_type": "stream",
     "text": [
      "Help on function my_sum in module __main__:\n",
      "\n",
      "my_sum(num1: int, num2: int, num3: int) -> int\n",
      "    이 함수는 숫자 3개를 입력 받습니다.\n",
      "    입력받은 정수 데이터 3개를 합산합니다.\n",
      "\n"
     ]
    }
   ],
   "source": [
    "help(my_sum)"
   ]
  },
  {
   "cell_type": "code",
   "execution_count": 16,
   "metadata": {},
   "outputs": [
    {
     "name": "stdout",
     "output_type": "stream",
     "text": [
      "('text',)\n",
      "(1,)\n",
      "('text', 1, 2, 3, 4, [1, 2, 3])\n"
     ]
    }
   ],
   "source": [
    "def my_print_func_args(*args):  # *parameter\n",
    "    print(args)\n",
    "    \n",
    "my_print_func_args(\"text\")  # tuple container로 반환하면서 형식이 (data,)로 지정되어 나옴\n",
    "my_print_func_args(1)\n",
    "my_print_func_args(\"text\", 1, 2, 3, 4, [1, 2, 3])"
   ]
  },
  {
   "cell_type": "code",
   "execution_count": 17,
   "metadata": {},
   "outputs": [
    {
     "name": "stdout",
     "output_type": "stream",
     "text": [
      "[1, 2, 3]\n",
      "1 2 3\n"
     ]
    }
   ],
   "source": [
    "# unpacking\n",
    "\n",
    "ls = [1, 2, 3]  # itreable\n",
    "\n",
    "print(ls)\n",
    "print(*ls)  # *iterable, 하나씩 뽑아와서 출력"
   ]
  },
  {
   "cell_type": "code",
   "execution_count": 19,
   "metadata": {},
   "outputs": [
    {
     "name": "stdout",
     "output_type": "stream",
     "text": [
      "{'name': 'codelion', 'age': 5}\n"
     ]
    }
   ],
   "source": [
    "# keyword argument unpacking\n",
    "\n",
    "def func_kwargs(**kwargs):\n",
    "    print(kwargs)\n",
    "\n",
    "func_kwargs(name=\"codelion\", age=5)"
   ]
  },
  {
   "cell_type": "code",
   "execution_count": 21,
   "metadata": {},
   "outputs": [
    {
     "name": "stdout",
     "output_type": "stream",
     "text": [
      "3\n",
      "-1\n"
     ]
    }
   ],
   "source": [
    "# lambda\n",
    "\n",
    "def calc(func, num1, num2):\n",
    "    return func(num1, num2)\n",
    "\n",
    "def plus(num1, num2):\n",
    "    return num1 + num2\n",
    "\n",
    "print(calc(plus, 1, 2))\n",
    "\n",
    "print(calc(lambda num1, num2: num1 - num2, 1, 2)) "
   ]
  },
  {
   "cell_type": "code",
   "execution_count": 23,
   "metadata": {},
   "outputs": [
    {
     "data": {
      "text/plain": [
       "['__add__',\n",
       " '__class__',\n",
       " '__contains__',\n",
       " '__delattr__',\n",
       " '__dir__',\n",
       " '__doc__',\n",
       " '__eq__',\n",
       " '__format__',\n",
       " '__ge__',\n",
       " '__getattribute__',\n",
       " '__getitem__',\n",
       " '__getnewargs__',\n",
       " '__gt__',\n",
       " '__hash__',\n",
       " '__init__',\n",
       " '__init_subclass__',\n",
       " '__iter__',\n",
       " '__le__',\n",
       " '__len__',\n",
       " '__lt__',\n",
       " '__mod__',\n",
       " '__mul__',\n",
       " '__ne__',\n",
       " '__new__',\n",
       " '__reduce__',\n",
       " '__reduce_ex__',\n",
       " '__repr__',\n",
       " '__rmod__',\n",
       " '__rmul__',\n",
       " '__setattr__',\n",
       " '__sizeof__',\n",
       " '__str__',\n",
       " '__subclasshook__',\n",
       " 'capitalize',\n",
       " 'casefold',\n",
       " 'center',\n",
       " 'count',\n",
       " 'encode',\n",
       " 'endswith',\n",
       " 'expandtabs',\n",
       " 'find',\n",
       " 'format',\n",
       " 'format_map',\n",
       " 'index',\n",
       " 'isalnum',\n",
       " 'isalpha',\n",
       " 'isascii',\n",
       " 'isdecimal',\n",
       " 'isdigit',\n",
       " 'isidentifier',\n",
       " 'islower',\n",
       " 'isnumeric',\n",
       " 'isprintable',\n",
       " 'isspace',\n",
       " 'istitle',\n",
       " 'isupper',\n",
       " 'join',\n",
       " 'ljust',\n",
       " 'lower',\n",
       " 'lstrip',\n",
       " 'maketrans',\n",
       " 'partition',\n",
       " 'replace',\n",
       " 'rfind',\n",
       " 'rindex',\n",
       " 'rjust',\n",
       " 'rpartition',\n",
       " 'rsplit',\n",
       " 'rstrip',\n",
       " 'split',\n",
       " 'splitlines',\n",
       " 'startswith',\n",
       " 'strip',\n",
       " 'swapcase',\n",
       " 'title',\n",
       " 'translate',\n",
       " 'upper',\n",
       " 'zfill']"
      ]
     },
     "execution_count": 23,
     "metadata": {},
     "output_type": "execute_result"
    }
   ],
   "source": [
    "# dir()\n",
    "# 클래스가 가진 속성과 메서드를 확인합니다\n",
    "text = \"python\"\n",
    "text.upper()\n",
    "dir(text)"
   ]
  },
  {
   "cell_type": "code",
   "execution_count": 25,
   "metadata": {},
   "outputs": [],
   "source": [
    "class MyAdd(int):\n",
    "    def __init__(self, value):\n",
    "        # int class 상속\n",
    "        super().__init__()\n",
    "        self.value = value\n",
    "    \n",
    "    # int 클래스가 가진 __add__ 메서드에 오버라이딩\n",
    "    def __add__(self, other):\n",
    "        # 데이터 타입이 같은 경우에만 연산 수행 (해당 클래스의 인스턴스인지 확인)\n",
    "        if isinstance(other, MyAdd):\n",
    "            return MyAdd(self.value - other)\n",
    "        else:\n",
    "            raise TypeError(\"MyAdd로 만든 데이터만 사용해주세요.\")"
   ]
  },
  {
   "cell_type": "code",
   "execution_count": 26,
   "metadata": {},
   "outputs": [
    {
     "name": "stdout",
     "output_type": "stream",
     "text": [
      "-5\n",
      "5\n",
      "0\n",
      "0\n",
      "10\n"
     ]
    },
    {
     "ename": "TypeError",
     "evalue": "MyAdd로 만든 데이터만 사용해주세요.",
     "output_type": "error",
     "traceback": [
      "\u001b[1;31m---------------------------------------------------------------------------\u001b[0m",
      "\u001b[1;31mTypeError\u001b[0m                                 Traceback (most recent call last)",
      "\u001b[1;32mc:\\Users\\jjjun_ii\\Documents\\GitHub\\LIKELION_AI\\Python_TIL\\python_review.ipynb Cell 39\u001b[0m line \u001b[0;36m1\n\u001b[0;32m      <a href='vscode-notebook-cell:/c%3A/Users/jjjun_ii/Documents/GitHub/LIKELION_AI/Python_TIL/python_review.ipynb#X61sZmlsZQ%3D%3D?line=7'>8</a>\u001b[0m \u001b[39mprint\u001b[39m(MyAdd(\u001b[39m5\u001b[39m) \u001b[39m-\u001b[39m \u001b[39m5\u001b[39m)  \u001b[39m# 상속받은(부모클래스)가 가진 빼기 연산을 사용\u001b[39;00m\n\u001b[0;32m      <a href='vscode-notebook-cell:/c%3A/Users/jjjun_ii/Documents/GitHub/LIKELION_AI/Python_TIL/python_review.ipynb#X61sZmlsZQ%3D%3D?line=8'>9</a>\u001b[0m \u001b[39mprint\u001b[39m(MyAdd(\u001b[39m20\u001b[39m)\u001b[39m.\u001b[39m\u001b[39m__add__\u001b[39m(MyAdd(\u001b[39m10\u001b[39m)))\n\u001b[1;32m---> <a href='vscode-notebook-cell:/c%3A/Users/jjjun_ii/Documents/GitHub/LIKELION_AI/Python_TIL/python_review.ipynb#X61sZmlsZQ%3D%3D?line=10'>11</a>\u001b[0m \u001b[39mprint\u001b[39m(MyAdd(\u001b[39m5\u001b[39;49m) \u001b[39m+\u001b[39;49m \u001b[39m5\u001b[39;49m)  \u001b[39m# 타입에러 발생! MyAdd 더하기 연산 사용\u001b[39;00m\n",
      "\u001b[1;32mc:\\Users\\jjjun_ii\\Documents\\GitHub\\LIKELION_AI\\Python_TIL\\python_review.ipynb Cell 39\u001b[0m line \u001b[0;36m1\n\u001b[0;32m     <a href='vscode-notebook-cell:/c%3A/Users/jjjun_ii/Documents/GitHub/LIKELION_AI/Python_TIL/python_review.ipynb#X61sZmlsZQ%3D%3D?line=10'>11</a>\u001b[0m     \u001b[39mreturn\u001b[39;00m MyAdd(\u001b[39mself\u001b[39m\u001b[39m.\u001b[39mvalue \u001b[39m-\u001b[39m other)\n\u001b[0;32m     <a href='vscode-notebook-cell:/c%3A/Users/jjjun_ii/Documents/GitHub/LIKELION_AI/Python_TIL/python_review.ipynb#X61sZmlsZQ%3D%3D?line=11'>12</a>\u001b[0m \u001b[39melse\u001b[39;00m:\n\u001b[1;32m---> <a href='vscode-notebook-cell:/c%3A/Users/jjjun_ii/Documents/GitHub/LIKELION_AI/Python_TIL/python_review.ipynb#X61sZmlsZQ%3D%3D?line=12'>13</a>\u001b[0m     \u001b[39mraise\u001b[39;00m \u001b[39mTypeError\u001b[39;00m(\u001b[39m\"\u001b[39m\u001b[39mMyAdd로 만든 데이터만 사용해주세요.\u001b[39m\u001b[39m\"\u001b[39m)\n",
      "\u001b[1;31mTypeError\u001b[0m: MyAdd로 만든 데이터만 사용해주세요."
     ]
    }
   ],
   "source": [
    "num1 = MyAdd(5)\n",
    "num2 = MyAdd(10)\n",
    "\n",
    "# 오버라이딩한 __add__ 메서드 호출\n",
    "print(num1.__add__(num2))  # MyAdd 클래스의 오버라이딩 한 더하기 연산 사용\n",
    "print(MyAdd(10) + MyAdd(5))  # MyAdd 클래스의 오버라이딩 한 더하기 연산사용\n",
    "print(MyAdd(5) - MyAdd(5))  # 상속받은(부모클래스)가 가진 빼기 연산을 사용\n",
    "print(MyAdd(5) - 5)  # 상속받은(부모클래스)가 가진 빼기 연산을 사용\n",
    "print(MyAdd(20).__add__(MyAdd(10)))\n",
    "\n",
    "print(MyAdd(5) + 5)  # 타입에러 발생! MyAdd 더하기 연산 사용"
   ]
  },
  {
   "cell_type": "code",
   "execution_count": 28,
   "metadata": {},
   "outputs": [],
   "source": [
    "# is-a (상속 관계)\n",
    "\n",
    "class Animal:\n",
    "    \n",
    "    def __init__(self, name):\n",
    "        self.name = name\n",
    "        \n",
    "    def speak(self):\n",
    "        pass\n",
    "    \n",
    "class Dog(Animal):\n",
    "    def speak(self):\n",
    "        return f\"{self.name}가 왈왈 짖습니다.\"\n",
    "    \n",
    "class Cat(Animal):\n",
    "    def speak(self):\n",
    "        return f\"{self.name}가 야옹야옹 웁니다.\""
   ]
  },
  {
   "cell_type": "code",
   "execution_count": 27,
   "metadata": {},
   "outputs": [],
   "source": [
    "# has-a (포함 관계)\n",
    "\n",
    "class Car:\n",
    "    \n",
    "    def __init__(self):\n",
    "        self.engine = Engine()\n",
    "    \n",
    "    def drive(self):\n",
    "        self.engine.start()\n",
    "    \n",
    "class Engine:\n",
    "    def start(self):\n",
    "        pass"
   ]
  },
  {
   "cell_type": "code",
   "execution_count": 29,
   "metadata": {},
   "outputs": [
    {
     "name": "stdout",
     "output_type": "stream",
     "text": [
      "codelion이/가 macbook을 얻었습니다.\n"
     ]
    }
   ],
   "source": [
    "class Person:\n",
    "    \n",
    "    def __init__(self, name):\n",
    "        self.name = name\n",
    "        self.notebook = None\n",
    "    \n",
    "    def acquire_notebook(self, notebook):\n",
    "        self.notebook = notebook\n",
    "        print(f\"{self.name}이/가 {self.notebook.brand}을 얻었습니다.\")\n",
    "        \n",
    "class Notebook:\n",
    "    \n",
    "    def __init__(self, brand):\n",
    "        self.brand = brand\n",
    "        \n",
    "person = Person(\"codelion\")\n",
    "notebook = Notebook(\"macbook\")\n",
    "\n",
    "person.acquire_notebook(notebook)"
   ]
  },
  {
   "cell_type": "code",
   "execution_count": null,
   "metadata": {},
   "outputs": [],
   "source": [
    "# 파이썬 내장 예외 처리\n",
    "# ZeroDivisionError\n",
    "\n",
    "try:\n",
    "    result = 10 / 0\n",
    "    print(result)\n",
    "except ZeroDivisionError as e:  # (error name) as (저장): e에 저장되어서 어떤 에러인지 출력됨\n",
    "    print(\"error!\")\n",
    "    print(e)"
   ]
  },
  {
   "cell_type": "code",
   "execution_count": null,
   "metadata": {},
   "outputs": [
    {
     "name": "stdout",
     "output_type": "stream",
     "text": [
      "invalid literal for int() with base 10: 'abc'\n"
     ]
    }
   ],
   "source": [
    "# 파이썬 내장 예외 처리\n",
    "# ValueError 처리\n",
    "\n",
    "try:\n",
    "    num = int(\"abc\")\n",
    "except ValueError as e:\n",
    "    print(e)"
   ]
  },
  {
   "cell_type": "code",
   "execution_count": null,
   "metadata": {},
   "outputs": [
    {
     "name": "stdout",
     "output_type": "stream",
     "text": [
      "[Errno 2] No such file or directory: 'data.csv'\n"
     ]
    }
   ],
   "source": [
    "# 파이썬 내장 예외 처리\n",
    "# FileNotFoundError 처리\n",
    "\n",
    "# !conda install -y pandas\n",
    "import pandas as pd\n",
    "\n",
    "try:\n",
    "    data = pd.read_csv(\"data.csv\")\n",
    "except FileNotFoundError as e:\n",
    "    print(e)"
   ]
  },
  {
   "cell_type": "code",
   "execution_count": null,
   "metadata": {},
   "outputs": [],
   "source": [
    "# 파이썬 내장 예외 처리\n",
    "# data.csv파일 추가한 후\n",
    "\n",
    "try:\n",
    "    data = pd.read_csv(\"data.csv\")\n",
    "except FileNotFoundError as e:\n",
    "    print(e)"
   ]
  },
  {
   "cell_type": "code",
   "execution_count": null,
   "metadata": {},
   "outputs": [
    {
     "data": {
      "text/html": [
       "<div>\n",
       "<style scoped>\n",
       "    .dataframe tbody tr th:only-of-type {\n",
       "        vertical-align: middle;\n",
       "    }\n",
       "\n",
       "    .dataframe tbody tr th {\n",
       "        vertical-align: top;\n",
       "    }\n",
       "\n",
       "    .dataframe thead th {\n",
       "        text-align: right;\n",
       "    }\n",
       "</style>\n",
       "<table border=\"1\" class=\"dataframe\">\n",
       "  <thead>\n",
       "    <tr style=\"text-align: right;\">\n",
       "      <th></th>\n",
       "      <th>안녕하세요 저는 사자입니다</th>\n",
       "    </tr>\n",
       "  </thead>\n",
       "  <tbody>\n",
       "  </tbody>\n",
       "</table>\n",
       "</div>"
      ],
      "text/plain": [
       "Empty DataFrame\n",
       "Columns: [안녕하세요 저는 사자입니다]\n",
       "Index: []"
      ]
     },
     "metadata": {},
     "output_type": "display_data"
    }
   ],
   "source": [
    "data"
   ]
  },
  {
   "cell_type": "code",
   "execution_count": 30,
   "metadata": {},
   "outputs": [
    {
     "name": "stdout",
     "output_type": "stream",
     "text": [
      "==================================================\n",
      "raise 에서 발생한 에러는 except 구문으로 넘어옵니다.\n",
      "안내한 범위를 벗어났습니다.\n"
     ]
    }
   ],
   "source": [
    "# 사용자 정의 예외 클래스\n",
    "# raise\n",
    "\n",
    "class OutOfRangeError(Exception):\n",
    "\n",
    "    def __init__(self):\n",
    "        super().__init__(\"안내한 범위를 벗어났습니다.\")\n",
    "        \n",
    "try:\n",
    "    num =  int(input(\"1부터 10사이의 숫자를 입력하세요. \"))\n",
    "    if (num < 1) or (num > 10):\n",
    "        raise OutOfRangeError()  # 샤용자 정의 예외 발생, except 구문으로 이동\n",
    "        print(\"raise 아래 있는 코드는 실행되지 않습니다.\")\n",
    "    else:\n",
    "        print(f\"입력한 숫자는 {num} 입니다.\")\n",
    "except Exception as e:  # Exception as e: 내가 정의한 상속 클래스\n",
    "    print('='*50)\n",
    "    print(\"raise 에서 발생한 에러는 except 구문으로 넘어옵니다.\")\n",
    "    print(e)"
   ]
  },
  {
   "cell_type": "code",
   "execution_count": 31,
   "metadata": {},
   "outputs": [
    {
     "name": "stdout",
     "output_type": "stream",
     "text": [
      "\n",
      "else 문 코드 실행\n",
      "1\n",
      "\n",
      "finally!! 나는 무조건 실행합니다!!!!\n"
     ]
    }
   ],
   "source": [
    "try:\n",
    "    num = int(input(\"정수를 입력해주세요 : \"))\n",
    "except ValueError as e:  # 입력한 데이터 타입이 정수가 아닌 경우 예외 발생\n",
    "    print(e)\n",
    "else:  # try 코드에서 예외가 발생하지 않은 경우 실행\n",
    "    print()\n",
    "    print(\"else 문 코드 실행\")\n",
    "    print(num)\n",
    "finally:\n",
    "    print()\n",
    "    print(\"finally!! 나는 무조건 실행합니다!!!!\")"
   ]
  }
 ],
 "metadata": {
  "kernelspec": {
   "display_name": "LikeLion",
   "language": "python",
   "name": "python3"
  },
  "language_info": {
   "codemirror_mode": {
    "name": "ipython",
    "version": 3
   },
   "file_extension": ".py",
   "mimetype": "text/x-python",
   "name": "python",
   "nbconvert_exporter": "python",
   "pygments_lexer": "ipython3",
   "version": "3.8.18"
  }
 },
 "nbformat": 4,
 "nbformat_minor": 2
}
