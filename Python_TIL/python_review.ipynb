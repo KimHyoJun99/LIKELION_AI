{
 "cells": [
  {
   "cell_type": "markdown",
   "metadata": {},
   "source": [
    "# Review"
   ]
  },
  {
   "cell_type": "code",
   "execution_count": 2,
   "metadata": {},
   "outputs": [
    {
     "name": "stdout",
     "output_type": "stream",
     "text": [
      "피아노\n",
      "피아노\n"
     ]
    }
   ],
   "source": [
    "information = {\"특기\":\"피아노\", \"사는 곳\":\"서울\"}\n",
    "print(information.get(\"특기\"))\n",
    "print(information[\"특기\"])"
   ]
  },
  {
   "cell_type": "code",
   "execution_count": 3,
   "metadata": {},
   "outputs": [
    {
     "name": "stdout",
     "output_type": "stream",
     "text": [
      "{'사는 곳': '서울'}\n"
     ]
    }
   ],
   "source": [
    "del information[\"특기\"]\n",
    "print(information)"
   ]
  },
  {
   "cell_type": "code",
   "execution_count": 4,
   "metadata": {},
   "outputs": [
    {
     "name": "stdout",
     "output_type": "stream",
     "text": [
      "{'사는 곳': '서울', '나이': 19}\n"
     ]
    }
   ],
   "source": [
    "information[\"나이\"] = 19\n",
    "print(information)"
   ]
  },
  {
   "cell_type": "code",
   "execution_count": 5,
   "metadata": {},
   "outputs": [
    {
     "name": "stdout",
     "output_type": "stream",
     "text": [
      "{}\n"
     ]
    }
   ],
   "source": [
    "information.clear()\n",
    "print(information)"
   ]
  },
  {
   "cell_type": "code",
   "execution_count": 6,
   "metadata": {},
   "outputs": [
    {
     "name": "stdout",
     "output_type": "stream",
     "text": [
      "고향\n",
      "수원\n",
      "취미\n",
      "영화관람\n",
      "좋아하는 음식\n",
      "국수\n",
      "\n",
      "고향\n",
      "취미\n",
      "좋아하는 음식\n",
      "\n",
      "수원\n",
      "영화관람\n",
      "국수\n",
      "\n",
      "dict_items([('고향', '수원'), ('취미', '영화관람'), ('좋아하는 음식', '국수')])\n",
      "dict_keys(['고향', '취미', '좋아하는 음식'])\n",
      "dict_values(['수원', '영화관람', '국수'])\n"
     ]
    }
   ],
   "source": [
    "information = {\"고향\":\"수원\", \"취미\":\"영화관람\", \"좋아하는 음식\":\"국수\"}\n",
    "\n",
    "for x, y in information.items():\n",
    "    print(x)\n",
    "    print(y)\n",
    "print()\n",
    "\n",
    "for x in information.keys():\n",
    "    print(x)\n",
    "print()\n",
    "\n",
    "for y in information.values():\n",
    "    print(y)\n",
    "\n",
    "print()\n",
    "print(information.items())\n",
    "print(information.keys())\n",
    "print(information.values())"
   ]
  },
  {
   "cell_type": "code",
   "execution_count": 12,
   "metadata": {},
   "outputs": [
    {
     "name": "stdout",
     "output_type": "stream",
     "text": [
      "2023년 10(Oct)월 19일 17시 47분 14초 a태그 내역입니다.\n",
      "\n"
     ]
    }
   ],
   "source": [
    "from datetime import datetime\n",
    "\n",
    "print(datetime.today().strftime(\"%Y년 %m(%h)월 %d일 %H시 %M분 %S초 a태그 내역입니다.\\n\"))"
   ]
  },
  {
   "cell_type": "code",
   "execution_count": 8,
   "metadata": {},
   "outputs": [
    {
     "name": "stdout",
     "output_type": "stream",
     "text": [
      "<re.Match object; span=(0, 26), match='codelion.example@gmail.com'>\n",
      "None\n",
      "문자: 안ab녕c하de세f요\n",
      "숫자: 123456\n"
     ]
    }
   ],
   "source": [
    "# 유효성 검사\n",
    "import re # python 정규 표현식 기능\n",
    "\n",
    "reg = \"^[a-zA-Z0-9.+_-]+@[a-zA-Z0-9]+\\.[a-zA-Z]{2,3}$\"\n",
    "print(re.match(reg, \"codelion.example@gmail.com\"))\n",
    "print(re.match(reg, \"dkfjeiskdjf\"))  # None\n",
    "\n",
    "# 문자열 분류\n",
    "input_string = \"안ab녕c12하3de세f4요56\"\n",
    "letters = \"\".join(re.findall(r'[a-zA-Zㄱ-ㅎ가-힣]+', input_string))  # r: raw-string, 문자열 내의 백슬래시 문자 그대로 사용. 이스케이프 문자가 아님을 의미\n",
    "numbers = \"\".join(re.findall(r'\\d', input_string))\n",
    "\n",
    "print(\"문자:\", letters)\n",
    "print(\"숫자:\", numbers)"
   ]
  },
  {
   "cell_type": "code",
   "execution_count": 16,
   "metadata": {},
   "outputs": [
    {
     "name": "stdout",
     "output_type": "stream",
     "text": [
      "[1, 5, 4, 6, 111, 111, 10, 45, 3, 2, 14, 15]\n",
      "[1, 10, 5, 4, 6, 111, 111, 10, 45, 3, 2, 14, 15]\n",
      "2\n",
      "5\n"
     ]
    }
   ],
   "source": [
    "my_li = [1, 5, 4, 6, 111, 111, 10, 45, 3, 2]\n",
    "# extend()\n",
    "my_li.extend([14, 15])\n",
    "print(my_li)\n",
    "\n",
    "# insert(index, value)\n",
    "my_li.insert(1, 10)\n",
    "print(my_li)\n",
    "\n",
    "# count()\n",
    "print(my_li.count(111))\n",
    "\n",
    "# index()\n",
    "print(my_li.index(111))"
   ]
  },
  {
   "cell_type": "markdown",
   "metadata": {},
   "source": [
    "- 얕은복사: 원본 데이터에 영향을 줍니다\n",
    "- 깊은복사: 원본 데이터에 영향을 주지 않습니다"
   ]
  },
  {
   "cell_type": "code",
   "execution_count": 17,
   "metadata": {},
   "outputs": [
    {
     "name": "stdout",
     "output_type": "stream",
     "text": [
      "[4, 1, 10]\n",
      "[4, 1, 10]\n",
      "\n",
      "[1, 4, 10]\n",
      "[1, 4, 10]\n"
     ]
    }
   ],
   "source": [
    "# 얕은 복사\n",
    "\n",
    "li1 = [4, 1, 10]\n",
    "li2 = li1\n",
    "\n",
    "print(li1)\n",
    "print(li2)\n",
    "print()\n",
    "\n",
    "# li2 리스트 데이터 정렬\n",
    "li2.sort()\n",
    "\n",
    "print(li2)\n",
    "print(li1)"
   ]
  },
  {
   "cell_type": "code",
   "execution_count": 2,
   "metadata": {},
   "outputs": [
    {
     "name": "stdout",
     "output_type": "stream",
     "text": [
      "[4, 1, 10]\n",
      "[4, 1, 10]\n",
      "\n",
      "[1, 4, 10]\n",
      "[4, 1, 10]\n",
      "\n",
      "[1, 4, 10]\n",
      "[4, 1, 10]\n"
     ]
    }
   ],
   "source": [
    "# 깊은 복사 \n",
    "import copy \n",
    "\n",
    "li1 = [4, 1, 10]\n",
    "li2 = copy.deepcopy(li1)  # 깊은복사\n",
    "\n",
    "print(li1)\n",
    "print(li2)\n",
    "print()\n",
    "\n",
    "li2.sort()\n",
    "print(li2)\n",
    "print(li1)\n",
    "print()\n",
    "\n",
    "li3 = sorted(li1)\n",
    "print(li3)\n",
    "print(li1)"
   ]
  },
  {
   "cell_type": "code",
   "execution_count": 19,
   "metadata": {},
   "outputs": [
    {
     "name": "stdout",
     "output_type": "stream",
     "text": [
      "80\n",
      "64\n"
     ]
    }
   ],
   "source": [
    "# 리스트와 튜플의 저장공간 차이 비교\n",
    "\n",
    "import sys\n",
    "\n",
    "li = [1, 2, 3]\n",
    "tp = (1, 2, 3)\n",
    "\n",
    "print(sys.getsizeof(li))\n",
    "print(sys.getsizeof(tp))"
   ]
  },
  {
   "cell_type": "code",
   "execution_count": 20,
   "metadata": {},
   "outputs": [
    {
     "name": "stdout",
     "output_type": "stream",
     "text": [
      "{'seoul': 500, 'daegu': 300, 'busan': 200}\n"
     ]
    }
   ],
   "source": [
    "#list\n",
    "city = [\"seoul\", \"daegu\", \"busan\"]\n",
    "pop = [500, 300, 200]\n",
    "\n",
    "# zip(list1, list2)\n",
    "data = dict(zip(city, pop))\n",
    "print(data)"
   ]
  },
  {
   "cell_type": "markdown",
   "metadata": {},
   "source": [
    "[연산자의 종류와 우선순위]\n",
    "- 괄호: () (괄호 안의 표현식이 가장 먼저)\n",
    "- 지수 연산자: **\n",
    "- 단항 연산자: -(음수), +(양수), ~(반전)\n",
    "- 곱셈, 나눗셈, 나머지 연산자 : *, /, //, %\n",
    "- 덧셈, 뺄셈 연산자 : +, -\n",
    "- 비교 연산자: <, >, <=, >=, ==, !=\n",
    "- 논리 연산자: and, or, not\n",
    "- 멤버 연산자: in, not in\n",
    "- 항등 연산자: is, is not\n",
    "- 할당 연산자: +=, -=, *=, /=, //=, %=, **=\n",
    "- 삼항 조건 연산자: if-else"
   ]
  },
  {
   "cell_type": "code",
   "execution_count": 21,
   "metadata": {},
   "outputs": [
    {
     "name": "stdout",
     "output_type": "stream",
     "text": [
      "taxi\n"
     ]
    }
   ],
   "source": [
    "# 삼항 연산자\n",
    "money = 10000\n",
    "\n",
    "print(\"taxi\") if money >= 10000 else print(\"walk\")"
   ]
  }
 ],
 "metadata": {
  "kernelspec": {
   "display_name": "LikeLion",
   "language": "python",
   "name": "python3"
  },
  "language_info": {
   "codemirror_mode": {
    "name": "ipython",
    "version": 3
   },
   "file_extension": ".py",
   "mimetype": "text/x-python",
   "name": "python",
   "nbconvert_exporter": "python",
   "pygments_lexer": "ipython3",
   "version": "3.8.18"
  }
 },
 "nbformat": 4,
 "nbformat_minor": 2
}
