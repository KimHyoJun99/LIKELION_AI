{
 "cells": [
  {
   "cell_type": "markdown",
   "metadata": {},
   "source": [
    "# 반복문 (loop)\n",
    "- 반복되는 코드를 실행할 때 사용\n",
    "- while, for, break, continue\n",
    "- list comprhension"
   ]
  },
  {
   "cell_type": "markdown",
   "metadata": {},
   "source": [
    "## 1. while\n",
    "- 조건에 의한 반복문"
   ]
  },
  {
   "cell_type": "code",
   "execution_count": 1,
   "metadata": {},
   "outputs": [
    {
     "name": "stdout",
     "output_type": "stream",
     "text": [
      "3\n",
      "2\n",
      "1\n"
     ]
    }
   ],
   "source": [
    "# 조건에 의한 반복문\n",
    "\n",
    "data = 3\n",
    "\n",
    "while data:\n",
    "    print(data)\n",
    "    data -= 1"
   ]
  },
  {
   "cell_type": "code",
   "execution_count": 3,
   "metadata": {},
   "outputs": [
    {
     "name": "stdout",
     "output_type": "stream",
     "text": [
      "0\n",
      "1\n",
      "2\n",
      "3\n",
      "4\n",
      "break를 만나서 조건에 의한 반복문을 종료합니다.\n"
     ]
    }
   ],
   "source": [
    "# break\n",
    "# 반복을 중단하고 싶을 때\n",
    "\n",
    "count = 0\n",
    "\n",
    "while True:\n",
    "    print(count)\n",
    "    count += 1\n",
    "    \n",
    "    if (count ==5):\n",
    "        print(\"break를 만나서 조건에 의한 반복문을 종료합니다.\")\n",
    "        break"
   ]
  },
  {
   "cell_type": "code",
   "execution_count": 4,
   "metadata": {},
   "outputs": [],
   "source": [
    "# 무한루프\n",
    "\n",
    "# result = 1\n",
    "\n",
    "# while result:\n",
    "#     result += 1\n",
    "    \n",
    "# print(result)  # 출력 되지 않음"
   ]
  },
  {
   "cell_type": "code",
   "execution_count": 5,
   "metadata": {},
   "outputs": [],
   "source": [
    "# 무한루프\n",
    "\n",
    "result = 0\n",
    "\n",
    "while result:\n",
    "    print(result)\n",
    "    result += 1\n",
    "    \n",
    "    if result == 10:\n",
    "        break"
   ]
  },
  {
   "cell_type": "code",
   "execution_count": 6,
   "metadata": {},
   "outputs": [
    {
     "name": "stdout",
     "output_type": "stream",
     "text": [
      "2\n",
      "4\n",
      "6\n",
      "8\n"
     ]
    }
   ],
   "source": [
    "# continue\n",
    "# continue 실행되면, 현재 반복 루프 내에서 continue 문 아래의 코드는 실행되지 않고,\n",
    "# 반복문의 다음 반복으로 이동합니다.\n",
    "\n",
    "count = 0\n",
    "\n",
    "while True:\n",
    "    count += 1\n",
    "    \n",
    "    if count == 10:\n",
    "        break\n",
    "    \n",
    "    # 짝수\n",
    "    if count % 2:\n",
    "        continue\n",
    "    \n",
    "    print(count)"
   ]
  },
  {
   "cell_type": "code",
   "execution_count": 7,
   "metadata": {},
   "outputs": [],
   "source": [
    "# mini quiz\n",
    "# while 문을 이용\n",
    "# 'q' 문자열이 입력될 때까지 단어를 words(list)에 추가(append) 받는 코드를 작성"
   ]
  },
  {
   "cell_type": "code",
   "execution_count": 9,
   "metadata": {},
   "outputs": [
    {
     "name": "stdout",
     "output_type": "stream",
     "text": [
      "['LikeLion', 'Nice', '싸이']\n"
     ]
    }
   ],
   "source": [
    "words = []\n",
    "\n",
    "while True:\n",
    "    word = input(\"단어를 입력해주세요 : \")\n",
    "    \n",
    "    if word == 'q':\n",
    "        break \n",
    "    else:\n",
    "        words.append(word)\n",
    "\n",
    "print(words)"
   ]
  },
  {
   "cell_type": "code",
   "execution_count": 1,
   "metadata": {},
   "outputs": [
    {
     "data": {
      "text/plain": [
       "['', 'In']"
      ]
     },
     "execution_count": 1,
     "metadata": {},
     "output_type": "execute_result"
    }
   ],
   "source": [
    "# 입력을 저장\n",
    "In"
   ]
  },
  {
   "cell_type": "code",
   "execution_count": 2,
   "metadata": {},
   "outputs": [
    {
     "data": {
      "text/plain": [
       "{1: ['', 'In', 'Out']}"
      ]
     },
     "execution_count": 2,
     "metadata": {},
     "output_type": "execute_result"
    }
   ],
   "source": [
    "# 출력을 저장\n",
    "Out"
   ]
  },
  {
   "cell_type": "markdown",
   "metadata": {},
   "source": [
    "# mini quiz\n",
    "\n",
    "```\n",
    "1. 1부터 100까지 정수를 출력\n",
    "2. 그 중 3의 배수인 수만 출력\n",
    "3. 결과 :\n",
    "3은 3의 배수입니다.\n",
    "6은 3의 배수입니다.\n",
    "9는 3의 배수입니다.\n",
    "````"
   ]
  },
  {
   "cell_type": "code",
   "execution_count": 4,
   "metadata": {},
   "outputs": [
    {
     "name": "stdout",
     "output_type": "stream",
     "text": [
      "3은 3의 배수입니다.\n",
      "6은 3의 배수입니다.\n",
      "9은 3의 배수입니다.\n",
      "12은 3의 배수입니다.\n",
      "15은 3의 배수입니다.\n",
      "18은 3의 배수입니다.\n",
      "21은 3의 배수입니다.\n",
      "24은 3의 배수입니다.\n",
      "27은 3의 배수입니다.\n",
      "30은 3의 배수입니다.\n",
      "33은 3의 배수입니다.\n",
      "36은 3의 배수입니다.\n",
      "39은 3의 배수입니다.\n",
      "42은 3의 배수입니다.\n",
      "45은 3의 배수입니다.\n",
      "48은 3의 배수입니다.\n",
      "51은 3의 배수입니다.\n",
      "54은 3의 배수입니다.\n",
      "57은 3의 배수입니다.\n",
      "60은 3의 배수입니다.\n",
      "63은 3의 배수입니다.\n",
      "66은 3의 배수입니다.\n",
      "69은 3의 배수입니다.\n",
      "72은 3의 배수입니다.\n",
      "75은 3의 배수입니다.\n",
      "78은 3의 배수입니다.\n",
      "81은 3의 배수입니다.\n",
      "84은 3의 배수입니다.\n",
      "87은 3의 배수입니다.\n",
      "90은 3의 배수입니다.\n",
      "93은 3의 배수입니다.\n",
      "96은 3의 배수입니다.\n",
      "99은 3의 배수입니다.\n"
     ]
    }
   ],
   "source": [
    "num = 0\n",
    "\n",
    "while True:\n",
    "    num += 1\n",
    "    \n",
    "    if num == 101:  # while(num >= 100):\n",
    "        break\n",
    "    \n",
    "    if num % 3 == 0:  # not (num % 3)\n",
    "        print(f\"{num}은 3의 배수입니다.\")\n",
    "    else:\n",
    "        continue"
   ]
  },
  {
   "cell_type": "code",
   "execution_count": 5,
   "metadata": {},
   "outputs": [],
   "source": [
    "# 1. 랜덤한 숫자 6개를 출력\n",
    "# 2. 중복되는 숫자가 없이, 6개의 랜덤한 숫자\n",
    "# 3. 오름차순 정렬\n",
    "# 4. 1 ~ 45 숫자\n",
    "# 5. while 문을 사용\n",
    "# 결과: [1, 2, 3, 34, 45]"
   ]
  },
  {
   "cell_type": "code",
   "execution_count": 5,
   "metadata": {},
   "outputs": [
    {
     "name": "stdout",
     "output_type": "stream",
     "text": [
      "[14, 17, 20, 33, 44, 45]\n"
     ]
    }
   ],
   "source": [
    "import random\n",
    "\n",
    "lotto = []\n",
    "\n",
    "while True:\n",
    "    lotto_num = random.randrange(1, 46)\n",
    "    \n",
    "    if lotto_num not in lotto:\n",
    "        lotto.append(lotto_num)\n",
    "    else:\n",
    "        continue\n",
    "\n",
    "    if len(lotto) >= 6:\n",
    "        lotto.sort()\n",
    "        break\n",
    "\n",
    "print(lotto)"
   ]
  },
  {
   "cell_type": "code",
   "execution_count": 2,
   "metadata": {},
   "outputs": [
    {
     "name": "stdout",
     "output_type": "stream",
     "text": [
      "[8, 11, 17, 21, 24, 36]\n"
     ]
    }
   ],
   "source": [
    "# while 문을 사용하지 않는 경우\n",
    "\n",
    "lotto = random.sample(range(1, 46), 6)\n",
    "lotto.sort()\n",
    "\n",
    "print(lotto)"
   ]
  },
  {
   "cell_type": "code",
   "execution_count": 6,
   "metadata": {},
   "outputs": [
    {
     "name": "stdout",
     "output_type": "stream",
     "text": [
      "총점수는 270점입니다. 평균 정수는 90.0입니다. 최저 점수는 80점입니다.\n"
     ]
    }
   ],
   "source": [
    "# 1. 학생이 있습니다\n",
    "# 2. 파이썬: 80점, 머신러닝: 90점, 딥러닝: 100점\n",
    "# points_li = [80, 90, 100]\n",
    "# 3. 총점과 평균, 최저 점수를 출력\n",
    "# 4. while 문을 사용할 것\n",
    "# 결과: 총점수는 270점입니다. 평균 점수는 90.0입니다. 최저 점수는 80점입니다.\n",
    "\n",
    "points_li = [80, 90, 100]\n",
    "count = 0\n",
    "point_sum = 0\n",
    "point_min = 101\n",
    "while count <= 2:\n",
    "    point = points_li[count]\n",
    "    point_sum += point\n",
    "    \n",
    "    if point_min > point:\n",
    "        point_min = point\n",
    "    \n",
    "    count += 1\n",
    "\n",
    "print(f\"총점수는 {point_sum}점입니다. 평균 정수는 {point_sum/len(points_li)}입니다. 최저 점수는 {point_min}점입니다.\")"
   ]
  },
  {
   "cell_type": "code",
   "execution_count": 10,
   "metadata": {},
   "outputs": [
    {
     "name": "stdout",
     "output_type": "stream",
     "text": [
      "총점수는 270점입니다. 평균 정수는 90.0입니다. 최저 점수는 80점입니다.\n"
     ]
    }
   ],
   "source": [
    "# 깊은 복사 이용\n",
    "\n",
    "import copy\n",
    "\n",
    "point_sum = 0\n",
    "point_min = 0\n",
    "point_min = 101\n",
    "datas = copy.deepcopy(points_li)\n",
    "\n",
    "while datas:  # pop()을 통해 리스트가 비면 반복문 종료\n",
    "    score = datas.pop()\n",
    "    point_sum += score\n",
    "    \n",
    "    if score < point_min:\n",
    "        point_min = score\n",
    "        \n",
    "avg = point_sum / 3\n",
    "\n",
    "print(f\"총점수는 {point_sum}점입니다. 평균 정수는 {point_sum/len(points_li)}입니다. 최저 점수는 {point_min}점입니다.\")"
   ]
  },
  {
   "cell_type": "markdown",
   "metadata": {},
   "source": [
    "## 2. for\n",
    "- 횟수에 의한 반복문\n",
    "- iterable 한 값을 하나씩 꺼내서 value에 대입\n",
    "- 코드를 iterable 변수의 값 개수 만큼 실행"
   ]
  },
  {
   "cell_type": "code",
   "execution_count": 11,
   "metadata": {},
   "outputs": [
    {
     "name": "stdout",
     "output_type": "stream",
     "text": [
      "1\n",
      "2\n",
      "3\n"
     ]
    }
   ],
   "source": [
    "my_li = [1, 2, 3]\n",
    "\n",
    "for number in my_li:\n",
    "    print(number)"
   ]
  },
  {
   "cell_type": "code",
   "execution_count": 12,
   "metadata": {},
   "outputs": [
    {
     "name": "stdout",
     "output_type": "stream",
     "text": [
      "1\n",
      "2\n",
      "3\n"
     ]
    }
   ],
   "source": [
    "my_li = [1, 2, 3]\n",
    "\n",
    "print(my_li[0])\n",
    "print(my_li[1])\n",
    "print(my_li[2])"
   ]
  },
  {
   "cell_type": "code",
   "execution_count": 13,
   "metadata": {},
   "outputs": [
    {
     "name": "stdout",
     "output_type": "stream",
     "text": [
      "1\n",
      "2\n",
      "3\n",
      "[1, 2, 3]\n"
     ]
    }
   ],
   "source": [
    "data = []\n",
    "\n",
    "for value in my_li:\n",
    "    print(value)\n",
    "    data.append(value)\n",
    "    \n",
    "print(data)"
   ]
  },
  {
   "cell_type": "code",
   "execution_count": 16,
   "metadata": {},
   "outputs": [
    {
     "name": "stdout",
     "output_type": "stream",
     "text": [
      "0\n",
      "2\n",
      "4\n"
     ]
    }
   ],
   "source": [
    "# continue\n",
    "\n",
    "li = [0, 1, 2, 3, 4]\n",
    "\n",
    "for value in li:\n",
    "    # data가 홀수가 되면 continue 실행\n",
    "    if value % 2:\n",
    "        continue\n",
    "    print(value)"
   ]
  },
  {
   "cell_type": "code",
   "execution_count": 17,
   "metadata": {},
   "outputs": [],
   "source": [
    "# for 문에서 자주 사용하는 함수\n",
    "# range()\n",
    "# enumerate()\n",
    "# zip()"
   ]
  },
  {
   "cell_type": "code",
   "execution_count": 18,
   "metadata": {},
   "outputs": [
    {
     "data": {
      "text/plain": [
       "range(0, 100)"
      ]
     },
     "execution_count": 18,
     "metadata": {},
     "output_type": "execute_result"
    }
   ],
   "source": [
    "# range()\n",
    "\n",
    "my_li = [1, 2, 3, 4, 5, 6, 7, 8, 9, 10]\n",
    "\n",
    "range(100)"
   ]
  },
  {
   "cell_type": "code",
   "execution_count": 22,
   "metadata": {},
   "outputs": [
    {
     "name": "stdout",
     "output_type": "stream",
     "text": [
      "[0, 1, 2, 3, 4, 5, 6, 7, 8, 9]\n",
      "[5, 6, 7, 8, 9, 10, 11, 12, 13, 14, 15]\n",
      "[1, 3, 5, 7, 9]\n"
     ]
    }
   ],
   "source": [
    "print(list(range(10)))  # (end)\n",
    "print(list(range(5, 16)))  # (start, end)\n",
    "print(list(range(1, 11, 2)))  # (start, end, stride)"
   ]
  },
  {
   "cell_type": "code",
   "execution_count": 23,
   "metadata": {},
   "outputs": [
    {
     "name": "stdout",
     "output_type": "stream",
     "text": [
      "4950\n"
     ]
    }
   ],
   "source": [
    "result = 0\n",
    "\n",
    "for data in range(100):\n",
    "    result += data\n",
    "\n",
    "print(result)"
   ]
  },
  {
   "cell_type": "code",
   "execution_count": 24,
   "metadata": {},
   "outputs": [],
   "source": [
    "# enumerate()\n",
    "# 순서가 있는 자료형(iterable, 리스트, 튜플, 딕셔너리)를 입력으로 받습니다\n",
    "# 각 요소의 인덱스와 값을 함께 반환합니다."
   ]
  },
  {
   "cell_type": "code",
   "execution_count": 25,
   "metadata": {},
   "outputs": [],
   "source": [
    "ls = [\"first\", \"second\", \"third\"]"
   ]
  },
  {
   "cell_type": "code",
   "execution_count": 27,
   "metadata": {},
   "outputs": [
    {
     "name": "stdout",
     "output_type": "stream",
     "text": [
      "(0, 'first')\n",
      "(1, 'second')\n",
      "(2, 'third')\n"
     ]
    }
   ],
   "source": [
    "for data in enumerate(ls):\n",
    "    print(data)"
   ]
  },
  {
   "cell_type": "code",
   "execution_count": 28,
   "metadata": {},
   "outputs": [
    {
     "name": "stdout",
     "output_type": "stream",
     "text": [
      "1\n",
      "2\n"
     ]
    }
   ],
   "source": [
    "one, two = 1, 2\n",
    "\n",
    "print(one)\n",
    "print(two)"
   ]
  },
  {
   "cell_type": "code",
   "execution_count": 48,
   "metadata": {},
   "outputs": [
    {
     "name": "stdout",
     "output_type": "stream",
     "text": [
      "(0, 'first')\n",
      "(1, 'second')\n",
      "(2, 'third')\n",
      "0 first\n",
      "1 second\n",
      "2 third\n"
     ]
    }
   ],
   "source": [
    "for data in enumerate(ls):\n",
    "    print(data)\n",
    "\n",
    "for idx, data in enumerate(ls):\n",
    "    print(idx, data)\n",
    "    "
   ]
  },
  {
   "cell_type": "code",
   "execution_count": 47,
   "metadata": {},
   "outputs": [
    {
     "name": "stdout",
     "output_type": "stream",
     "text": [
      "(0, 'data1')\n",
      "(1, 'data2')\n",
      "(2, 'data3')\n",
      "0 data1\n",
      "1 data2\n",
      "2 data3\n"
     ]
    }
   ],
   "source": [
    "temp_dict = {\"data1\": 1, \"data2\": 2, \"data3\": 3}\n",
    "\n",
    "for data in enumerate(temp_dict):\n",
    "    print(data)\n",
    "\n",
    "for idx, data in enumerate(temp_dict):\n",
    "    print(idx, data)"
   ]
  },
  {
   "cell_type": "code",
   "execution_count": 30,
   "metadata": {},
   "outputs": [
    {
     "data": {
      "text/plain": [
       "[1, 2]"
      ]
     },
     "execution_count": 30,
     "metadata": {},
     "output_type": "execute_result"
    }
   ],
   "source": [
    "# range() 만든 데이터\n",
    "# iterable 한 데이터\n",
    "# 인덱싱, 슬라이싱\n",
    "\n",
    "list(range(5))[1:3]"
   ]
  },
  {
   "cell_type": "code",
   "execution_count": 31,
   "metadata": {},
   "outputs": [],
   "source": [
    "# 딕셔너리 데이터 타입과 for 문\n",
    "\n",
    "points_dict = {\"python\": 80, \"ml\": 90, \"computer\": 100}"
   ]
  },
  {
   "cell_type": "code",
   "execution_count": 38,
   "metadata": {},
   "outputs": [
    {
     "name": "stdout",
     "output_type": "stream",
     "text": [
      "python\n",
      "ml\n",
      "computer\n"
     ]
    }
   ],
   "source": [
    "for key in points_dict:\n",
    "    print(key)"
   ]
  },
  {
   "cell_type": "code",
   "execution_count": 39,
   "metadata": {},
   "outputs": [
    {
     "name": "stdout",
     "output_type": "stream",
     "text": [
      "python 80\n",
      "ml 90\n",
      "computer 100\n"
     ]
    }
   ],
   "source": [
    "for key, value in points_dict.items():\n",
    "    print(key, value)"
   ]
  },
  {
   "cell_type": "code",
   "execution_count": 40,
   "metadata": {},
   "outputs": [],
   "source": [
    "# mini quiz\n",
    "# 1. 숫자를 입력 받습니다\n",
    "# 2. 3의 배수이면 \"fizz\"\n",
    "# 3. 5의 배수이면 \"buzz\"\n",
    "# 4. 15의 배수이면 \"fizzbuzz\"\n",
    "# 5. 3과 5와 15의 배수가 아니면 입력한 숫자 출력"
   ]
  },
  {
   "cell_type": "code",
   "execution_count": 41,
   "metadata": {},
   "outputs": [
    {
     "name": "stdout",
     "output_type": "stream",
     "text": [
      "fizzbuzz\n",
      "buzz\n",
      "fizz\n",
      "4\n",
      "-1\n"
     ]
    }
   ],
   "source": [
    "\n",
    "while True:\n",
    "    num = int(input(\"숫자를 입력하세요 : \"))\n",
    "    \n",
    "    if num % 3 == 0:\n",
    "        if num % 5 == 0:\n",
    "            print(\"fizzbuzz\")\n",
    "        else:\n",
    "            print(\"fizz\")\n",
    "    elif num % 5 == 0:\n",
    "        print(\"buzz\")\n",
    "    else:\n",
    "        print(num)\n",
    "        \n",
    "    if num == -1:\n",
    "        break"
   ]
  },
  {
   "cell_type": "code",
   "execution_count": null,
   "metadata": {},
   "outputs": [],
   "source": [
    "if num % 15 == 0:\n",
    "    print(\"fizzbuzz\")\n",
    "elif num % 3 == 0:\n",
    "    print(\"fizz\")\n",
    "elif num % 5 == 0:\n",
    "    print(\"buzz\")\n",
    "else:\n",
    "    print(num)"
   ]
  },
  {
   "cell_type": "code",
   "execution_count": 1,
   "metadata": {},
   "outputs": [
    {
     "data": {
      "text/plain": [
       "[2, 3, 4, 5, 6, 7, 8, 9]"
      ]
     },
     "execution_count": 1,
     "metadata": {},
     "output_type": "execute_result"
    }
   ],
   "source": [
    "list(range(2, 10))"
   ]
  },
  {
   "cell_type": "code",
   "execution_count": 2,
   "metadata": {},
   "outputs": [
    {
     "name": "stdout",
     "output_type": "stream",
     "text": [
      "2 4 6 8 10 12 14 16 18 \n",
      "3 6 9 12 15 18 21 24 27 \n",
      "4 8 12 16 20 24 28 32 36 \n",
      "5 10 15 20 25 30 35 40 45 \n",
      "6 12 18 24 30 36 42 48 54 \n",
      "7 14 21 28 35 42 49 56 63 \n",
      "8 16 24 32 40 48 56 64 72 \n",
      "9 18 27 36 45 54 63 72 81 \n"
     ]
    }
   ],
   "source": [
    "# 2중 for문\n",
    "# 보통, 3중 이상 for 문 사용하지 않음\n",
    "# 구구단\n",
    "\n",
    "for num1 in range(2, 10):\n",
    "    for num2 in range(1, 10):\n",
    "        print(num1 * num2, end=' ')\n",
    "    print()"
   ]
  },
  {
   "cell_type": "code",
   "execution_count": 3,
   "metadata": {},
   "outputs": [
    {
     "name": "stdout",
     "output_type": "stream",
     "text": [
      "python\n",
      "python\n",
      "python\n"
     ]
    }
   ],
   "source": [
    "# 사용되지 않지만, 선언이 되어야 하는 경우\n",
    "# 변수명은 _로 사용\n",
    "# 식별자가 중복되지 않도록 하기 위해서 사용\n",
    "\n",
    "ls = [1, 2, 3]\n",
    "\n",
    "for _ in ls:\n",
    "    print(\"python\")"
   ]
  },
  {
   "cell_type": "code",
   "execution_count": 4,
   "metadata": {},
   "outputs": [
    {
     "name": "stdout",
     "output_type": "stream",
     "text": [
      "*\n",
      "**\n",
      "***\n"
     ]
    }
   ],
   "source": [
    "# 숫자를 입력 받습니다\n",
    "# 받은 숫자 만큼, * 찍기\n",
    "\n",
    "num = int(input(\"출력\"))\n",
    "\n",
    "for star in range(num):\n",
    "    # print(first)\n",
    "    for _ in range(star + 1):\n",
    "        print('*', end='')\n",
    "    print()"
   ]
  },
  {
   "cell_type": "markdown",
   "metadata": {},
   "source": [
    "```\n",
    "#mini quiz\n",
    "# 2중 for 문\n",
    "\n",
    "1 2 3\n",
    "4 5 6\n",
    "7 8 9\n",
    "```"
   ]
  },
  {
   "cell_type": "code",
   "execution_count": 5,
   "metadata": {},
   "outputs": [],
   "source": [
    "matrix = [[1, 2, 3],\n",
    "          [4, 5, 6],\n",
    "          [7, 8, 9]]"
   ]
  },
  {
   "cell_type": "code",
   "execution_count": 11,
   "metadata": {},
   "outputs": [
    {
     "name": "stdout",
     "output_type": "stream",
     "text": [
      "1 2 3 \n",
      "4 5 6 \n",
      "7 8 9 \n"
     ]
    }
   ],
   "source": [
    "for row in matrix:\n",
    "    for num in row:\n",
    "        print(num, end=' ')\n",
    "    print()"
   ]
  },
  {
   "cell_type": "code",
   "execution_count": 10,
   "metadata": {},
   "outputs": [
    {
     "name": "stdout",
     "output_type": "stream",
     "text": [
      "1 2 3 \n",
      "4 5 6 \n",
      "7 8 9 \n"
     ]
    }
   ],
   "source": [
    "for row in range(3):\n",
    "    for num in range(row*3+1, row*3+4):\n",
    "        print(num, end=' ')\n",
    "    print()"
   ]
  },
  {
   "cell_type": "code",
   "execution_count": 8,
   "metadata": {},
   "outputs": [
    {
     "name": "stdout",
     "output_type": "stream",
     "text": [
      "[[1, 2, 3], [4, 5, 6], [7, 8, 9]]\n"
     ]
    }
   ],
   "source": [
    "result = []\n",
    "\n",
    "for row in range(3):\n",
    "    temp_list = []\n",
    "    for num in range(row*3+1, row*3+4):\n",
    "        temp_list.append(num)\n",
    "    result.append(temp_list)\n",
    "\n",
    "print(result)"
   ]
  },
  {
   "cell_type": "markdown",
   "metadata": {},
   "source": [
    "## 3. list comprhension\n",
    "- 반복문을 이용해서 리스트 데이터를 만드는 문법\n",
    "- 삼항연산자와 비슷한 개념"
   ]
  },
  {
   "cell_type": "code",
   "execution_count": 12,
   "metadata": {},
   "outputs": [
    {
     "data": {
      "text/plain": [
       "'True'"
      ]
     },
     "execution_count": 12,
     "metadata": {},
     "output_type": "execute_result"
    }
   ],
   "source": [
    "num = 1\n",
    "\n",
    "\"True\" if num else \"False\""
   ]
  },
  {
   "cell_type": "code",
   "execution_count": 14,
   "metadata": {},
   "outputs": [
    {
     "name": "stdout",
     "output_type": "stream",
     "text": [
      "[0, 1, 4, 9, 16, 25, 36, 49, 64, 81]\n",
      "CPU times: total: 0 ns\n",
      "Wall time: 0 ns\n"
     ]
    }
   ],
   "source": [
    "%%time\n",
    "result = []\n",
    "\n",
    "for number in range(10):\n",
    "    result.append(number ** 2)\n",
    "\n",
    "print(result)"
   ]
  },
  {
   "cell_type": "code",
   "execution_count": 15,
   "metadata": {},
   "outputs": [
    {
     "data": {
      "text/plain": [
       "5"
      ]
     },
     "execution_count": 15,
     "metadata": {},
     "output_type": "execute_result"
    }
   ],
   "source": [
    "words = [\"apple\", \"banana\", \"orange\", \"grape\", \"kiwi\"]\n",
    "len(words)"
   ]
  },
  {
   "cell_type": "code",
   "execution_count": 17,
   "metadata": {},
   "outputs": [
    {
     "name": "stdout",
     "output_type": "stream",
     "text": [
      "['apple', 'banana', 'orange', 'grape']\n"
     ]
    }
   ],
   "source": [
    "my_words = []\n",
    "\n",
    "for value in words:\n",
    "    # print(value)\n",
    "    if len(value) >= 5:  # 글자수가 5 이상인 단어\n",
    "        my_words.append(value)\n",
    "\n",
    "print(my_words)"
   ]
  },
  {
   "cell_type": "code",
   "execution_count": 19,
   "metadata": {},
   "outputs": [
    {
     "data": {
      "text/plain": [
       "['apple', 'banana', 'orange', 'grape']"
      ]
     },
     "execution_count": 19,
     "metadata": {},
     "output_type": "execute_result"
    }
   ],
   "source": [
    "my_words = [value for value in words if len(value) >= 5]\n",
    "my_words"
   ]
  },
  {
   "cell_type": "code",
   "execution_count": 20,
   "metadata": {},
   "outputs": [
    {
     "name": "stdout",
     "output_type": "stream",
     "text": [
      "[[1, 2, 3], [4, 5, 6], [7, 8, 9]]\n"
     ]
    }
   ],
   "source": [
    "# 행렬 데이터\n",
    "# 3 by 3 행렬 데이터\n",
    "# 전치 행렬\n",
    "# 2중 반복문\n",
    "# 그리고.. 우리가 앞에서 배운 모든 것들 중 무언가 사용\n",
    "\n",
    "# 1. 일반 반복문 스타일로 작성\n",
    "# 2. 리스트 컴프리헨션\n",
    "\n",
    "matrix = [[1, 2, 3],\n",
    "          [4, 5, 6],\n",
    "          [7, 8, 9]]\n",
    "\n",
    "print(matrix)"
   ]
  },
  {
   "cell_type": "markdown",
   "metadata": {},
   "source": [
    "```\n",
    "[[1, 4, 7], [2, 5, 8], [3, 6, 9]]\n",
    "```"
   ]
  },
  {
   "cell_type": "code",
   "execution_count": null,
   "metadata": {},
   "outputs": [],
   "source": [
    "result = []\n",
    "\n",
    "for row in range(3):\n",
    "    temp_list = []\n",
    "    for num in range(1, 10):\n",
    "        if (num % 3) == ((row + 1) % 3):\n",
    "            temp_list.append(num)\n",
    "    result.append(temp_list)\n",
    "\n",
    "print(result)"
   ]
  },
  {
   "cell_type": "code",
   "execution_count": 23,
   "metadata": {},
   "outputs": [
    {
     "name": "stdout",
     "output_type": "stream",
     "text": [
      "[[1, 4, 7], [2, 5, 8], [3, 6, 9]]\n"
     ]
    }
   ],
   "source": [
    "transposed = []\n",
    "\n",
    "for idx in range(len(matrix)):\n",
    "\n",
    "    columns = []\n",
    "    for row in matrix:\n",
    "        columns.append(row[idx])\n",
    "    \n",
    "    transposed.append(columns)\n",
    "\n",
    "print(transposed)"
   ]
  },
  {
   "cell_type": "code",
   "execution_count": 24,
   "metadata": {},
   "outputs": [
    {
     "data": {
      "text/plain": [
       "[[1, 4, 7], [2, 5, 8], [3, 6, 9]]"
      ]
     },
     "execution_count": 24,
     "metadata": {},
     "output_type": "execute_result"
    }
   ],
   "source": [
    "transposed = [[row[idx] for row in matrix] for idx in range(len(matrix))]\n",
    "transposed"
   ]
  },
  {
   "cell_type": "markdown",
   "metadata": {},
   "source": [
    "## 4. zip"
   ]
  },
  {
   "cell_type": "code",
   "execution_count": 7,
   "metadata": {},
   "outputs": [
    {
     "name": "stdout",
     "output_type": "stream",
     "text": [
      "[('서울', 500), ('대구', 300), ('부산', 200)]\n",
      "서울 500\n",
      "대구 300\n",
      "부산 200\n",
      "{'서울': 500, '대구': 300, '부산': 200}\n",
      "서울\n",
      "대구\n",
      "부산\n"
     ]
    }
   ],
   "source": [
    "# zip\n",
    "\n",
    "city = [\"서울\", \"대구\", \"부산\"]\n",
    "pop = [500, 300, 200]\n",
    "\n",
    "city_pop_list = list(zip(city, pop))\n",
    "\n",
    "print(city_pop_list)\n",
    "\n",
    "for key, value in city_pop_list:\n",
    "    print(key, value)\n",
    "\n",
    "\n",
    "city_pop_dict = dict(zip(city, pop))\n",
    "\n",
    "print(city_pop_dict)"
   ]
  }
 ],
 "metadata": {
  "kernelspec": {
   "display_name": "LikeLion",
   "language": "python",
   "name": "python3"
  },
  "language_info": {
   "codemirror_mode": {
    "name": "ipython",
    "version": 3
   },
   "file_extension": ".py",
   "mimetype": "text/x-python",
   "name": "python",
   "nbconvert_exporter": "python",
   "pygments_lexer": "ipython3",
   "version": "3.8.18"
  },
  "orig_nbformat": 4
 },
 "nbformat": 4,
 "nbformat_minor": 2
}
