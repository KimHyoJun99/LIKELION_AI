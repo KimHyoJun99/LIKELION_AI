{
 "cells": [
  {
   "cell_type": "code",
   "execution_count": 13,
   "metadata": {},
   "outputs": [],
   "source": [
    "class DataScientist:\n",
    "\n",
    "    def __init__(self, name, corp):\n",
    "        self.name = name\n",
    "        self.corp = corp\n",
    "        self.__skill = []\n",
    "        self.__project = []\n",
    "\n",
    "    def data_collection(self):\n",
    "        print(f\"{self.name}은 {self.corp}에서 교육을 받아 데이터 수집을 할 수 있습니다.\")\n",
    "\n",
    "    def data_analysis(self):\n",
    "        if self.__skill:\n",
    "            print(f\"{self.name}이 {self.corp}에서 교육을 받아 {self.__skill}으로 데이터 분석을 합니다.\")\n",
    "        else:\n",
    "            print(f\"{self.name}이 {self.corp}에서 교육을 받고 있습니다. 조금만 기다려주세요!\")\n",
    "\n",
    "    def add_skill(self, skill):\n",
    "        if skill not in self.__skill:\n",
    "            self.__skill.append(skill)\n",
    "            print(f\"{self.name}이 {self.__skill} 기술을 익혔습니다!! \")\n",
    "\n",
    "    def show_skills(self):\n",
    "        for skill in self.__skill:\n",
    "            print(f\"{skill}을 할 줄 압니다. {self.corp}에서 배웠습니다!\")\n",
    "\n",
    "    def add_project(self, project_name):\n",
    "        self.__project.append(project_name)\n",
    "        print(f\"{self.name}이 {project_name}을 추가했습니다!\")\n",
    "\n",
    "    def show_portfolio(self):\n",
    "        if self.__project:\n",
    "            print(f\"{self.name}의 포트폴리오\")\n",
    "            for project in self.__project:\n",
    "                print(f\"{project}가 있습니다.\")\n",
    "        else:\n",
    "            print(f\"{self.name}의 포트폴리오는 아직 비어있습니다. 미래를 응원해주세요!\")"
   ]
  },
  {
   "cell_type": "code",
   "execution_count": 20,
   "metadata": {},
   "outputs": [
    {
     "name": "stdout",
     "output_type": "stream",
     "text": [
      "codelion은 멋쟁이사자처럼에서 교육을 받아 데이터 수집을 할 수 있습니다.\n",
      "codelion이 멋쟁이사자처럼에서 교육을 받고 있습니다. 조금만 기다려주세요!\n"
     ]
    }
   ],
   "source": [
    "ds1 = DataScientist(\"codelion\", \"멋쟁이사자처럼\")\n",
    "ds1.data_collection()\n",
    "ds1.data_analysis()"
   ]
  },
  {
   "cell_type": "code",
   "execution_count": 21,
   "metadata": {},
   "outputs": [
    {
     "name": "stdout",
     "output_type": "stream",
     "text": [
      "codelion이 ['파이썬'] 기술을 익혔습니다!! \n",
      "codelion이 멋쟁이사자처럼에서 교육을 받아 ['파이썬']으로 데이터 분석을 합니다.\n"
     ]
    }
   ],
   "source": [
    "ds1.add_skill(\"파이썬\")\n",
    "ds1.data_analysis()"
   ]
  },
  {
   "cell_type": "code",
   "execution_count": 22,
   "metadata": {},
   "outputs": [
    {
     "name": "stdout",
     "output_type": "stream",
     "text": [
      "codelion이 ['파이썬', '머신러닝'] 기술을 익혔습니다!! \n",
      "codelion이 멋쟁이사자처럼에서 교육을 받아 ['파이썬', '머신러닝']으로 데이터 분석을 합니다.\n"
     ]
    }
   ],
   "source": [
    "ds1.add_skill(\"머신러닝\")\n",
    "ds1.data_analysis()"
   ]
  },
  {
   "cell_type": "code",
   "execution_count": 23,
   "metadata": {},
   "outputs": [
    {
     "name": "stdout",
     "output_type": "stream",
     "text": [
      "파이썬을 할 줄 압니다. 멋쟁이사자처럼에서 배웠습니다!\n",
      "머신러닝을 할 줄 압니다. 멋쟁이사자처럼에서 배웠습니다!\n"
     ]
    }
   ],
   "source": [
    "ds1.show_skills()"
   ]
  },
  {
   "cell_type": "code",
   "execution_count": 24,
   "metadata": {},
   "outputs": [
    {
     "name": "stdout",
     "output_type": "stream",
     "text": [
      "codelion이 배달팁 아끼기 AI 프로젝트을 추가했습니다!\n",
      "codelion의 포트폴리오\n",
      "배달팁 아끼기 AI 프로젝트가 있습니다.\n"
     ]
    }
   ],
   "source": [
    "ds1.add_project(\"배달팁 아끼기 AI 프로젝트\")\n",
    "ds1.show_portfolio()"
   ]
  },
  {
   "cell_type": "markdown",
   "metadata": {},
   "source": [
    "# try_except"
   ]
  },
  {
   "cell_type": "code",
   "execution_count": null,
   "metadata": {},
   "outputs": [],
   "source": []
  }
 ],
 "metadata": {
  "kernelspec": {
   "display_name": "LikeLion",
   "language": "python",
   "name": "python3"
  },
  "language_info": {
   "codemirror_mode": {
    "name": "ipython",
    "version": 3
   },
   "file_extension": ".py",
   "mimetype": "text/x-python",
   "name": "python",
   "nbconvert_exporter": "python",
   "pygments_lexer": "ipython3",
   "version": "3.8.18"
  },
  "orig_nbformat": 4
 },
 "nbformat": 4,
 "nbformat_minor": 2
}
