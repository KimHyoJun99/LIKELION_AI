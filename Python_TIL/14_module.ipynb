{
 "cells": [
  {
   "cell_type": "markdown",
   "metadata": {},
   "source": [
    "# 모듈(Module)"
   ]
  },
  {
   "cell_type": "markdown",
   "metadata": {},
   "source": [
    "## 1. 모듈 개념\n",
    "- 변수, 함수, 클래스 등을 포함하는 하나의 파이썬 파일(.py)\n",
    "- import math, from bs4 import BeautifulSoup\n",
    "- 코드의 가독성을 높이고 유지, 보수, 관리에 용이\n",
    "- 모듈 네이밍 컨벤션\n",
    "    - 소문자\n",
    "    - snake_case\n",
    "    - mymodule.py, my_module.py\n",
    "- 모듈(module) -> 패키지(package) -> 라이브러리(library)\n",
    "    - 모듈: 변수, 함수, 클래스\n",
    "    - 패키지: 모듈을 모아놓은 폴더\n",
    "    - 라이브러리: 모듈과 패키지를 포함하는 개념"
   ]
  },
  {
   "cell_type": "markdown",
   "metadata": {},
   "source": [
    "## 2. 모듈 전체 호출\n",
    "- import module"
   ]
  },
  {
   "cell_type": "code",
   "execution_count": 1,
   "metadata": {},
   "outputs": [
    {
     "ename": "ModuleNotFoundError",
     "evalue": "No module named 'my_module'",
     "output_type": "error",
     "traceback": [
      "\u001b[1;31m---------------------------------------------------------------------------\u001b[0m",
      "\u001b[1;31mModuleNotFoundError\u001b[0m                       Traceback (most recent call last)",
      "Cell \u001b[1;32mIn[1], line 1\u001b[0m\n\u001b[1;32m----> 1\u001b[0m \u001b[39mimport\u001b[39;00m \u001b[39mmy_module\u001b[39;00m\n",
      "\u001b[1;31mModuleNotFoundError\u001b[0m: No module named 'my_module'"
     ]
    }
   ],
   "source": [
    "import my_module"
   ]
  },
  {
   "cell_type": "code",
   "execution_count": 3,
   "metadata": {},
   "outputs": [
    {
     "name": "stdout",
     "output_type": "stream",
     "text": [
      "1\n",
      "2\n",
      "This is my plus module 3\n",
      "사자이/가 어흥 소리를 냅니다\n"
     ]
    }
   ],
   "source": [
    "# 모듈의 변수\n",
    "print(my_module.num1)\n",
    "print(my_module.num2)\n",
    "\n",
    "# 모듈의 함수\n",
    "my_module.plus(1, 2)\n",
    "\n",
    "# 모듈의 클래스\n",
    "lion = my_module.Animal(\"사자\")\n",
    "lion.make_sound(\"어흥\")"
   ]
  },
  {
   "cell_type": "code",
   "execution_count": 7,
   "metadata": {},
   "outputs": [
    {
     "data": {
      "text/plain": [
       "['Animal',\n",
       " '__builtins__',\n",
       " '__cached__',\n",
       " '__doc__',\n",
       " '__file__',\n",
       " '__loader__',\n",
       " '__name__',\n",
       " '__package__',\n",
       " '__spec__',\n",
       " 'num1',\n",
       " 'num2',\n",
       " 'plus']"
      ]
     },
     "execution_count": 7,
     "metadata": {},
     "output_type": "execute_result"
    }
   ],
   "source": [
    "dir(my_module)"
   ]
  },
  {
   "cell_type": "code",
   "execution_count": 6,
   "metadata": {},
   "outputs": [
    {
     "data": {
      "text/plain": [
       "['Animal', 'num1', 'num2', 'plus']"
      ]
     },
     "execution_count": 6,
     "metadata": {},
     "output_type": "execute_result"
    }
   ],
   "source": [
    "[func for func in dir(my_module) if func[0] != \"_\"]"
   ]
  },
  {
   "cell_type": "markdown",
   "metadata": {},
   "source": [
    "## 3. 모듈의 일부 내용 호출\n",
    "- from func import module"
   ]
  },
  {
   "cell_type": "code",
   "execution_count": 15,
   "metadata": {},
   "outputs": [],
   "source": [
    "from my_module import num1\n",
    "from my_module import num2\n",
    "from my_module import plus\n",
    "from my_module import Animal  # from bs4 import BeautifulSoup\n",
    "\n",
    "# requests 모듈 내용을 전체 호출\n",
    "import requests\n",
    "# bs4 모듈이 가진 BeautifulSoup 클래스 호출\n",
    "from bs4 import BeautifulSoup"
   ]
  },
  {
   "cell_type": "code",
   "execution_count": 16,
   "metadata": {},
   "outputs": [
    {
     "name": "stdout",
     "output_type": "stream",
     "text": [
      "1\n",
      "2\n",
      "This is my plus module 3\n",
      "호랑이이/가 어흥 소리를 냅니다\n"
     ]
    }
   ],
   "source": [
    "print(num1)\n",
    "print(num2)\n",
    "plus(num1, num2)  # my_module.plus(my_module.num1 + my_module.num2), return 값이 없으므로 print에 넣으면 None 반환\n",
    "tiger = Animal(\"호랑이\")\n",
    "tiger.make_sound(\"어흥\")"
   ]
  },
  {
   "cell_type": "markdown",
   "metadata": {},
   "source": [
    "## 4. 모듈 이름 변경 호출\n",
    "- import module as md"
   ]
  },
  {
   "cell_type": "code",
   "execution_count": 17,
   "metadata": {},
   "outputs": [],
   "source": [
    "import my_module as md"
   ]
  },
  {
   "cell_type": "code",
   "execution_count": 18,
   "metadata": {},
   "outputs": [
    {
     "name": "stdout",
     "output_type": "stream",
     "text": [
      "1 2\n",
      "This is my plus module 3\n",
      "말티푸이/가 컁컁 소리를 냅니다\n"
     ]
    }
   ],
   "source": [
    "print(md.num1, md.num2)\n",
    "md.plus(md.num1, md.num2)\n",
    "dog = md.Animal(\"말티푸\")\n",
    "dog.make_sound(\"컁컁\")"
   ]
  },
  {
   "cell_type": "markdown",
   "metadata": {},
   "source": [
    "## 5. `if __name__ == \"__main__\"`\n",
    "- (1) 모듈(.py)이 터미널에서 직접 실행되는 경우\n",
    "- (2) jupyter notebook 에서 import module로 불러와서 사용하는 경우"
   ]
  },
  {
   "cell_type": "code",
   "execution_count": 25,
   "metadata": {},
   "outputs": [],
   "source": [
    "import my_weather_info"
   ]
  },
  {
   "cell_type": "code",
   "execution_count": 26,
   "metadata": {},
   "outputs": [
    {
     "data": {
      "text/plain": [
       "('Rain', 293.9)"
      ]
     },
     "execution_count": 26,
     "metadata": {},
     "output_type": "execute_result"
    }
   ],
   "source": [
    "my_weather_info.get_weather_info(\"Seoul\")"
   ]
  },
  {
   "cell_type": "code",
   "execution_count": 27,
   "metadata": {},
   "outputs": [
    {
     "name": "stdout",
     "output_type": "stream",
     "text": [
      "my_weather_info\n"
     ]
    }
   ],
   "source": [
    "print(my_weather_info.__name__)"
   ]
  },
  {
   "cell_type": "code",
   "execution_count": 29,
   "metadata": {},
   "outputs": [
    {
     "name": "stdout",
     "output_type": "stream",
     "text": [
      "Active code page: 65001\n",
      "get_weather_info\n",
      "Rain 20.89\n",
      "main\n",
      "Rain 20.89\n"
     ]
    }
   ],
   "source": [
    "!python my_weather_info.py"
   ]
  }
 ],
 "metadata": {
  "kernelspec": {
   "display_name": "LikeLion",
   "language": "python",
   "name": "python3"
  },
  "language_info": {
   "codemirror_mode": {
    "name": "ipython",
    "version": 3
   },
   "file_extension": ".py",
   "mimetype": "text/x-python",
   "name": "python",
   "nbconvert_exporter": "python",
   "pygments_lexer": "ipython3",
   "version": "3.8.18"
  },
  "orig_nbformat": 4
 },
 "nbformat": 4,
 "nbformat_minor": 2
}
