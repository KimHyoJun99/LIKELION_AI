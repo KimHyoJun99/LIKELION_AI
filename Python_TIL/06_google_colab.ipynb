{
  "nbformat": 4,
  "nbformat_minor": 0,
  "metadata": {
    "colab": {
      "provenance": [],
      "gpuType": "T4"
    },
    "kernelspec": {
      "name": "python3",
      "display_name": "Python 3"
    },
    "language_info": {
      "name": "python"
    },
    "accelerator": "GPU"
  },
  "cells": [
    {
      "cell_type": "markdown",
      "source": [
        "# 1. google colab\n",
        "- ctrl(cmd) + m, m  \n",
        "- 구글 코랩은 클라우드 기반 무료 Jupyter Notebook 환경을 제공\n",
        "- 웹 브라우저에서 python 코드를 작성하고 실행할 수 있습니다\n",
        "- numpy, pandas, matplotlib, tensorflow, pytorch ... 주요 라이브러리가 사전에 설치되어 있음\n",
        "- GoogleDrive 연동\n",
        "- GPU 활용 가능\n",
        "    - 그래픽카드"
      ],
      "metadata": {
        "id": "i1PSP2XY--Xv"
      }
    },
    {
      "cell_type": "code",
      "source": [
        "# os\n",
        "# cat => print()\n",
        "!cat /etc/os-release"
      ],
      "metadata": {
        "colab": {
          "base_uri": "https://localhost:8080/"
        },
        "id": "LK1jQmZC_UrK",
        "outputId": "6c0f5351-d014-4186-c084-2f2c6a44b551"
      },
      "execution_count": 2,
      "outputs": [
        {
          "output_type": "stream",
          "name": "stdout",
          "text": [
            "PRETTY_NAME=\"Ubuntu 22.04.2 LTS\"\n",
            "NAME=\"Ubuntu\"\n",
            "VERSION_ID=\"22.04\"\n",
            "VERSION=\"22.04.2 LTS (Jammy Jellyfish)\"\n",
            "VERSION_CODENAME=jammy\n",
            "ID=ubuntu\n",
            "ID_LIKE=debian\n",
            "HOME_URL=\"https://www.ubuntu.com/\"\n",
            "SUPPORT_URL=\"https://help.ubuntu.com/\"\n",
            "BUG_REPORT_URL=\"https://bugs.launchpad.net/ubuntu/\"\n",
            "PRIVACY_POLICY_URL=\"https://www.ubuntu.com/legal/terms-and-policies/privacy-policy\"\n",
            "UBUNTU_CODENAME=jammy\n"
          ]
        }
      ]
    },
    {
      "cell_type": "code",
      "source": [
        "# cpu\n",
        "!cat /proc/cpuinfo"
      ],
      "metadata": {
        "colab": {
          "base_uri": "https://localhost:8080/"
        },
        "id": "lcSE_3J6AQEI",
        "outputId": "60e26731-e89b-4d72-a516-1ee4a76e09c6"
      },
      "execution_count": 3,
      "outputs": [
        {
          "output_type": "stream",
          "name": "stdout",
          "text": [
            "processor\t: 0\n",
            "vendor_id\t: GenuineIntel\n",
            "cpu family\t: 6\n",
            "model\t\t: 79\n",
            "model name\t: Intel(R) Xeon(R) CPU @ 2.20GHz\n",
            "stepping\t: 0\n",
            "microcode\t: 0xffffffff\n",
            "cpu MHz\t\t: 2199.998\n",
            "cache size\t: 56320 KB\n",
            "physical id\t: 0\n",
            "siblings\t: 2\n",
            "core id\t\t: 0\n",
            "cpu cores\t: 1\n",
            "apicid\t\t: 0\n",
            "initial apicid\t: 0\n",
            "fpu\t\t: yes\n",
            "fpu_exception\t: yes\n",
            "cpuid level\t: 13\n",
            "wp\t\t: yes\n",
            "flags\t\t: fpu vme de pse tsc msr pae mce cx8 apic sep mtrr pge mca cmov pat pse36 clflush mmx fxsr sse sse2 ss ht syscall nx pdpe1gb rdtscp lm constant_tsc rep_good nopl xtopology nonstop_tsc cpuid tsc_known_freq pni pclmulqdq ssse3 fma cx16 pcid sse4_1 sse4_2 x2apic movbe popcnt aes xsave avx f16c rdrand hypervisor lahf_lm abm 3dnowprefetch invpcid_single ssbd ibrs ibpb stibp fsgsbase tsc_adjust bmi1 hle avx2 smep bmi2 erms invpcid rtm rdseed adx smap xsaveopt arat md_clear arch_capabilities\n",
            "bugs\t\t: cpu_meltdown spectre_v1 spectre_v2 spec_store_bypass l1tf mds swapgs taa mmio_stale_data retbleed\n",
            "bogomips\t: 4399.99\n",
            "clflush size\t: 64\n",
            "cache_alignment\t: 64\n",
            "address sizes\t: 46 bits physical, 48 bits virtual\n",
            "power management:\n",
            "\n",
            "processor\t: 1\n",
            "vendor_id\t: GenuineIntel\n",
            "cpu family\t: 6\n",
            "model\t\t: 79\n",
            "model name\t: Intel(R) Xeon(R) CPU @ 2.20GHz\n",
            "stepping\t: 0\n",
            "microcode\t: 0xffffffff\n",
            "cpu MHz\t\t: 2199.998\n",
            "cache size\t: 56320 KB\n",
            "physical id\t: 0\n",
            "siblings\t: 2\n",
            "core id\t\t: 0\n",
            "cpu cores\t: 1\n",
            "apicid\t\t: 1\n",
            "initial apicid\t: 1\n",
            "fpu\t\t: yes\n",
            "fpu_exception\t: yes\n",
            "cpuid level\t: 13\n",
            "wp\t\t: yes\n",
            "flags\t\t: fpu vme de pse tsc msr pae mce cx8 apic sep mtrr pge mca cmov pat pse36 clflush mmx fxsr sse sse2 ss ht syscall nx pdpe1gb rdtscp lm constant_tsc rep_good nopl xtopology nonstop_tsc cpuid tsc_known_freq pni pclmulqdq ssse3 fma cx16 pcid sse4_1 sse4_2 x2apic movbe popcnt aes xsave avx f16c rdrand hypervisor lahf_lm abm 3dnowprefetch invpcid_single ssbd ibrs ibpb stibp fsgsbase tsc_adjust bmi1 hle avx2 smep bmi2 erms invpcid rtm rdseed adx smap xsaveopt arat md_clear arch_capabilities\n",
            "bugs\t\t: cpu_meltdown spectre_v1 spectre_v2 spec_store_bypass l1tf mds swapgs taa mmio_stale_data retbleed\n",
            "bogomips\t: 4399.99\n",
            "clflush size\t: 64\n",
            "cache_alignment\t: 64\n",
            "address sizes\t: 46 bits physical, 48 bits virtual\n",
            "power management:\n",
            "\n"
          ]
        }
      ]
    },
    {
      "cell_type": "code",
      "source": [
        "# ram 정보 확인\n",
        "!cat /proc/meminfo"
      ],
      "metadata": {
        "id": "A9Y8-Bi3AkY0"
      },
      "execution_count": null,
      "outputs": []
    },
    {
      "cell_type": "code",
      "source": [
        "# 가상 디스크 정보 확인\n",
        "!df -h"
      ],
      "metadata": {
        "colab": {
          "base_uri": "https://localhost:8080/"
        },
        "id": "6JdjXRiPAxI3",
        "outputId": "d7c5479a-acf6-40e9-edfd-0253deb0a646"
      },
      "execution_count": 5,
      "outputs": [
        {
          "output_type": "stream",
          "name": "stdout",
          "text": [
            "Filesystem      Size  Used Avail Use% Mounted on\n",
            "overlay         108G   27G   82G  25% /\n",
            "tmpfs            64M     0   64M   0% /dev\n",
            "shm             5.8G     0  5.8G   0% /dev/shm\n",
            "/dev/root       2.0G  1.1G  887M  55% /usr/sbin/docker-init\n",
            "tmpfs           6.4G  560K  6.4G   1% /var/colab\n",
            "/dev/sda1        44G   28G   16G  64% /etc/hosts\n",
            "tmpfs           6.4G     0  6.4G   0% /proc/acpi\n",
            "tmpfs           6.4G     0  6.4G   0% /proc/scsi\n",
            "tmpfs           6.4G     0  6.4G   0% /sys/firmware\n"
          ]
        }
      ]
    },
    {
      "cell_type": "code",
      "source": [
        "# 파이썬 버전 확인\n",
        "!python -V"
      ],
      "metadata": {
        "colab": {
          "base_uri": "https://localhost:8080/"
        },
        "id": "_mldsap0BJ13",
        "outputId": "5fb71d59-8bf0-4e0b-961e-590b9c199094"
      },
      "execution_count": 6,
      "outputs": [
        {
          "output_type": "stream",
          "name": "stdout",
          "text": [
            "Python 3.10.12\n"
          ]
        }
      ]
    },
    {
      "cell_type": "markdown",
      "source": [
        "# 2. 코랩의 요금정책"
      ],
      "metadata": {
        "id": "pPXBkOmxBSQQ"
      }
    },
    {
      "cell_type": "markdown",
      "source": [
        "## 무료 버전\n",
        "- 런타임(runtime) 제한 시간 12시간\n",
        "- 12시간 이상 지속적으로 사용하기 위해선, 중간에 재연결 필요\n",
        "- 비활동 시간이 90분 이상 지속되면 세션 종료\n",
        "\n",
        "## 유료 버전\n",
        "- 런타임(runtime) 제한 시간 24시간\n",
        "- 더 큰 메모리와 가상 디스크 공간 할당\n",
        "- 무료 버전 사용자보다 높은 우선순위로 더 좋은 리소스 할당\n",
        "- 월간 구독 방식으로 요금은 $9.99\n",
        "- https://colab.research.google.com/signup"
      ],
      "metadata": {
        "id": "B2SNl2AWBtDM"
      }
    },
    {
      "cell_type": "markdown",
      "source": [
        "# 3. CPU GPU\n",
        "- 일반 데이터 분석 작업시에는 CPU 자원 할당\n",
        "- 머신러닝, 딥러닝 모델 개발 작업시에는 GPU 자원 할당\n",
        "    - 런타임 -> 런타임 유형 변경 -> GPU 선택 후 저장\n",
        "- 유료 버전 사용시, 더 좋은 자원 할당\n",
        "    - 작업 속도 빨라짐"
      ],
      "metadata": {
        "id": "CwbQGwR2DAzK"
      }
    },
    {
      "cell_type": "code",
      "source": [
        "# GPU 확인\n",
        "!nvidia-smi"
      ],
      "metadata": {
        "id": "T7obXX6SDuFz"
      },
      "execution_count": null,
      "outputs": []
    },
    {
      "cell_type": "markdown",
      "source": [
        "# 4. 단축키"
      ],
      "metadata": {
        "id": "d9oVaHGvDvW4"
      }
    },
    {
      "cell_type": "markdown",
      "source": [
        "## 4-1. 실행 관련 단축키\n",
        "- shift + enter: 현재 셀 실행\n",
        "- ctrl(cmd) + m, m: markdown 모드로 변경\n",
        "- ctrl(cmd) + m, y: code 모드로 변경"
      ],
      "metadata": {
        "id": "FSEnUJlfD-5G"
      }
    },
    {
      "cell_type": "markdown",
      "source": [
        "## 4-2. 셀 관리 단축키\n",
        "- a: 현재 셀 위에 새로운 셀 추가\n",
        "- b: 현재 셀 아래 새로운 셀 추가\n",
        "- ctrl(cmd) + m, d: 현재 셀 삭제"
      ],
      "metadata": {
        "id": "rGDJU9wsEVuz"
      }
    },
    {
      "cell_type": "markdown",
      "source": [
        "## 4-3. 키보드 네비게이션 단축키\n",
        "- ctrl(cmd) + m, p: 이전 셀로 이동\n",
        "- ctrl(cmd) + m, n: 다음 셀로 이동"
      ],
      "metadata": {
        "id": "JJZVgJsgExcE"
      }
    },
    {
      "cell_type": "markdown",
      "source": [
        "## 4-4. 기타 유용한 단축키\n",
        "- ctrl(cmd) + m, h: 단축키 도움말 표시\n",
        "- ctrl(cmd) + m, l: 행 번호 표시 켜기/끄기\n",
        "- ctrl(cmd) + m, o: 코드 실행 결과 숨기기/보이기"
      ],
      "metadata": {
        "id": "QUR6BFdoFB0x"
      }
    },
    {
      "cell_type": "markdown",
      "source": [
        "## 5. 구글 드라이브 연결"
      ],
      "metadata": {
        "id": "tP1etabXFRUv"
      }
    },
    {
      "cell_type": "markdown",
      "source": [
        "- 왼쪽 메뉴바에서 하단 폴더 아이콘 선택\n",
        "- 상단에서 세번째 메뉴 드라이버 마운트 선택\n",
        "- 이후 절차 따라 진행\n",
        "- 왼쪽에 drive 라는 폴더가 생성 (안보일시, 새로고침)\n",
        "- drive/MyDrive 경로 이후, 내 구글드라이브 내용 확인 할 수 있습니다"
      ],
      "metadata": {
        "id": "6AmX-FjaFexL"
      }
    },
    {
      "cell_type": "markdown",
      "source": [
        "# 6. cuation!\n",
        "- 파일(폴더) 이름에 띄어쓰기, 한글, 특수문자 최대한 자제\n",
        "- 기본적으로 생기는 Colab Notebooks 폴더에서 작업하기 보다는, 직접 폴더 생성 후 작업 권유\n",
        "- 자동완성 기능이 있는데, 조금 느린 편\n",
        "- 오타 항상 주의\n",
        "- 로컬PC(노트북) 작업환경에 익숙해 진 뒤 코랩 사용한 것을 권유"
      ],
      "metadata": {
        "id": "Hu4F7ZujGqLr"
      }
    }
  ]
}