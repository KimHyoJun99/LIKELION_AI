{
 "cells": [
  {
   "cell_type": "markdown",
   "metadata": {},
   "source": [
    "# Class"
   ]
  },
  {
   "cell_type": "code",
   "execution_count": 5,
   "metadata": {},
   "outputs": [],
   "source": [
    "class Car:\n",
    "    color = \"\"\n",
    "    speed = 0\n",
    "    \n",
    "    def up_speed(self, value):\n",
    "        self.speed += value\n",
    "    \n",
    "    def down_speed(self, value):\n",
    "        self.speed -= value"
   ]
  },
  {
   "cell_type": "code",
   "execution_count": 6,
   "metadata": {},
   "outputs": [
    {
     "name": "stdout",
     "output_type": "stream",
     "text": [
      "자동차1의 색상은 빨간색이며, 현재 속도는 30km 입니다.\n",
      "자동차2의 색상은 파란색이며, 현재 속도는 60km 입니다.\n",
      "자동차3의 색상은 노란색이며, 현재 속도는 0km 입니다.\n"
     ]
    }
   ],
   "source": [
    "myCar1 = Car()\n",
    "myCar1.color = \"빨간색\"\n",
    "myCar1.speed = 0\n",
    "\n",
    "myCar2 = Car()\n",
    "myCar2.color = \"파란색\"\n",
    "myCar2.speed = 0\n",
    "\n",
    "myCar3 = Car()\n",
    "myCar3.color = \"노란색\"\n",
    "myCar3.speed = 0\n",
    "\n",
    "myCar1.up_speed(30)\n",
    "print(f\"자동차1의 색상은 {myCar1.color}이며, 현재 속도는 {myCar1.speed}km 입니다.\")\n",
    "\n",
    "myCar2.up_speed(60)\n",
    "print(f\"자동차2의 색상은 {myCar2.color}이며, 현재 속도는 {myCar2.speed}km 입니다.\")\n",
    "\n",
    "myCar3.up_speed(0)\n",
    "print(f\"자동차3의 색상은 {myCar3.color}이며, 현재 속도는 {myCar3.speed}km 입니다.\")"
   ]
  }
 ],
 "metadata": {
  "kernelspec": {
   "display_name": "LikeLion",
   "language": "python",
   "name": "python3"
  },
  "language_info": {
   "codemirror_mode": {
    "name": "ipython",
    "version": 3
   },
   "file_extension": ".py",
   "mimetype": "text/x-python",
   "name": "python",
   "nbconvert_exporter": "python",
   "pygments_lexer": "ipython3",
   "version": "3.8.18"
  }
 },
 "nbformat": 4,
 "nbformat_minor": 2
}
