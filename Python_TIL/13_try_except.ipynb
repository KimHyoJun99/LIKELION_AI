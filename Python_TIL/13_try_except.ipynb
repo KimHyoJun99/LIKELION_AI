{
 "cells": [
  {
   "cell_type": "markdown",
   "metadata": {},
   "source": [
    "# 예외처리 (try_except)"
   ]
  },
  {
   "cell_type": "markdown",
   "metadata": {},
   "source": [
    "## 1. 예외처리 개념\n",
    "- 예상하지 못한 상황에 대비하여 코드 흐름을 제어\n",
    "- 주로 파일 읽기/쓰기, 네트워크 통신, 사용자 입력 등 예측하기 어려운 상황에 사용\n",
    "- TypeError, NameError, SyntaxError, AttributeError"
   ]
  },
  {
   "cell_type": "code",
   "execution_count": null,
   "metadata": {},
   "outputs": [
    {
     "ename": "NameError",
     "evalue": "name 'home' is not defined",
     "output_type": "error",
     "traceback": [
      "\u001b[1;31m---------------------------------------------------------------------------\u001b[0m\n",
      "\u001b[1;31mNameError\u001b[0m                                 Traceback (most recent call last)\n",
      "Cell \u001b[1;32mIn[25], line 1\u001b[0m\n",
      "\u001b[1;32m----> 1\u001b[0m \u001b[39mprint\u001b[39m(home)\n",
      "\n",
      "\u001b[1;31mNameError\u001b[0m: name 'home' is not defined"
     ]
    }
   ],
   "source": [
    "print(home)"
   ]
  },
  {
   "cell_type": "code",
   "execution_count": null,
   "metadata": {},
   "outputs": [
    {
     "ename": "ZeroDivisionError",
     "evalue": "division by zero",
     "output_type": "error",
     "traceback": [
      "\u001b[1;31m---------------------------------------------------------------------------\u001b[0m\n",
      "\u001b[1;31mZeroDivisionError\u001b[0m                         Traceback (most recent call last)\n",
      "Cell \u001b[1;32mIn[26], line 1\u001b[0m\n",
      "\u001b[1;32m----> 1\u001b[0m \u001b[39m10\u001b[39;49m \u001b[39m/\u001b[39;49m \u001b[39m0\u001b[39;49m\n",
      "\n",
      "\u001b[1;31mZeroDivisionError\u001b[0m: division by zero"
     ]
    }
   ],
   "source": [
    "# 어떤 수를 0으로 나눌 수 없음\n",
    "# ZeroDivisionError\n",
    "\n",
    "10 / 0"
   ]
  },
  {
   "cell_type": "markdown",
   "metadata": {},
   "source": [
    "## 2. 예외처리 문법"
   ]
  },
  {
   "cell_type": "code",
   "execution_count": null,
   "metadata": {},
   "outputs": [],
   "source": [
    "# 기본 문법\n",
    "\n",
    "try:\n",
    "    pass  # 실행할 코드\n",
    "except:\n",
    "    pass  # 예외가 발생했을 때 실행할 코드"
   ]
  },
  {
   "cell_type": "code",
   "execution_count": null,
   "metadata": {},
   "outputs": [
    {
     "name": "stdout",
     "output_type": "stream",
     "text": [
      "exception!\n"
     ]
    }
   ],
   "source": [
    "# try 부분은 내가 고려한 로직\n",
    "# exception은 내가 고려하지 못한 부분에서의 문제\n",
    "\n",
    "try:\n",
    "    # x 값 입력 받기\n",
    "    x = int(input(\"input number: \"))\n",
    "    # x 값이 10 이하인 경우만 실행\n",
    "    if x <= 10:\n",
    "        print(10 / x)\n",
    "    else:\n",
    "        print(\"wrong number\")\n",
    "except:\n",
    "    print(\"exception!\")  # 0이 들어가면 exception! 출력"
   ]
  },
  {
   "cell_type": "markdown",
   "metadata": {},
   "source": [
    "## 3. 파이썬 내장 예외 처리"
   ]
  },
  {
   "cell_type": "code",
   "execution_count": null,
   "metadata": {},
   "outputs": [
    {
     "name": "stdout",
     "output_type": "stream",
     "text": [
      "error!\n",
      "division by zero\n"
     ]
    }
   ],
   "source": [
    "# ZeroDivisionError\n",
    "\n",
    "try:\n",
    "    result = 10 / 0\n",
    "    print(result)\n",
    "except ZeroDivisionError as e:  # (error name) as (저장): e에 저장되어서 어떤 에러인지 출력됨\n",
    "    print(\"error!\")\n",
    "    print(e)"
   ]
  },
  {
   "cell_type": "code",
   "execution_count": null,
   "metadata": {},
   "outputs": [
    {
     "ename": "ValueError",
     "evalue": "invalid literal for int() with base 10: 'abc'",
     "output_type": "error",
     "traceback": [
      "\u001b[1;31m---------------------------------------------------------------------------\u001b[0m\n",
      "\u001b[1;31mValueError\u001b[0m                                Traceback (most recent call last)\n",
      "Cell \u001b[1;32mIn[34], line 1\u001b[0m\n",
      "\u001b[1;32m----> 1\u001b[0m \u001b[39mint\u001b[39;49m(\u001b[39m\"\u001b[39;49m\u001b[39mabc\u001b[39;49m\u001b[39m\"\u001b[39;49m)\n",
      "\n",
      "\u001b[1;31mValueError\u001b[0m: invalid literal for int() with base 10: 'abc'"
     ]
    }
   ],
   "source": [
    "int(\"abc\")"
   ]
  },
  {
   "cell_type": "code",
   "execution_count": null,
   "metadata": {},
   "outputs": [
    {
     "name": "stdout",
     "output_type": "stream",
     "text": [
      "invalid literal for int() with base 10: 'abc'\n"
     ]
    }
   ],
   "source": [
    "# ValueError 처리\n",
    "\n",
    "try:\n",
    "    num = int(\"abc\")\n",
    "except ValueError as e:\n",
    "    print(e)"
   ]
  },
  {
   "cell_type": "code",
   "execution_count": null,
   "metadata": {},
   "outputs": [
    {
     "name": "stdout",
     "output_type": "stream",
     "text": [
      "[Errno 2] No such file or directory: 'data.csv'\n"
     ]
    }
   ],
   "source": [
    "# FileNotFoundError 처리\n",
    "\n",
    "# !conda install -y pandas\n",
    "import pandas as pd\n",
    "\n",
    "try:\n",
    "    data = pd.read_csv(\"data.csv\")\n",
    "except FileNotFoundError as e:\n",
    "    print(e)"
   ]
  },
  {
   "cell_type": "code",
   "execution_count": null,
   "metadata": {},
   "outputs": [],
   "source": [
    "# data.csv파일 추가한 후\n",
    "\n",
    "try:\n",
    "    data = pd.read_csv(\"data.csv\")\n",
    "except FileNotFoundError as e:\n",
    "    print(e)"
   ]
  },
  {
   "cell_type": "code",
   "execution_count": null,
   "metadata": {},
   "outputs": [
    {
     "data": {
      "text/html": [
       "<div>\n",
       "<style scoped>\n",
       "    .dataframe tbody tr th:only-of-type {\n",
       "        vertical-align: middle;\n",
       "    }\n",
       "\n",
       "    .dataframe tbody tr th {\n",
       "        vertical-align: top;\n",
       "    }\n",
       "\n",
       "    .dataframe thead th {\n",
       "        text-align: right;\n",
       "    }\n",
       "</style>\n",
       "<table border=\"1\" class=\"dataframe\">\n",
       "  <thead>\n",
       "    <tr style=\"text-align: right;\">\n",
       "      <th></th>\n",
       "      <th>안녕하세요 저는 사자입니다</th>\n",
       "    </tr>\n",
       "  </thead>\n",
       "  <tbody>\n",
       "  </tbody>\n",
       "</table>\n",
       "</div>"
      ],
      "text/plain": [
       "Empty DataFrame\n",
       "Columns: [안녕하세요 저는 사자입니다]\n",
       "Index: []"
      ]
     },
     "metadata": {},
     "output_type": "display_data"
    }
   ],
   "source": [
    "data"
   ]
  },
  {
   "cell_type": "markdown",
   "metadata": {},
   "source": [
    "## 4. 사용자 정의 예외\n",
    "- raise\n",
    "- 예외를 발생시키는 코드\n",
    "```python\n",
    "raise 예외클래스(\"예외메시지\")\n",
    "```"
   ]
  },
  {
   "cell_type": "code",
   "execution_count": null,
   "metadata": {},
   "outputs": [],
   "source": [
    "# 사용자 정의 예외 클래스\n",
    "\n",
    "class OutOfRangeError(Exception):\n",
    "\n",
    "    def __init__(self):\n",
    "        super().__init__(\"안내한 범위를 벗어났습니다.\")"
   ]
  },
  {
   "cell_type": "code",
   "execution_count": null,
   "metadata": {},
   "outputs": [
    {
     "name": "stdout",
     "output_type": "stream",
     "text": [
      "==================================================\n",
      "raise 에서 발생한 에러는 except 구문으로 넘어옵니다.\n",
      "안내한 범위를 벗어났습니다.\n"
     ]
    }
   ],
   "source": [
    "try:\n",
    "    num =  int(input(\"1부터 10사이의 숫자를 입력하세요. \"))\n",
    "    if (num < 1) or (num > 10):\n",
    "        raise OutOfRangeError()  # 샤용자 정의 예외 발생, except 구문으로 이동\n",
    "        print(\"raise 아래 있는 코드는 실행되지 않습니다.\")\n",
    "    else:\n",
    "        print(f\"입력한 숫자는 {num} 입니다.\")\n",
    "except Exception as e:  # Exception as e: 내가 정의한 상속 클래스\n",
    "    print('='*50)\n",
    "    print(\"raise 에서 발생한 에러는 except 구문으로 넘어옵니다.\")\n",
    "    print(e)"
   ]
  },
  {
   "cell_type": "markdown",
   "metadata": {},
   "source": [
    "## 5. try except else finally"
   ]
  },
  {
   "cell_type": "code",
   "execution_count": null,
   "metadata": {},
   "outputs": [],
   "source": [
    "try:\n",
    "    pass  # 실행할 코드\n",
    "except:\n",
    "    pass  # 예외가 발생했을 때 처리하는 코드\n",
    "else:\n",
    "    pass  # 예외가 발생하지 않았을 때 실행할 코드\n",
    "finally:\n",
    "    pass  # 예외 발생 여부 상관없이 무조건 실행"
   ]
  },
  {
   "cell_type": "code",
   "execution_count": 1,
   "metadata": {},
   "outputs": [
    {
     "name": "stdout",
     "output_type": "stream",
     "text": [
      "\n",
      "else 문 코드 실행\n",
      "1\n",
      "\n",
      "finally!! 나는 무조건 실행합니다!!!!\n"
     ]
    }
   ],
   "source": [
    "try:\n",
    "    num = int(input(\"정수를 입력해주세요 : \"))\n",
    "except ValueError as e:  # 입력한 데이터 타입이 정수가 아닌 경우 예외 발생\n",
    "    print(e)\n",
    "else:  # try 코드에서 예외가 발생하지 않은 경우 실행\n",
    "    print()\n",
    "    print(\"else 문 코드 실행\")\n",
    "    print(num)\n",
    "finally:\n",
    "    print()\n",
    "    print(\"finally!! 나는 무조건 실행합니다!!!!\")"
   ]
  },
  {
   "cell_type": "code",
   "execution_count": 2,
   "metadata": {},
   "outputs": [
    {
     "name": "stdout",
     "output_type": "stream",
     "text": [
      "invalid literal for int() with base 10: '글자'\n",
      "\n",
      "finally!! 나는 무조건 실행합니다!!!!\n"
     ]
    }
   ],
   "source": [
    "try:\n",
    "    num = int(input(\"정수를 입력해주세요 : \"))\n",
    "except ValueError as e:  # 입력한 데이터 타입이 정수가 아닌 경우 예외 발생\n",
    "    print(e)\n",
    "else:  # try 코드에서 예외가 발생하지 않은 경우 실행\n",
    "    print()\n",
    "    print(\"else 문 코드 실행\")\n",
    "    print(num)\n",
    "finally:\n",
    "    print()\n",
    "    print(\"finally!! 나는 무조건 실행합니다!!!!\")"
   ]
  },
  {
   "cell_type": "code",
   "execution_count": null,
   "metadata": {},
   "outputs": [],
   "source": [
    "try:\n",
    "    num = int(input(\"정수를 입력해주세요 : \"))\n",
    "except ValueError as e:  # 입력한 데이터 타입이 정수가 아닌 경우 예외 발생\n",
    "    print(e)\n",
    "except ZeroDivisionError as e:  # except 문은 여러 개 사용 가능\n",
    "    print(e)\n",
    "else:  # try 코드에서 예외가 발생하지 않은 경우 실행, else 문은 하나만 사용 가능\n",
    "    print()\n",
    "    print(\"else 문 코드 실행\")\n",
    "    print(num)\n",
    "finally:\n",
    "    print()\n",
    "    print(\"finally!! 나는 무조건 실행합니다!!!!\")"
   ]
  }
 ],
 "metadata": {
  "kernelspec": {
   "display_name": "LikeLion",
   "language": "python",
   "name": "python3"
  },
  "language_info": {
   "codemirror_mode": {
    "name": "ipython",
    "version": 3
   },
   "file_extension": ".py",
   "mimetype": "text/x-python",
   "name": "python",
   "nbconvert_exporter": "python",
   "pygments_lexer": "ipython3",
   "version": "3.8.18"
  },
  "orig_nbformat": 4
 },
 "nbformat": 4,
 "nbformat_minor": 2
}
