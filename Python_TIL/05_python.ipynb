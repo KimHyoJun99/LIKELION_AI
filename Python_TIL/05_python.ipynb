{
 "cells": [
  {
   "cell_type": "markdown",
   "id": "834c2231",
   "metadata": {},
   "source": [
    "# CLI, Jupyter Notebook"
   ]
  },
  {
   "cell_type": "markdown",
   "id": "82c82b6c",
   "metadata": {},
   "source": [
    "### CLI"
   ]
  },
  {
   "cell_type": "code",
   "execution_count": 1,
   "id": "a10535b6",
   "metadata": {},
   "outputs": [],
   "source": [
    "# cd : change directory 디렉토리 위치 변경\n",
    "# ls : list 현재 목록 확인\n",
    "# mkdir : makde directory 새폴더 생성\n",
    "# mv : move 폴더(파일) 이동\n",
    "# cp : copy 폴더(파일) 복사\n",
    "# pwd : 현재 내 위치 확인\n",
    "# rm : remove rm -rf file 파일 삭제\n",
    "# .. : 내 현재 위치 기준 한 칸 위\n",
    "# . : 현재 내 위치\n",
    "# touch : 새파일 생성"
   ]
  },
  {
   "cell_type": "code",
   "execution_count": null,
   "id": "9219017a",
   "metadata": {},
   "outputs": [],
   "source": [
    "# ▶ ls : list                             = 현재 목록 확인\n",
    "# ▶ pwd                                 = 현재 내 위치 확인\n",
    "\n",
    "# ▶ cd : change directory      = 디렉토리 위치 변경\n",
    "#         ex)  cd(공백)/폴더명/폴더명   \n",
    "#    명령어) cd /my_dev/project\n",
    "\n",
    "# ▶ mkdir : make directory   = 새폴더 생성\n",
    "#          ex)   mkdir(공백)폴더명   \n",
    "#     명령어)   mkdir python\n",
    "\n",
    "\n",
    "# - mv 2가지 기능\n",
    "# ▶ mv : move                       = 폴더(파일) 이동  \n",
    "#        ex)   mv(공백)[이동 할 파일](공백)[이동 될 위치]     \n",
    "#    명령어)  mv text.txt /my_dev/project\n",
    "   \n",
    "# ▶ mv :                                  = 이름 변경\n",
    "#          ex)  mv [파일명](공백)[바꿀 파일명]   \n",
    "#    명령어)   mv text.txt python.txt\n",
    "\n",
    "\n",
    "# ▶ cp : copy                          = 폴더(파일) 복사\n",
    "#         ex)  cp [파일명](공백)[파일명]     \n",
    "#   명령어)   cp ../../test.txt new_test.txt    #폴더 상위상위에 있는 test.txt 파일을 현재위치에 new_test 파일명으로 복사\n",
    "\n",
    "\n",
    "\n",
    "# ▶ rm : remove rm -rf file  = 파일 삭제\n",
    "#           ex)    rm(공백)-rf(공백)[파일명]    \n",
    "#      명령어)    rm -rf text.txt"
   ]
  },
  {
   "cell_type": "markdown",
   "id": "be717ed7",
   "metadata": {},
   "source": [
    "### Jupyter Notebook"
   ]
  },
  {
   "cell_type": "code",
   "execution_count": null,
   "id": "efe52038",
   "metadata": {},
   "outputs": [],
   "source": [
    "# - cell 단위로 이루어져 있습니다\n",
    "#     - cell 단위로 코드를 실행\n",
    "# - mode\n",
    "#     - 명령모드: cell 을 수정할 때 사용\n",
    "#     - 편집모드: cell 의 내용을 수정할 때 사용\n",
    "# - cell type\n",
    "#     - code: cell 을 python 문법으로 실행\n",
    "#     - markdown: cell 을 markdown 문법으로 실행\n",
    "# - 자주 쓰는 단축키 \n",
    "#     - 코드 실행: shift + enter\n",
    "#     - 명령모드\n",
    "#         - 위에 새로운 셀 생성: a\n",
    "#         - 아래 새로운 셀 생성: b\n",
    "#         - 현재 선택된 셀 삭제: x\n",
    "#         - cell type 을 markdown 변경: m\n",
    "#         - cell type 을 code 변경: y"
   ]
  }
 ],
 "metadata": {
  "kernelspec": {
   "display_name": "Python 3 (ipykernel)",
   "language": "python",
   "name": "python3"
  },
  "language_info": {
   "codemirror_mode": {
    "name": "ipython",
    "version": 3
   },
   "file_extension": ".py",
   "mimetype": "text/x-python",
   "name": "python",
   "nbconvert_exporter": "python",
   "pygments_lexer": "ipython3",
   "version": "3.11.4"
  }
 },
 "nbformat": 4,
 "nbformat_minor": 5
}
