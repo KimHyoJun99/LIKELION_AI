{
 "cells": [
  {
   "cell_type": "markdown",
   "id": "834c2231",
   "metadata": {},
   "source": [
    "# CLI, Jupyter Notebook"
   ]
  },
  {
   "cell_type": "markdown",
   "id": "82c82b6c",
   "metadata": {},
   "source": [
    "### CLI"
   ]
  },
  {
   "cell_type": "markdown",
   "id": "b0b2e2a5",
   "metadata": {},
   "source": [
    "- cd : change directory 디렉토리 위치 변경\n",
    "- ls : list 현재 목록 확인\n",
    "- mkdir : makde directory 새폴더 생성\n",
    "- mv : move 폴더(파일) 이동\n",
    "- cp : copy 폴더(파일) 복사\n",
    "- pwd : 현재 내 위치 확인\n",
    "- rm : remove rm -rf file 파일 삭제\n",
    "- .. : 내 현재 위치 기준 한 칸 위\n",
    "- . : 현재 내 위치\n",
    "- touch : 새파일 생성"
   ]
  },
  {
   "cell_type": "markdown",
   "id": "16a05bc3",
   "metadata": {},
   "source": [
    "▶ ls : list                             = 현재 목록 확인\n",
    "▶ pwd                                 = 현재 내 위치 확인\n",
    "\n",
    "▶ cd : change directory      = 디렉토리 위치 변경\n",
    "        ex)  cd(공백)/폴더명/폴더명   \n",
    "   명령어) cd /my_dev/project\n",
    "\n",
    "▶ mkdir : make directory   = 새폴더 생성\n",
    "         ex)   mkdir(공백)폴더명   \n",
    "    명령어)   mkdir python\n",
    "\n",
    "\n",
    "- mv 2가지 기능\n",
    "▶ mv : move                       = 폴더(파일) 이동  \n",
    "       ex)   mv(공백)[이동 할 파일](공백)[이동 될 위치]     \n",
    "   명령어)  mv text.txt /my_dev/project\n",
    "   \n",
    "▶ mv :                                  = 이름 변경\n",
    "         ex)  mv [파일명](공백)[바꿀 파일명]   \n",
    "   명령어)   mv text.txt python.txt\n",
    "\n",
    "\n",
    "▶ cp : copy                          = 폴더(파일) 복사\n",
    "        ex)  cp [파일명](공백)[파일명]     \n",
    "  명령어)   cp ../../test.txt new_test.txt    #폴더 상위상위에 있는 test.txt 파일을 현재위치에 new_test 파일명으로 복사\n",
    "\n",
    "\n",
    "\n",
    "▶ rm : remove rm -rf file  = 파일 삭제\n",
    "          ex)    rm(공백)-rf(공백)[파일명]    \n",
    "     명령어)    rm -rf text.txt"
   ]
  },
  {
   "cell_type": "markdown",
   "id": "be717ed7",
   "metadata": {},
   "source": [
    "### Jupyter Notebook"
   ]
  },
  {
   "cell_type": "markdown",
   "id": "4ce6833e",
   "metadata": {},
   "source": [
    "- cell 단위로 이루어져 있습니다\n",
    "    - cell 단위로 코드를 실행"
   ]
  },
  {
   "cell_type": "markdown",
   "id": "eef327c4",
   "metadata": {},
   "source": [
    "- mode\n",
    "    - 명령모드: cell 을 수정할 때 사용\n",
    "    - 편집모드: cell 의 내용을 수정할 때 사용"
   ]
  },
  {
   "cell_type": "markdown",
   "id": "1a9729da",
   "metadata": {},
   "source": [
    "- cell type\n",
    "    - code: cell 을 python 문법으로 실행\n",
    "    - markdown: cell 을 markdown 문법으로 실행"
   ]
  },
  {
   "cell_type": "markdown",
   "id": "e9a97991",
   "metadata": {},
   "source": [
    "- 자주 쓰는 단축키 \n",
    "    - 코드 실행: shift + enter\n",
    "    - 명령모드\n",
    "        - 위에 새로운 셀 생성: a\n",
    "        - 아래 새로운 셀 생성: b\n",
    "        - 현재 선택된 셀 삭제: x\n",
    "        - cell type 을 markdown 변경: m\n",
    "        - cell type 을 code 변경: y"
   ]
  },
  {
   "cell_type": "markdown",
   "id": "d19679ff-c93e-48fa-9394-750cc53c6bfa",
   "metadata": {},
   "source": [
    "# 파이썬 문법"
   ]
  },
  {
   "cell_type": "markdown",
   "id": "33d25e1a-759d-4f36-9f75-2b8e426ae262",
   "metadata": {},
   "source": [
    "## 1. print() 출력 함수"
   ]
  },
  {
   "cell_type": "code",
   "execution_count": 1,
   "id": "984a4cd3-474a-42b1-8eab-51fda8f2d6fe",
   "metadata": {},
   "outputs": [
    {
     "name": "stdout",
     "output_type": "stream",
     "text": [
      "1\n"
     ]
    }
   ],
   "source": [
    "print(1)"
   ]
  },
  {
   "cell_type": "code",
   "execution_count": 2,
   "id": "b6747d9c-820b-4c44-b01a-98279fed6db8",
   "metadata": {},
   "outputs": [
    {
     "name": "stdout",
     "output_type": "stream",
     "text": [
      "2\n"
     ]
    }
   ],
   "source": [
    "print(2)"
   ]
  },
  {
   "cell_type": "code",
   "execution_count": 4,
   "id": "4dcf27ef-57aa-4d91-87e4-198f375d0faf",
   "metadata": {},
   "outputs": [
    {
     "name": "stdout",
     "output_type": "stream",
     "text": [
      "1\n",
      "2\n"
     ]
    }
   ],
   "source": [
    "a = 1\n",
    "b = 2\n",
    "\n",
    "print(a)\n",
    "print(b)"
   ]
  },
  {
   "cell_type": "code",
   "execution_count": 7,
   "id": "cf9d8047-a36e-4e80-af86-fb4493f07190",
   "metadata": {},
   "outputs": [
    {
     "name": "stdout",
     "output_type": "stream",
     "text": [
      "1\t2\n"
     ]
    }
   ],
   "source": [
    "# print() 함수의 옵션\n",
    "# docstring (shift + tab)\n",
    "# 함수에 대한 설명\n",
    "print(1, 2, sep='\\t')"
   ]
  },
  {
   "cell_type": "code",
   "execution_count": 8,
   "id": "45c162a4-63be-409d-af45-87f220c4074b",
   "metadata": {},
   "outputs": [
    {
     "name": "stdout",
     "output_type": "stream",
     "text": [
      "3\n"
     ]
    }
   ],
   "source": [
    "# 자동완성\n",
    "print(3)"
   ]
  },
  {
   "cell_type": "code",
   "execution_count": 9,
   "id": "bc1ea2ff-6bbc-4a94-a69c-c3e6a6837a27",
   "metadata": {},
   "outputs": [
    {
     "name": "stdout",
     "output_type": "stream",
     "text": [
      "자동완성\n",
      "오타를 방지할 수 있습니다\n"
     ]
    }
   ],
   "source": [
    "print('자동완성')\n",
    "print('오타를 방지할 수 있습니다')"
   ]
  },
  {
   "cell_type": "markdown",
   "id": "521486be-3d5b-4341-a0df-8d1d28a2e6d1",
   "metadata": {},
   "source": [
    "## 2. 주석 (comment)"
   ]
  },
  {
   "cell_type": "code",
   "execution_count": 10,
   "id": "1b20b110-9c45-4dce-b1ea-51b608fb0356",
   "metadata": {},
   "outputs": [],
   "source": [
    "# 주석: 앞에 # 을 붙이면 파이썬 코드로 실행하지 않습니다\n",
    "# 코드에 대한 설명이나 특정 코드를 실행시키고 싶지 않을 때 사용\n",
    "# ctrl(cmd) + /"
   ]
  },
  {
   "cell_type": "code",
   "execution_count": 14,
   "id": "3217f6fb-25a8-4c71-b444-e668b2109787",
   "metadata": {},
   "outputs": [
    {
     "name": "stdout",
     "output_type": "stream",
     "text": [
      "1\n",
      "3\n"
     ]
    }
   ],
   "source": [
    "print(1)\n",
    "# print(2)\n",
    "print(3) # 이 코드는 3을 출력하는 print 함수 입니다. "
   ]
  },
  {
   "cell_type": "markdown",
   "id": "53ad0110-ab7b-41a9-929e-bef0e58a33f1",
   "metadata": {},
   "source": [
    "## 3. 변수 선언\n",
    "- RAM 이라는 저장공간에 값을 할당"
   ]
  },
  {
   "cell_type": "code",
   "execution_count": 15,
   "id": "e87a0668-ed90-463f-800f-309cd5e82c2d",
   "metadata": {},
   "outputs": [
    {
     "name": "stdout",
     "output_type": "stream",
     "text": [
      "1\n"
     ]
    }
   ],
   "source": [
    "# a 는 1 이다 x\n",
    "# 1 이라는 정수값을 a 라는 변수에 할당했다\n",
    "a = 1 \n",
    "print(a)"
   ]
  },
  {
   "cell_type": "code",
   "execution_count": 16,
   "id": "3ede3b81-ee32-42d8-a4c6-82d87084c60a",
   "metadata": {},
   "outputs": [
    {
     "name": "stdout",
     "output_type": "stream",
     "text": [
      "3\n",
      "4\n"
     ]
    }
   ],
   "source": [
    "# 3, 4 값을 각가 d, e 변수에 할당\n",
    "d, e = 3, 4 \n",
    "print(d)\n",
    "print(e)"
   ]
  },
  {
   "cell_type": "code",
   "execution_count": 17,
   "id": "b2b7e56c-ede1-4aa9-a5c2-f1a5b09597ed",
   "metadata": {},
   "outputs": [
    {
     "name": "stdout",
     "output_type": "stream",
     "text": [
      "5\n",
      "5\n"
     ]
    }
   ],
   "source": [
    "f = g = 5\n",
    "print(f)\n",
    "print(g)"
   ]
  },
  {
   "cell_type": "code",
   "execution_count": 18,
   "id": "0205538d-4567-41f5-8d37-50334533448c",
   "metadata": {},
   "outputs": [
    {
     "ename": "NameError",
     "evalue": "name 'z' is not defined",
     "output_type": "error",
     "traceback": [
      "\u001b[0;31m---------------------------------------------------------------------------\u001b[0m",
      "\u001b[0;31mNameError\u001b[0m                                 Traceback (most recent call last)",
      "Cell \u001b[0;32mIn[18], line 1\u001b[0m\n\u001b[0;32m----> 1\u001b[0m \u001b[38;5;28mprint\u001b[39m(\u001b[43mz\u001b[49m)\n",
      "\u001b[0;31mNameError\u001b[0m: name 'z' is not defined"
     ]
    }
   ],
   "source": [
    "# 코드 에러 발생 시, 맨 밑부터 확인\n",
    "# 할당되지 않은 변수를 출력 \n",
    "print(z)"
   ]
  },
  {
   "cell_type": "markdown",
   "id": "4627d0d0-c3fa-474f-aa27-964861b19fd5",
   "metadata": {},
   "source": [
    "## 4. 식별자\n",
    "- 변수, 함수, 클래스, 모듈 등의 이름을 식별자라고 합니다\n",
    "- 식별자 규칙\n",
    "    - 소문자, 대문자, 숫자, 언더스코어(_) 사용\n",
    "    - 가장 앞에 숫자 사용 불가\n",
    "    - 예약어 사용 불가\n",
    "        - def, class, list, str, int, float... \n",
    "    - 컨벤션 \n",
    "        - snake case: python_basic\n",
    "        - camel case: PythonBasic"
   ]
  },
  {
   "cell_type": "code",
   "execution_count": 19,
   "id": "ad98e66e-574c-464d-a897-3b8d803ff5e8",
   "metadata": {},
   "outputs": [],
   "source": [
    "# 가능한 형태\n",
    "name = \"yongha\"\n",
    "age = 19\n",
    "my_var = 3.14\n",
    "hello_word = 'Hello, World'\n",
    "IsValid = True"
   ]
  },
  {
   "cell_type": "code",
   "execution_count": 26,
   "id": "923f0aec-fcf5-4daa-b566-bf03e9943abb",
   "metadata": {},
   "outputs": [
    {
     "ename": "SyntaxError",
     "evalue": "invalid syntax (2225378942.py, line 2)",
     "output_type": "error",
     "traceback": [
      "\u001b[0;36m  Cell \u001b[0;32mIn[26], line 2\u001b[0;36m\u001b[0m\n\u001b[0;31m    def = \"func\"  # 예약어를 식별자로 사용\u001b[0m\n\u001b[0m        ^\u001b[0m\n\u001b[0;31mSyntaxError\u001b[0m\u001b[0;31m:\u001b[0m invalid syntax\n"
     ]
    }
   ],
   "source": [
    "# 불가능한 형태 \n",
    "def = \"func\"  # 예약어를 식별자로 사용 \n",
    "first-name = 'John'  # 특수문자를 식별자로 사용\n",
    "2nd_number = 42  # 숫자로 시작하는 식별자\n",
    "hello word = 'Hello, World'  # 공백을 포함한 식별자"
   ]
  }
 ],
 "metadata": {
  "kernelspec": {
   "display_name": "Python 3 (ipykernel)",
   "language": "python",
   "name": "python3"
  },
  "language_info": {
   "codemirror_mode": {
    "name": "ipython",
    "version": 3
   },
   "file_extension": ".py",
   "mimetype": "text/x-python",
   "name": "python",
   "nbconvert_exporter": "python",
   "pygments_lexer": "ipython3",
   "version": "3.11.4"
  }
 },
 "nbformat": 4,
 "nbformat_minor": 5
}
