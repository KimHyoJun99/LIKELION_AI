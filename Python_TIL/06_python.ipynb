{
 "cells": [
  {
   "cell_type": "markdown",
   "id": "6623549c",
   "metadata": {},
   "source": [
    "# 파이썬 문법"
   ]
  },
  {
   "cell_type": "markdown",
   "id": "796978c3-5576-4aca-b789-33ee5327ff44",
   "metadata": {},
   "source": [
    "## 5. 데이터 타입\n",
    "- RAM 저장공간을 효율적으로 사용하기 위해서 저장공간의 타입을 설정"
   ]
  },
  {
   "cell_type": "markdown",
   "id": "3aade0e4-dc28-4e45-ab21-b84a2d3fb15e",
   "metadata": {},
   "source": [
    "- 동적타이핑\n",
    "    - 변수 선언시 저장되는 값에 따라서 자동으로 데이터 타입 결정\n",
    "    ```python\n",
    "    a = 1 \n",
    "    ```\n",
    "- 정적타이핑\n",
    "    - 변수 선언시 데이터 타입을 직접 설정 후 할당\n",
    "    ```python\n",
    "    int a = 1 \n",
    "    ```"
   ]
  },
  {
   "cell_type": "markdown",
   "id": "7e2c658d-294e-4d9d-bd2f-57cb76c39806",
   "metadata": {},
   "source": [
    "- 데이터 타입 \n",
    "    - int, float, str, bool\n",
    "    - list, tuple, dict"
   ]
  },
  {
   "cell_type": "code",
   "execution_count": 29,
   "id": "700015dc-e29a-4fca-9c51-907fb846d022",
   "metadata": {},
   "outputs": [
    {
     "data": {
      "text/plain": [
       "(int, str)"
      ]
     },
     "execution_count": 29,
     "metadata": {},
     "output_type": "execute_result"
    }
   ],
   "source": [
    "a = 1 # integer 정수\n",
    "b = 'python' # string 문자(글자)\n",
    "\n",
    "type(a), type(b)"
   ]
  },
  {
   "cell_type": "markdown",
   "id": "d9711b5d-b596-43e6-bad3-533923c4010e",
   "metadata": {},
   "source": [
    "### 5-1. 기본 데이터 타입\n",
    "- int: 정수\n",
    "    - 1, 2, 3 \n",
    "- float: 소수점\n",
    "    - 1.0, 3.14, -5.0\n",
    "- str: 문자(글자)\n",
    "    - \"python\", 'string', \"\"\"three\"\"\", '''four'''\n",
    "- bool: 논리값\n",
    "    - True False "
   ]
  },
  {
   "cell_type": "code",
   "execution_count": 30,
   "id": "d59df68b-3e40-4202-8556-852cf30a1bcf",
   "metadata": {},
   "outputs": [],
   "source": [
    "a = 1 \n",
    "b = 1.2 \n",
    "c = \"True\"\n",
    "d = True\n",
    "f = '1.2'"
   ]
  },
  {
   "cell_type": "code",
   "execution_count": 31,
   "id": "daf101d1-e19c-479b-b378-7662d6842a27",
   "metadata": {},
   "outputs": [
    {
     "data": {
      "text/plain": [
       "(int, float, str, bool, str)"
      ]
     },
     "execution_count": 31,
     "metadata": {},
     "output_type": "execute_result"
    }
   ],
   "source": [
    "type(a), type(b), type(c), type(d), type(f)"
   ]
  },
  {
   "cell_type": "code",
   "execution_count": 33,
   "id": "1f0300db-d414-4312-ab32-887682e14bcb",
   "metadata": {},
   "outputs": [
    {
     "name": "stdout",
     "output_type": "stream",
     "text": [
      "False\n",
      "True\n"
     ]
    }
   ],
   "source": [
    "print(a == b)\n",
    "print(a == a)"
   ]
  },
  {
   "cell_type": "code",
   "execution_count": 34,
   "id": "701921fb-d4ae-47e7-830a-8893e4260f35",
   "metadata": {},
   "outputs": [
    {
     "name": "stdout",
     "output_type": "stream",
     "text": [
      "2\n"
     ]
    }
   ],
   "source": [
    "print(a + 1)"
   ]
  },
  {
   "cell_type": "code",
   "execution_count": 35,
   "id": "1ab28080-4567-491d-a8d7-ba5e3da96d45",
   "metadata": {},
   "outputs": [
    {
     "name": "stdout",
     "output_type": "stream",
     "text": [
      "2.2\n"
     ]
    }
   ],
   "source": [
    "print(b + 1)"
   ]
  },
  {
   "cell_type": "code",
   "execution_count": 37,
   "id": "05839e65-b6ab-4f38-9b87-964ccc8e3abd",
   "metadata": {},
   "outputs": [
    {
     "ename": "TypeError",
     "evalue": "can only concatenate str (not \"int\") to str",
     "output_type": "error",
     "traceback": [
      "\u001b[0;31m---------------------------------------------------------------------------\u001b[0m",
      "\u001b[0;31mTypeError\u001b[0m                                 Traceback (most recent call last)",
      "Cell \u001b[0;32mIn[37], line 1\u001b[0m\n\u001b[0;32m----> 1\u001b[0m \u001b[38;5;28mprint\u001b[39m(\u001b[43mc\u001b[49m\u001b[43m \u001b[49m\u001b[38;5;241;43m+\u001b[39;49m\u001b[43m \u001b[49m\u001b[38;5;241;43m1\u001b[39;49m)  \u001b[38;5;66;03m# int 와 str 은 연산이 불가능\u001b[39;00m\n",
      "\u001b[0;31mTypeError\u001b[0m: can only concatenate str (not \"int\") to str"
     ]
    }
   ],
   "source": [
    "print(c + 1)  # int 와 str 은 연산이 불가능"
   ]
  },
  {
   "cell_type": "code",
   "execution_count": 41,
   "id": "128a00db-2db5-4c20-bfc0-574778a82717",
   "metadata": {},
   "outputs": [
    {
     "name": "stdout",
     "output_type": "stream",
     "text": [
      "2\n"
     ]
    }
   ],
   "source": [
    "# 논리형 데이터는 연산이 가능합니다. \n",
    "# True = 1 \n",
    "# d + 1 => 1 + 1 \n",
    "print(d + 1)"
   ]
  },
  {
   "cell_type": "code",
   "execution_count": 42,
   "id": "6f85ed6b-c1cc-462f-a4b0-573a67bdf2ca",
   "metadata": {},
   "outputs": [
    {
     "name": "stdout",
     "output_type": "stream",
     "text": [
      "2\n"
     ]
    }
   ],
   "source": [
    "# False = 0 \n",
    "# False + 2 => 0 + 2\n",
    "print(False + 2)"
   ]
  },
  {
   "cell_type": "markdown",
   "id": "b6d814ba-b127-4fcb-876d-15f823f5ef86",
   "metadata": {},
   "source": [
    "### 5-2. 컨테이너 데이터 타입\n",
    "- list: 여러 개의 값을 순서대로 담을 수 있고, 수정이 가능한 데이터 타입\n",
    "- tuple: 리스트와 동일한 성격을 가지는데, 수정이 불가능한 데이터 타입\n",
    "- dict: 순서가 없고 키(key) 와 값(value)의 쌍으로 이루어진 데이터 타입"
   ]
  },
  {
   "cell_type": "code",
   "execution_count": 43,
   "id": "41878b47-5b15-4899-993c-cf05257223e5",
   "metadata": {},
   "outputs": [
    {
     "name": "stdout",
     "output_type": "stream",
     "text": [
      "[1, 2, 3]\n"
     ]
    }
   ],
   "source": [
    "# list \n",
    "li = [1, 2, 3]\n",
    "print(li)"
   ]
  },
  {
   "cell_type": "code",
   "execution_count": 44,
   "id": "00392d7c-a7a5-416e-a9bc-5c153a460e46",
   "metadata": {},
   "outputs": [
    {
     "data": {
      "text/plain": [
       "list"
      ]
     },
     "execution_count": 44,
     "metadata": {},
     "output_type": "execute_result"
    }
   ],
   "source": [
    "type(li)"
   ]
  },
  {
   "cell_type": "code",
   "execution_count": 45,
   "id": "7dc3af02-306c-489e-9544-3c1cd6e0d29e",
   "metadata": {},
   "outputs": [
    {
     "name": "stdout",
     "output_type": "stream",
     "text": [
      "(1, 2, 3)\n"
     ]
    },
    {
     "data": {
      "text/plain": [
       "(None, tuple)"
      ]
     },
     "execution_count": 45,
     "metadata": {},
     "output_type": "execute_result"
    }
   ],
   "source": [
    "# tuple \n",
    "tp = (1, 2, 3)\n",
    "print(tp), type(tp)"
   ]
  },
  {
   "cell_type": "code",
   "execution_count": 46,
   "id": "d066a72b-1c09-42c4-becd-a37f30d0d73c",
   "metadata": {},
   "outputs": [
    {
     "name": "stdout",
     "output_type": "stream",
     "text": [
      "{'key': 'value'}\n"
     ]
    }
   ],
   "source": [
    "# dict\n",
    "dic = {\"key\": \"value\"}\n",
    "print(dic)"
   ]
  },
  {
   "cell_type": "markdown",
   "id": "b73a975b-8f4e-47a7-8f06-37fb4ccfaaf5",
   "metadata": {},
   "source": [
    "---"
   ]
  },
  {
   "cell_type": "code",
   "execution_count": 2,
   "id": "11a5a3c6-9fb4-49ec-becd-faef39568608",
   "metadata": {},
   "outputs": [],
   "source": [
    "# 1. 리스트 데이터 생성\n",
    "my_li = [1, 5, 4, 6, 111, 111, 10, 45, 3, 2]"
   ]
  },
  {
   "cell_type": "code",
   "execution_count": 3,
   "id": "5f8ad9c1-3627-4c73-8493-4cb6df1e2f88",
   "metadata": {
    "scrolled": true
   },
   "outputs": [
    {
     "data": {
      "text/plain": [
       "10"
      ]
     },
     "execution_count": 3,
     "metadata": {},
     "output_type": "execute_result"
    }
   ],
   "source": [
    "# 2. 리스트 길이 확인\n",
    "len(my_li)"
   ]
  },
  {
   "cell_type": "code",
   "execution_count": 4,
   "id": "79bba962-230d-4f9d-98aa-e1cfb2e2032b",
   "metadata": {},
   "outputs": [],
   "source": [
    "# 3. 리스트에 값 추가\n",
    "# append()\n",
    "\n",
    "my_li.append(111)"
   ]
  },
  {
   "cell_type": "code",
   "execution_count": 5,
   "id": "8e9ce6b6-0cd6-45a2-8725-8676635241e8",
   "metadata": {},
   "outputs": [
    {
     "name": "stdout",
     "output_type": "stream",
     "text": [
      "[1, 5, 4, 6, 111, 111, 10, 45, 3, 2, 111]\n"
     ]
    }
   ],
   "source": [
    "print(my_li)"
   ]
  },
  {
   "cell_type": "code",
   "execution_count": 6,
   "id": "cd12fc36-3d4d-46db-9031-3fac79735c7c",
   "metadata": {},
   "outputs": [
    {
     "data": {
      "text/plain": [
       "11"
      ]
     },
     "execution_count": 6,
     "metadata": {},
     "output_type": "execute_result"
    }
   ],
   "source": [
    "len(my_li)"
   ]
  },
  {
   "cell_type": "code",
   "execution_count": 7,
   "id": "37c8e85f-9b86-424a-83e2-2ed561e7b048",
   "metadata": {},
   "outputs": [],
   "source": [
    "# 4. 데이터 2개 이상 추가\n",
    "my_li.append([112, 113])"
   ]
  },
  {
   "cell_type": "code",
   "execution_count": 8,
   "id": "545c6d8e-b12c-46d3-b4d6-e48120901410",
   "metadata": {},
   "outputs": [
    {
     "name": "stdout",
     "output_type": "stream",
     "text": [
      "[1, 5, 4, 6, 111, 111, 10, 45, 3, 2, 111, [112, 113]]\n"
     ]
    }
   ],
   "source": [
    "print(my_li)"
   ]
  },
  {
   "cell_type": "code",
   "execution_count": 9,
   "id": "fcd85a7d-2c1f-4e09-9617-363fe4b0b087",
   "metadata": {},
   "outputs": [
    {
     "name": "stdout",
     "output_type": "stream",
     "text": [
      "[1, 5, 4, 6, 111, 111, 10, 45, 3, 2, 111, [112, 113], 14, 15]\n"
     ]
    }
   ],
   "source": [
    "# extend()\n",
    "my_li.extend([14, 15])\n",
    "print(my_li)"
   ]
  },
  {
   "cell_type": "code",
   "execution_count": 10,
   "id": "001f6790-37a7-4394-b09b-780adeb6640c",
   "metadata": {},
   "outputs": [],
   "source": [
    "# insert()\n",
    "my_li.insert(1, 10)"
   ]
  },
  {
   "cell_type": "code",
   "execution_count": 11,
   "id": "23966e91-1ef9-4bb4-843c-21d8bfe5fe05",
   "metadata": {},
   "outputs": [
    {
     "name": "stdout",
     "output_type": "stream",
     "text": [
      "[1, 10, 5, 4, 6, 111, 111, 10, 45, 3, 2, 111, [112, 113], 14, 15]\n"
     ]
    }
   ],
   "source": [
    "print(my_li)"
   ]
  },
  {
   "cell_type": "code",
   "execution_count": 12,
   "id": "2f1b7bf8-b9ef-4f9f-aba4-c995d33b14b5",
   "metadata": {},
   "outputs": [
    {
     "name": "stdout",
     "output_type": "stream",
     "text": [
      "True\n",
      "False\n"
     ]
    }
   ],
   "source": [
    "# 5. 리스트에 특정 값이 있는지 확인!\n",
    "# 'value' in list \n",
    "print(10 in my_li)\n",
    "print(999 in my_li)"
   ]
  },
  {
   "cell_type": "code",
   "execution_count": 13,
   "id": "3dbb5b3c-bf87-457f-8a92-6cf823f479b5",
   "metadata": {},
   "outputs": [],
   "source": [
    "# 6. 리스트에서 특정 값 제거\n",
    "# remove()\n",
    "my_li.remove(45)"
   ]
  },
  {
   "cell_type": "code",
   "execution_count": 14,
   "id": "ef0366d3-bd9a-46e3-9b19-db7a6b15ecf4",
   "metadata": {},
   "outputs": [
    {
     "name": "stdout",
     "output_type": "stream",
     "text": [
      "[1, 10, 5, 4, 6, 111, 111, 10, 3, 2, 111, [112, 113], 14, 15]\n"
     ]
    }
   ],
   "source": [
    "print(my_li)"
   ]
  },
  {
   "cell_type": "code",
   "execution_count": 15,
   "id": "4842985b-e19a-4875-ae72-9db9c02d9cef",
   "metadata": {},
   "outputs": [
    {
     "ename": "ValueError",
     "evalue": "list.remove(x): x not in list",
     "output_type": "error",
     "traceback": [
      "\u001b[1;31m---------------------------------------------------------------------------\u001b[0m",
      "\u001b[1;31mValueError\u001b[0m                                Traceback (most recent call last)",
      "Cell \u001b[1;32mIn[15], line 1\u001b[0m\n\u001b[1;32m----> 1\u001b[0m my_li\u001b[38;5;241m.\u001b[39mremove([\u001b[38;5;241m112\u001b[39m])\n",
      "\u001b[1;31mValueError\u001b[0m: list.remove(x): x not in list"
     ]
    }
   ],
   "source": [
    "my_li.remove([112])"
   ]
  },
  {
   "cell_type": "code",
   "execution_count": 16,
   "id": "677d340a-e153-4b38-bb47-fd21c1c3a8ef",
   "metadata": {},
   "outputs": [],
   "source": [
    "# 인덱싱 작업을 통해 112 데이터를 삭제\n",
    "my_li[-3].remove(112)"
   ]
  },
  {
   "cell_type": "code",
   "execution_count": 17,
   "id": "12625306-8eaa-4f95-b2b9-8117c8eb300f",
   "metadata": {},
   "outputs": [
    {
     "name": "stdout",
     "output_type": "stream",
     "text": [
      "[1, 10, 5, 4, 6, 111, 111, 10, 3, 2, 111, [113], 14, 15]\n"
     ]
    }
   ],
   "source": [
    "print(my_li)"
   ]
  },
  {
   "cell_type": "code",
   "execution_count": 18,
   "id": "3e2bd7f5-fedb-4202-a982-7a511ba68961",
   "metadata": {},
   "outputs": [],
   "source": [
    "my_li.remove([113])"
   ]
  },
  {
   "cell_type": "code",
   "execution_count": 19,
   "id": "424839ff-d12b-4fe3-bdd5-242e0134b4f1",
   "metadata": {},
   "outputs": [
    {
     "name": "stdout",
     "output_type": "stream",
     "text": [
      "[1, 10, 5, 4, 6, 111, 111, 10, 3, 2, 111, 14, 15]\n"
     ]
    }
   ],
   "source": [
    "print(my_li)"
   ]
  },
  {
   "cell_type": "code",
   "execution_count": 20,
   "id": "4e498df0-1077-4f8f-aa98-6382902f0974",
   "metadata": {},
   "outputs": [
    {
     "data": {
      "text/plain": [
       "3"
      ]
     },
     "execution_count": 20,
     "metadata": {},
     "output_type": "execute_result"
    }
   ],
   "source": [
    "# 7. 리스트에서 특정 값 갯수 세기\n",
    "# count() \n",
    "\n",
    "my_li.count(111)"
   ]
  },
  {
   "cell_type": "code",
   "execution_count": 21,
   "id": "173f3c18-75d9-4938-8598-c32696d8c16e",
   "metadata": {},
   "outputs": [
    {
     "data": {
      "text/plain": [
       "1"
      ]
     },
     "execution_count": 21,
     "metadata": {},
     "output_type": "execute_result"
    }
   ],
   "source": [
    "my_li.count(5)"
   ]
  },
  {
   "cell_type": "code",
   "execution_count": 22,
   "id": "bcbc27ea-9233-443a-95b5-cfadebd67408",
   "metadata": {},
   "outputs": [
    {
     "data": {
      "text/plain": [
       "1"
      ]
     },
     "execution_count": 22,
     "metadata": {},
     "output_type": "execute_result"
    }
   ],
   "source": [
    "my_li.count(6)"
   ]
  },
  {
   "cell_type": "code",
   "execution_count": 23,
   "id": "9d3fdaaf-a9ca-4ca9-9ac1-74c3e187db23",
   "metadata": {
    "scrolled": true
   },
   "outputs": [
    {
     "data": {
      "text/plain": [
       "0"
      ]
     },
     "execution_count": 23,
     "metadata": {},
     "output_type": "execute_result"
    }
   ],
   "source": [
    "my_li.count(999)"
   ]
  },
  {
   "cell_type": "code",
   "execution_count": 24,
   "id": "1134e086-14cb-4db0-a988-1d081989f1f5",
   "metadata": {},
   "outputs": [],
   "source": [
    "# 8. 리스트 오름차순 정렬\n",
    "# sort()"
   ]
  },
  {
   "cell_type": "code",
   "execution_count": 25,
   "id": "2cff250b-7738-4776-afb6-f3f8505ca052",
   "metadata": {},
   "outputs": [
    {
     "name": "stdout",
     "output_type": "stream",
     "text": [
      "[1, 2, 3, 4, 5, 6, 10, 10, 14, 15, 111, 111, 111]\n"
     ]
    }
   ],
   "source": [
    "my_li.sort()\n",
    "print(my_li)"
   ]
  },
  {
   "cell_type": "code",
   "execution_count": 26,
   "id": "89279a42-3cea-4e3e-8158-21ca3d34b91b",
   "metadata": {},
   "outputs": [],
   "source": [
    "# 9. 리스트 데이터 복사\n",
    "# 얕은복사와 깊은복사"
   ]
  },
  {
   "cell_type": "markdown",
   "id": "ef29f8a0-4f94-4e8d-a01b-173f606cbaa5",
   "metadata": {},
   "source": [
    "- 얕은복사: 원본 데이터에 영향을 줍니다\n",
    "- 깊은복사: 원본 데이터에 영향을 주지 않습니다"
   ]
  },
  {
   "cell_type": "code",
   "execution_count": 27,
   "id": "12a9d460-29d1-484d-9320-aaf07e040e5f",
   "metadata": {},
   "outputs": [
    {
     "name": "stdout",
     "output_type": "stream",
     "text": [
      "[4, 1, 10]\n",
      "[4, 1, 10]\n"
     ]
    }
   ],
   "source": [
    "li1 = [4, 1, 10]\n",
    "li2 = li1\n",
    "\n",
    "print(li1)\n",
    "print(li2)"
   ]
  },
  {
   "cell_type": "code",
   "execution_count": 28,
   "id": "5ddbfcb0-a4c8-4c85-a308-e388d874b461",
   "metadata": {},
   "outputs": [],
   "source": [
    "# li2 리스트 데이터 정렬\n",
    "li2.sort()"
   ]
  },
  {
   "cell_type": "code",
   "execution_count": 29,
   "id": "472ebb91-cb8e-43dc-aa2e-2bc909a4c478",
   "metadata": {},
   "outputs": [
    {
     "name": "stdout",
     "output_type": "stream",
     "text": [
      "[1, 4, 10]\n"
     ]
    }
   ],
   "source": [
    "print(li2)"
   ]
  },
  {
   "cell_type": "code",
   "execution_count": 30,
   "id": "13bd4702-b351-40be-8d67-7867c6dde87d",
   "metadata": {},
   "outputs": [
    {
     "name": "stdout",
     "output_type": "stream",
     "text": [
      "[1, 4, 10]\n"
     ]
    }
   ],
   "source": [
    "print(li1)"
   ]
  },
  {
   "cell_type": "code",
   "execution_count": 31,
   "id": "add0136c-4d1e-43dc-b395-a4b425e1f2a7",
   "metadata": {},
   "outputs": [
    {
     "name": "stdout",
     "output_type": "stream",
     "text": [
      "[4, 1, 10]\n",
      "[4, 1, 10]\n"
     ]
    }
   ],
   "source": [
    "# 깊은 복사 \n",
    "import copy \n",
    "\n",
    "li1 = [4, 1, 10]\n",
    "li2 = copy.deepcopy(li1)  # 깊은복사\n",
    "\n",
    "print(li1)\n",
    "print(li2)"
   ]
  },
  {
   "cell_type": "code",
   "execution_count": 32,
   "id": "47324ddd-4cf7-4ee6-ac21-1bad1c06616d",
   "metadata": {},
   "outputs": [
    {
     "name": "stdout",
     "output_type": "stream",
     "text": [
      "[1, 4, 10]\n"
     ]
    }
   ],
   "source": [
    "li2.sort()\n",
    "print(li2)"
   ]
  },
  {
   "cell_type": "code",
   "execution_count": 33,
   "id": "52c670cb-c367-4c6f-a67b-1b8c49ffd987",
   "metadata": {},
   "outputs": [
    {
     "name": "stdout",
     "output_type": "stream",
     "text": [
      "[4, 1, 10]\n"
     ]
    }
   ],
   "source": [
    "print(li1)"
   ]
  },
  {
   "cell_type": "code",
   "execution_count": 34,
   "id": "8780ff7c-09c1-4de7-a635-59220c1077bd",
   "metadata": {},
   "outputs": [],
   "source": [
    "# 10. pop()\n",
    "# 가장 마지막 데이터를 출력하고, \n",
    "# 출력한 데이터를 리스트에서 삭제"
   ]
  },
  {
   "cell_type": "code",
   "execution_count": 35,
   "id": "7a89d1ce-1400-4ea9-bd54-e068a8b0ba08",
   "metadata": {},
   "outputs": [
    {
     "data": {
      "text/plain": [
       "[1, 2, 3, 4, 5, 6, 10, 10, 14, 15, 111, 111, 111]"
      ]
     },
     "execution_count": 35,
     "metadata": {},
     "output_type": "execute_result"
    }
   ],
   "source": [
    "my_li"
   ]
  },
  {
   "cell_type": "code",
   "execution_count": 36,
   "id": "0fa74e0d-940d-4c48-998f-cfdd264449a5",
   "metadata": {},
   "outputs": [
    {
     "data": {
      "text/plain": [
       "111"
      ]
     },
     "execution_count": 36,
     "metadata": {},
     "output_type": "execute_result"
    }
   ],
   "source": [
    "my_li.pop()  # ctrl(cmd) + enter"
   ]
  },
  {
   "cell_type": "code",
   "execution_count": 37,
   "id": "9232e518",
   "metadata": {},
   "outputs": [
    {
     "data": {
      "text/plain": [
       "[1, 2, 3, 4, 5, 6, 10, 10, 14, 15, 111, 111]"
      ]
     },
     "execution_count": 37,
     "metadata": {},
     "output_type": "execute_result"
    }
   ],
   "source": [
    "my_li"
   ]
  },
  {
   "cell_type": "code",
   "execution_count": 38,
   "id": "a601d6f3",
   "metadata": {},
   "outputs": [
    {
     "data": {
      "text/plain": [
       "2"
      ]
     },
     "execution_count": 38,
     "metadata": {},
     "output_type": "execute_result"
    }
   ],
   "source": [
    "# 11. index()\n",
    "\n",
    "my_li.index(3)"
   ]
  },
  {
   "cell_type": "code",
   "execution_count": 106,
   "id": "5db6be12-06a1-4ca6-8801-938d2a702afb",
   "metadata": {},
   "outputs": [
    {
     "name": "stdout",
     "output_type": "stream",
     "text": [
      "[1, 2, 3, 7, 8, 9]\n"
     ]
    }
   ],
   "source": [
    "# 12. 리스트끼리 연산\n",
    "\n",
    "a_li = [1, 2, 3]\n",
    "b_li = [7, 8, 9]\n",
    "\n",
    "print(a_li + b_li)"
   ]
  },
  {
   "cell_type": "code",
   "execution_count": 107,
   "id": "0f751461-2d6e-4f19-896f-a59ade6b9027",
   "metadata": {},
   "outputs": [],
   "source": [
    "# 13. 리스트에는 여러 데이터 타입을 할당 할 수 있습니다\n",
    "\n",
    "li = [1, 2, \"3\", [5, 6], (7, 8), {\"key\":\"value\"}, True, False]"
   ]
  },
  {
   "cell_type": "code",
   "execution_count": 109,
   "id": "3b2fc336-bf43-4e46-9e30-b3be9a8961e1",
   "metadata": {},
   "outputs": [
    {
     "name": "stdout",
     "output_type": "stream",
     "text": [
      "[1, 2, '3', [5, 6], (7, 8), {'key': 'value'}, True, False]\n"
     ]
    }
   ],
   "source": [
    "print(li)"
   ]
  },
  {
   "cell_type": "code",
   "execution_count": 110,
   "id": "09f7c9e8-1e28-4c7b-9394-7774eb5302c5",
   "metadata": {},
   "outputs": [],
   "source": [
    "# 14. 인덱싱 (별표 백만개)"
   ]
  },
  {
   "cell_type": "code",
   "execution_count": 113,
   "id": "33a50237-0bcd-49c3-8a9c-613138d5523c",
   "metadata": {},
   "outputs": [
    {
     "name": "stdout",
     "output_type": "stream",
     "text": [
      "<class 'str'>\n"
     ]
    }
   ],
   "source": [
    "print(type(li[2]))"
   ]
  },
  {
   "cell_type": "code",
   "execution_count": 116,
   "id": "841cd95f-6d2d-4d5c-bbf9-858833465d39",
   "metadata": {},
   "outputs": [
    {
     "data": {
      "text/plain": [
       "([5, 6], list)"
      ]
     },
     "execution_count": 116,
     "metadata": {},
     "output_type": "execute_result"
    }
   ],
   "source": [
    "li[3], type(li[3])"
   ]
  },
  {
   "cell_type": "code",
   "execution_count": 117,
   "id": "71d03cdd-4078-4c3f-bd0d-af9244e6aec2",
   "metadata": {},
   "outputs": [
    {
     "data": {
      "text/plain": [
       "[[5, 6], (7, 8)]"
      ]
     },
     "execution_count": 117,
     "metadata": {},
     "output_type": "execute_result"
    }
   ],
   "source": [
    "li[3:5]"
   ]
  },
  {
   "cell_type": "code",
   "execution_count": 118,
   "id": "fddf5633-6920-419f-9d03-21f8d5a18cb3",
   "metadata": {},
   "outputs": [
    {
     "data": {
      "text/plain": [
       "[2, '3', [5, 6], (7, 8), {'key': 'value'}]"
      ]
     },
     "execution_count": 118,
     "metadata": {},
     "output_type": "execute_result"
    }
   ],
   "source": [
    "li[1:6]"
   ]
  },
  {
   "cell_type": "code",
   "execution_count": 119,
   "id": "befe6b63-895e-45ca-9e7f-a46af435cfcd",
   "metadata": {},
   "outputs": [
    {
     "data": {
      "text/plain": [
       "[2, [5, 6], {'key': 'value'}]"
      ]
     },
     "execution_count": 119,
     "metadata": {},
     "output_type": "execute_result"
    }
   ],
   "source": [
    "li[1:6:2]"
   ]
  },
  {
   "cell_type": "markdown",
   "id": "2be1627f-6137-4d22-baea-32df8b10b112",
   "metadata": {},
   "source": [
    "---"
   ]
  },
  {
   "cell_type": "markdown",
   "id": "519e4b5b-48e3-466d-b428-366610799513",
   "metadata": {},
   "source": [
    "## 리스트 인덱싱과 슬라이싱 연습!\n",
    "- 인덱싱(indexing)\n",
    "    - 단일 요소를 선택할 때 인덱싱\n",
    "    - 리스트에서 특정 위치에 있는 요소에 접근하는 것을 의미\n",
    "    - 인덱스는 0부터 시작하며, list[]를 사용해서 특정 위치 요소를 가져옵니다\n",
    "    - 예: my_li[2] 는 my_li의 세 번째 요소를 가져옵니다.\n",
    "    - 요소(element): 리스트가 가지고 있는 데이터 하나 하나를 의미\n",
    "- 슬라이싱(slicing)\n",
    "    - 연속된 범위의 요소를 선택하기 위해 사용\n",
    "    - list[start:end:strid]\n",
    "    - start 인덱스는 값이 포함되고, end 인덱스는 값이 포함되지 않습니다\n",
    "    - 예: my_li[1:4] 는 my_li의 두 번째 요소부터 네 번째 요소까지를 가져옵니다"
   ]
  },
  {
   "cell_type": "code",
   "execution_count": 2,
   "id": "74119938-b0a6-4987-93fa-b1aa6007cfdc",
   "metadata": {},
   "outputs": [],
   "source": [
    "my_list = [10, 20, 30, 40, 50, 60, 70, 80, 90, 100]\n",
    "my_str = \"Hello, World!\""
   ]
  },
  {
   "cell_type": "code",
   "execution_count": 122,
   "id": "02238b22-358c-4f3e-b789-1b2e36ee0912",
   "metadata": {},
   "outputs": [
    {
     "data": {
      "text/plain": [
       "20"
      ]
     },
     "execution_count": 122,
     "metadata": {},
     "output_type": "execute_result"
    }
   ],
   "source": [
    "my_list[1]"
   ]
  },
  {
   "cell_type": "code",
   "execution_count": 124,
   "id": "91b92526-6331-4136-b432-fabd5c6a0ca4",
   "metadata": {},
   "outputs": [
    {
     "data": {
      "text/plain": [
       "[10, 20, 30]"
      ]
     },
     "execution_count": 124,
     "metadata": {},
     "output_type": "execute_result"
    }
   ],
   "source": [
    "my_list[0:3]"
   ]
  },
  {
   "cell_type": "code",
   "execution_count": 128,
   "id": "af0f8318-dc09-4851-bdec-e211f49f26c6",
   "metadata": {},
   "outputs": [
    {
     "data": {
      "text/plain": [
       "[10, 30, 50, 70, 90]"
      ]
     },
     "execution_count": 128,
     "metadata": {},
     "output_type": "execute_result"
    }
   ],
   "source": [
    "my_list[::2]"
   ]
  },
  {
   "cell_type": "code",
   "execution_count": 131,
   "id": "b496dae8-d0c3-428c-a0fa-d550abb8a086",
   "metadata": {},
   "outputs": [
    {
     "data": {
      "text/plain": [
       "[10, 20, 30, 40, 50, 60, 70, 80, 90, 100]"
      ]
     },
     "execution_count": 131,
     "metadata": {},
     "output_type": "execute_result"
    }
   ],
   "source": [
    "# mission 1 \n",
    "# 90 값을 출력해주세요\n",
    "my_list"
   ]
  },
  {
   "cell_type": "code",
   "execution_count": 133,
   "id": "81ca9f33-bf21-4f0c-a4d4-0781af518938",
   "metadata": {},
   "outputs": [
    {
     "data": {
      "text/plain": [
       "90"
      ]
     },
     "execution_count": 133,
     "metadata": {},
     "output_type": "execute_result"
    }
   ],
   "source": [
    "my_list[8]"
   ]
  },
  {
   "cell_type": "code",
   "execution_count": 134,
   "id": "3f083b17-8a82-478f-a690-a9a128edcfa2",
   "metadata": {},
   "outputs": [
    {
     "data": {
      "text/plain": [
       "90"
      ]
     },
     "execution_count": 134,
     "metadata": {},
     "output_type": "execute_result"
    }
   ],
   "source": [
    "my_list[-2]"
   ]
  },
  {
   "cell_type": "code",
   "execution_count": 136,
   "id": "1566b199-9081-4cba-a63f-8e6d0b94dc34",
   "metadata": {},
   "outputs": [
    {
     "data": {
      "text/plain": [
       "'Hello, World!'"
      ]
     },
     "execution_count": 136,
     "metadata": {},
     "output_type": "execute_result"
    }
   ],
   "source": [
    "# 문자열에서 세 번째 문자에 접근하기\n",
    "my_str"
   ]
  },
  {
   "cell_type": "code",
   "execution_count": 138,
   "id": "84a7138a-b1aa-4ace-9d63-82f0dade0666",
   "metadata": {},
   "outputs": [
    {
     "data": {
      "text/plain": [
       "'l'"
      ]
     },
     "execution_count": 138,
     "metadata": {},
     "output_type": "execute_result"
    }
   ],
   "source": [
    "my_str[3]"
   ]
  },
  {
   "cell_type": "code",
   "execution_count": 139,
   "id": "b9bbc553-e926-465a-a6c4-6fc9aa7ae621",
   "metadata": {},
   "outputs": [
    {
     "data": {
      "text/plain": [
       "'l'"
      ]
     },
     "execution_count": 139,
     "metadata": {},
     "output_type": "execute_result"
    }
   ],
   "source": [
    "my_str[2]"
   ]
  },
  {
   "cell_type": "code",
   "execution_count": 140,
   "id": "a457291e-270d-45a2-8a64-b0487bdaa0bb",
   "metadata": {},
   "outputs": [],
   "source": [
    "# 1. 숫자 리스트에서 인덱스 2부터 6까지 출력하기"
   ]
  },
  {
   "cell_type": "code",
   "execution_count": 141,
   "id": "8b12ef3f-ae47-45a4-be9c-8452e5910264",
   "metadata": {},
   "outputs": [
    {
     "data": {
      "text/plain": [
       "[10, 20, 30, 40, 50, 60, 70, 80, 90, 100]"
      ]
     },
     "execution_count": 141,
     "metadata": {},
     "output_type": "execute_result"
    }
   ],
   "source": [
    "my_list"
   ]
  },
  {
   "cell_type": "code",
   "execution_count": 142,
   "id": "e4393ac9-ce41-4d4e-a640-e54f21b2123a",
   "metadata": {},
   "outputs": [
    {
     "data": {
      "text/plain": [
       "[30, 40, 50, 60]"
      ]
     },
     "execution_count": 142,
     "metadata": {},
     "output_type": "execute_result"
    }
   ],
   "source": [
    "my_list[2:6]"
   ]
  },
  {
   "cell_type": "code",
   "execution_count": 143,
   "id": "726f38f2-6178-4b9e-b634-5af08a0cdf82",
   "metadata": {},
   "outputs": [
    {
     "data": {
      "text/plain": [
       "[30, 40, 50, 60, 70]"
      ]
     },
     "execution_count": 143,
     "metadata": {},
     "output_type": "execute_result"
    }
   ],
   "source": [
    "my_list[2:7]"
   ]
  },
  {
   "cell_type": "code",
   "execution_count": 144,
   "id": "44e6ebbd-3da1-42ac-8702-9dae81b76880",
   "metadata": {},
   "outputs": [
    {
     "name": "stdout",
     "output_type": "stream",
     "text": [
      "Hello, World!\n"
     ]
    }
   ],
   "source": [
    "print(my_str)"
   ]
  },
  {
   "cell_type": "code",
   "execution_count": 145,
   "id": "547b1770-2e3a-4c05-9bad-bc1a4e95304c",
   "metadata": {},
   "outputs": [
    {
     "data": {
      "text/plain": [
       "'Hello, World!'"
      ]
     },
     "execution_count": 145,
     "metadata": {},
     "output_type": "execute_result"
    }
   ],
   "source": [
    "my_str"
   ]
  },
  {
   "cell_type": "code",
   "execution_count": 5,
   "id": "e26b7ec3-2c77-4d91-85a8-86566f6e44a1",
   "metadata": {},
   "outputs": [],
   "source": [
    "# 인덱싱을 이용한 리스트 데이터 값 수정\n",
    "my_list[2] = 300"
   ]
  },
  {
   "cell_type": "code",
   "execution_count": 6,
   "id": "8aae295c-dd49-45de-996c-a8971354f852",
   "metadata": {},
   "outputs": [
    {
     "data": {
      "text/plain": [
       "[10, 20, 300, 40, 50, 60, 70, 80, 90, 100]"
      ]
     },
     "execution_count": 6,
     "metadata": {},
     "output_type": "execute_result"
    }
   ],
   "source": [
    "my_list"
   ]
  },
  {
   "cell_type": "markdown",
   "id": "1c59984f",
   "metadata": {},
   "source": [
    "## 5-3. tuple ()\n",
    "- 리스트와 동일한 성격\n",
    "- 튜플은 데이터 수정이 불가능\n",
    "- 튜플은 리스트보다 같은 데이터를 가졌을 때 메모리 공간을 더 적게 사용"
   ]
  },
  {
   "cell_type": "code",
   "execution_count": 11,
   "id": "243e3c74",
   "metadata": {},
   "outputs": [],
   "source": [
    "#tuple\n",
    "tp1 = (1, 2, 3)\n",
    "tp2 = (4, 5, 6)\n",
    "tp3 = 7, 8, 9"
   ]
  },
  {
   "cell_type": "code",
   "execution_count": 12,
   "id": "189e0857",
   "metadata": {},
   "outputs": [
    {
     "name": "stdout",
     "output_type": "stream",
     "text": [
      "(1, 2, 3)\n"
     ]
    },
    {
     "data": {
      "text/plain": [
       "(None, tuple)"
      ]
     },
     "execution_count": 12,
     "metadata": {},
     "output_type": "execute_result"
    }
   ],
   "source": [
    "print(tp1), type(tp2)"
   ]
  },
  {
   "cell_type": "code",
   "execution_count": 13,
   "id": "bec29ded",
   "metadata": {},
   "outputs": [
    {
     "name": "stdout",
     "output_type": "stream",
     "text": [
      "(7, 8, 9)\n"
     ]
    },
    {
     "data": {
      "text/plain": [
       "(None, tuple)"
      ]
     },
     "execution_count": 13,
     "metadata": {},
     "output_type": "execute_result"
    }
   ],
   "source": [
    "print(tp3), type(tp3)"
   ]
  },
  {
   "cell_type": "code",
   "execution_count": 22,
   "id": "db41f2b0",
   "metadata": {},
   "outputs": [],
   "source": [
    "# 리스트와 튜플의 저장공간 차이 비교\n",
    "\n",
    "import sys\n",
    "\n",
    "li = [1, 2, 3]\n",
    "tp = (1, 2, 3)"
   ]
  },
  {
   "cell_type": "code",
   "execution_count": 24,
   "id": "7187c7fe",
   "metadata": {},
   "outputs": [
    {
     "name": "stdout",
     "output_type": "stream",
     "text": [
      "88\n",
      "64\n"
     ]
    }
   ],
   "source": [
    "print(sys.getsizeof(li))\n",
    "print(sys.getsizeof(tp))"
   ]
  },
  {
   "cell_type": "code",
   "execution_count": 25,
   "id": "a7944d62",
   "metadata": {},
   "outputs": [],
   "source": [
    "li[1] = 10"
   ]
  },
  {
   "cell_type": "code",
   "execution_count": 26,
   "id": "6ec9b307",
   "metadata": {},
   "outputs": [
    {
     "name": "stdout",
     "output_type": "stream",
     "text": [
      "[1, 10, 3]\n"
     ]
    }
   ],
   "source": [
    "print(li)"
   ]
  },
  {
   "cell_type": "code",
   "execution_count": 27,
   "id": "423d3660",
   "metadata": {},
   "outputs": [
    {
     "ename": "TypeError",
     "evalue": "'type' object does not support item assignment",
     "output_type": "error",
     "traceback": [
      "\u001b[1;31m---------------------------------------------------------------------------\u001b[0m",
      "\u001b[1;31mTypeError\u001b[0m                                 Traceback (most recent call last)",
      "Cell \u001b[1;32mIn[27], line 1\u001b[0m\n\u001b[1;32m----> 1\u001b[0m \u001b[38;5;28mtuple\u001b[39m[\u001b[38;5;241m1\u001b[39m] \u001b[38;5;241m=\u001b[39m \u001b[38;5;241m10\u001b[39m\n",
      "\u001b[1;31mTypeError\u001b[0m: 'type' object does not support item assignment"
     ]
    }
   ],
   "source": [
    "tuple[1] = 10"
   ]
  },
  {
   "cell_type": "markdown",
   "id": "42525b35",
   "metadata": {},
   "source": [
    "## 5-4. dictionary{}\n",
    "- 순서가 없고 {\"key\":\"value\"}로 구성되어 있는 데이터 타입"
   ]
  },
  {
   "cell_type": "code",
   "execution_count": 28,
   "id": "be97ab41",
   "metadata": {},
   "outputs": [],
   "source": [
    "dic = {1:\"one\", \"two\":2, \"three\":[1, 2, 3], \"four\":\"python\", \"five\":(1, 2, 3)}"
   ]
  },
  {
   "cell_type": "code",
   "execution_count": 29,
   "id": "e6ae70bd",
   "metadata": {},
   "outputs": [
    {
     "name": "stdout",
     "output_type": "stream",
     "text": [
      "{1: 'one', 'two': 2, 'three': [1, 2, 3], 'four': 'python', 'five': (1, 2, 3)}\n"
     ]
    }
   ],
   "source": [
    "print(dic)"
   ]
  },
  {
   "cell_type": "code",
   "execution_count": 36,
   "id": "66510664",
   "metadata": {},
   "outputs": [
    {
     "name": "stdout",
     "output_type": "stream",
     "text": [
      "one\n"
     ]
    },
    {
     "ename": "KeyError",
     "evalue": "0",
     "output_type": "error",
     "traceback": [
      "\u001b[1;31m---------------------------------------------------------------------------\u001b[0m",
      "\u001b[1;31mKeyError\u001b[0m                                  Traceback (most recent call last)",
      "Cell \u001b[1;32mIn[36], line 3\u001b[0m\n\u001b[0;32m      1\u001b[0m \u001b[38;5;66;03m# 인덱싱이 아닌 key 값으로 접근\u001b[39;00m\n\u001b[0;32m      2\u001b[0m \u001b[38;5;28mprint\u001b[39m(dic[\u001b[38;5;241m1\u001b[39m])\n\u001b[1;32m----> 3\u001b[0m \u001b[38;5;28mprint\u001b[39m(dic[\u001b[38;5;241m0\u001b[39m])\n",
      "\u001b[1;31mKeyError\u001b[0m: 0"
     ]
    }
   ],
   "source": [
    "# 인덱싱이 아닌 key 값으로 접근\n",
    "print(dic[1])\n",
    "print(dic[0])"
   ]
  },
  {
   "cell_type": "code",
   "execution_count": 40,
   "id": "e9e52fcf",
   "metadata": {},
   "outputs": [
    {
     "data": {
      "text/plain": [
       "2"
      ]
     },
     "execution_count": 40,
     "metadata": {},
     "output_type": "execute_result"
    }
   ],
   "source": [
    "dic[\"two\"]"
   ]
  },
  {
   "cell_type": "code",
   "execution_count": 45,
   "id": "1f133bce",
   "metadata": {},
   "outputs": [],
   "source": [
    "# key로 value에 접근해서 value를 변경\n",
    "# key는 수정이 불가능\n",
    "\n",
    "dic[\"two\"] = 123"
   ]
  },
  {
   "cell_type": "code",
   "execution_count": 43,
   "id": "5f3d11d8",
   "metadata": {},
   "outputs": [
    {
     "name": "stdout",
     "output_type": "stream",
     "text": [
      "{1: 'one', 'two': 123, 'three': [1, 2, 3], 'four': 'python', 'five': (1, 2, 3)}\n"
     ]
    }
   ],
   "source": [
    "print(dic)"
   ]
  },
  {
   "cell_type": "code",
   "execution_count": 47,
   "id": "99bc9a02",
   "metadata": {},
   "outputs": [
    {
     "ename": "TypeError",
     "evalue": "unhashable type: 'list'",
     "output_type": "error",
     "traceback": [
      "\u001b[1;31m---------------------------------------------------------------------------\u001b[0m",
      "\u001b[1;31mTypeError\u001b[0m                                 Traceback (most recent call last)",
      "Cell \u001b[1;32mIn[47], line 3\u001b[0m\n\u001b[0;32m      1\u001b[0m \u001b[38;5;66;03m# key 값에는 리스트 불가 단일 데이터\u001b[39;00m\n\u001b[1;32m----> 3\u001b[0m {[\u001b[38;5;241m1\u001b[39m, \u001b[38;5;241m2\u001b[39m, \u001b[38;5;241m3\u001b[39m]: \u001b[38;5;124m\"\u001b[39m\u001b[38;5;124mvalue\u001b[39m\u001b[38;5;124m\"\u001b[39m}\n",
      "\u001b[1;31mTypeError\u001b[0m: unhashable type: 'list'"
     ]
    }
   ],
   "source": [
    "# key 값에는 리스트 불가 단일 데이터\n",
    "\n",
    "{[1, 2, 3]: \"value\"}"
   ]
  },
  {
   "cell_type": "code",
   "execution_count": 48,
   "id": "322ca50a",
   "metadata": {},
   "outputs": [],
   "source": [
    "# 도시: seoul, daegu, busan\n",
    "# 인구: 500, 300, 200"
   ]
  },
  {
   "cell_type": "code",
   "execution_count": 49,
   "id": "ea976313",
   "metadata": {},
   "outputs": [
    {
     "name": "stdout",
     "output_type": "stream",
     "text": [
      "{'seoul': 500, 'daegu': 300, 'busan': 200}\n"
     ]
    }
   ],
   "source": [
    "# dictionary\n",
    "data = {\"seoul\":500, \"daegu\":300, \"busan\": 200}\n",
    "print(data)"
   ]
  },
  {
   "cell_type": "code",
   "execution_count": 50,
   "id": "3634c0f9",
   "metadata": {},
   "outputs": [],
   "source": [
    "#list\n",
    "city = [\"seoul\", \"daegu\", \"busan\"]\n",
    "pop = [500, 300, 200]"
   ]
  },
  {
   "cell_type": "code",
   "execution_count": 53,
   "id": "f772c72d",
   "metadata": {},
   "outputs": [
    {
     "name": "stdout",
     "output_type": "stream",
     "text": [
      "{'seoul': 500, 'daegu': 300, 'busan': 200}\n"
     ]
    }
   ],
   "source": [
    "# zip(list1, list2)\n",
    "data = dict(zip(city, pop))\n",
    "print(data)"
   ]
  },
  {
   "cell_type": "markdown",
   "id": "19fe893a",
   "metadata": {},
   "source": [
    "## 6. 형변환\n",
    "- 데이터 타입 변화\n",
    "- int, float, str, bool, list, tuple, dict"
   ]
  },
  {
   "cell_type": "code",
   "execution_count": 55,
   "id": "a561d7c9",
   "metadata": {},
   "outputs": [],
   "source": [
    "a = 1\n",
    "b = \"2\""
   ]
  },
  {
   "cell_type": "code",
   "execution_count": 56,
   "id": "fa1df524",
   "metadata": {},
   "outputs": [
    {
     "ename": "TypeError",
     "evalue": "unsupported operand type(s) for +: 'int' and 'str'",
     "output_type": "error",
     "traceback": [
      "\u001b[1;31m---------------------------------------------------------------------------\u001b[0m",
      "\u001b[1;31mTypeError\u001b[0m                                 Traceback (most recent call last)",
      "Cell \u001b[1;32mIn[56], line 1\u001b[0m\n\u001b[1;32m----> 1\u001b[0m a\u001b[38;5;241m+\u001b[39mb\n",
      "\u001b[1;31mTypeError\u001b[0m: unsupported operand type(s) for +: 'int' and 'str'"
     ]
    }
   ],
   "source": [
    "a + b"
   ]
  },
  {
   "cell_type": "code",
   "execution_count": 59,
   "id": "e7a076e6",
   "metadata": {},
   "outputs": [
    {
     "data": {
      "text/plain": [
       "3"
      ]
     },
     "execution_count": 59,
     "metadata": {},
     "output_type": "execute_result"
    }
   ],
   "source": [
    "a + int(b)"
   ]
  },
  {
   "cell_type": "code",
   "execution_count": 66,
   "id": "d3c6735d",
   "metadata": {},
   "outputs": [
    {
     "name": "stdout",
     "output_type": "stream",
     "text": [
      "3\n",
      "3.0\n",
      "3.0\n",
      "12\n",
      "<class 'str'>\n",
      "12\n",
      "<class 'int'>\n"
     ]
    }
   ],
   "source": [
    "print(int(a) + int(b))\n",
    "print(float(a) + float(b))\n",
    "print(int(a) + float(b)) # 정수 소수 연산은 소수\n",
    "print(str(a) + b)\n",
    "print(type(str(a) + b))\n",
    "print(int(str(a) + b))\n",
    "print(type(int(str(a) + b)))"
   ]
  },
  {
   "cell_type": "code",
   "execution_count": 69,
   "id": "e0fba3e7",
   "metadata": {},
   "outputs": [
    {
     "ename": "ValueError",
     "evalue": "invalid literal for int() with base 10: 'python'",
     "output_type": "error",
     "traceback": [
      "\u001b[1;31m---------------------------------------------------------------------------\u001b[0m",
      "\u001b[1;31mValueError\u001b[0m                                Traceback (most recent call last)",
      "Cell \u001b[1;32mIn[69], line 3\u001b[0m\n\u001b[0;32m      1\u001b[0m \u001b[38;5;66;03m# 형변환이 안 되는 경우\u001b[39;00m\n\u001b[0;32m      2\u001b[0m text \u001b[38;5;241m=\u001b[39m \u001b[38;5;124m\"\u001b[39m\u001b[38;5;124mpython\u001b[39m\u001b[38;5;124m\"\u001b[39m\n\u001b[1;32m----> 3\u001b[0m \u001b[38;5;28mint\u001b[39m(text)\n",
      "\u001b[1;31mValueError\u001b[0m: invalid literal for int() with base 10: 'python'"
     ]
    }
   ],
   "source": [
    "# 형변환이 안 되는 경우\n",
    "text = \"python\"\n",
    "int(text)"
   ]
  },
  {
   "cell_type": "markdown",
   "id": "d5321265",
   "metadata": {},
   "source": [
    "## 7. 연산자의 종류와 우선순위\n",
    "- 괄호: () (괄호 안의 표현식이 가장 먼저)\n",
    "- 지수 연산자: **\n",
    "- 단항 연산자: -(음수), +(양수), ~(반전)\n",
    "- 곱셈, 나눗셈, 나머지 연산자 : *, /, //, %\n",
    "- 덧셈, 뺄셈 연산자 : +, -\n",
    "- 비교 연산자: <, >, <=, >=, ==, !=\n",
    "- 논리 연산자: and, or, not\n",
    "- 멤버 연산자: in, not in\n",
    "- 항등 연산자: is, is not\n",
    "- 할당 연산자: +=, -=, *=, /=, //=, %=, **=\n",
    "- 삼항 조건 연산자: if-else"
   ]
  },
  {
   "cell_type": "code",
   "execution_count": 71,
   "id": "fcfce1d6",
   "metadata": {},
   "outputs": [],
   "source": [
    "# 산술 연산자\n",
    "a = 10\n",
    "b = 2"
   ]
  },
  {
   "cell_type": "code",
   "execution_count": 73,
   "id": "45c00d58",
   "metadata": {},
   "outputs": [
    {
     "name": "stdout",
     "output_type": "stream",
     "text": [
      "12\n",
      "8\n",
      "20\n",
      "5.0\n",
      "5\n",
      "0\n",
      "100\n"
     ]
    }
   ],
   "source": [
    "print(a + b)\n",
    "print(a - b)\n",
    "print(a * b)\n",
    "print(a / b)\n",
    "print(a // b)\n",
    "print(a % b)\n",
    "print(a ** b)"
   ]
  },
  {
   "cell_type": "code",
   "execution_count": 88,
   "id": "421c11ac",
   "metadata": {},
   "outputs": [],
   "source": [
    "# 할당 연산자\n",
    "a = 10"
   ]
  },
  {
   "cell_type": "code",
   "execution_count": 89,
   "id": "8c24627f",
   "metadata": {},
   "outputs": [],
   "source": [
    "a = a + 10"
   ]
  },
  {
   "cell_type": "code",
   "execution_count": 90,
   "id": "14ee2e90",
   "metadata": {},
   "outputs": [
    {
     "data": {
      "text/plain": [
       "20"
      ]
     },
     "execution_count": 90,
     "metadata": {},
     "output_type": "execute_result"
    }
   ],
   "source": [
    "a"
   ]
  },
  {
   "cell_type": "code",
   "execution_count": 95,
   "id": "16e7b5c1",
   "metadata": {},
   "outputs": [],
   "source": [
    "a += 10"
   ]
  },
  {
   "cell_type": "code",
   "execution_count": 96,
   "id": "7b336dba",
   "metadata": {},
   "outputs": [
    {
     "data": {
      "text/plain": [
       "10"
      ]
     },
     "execution_count": 96,
     "metadata": {},
     "output_type": "execute_result"
    }
   ],
   "source": [
    "a"
   ]
  },
  {
   "cell_type": "code",
   "execution_count": null,
   "id": "50100464",
   "metadata": {},
   "outputs": [],
   "source": [
    "a = 5\n",
    "b = 3"
   ]
  },
  {
   "cell_type": "code",
   "execution_count": 98,
   "id": "6aa7fab3",
   "metadata": {},
   "outputs": [
    {
     "name": "stdout",
     "output_type": "stream",
     "text": [
      "False\n",
      "True\n",
      "True\n",
      "False\n",
      "True\n",
      "False\n"
     ]
    }
   ],
   "source": [
    "print(a == b)\n",
    "print(a != b)\n",
    "print(a > b)\n",
    "print(a < b)\n",
    "print(a >= b)\n",
    "print(a <= b)"
   ]
  },
  {
   "cell_type": "code",
   "execution_count": 99,
   "id": "b750cf91",
   "metadata": {},
   "outputs": [],
   "source": [
    "# 논리 연산자\n",
    "x = True \n",
    "y = False"
   ]
  },
  {
   "cell_type": "code",
   "execution_count": 100,
   "id": "6fa864d8",
   "metadata": {},
   "outputs": [
    {
     "name": "stdout",
     "output_type": "stream",
     "text": [
      "False\n",
      "True\n",
      "False\n",
      "True\n"
     ]
    }
   ],
   "source": [
    "print(x and y) # and: 둘 다 True일 때 True, 아니면 False\n",
    "print(x or y) # or: 둘 중 하나가 True일 때 True, 아니면  False\n",
    "print(not x)\n",
    "print(not y)"
   ]
  },
  {
   "cell_type": "code",
   "execution_count": 101,
   "id": "59585de4",
   "metadata": {},
   "outputs": [],
   "source": [
    "# 멤버 연산자\n",
    "li = [\"hi\", \"python\", \"hyo\"]"
   ]
  },
  {
   "cell_type": "code",
   "execution_count": 102,
   "id": "bcf22a89",
   "metadata": {},
   "outputs": [
    {
     "name": "stdout",
     "output_type": "stream",
     "text": [
      "True\n",
      "False\n",
      "True\n"
     ]
    }
   ],
   "source": [
    "print(\"hi\" in li)\n",
    "print(\"jun\" in li)\n",
    "print(\"john\" not in li)"
   ]
  },
  {
   "cell_type": "code",
   "execution_count": 103,
   "id": "3c85d0f8",
   "metadata": {},
   "outputs": [],
   "source": [
    "# 항등 연산자\n",
    "x = 10\n",
    "y = 10"
   ]
  },
  {
   "cell_type": "code",
   "execution_count": 105,
   "id": "9d7f9535",
   "metadata": {},
   "outputs": [
    {
     "name": "stdout",
     "output_type": "stream",
     "text": [
      "True\n",
      "False\n"
     ]
    }
   ],
   "source": [
    "print(x is y)\n",
    "print(x == 2)"
   ]
  },
  {
   "cell_type": "markdown",
   "id": "f9144c9d",
   "metadata": {},
   "source": [
    "## Quiz.조언 해주세요!\n",
    "1. 솔루션을 리스트로 작성\n",
    "2. 질문 입력\n",
    "3. 저.. 이거 공부하면 잘 될 수 있을까요?\n",
    "4. 솔루션 중, 한 가지 대답을 랜덤하게 선택해서 보여줌\n",
    "    - indexing\n",
    "    - 해당 index에 해당하는 솔루션 대답을 보여줌"
   ]
  },
  {
   "cell_type": "code",
   "execution_count": 23,
   "id": "51776f49",
   "metadata": {},
   "outputs": [
    {
     "data": {
      "text/plain": [
       "1"
      ]
     },
     "execution_count": 23,
     "metadata": {},
     "output_type": "execute_result"
    }
   ],
   "source": [
    "# 랜덤함수\n",
    "import random\n",
    "\n",
    "random.randint(1, 10)"
   ]
  },
  {
   "cell_type": "code",
   "execution_count": 25,
   "id": "6e8af75c",
   "metadata": {},
   "outputs": [
    {
     "name": "stdout",
     "output_type": "stream",
     "text": [
      "1\n"
     ]
    },
    {
     "data": {
      "text/plain": [
       "1"
      ]
     },
     "execution_count": 25,
     "metadata": {},
     "output_type": "execute_result"
    }
   ],
   "source": [
    "# 입력함수\n",
    "data = int(input())\n",
    "data"
   ]
  },
  {
   "cell_type": "code",
   "execution_count": 6,
   "id": "b20aada7",
   "metadata": {},
   "outputs": [],
   "source": [
    "solutions = [\n",
    "    \"포기하지 말고 힘내세요!\",\n",
    "    \"그냥 시작하고 열심히 진행하자!\",\n",
    "    \"코드 리뷰를 지속적으로 진행하자\"\n",
    "    \"핸즈온 머신러닝\"\n",
    "]"
   ]
  },
  {
   "cell_type": "code",
   "execution_count": 8,
   "id": "9308fd56",
   "metadata": {},
   "outputs": [
    {
     "name": "stdout",
     "output_type": "stream",
     "text": [
      "질문을 입력해주세요 : 나를 응원해줘\n",
      "==============================\n",
      "포기하지 말고 힘내세요!\n",
      "질문을 입력해주세요 : 책을 추천해줘\n",
      "==============================\n",
      "핸즈온 머신러닝\n",
      "질문을 입력해주세요 : 대답을 되게 잘 하네\n",
      "==============================\n",
      "핸즈온 머신러닝\n",
      "질문을 입력해주세요 : q\n"
     ]
    }
   ],
   "source": [
    "import random\n",
    "\n",
    "while True:\n",
    "    Question = input(\"질문을 입력해주세요 : \")\n",
    "    \n",
    "    if Question == \"q\":\n",
    "        break\n",
    "    else:\n",
    "        random_int = random.randint(1, len(solutions)) - 1\n",
    "        print(\"=\" * 30)\n",
    "        print(solutions[random_int])\n"
   ]
  },
  {
   "cell_type": "markdown",
   "id": "65767742",
   "metadata": {},
   "source": [
    "# PEP 8\n",
    "- Python Enhancement Proposal 8\n",
    "- 파이썬 코드 작성 규칙(컨벤션)\n",
    "- **[Python 공식 PEP 8 문서]**(https://peps.python.org/pep-0008/)"
   ]
  },
  {
   "cell_type": "code",
   "execution_count": 1,
   "id": "ed9f9cd5",
   "metadata": {},
   "outputs": [
    {
     "name": "stdout",
     "output_type": "stream",
     "text": [
      "The Zen of Python, by Tim Peters\n",
      "\n",
      "Beautiful is better than ugly.\n",
      "Explicit is better than implicit.\n",
      "Simple is better than complex.\n",
      "Complex is better than complicated.\n",
      "Flat is better than nested.\n",
      "Sparse is better than dense.\n",
      "Readability counts.\n",
      "Special cases aren't special enough to break the rules.\n",
      "Although practicality beats purity.\n",
      "Errors should never pass silently.\n",
      "Unless explicitly silenced.\n",
      "In the face of ambiguity, refuse the temptation to guess.\n",
      "There should be one-- and preferably only one --obvious way to do it.\n",
      "Although that way may not be obvious at first unless you're Dutch.\n",
      "Now is better than never.\n",
      "Although never is often better than *right* now.\n",
      "If the implementation is hard to explain, it's a bad idea.\n",
      "If the implementation is easy to explain, it may be a good idea.\n",
      "Namespaces are one honking great idea -- let's do more of those!\n"
     ]
    }
   ],
   "source": [
    "import this"
   ]
  },
  {
   "cell_type": "markdown",
   "id": "8fab5be3",
   "metadata": {},
   "source": [
    "## 1. 가로 간격\n",
    "- 들여쓰기(indent)\n",
    "- 공백 4칸\n",
    "    - 2칸은 구분이 잘 안 됨\n",
    "    - 8칸은 간격이 너무 큼\n",
    "    - 2, 4, 8, 16과 같은 2의 거듭제곱 수를 선호하는 경향\n",
    "    - 3이나 6같은 수는 고려 대상에 포함하지 않음"
   ]
  },
  {
   "cell_type": "code",
   "execution_count": 2,
   "id": "cf75b78c",
   "metadata": {},
   "outputs": [
    {
     "name": "stdout",
     "output_type": "stream",
     "text": [
      "0\n",
      "1\n",
      "2\n",
      "2\n"
     ]
    }
   ],
   "source": [
    "for i in range(3):\n",
    "    print(i)\n",
    "print(i)"
   ]
  },
  {
   "cell_type": "code",
   "execution_count": 3,
   "id": "78e43cd4",
   "metadata": {},
   "outputs": [
    {
     "name": "stdout",
     "output_type": "stream",
     "text": [
      "0\n",
      "1\n",
      "2\n",
      "2\n"
     ]
    }
   ],
   "source": [
    "for i in range(3):\n",
    "  print(i)\n",
    "print(i)"
   ]
  },
  {
   "cell_type": "code",
   "execution_count": 4,
   "id": "3bfb6b50",
   "metadata": {},
   "outputs": [
    {
     "name": "stdout",
     "output_type": "stream",
     "text": [
      "0\n",
      "1\n",
      "2\n",
      "1\n"
     ]
    }
   ],
   "source": [
    "for i in range(3):\n",
    "        print(i)\n",
    "print(1)"
   ]
  },
  {
   "cell_type": "markdown",
   "id": "ce694685",
   "metadata": {},
   "source": [
    "## 2. 세로 간격"
   ]
  },
  {
   "cell_type": "code",
   "execution_count": 7,
   "id": "5c1ff2ab",
   "metadata": {},
   "outputs": [],
   "source": [
    "# 나쁜 예 \n",
    "\n",
    "class MyCala:\n",
    "    def __init__():\n",
    "        pass\n",
    "    def plus():\n",
    "        pass\n",
    "    def minus():\n",
    "        pass"
   ]
  },
  {
   "cell_type": "code",
   "execution_count": 6,
   "id": "792e8283",
   "metadata": {},
   "outputs": [],
   "source": [
    "# 좋은 예\n",
    "\n",
    "class MyCalc:\n",
    "    def __init__():\n",
    "        pass\n",
    "    \n",
    "    def plus():\n",
    "        pass\n",
    "    \n",
    "    def minus():\n",
    "        pass"
   ]
  },
  {
   "cell_type": "markdown",
   "id": "610c8ecd",
   "metadata": {},
   "source": [
    "## 3. 연산자와 식별자 사이에 공백 한 칸"
   ]
  },
  {
   "cell_type": "code",
   "execution_count": null,
   "id": "a0719d9b",
   "metadata": {},
   "outputs": [],
   "source": [
    "# 나쁜 예\n",
    "\n",
    "my_list=[1, 2, 3, 4]\n",
    "my_list[:i]+my_list[i:]+my_list[i]\n",
    "1+2, 3+4"
   ]
  },
  {
   "cell_type": "code",
   "execution_count": null,
   "id": "ca75e9ff",
   "metadata": {},
   "outputs": [],
   "source": [
    "# 좋은 예\n",
    "\n",
    "my_list = [1, 2, 3, 4]\n",
    "my_list[:i] + my_list[i:] + my_list[i]\n",
    "1 + 2, 3 + 4"
   ]
  },
  {
   "cell_type": "markdown",
   "id": "39dc7e0b",
   "metadata": {},
   "source": [
    "## 4. 구분자는 뒤쪽에 공백 한 칸"
   ]
  },
  {
   "cell_type": "code",
   "execution_count": 9,
   "id": "70fcdbf9",
   "metadata": {},
   "outputs": [],
   "source": [
    "# 나쁜 예\n",
    "\n",
    "def spam(egg,bacon,ham):\n",
    "    kcal = [80,100,200]\n",
    "    \n",
    "def sapm(egg , bacon , ham):\n",
    "    kcal = [80 , 100 , 200]"
   ]
  },
  {
   "cell_type": "code",
   "execution_count": 10,
   "id": "939f42cf",
   "metadata": {},
   "outputs": [],
   "source": [
    "# 좋은 예\n",
    "\n",
    "def spam(egg, bacon, ham):\n",
    "    kcal = [80, 100, 200]"
   ]
  },
  {
   "cell_type": "markdown",
   "id": "776ff99f",
   "metadata": {},
   "source": [
    "## 5. 마침표 앞뒤에는 공백 없음"
   ]
  },
  {
   "cell_type": "code",
   "execution_count": 13,
   "id": "95e406f2",
   "metadata": {},
   "outputs": [
    {
     "data": {
      "text/plain": [
       "2"
      ]
     },
     "execution_count": 13,
     "metadata": {},
     "output_type": "execute_result"
    }
   ],
   "source": [
    "import random\n",
    "\n",
    "# 나쁜 예\n",
    "\n",
    "random . randint(0, 4)"
   ]
  },
  {
   "cell_type": "code",
   "execution_count": 12,
   "id": "3110fdfa",
   "metadata": {},
   "outputs": [
    {
     "data": {
      "text/plain": [
       "3"
      ]
     },
     "execution_count": 12,
     "metadata": {},
     "output_type": "execute_result"
    }
   ],
   "source": [
    "# 좋은 예\n",
    "\n",
    "random.randint(0, 4)"
   ]
  },
  {
   "cell_type": "markdown",
   "id": "5ab8f1b4",
   "metadata": {},
   "source": [
    "## 6. 함수, 메서드, 컨테이너 이름 뒤에는 공백 없음"
   ]
  },
  {
   "cell_type": "code",
   "execution_count": 14,
   "id": "cb73f82d",
   "metadata": {},
   "outputs": [
    {
     "name": "stdout",
     "output_type": "stream",
     "text": [
      "Hello World\n"
     ]
    }
   ],
   "source": [
    "# 나쁜 예\n",
    "\n",
    "print ('Hello World')"
   ]
  },
  {
   "cell_type": "code",
   "execution_count": 15,
   "id": "f10eba1f",
   "metadata": {},
   "outputs": [
    {
     "name": "stdout",
     "output_type": "stream",
     "text": [
      "Hello World\n"
     ]
    }
   ],
   "source": [
    "# 좋은 예\n",
    "\n",
    "print('Hello World')"
   ]
  },
  {
   "cell_type": "code",
   "execution_count": 17,
   "id": "5f73b56f",
   "metadata": {},
   "outputs": [
    {
     "data": {
      "text/plain": [
       "(3, [1, 2, 3, 4])"
      ]
     },
     "execution_count": 17,
     "metadata": {},
     "output_type": "execute_result"
    }
   ],
   "source": [
    "# 나쁜 예\n",
    "\n",
    "data [2], data    [0:4]"
   ]
  },
  {
   "cell_type": "code",
   "execution_count": 16,
   "id": "0d87921b",
   "metadata": {},
   "outputs": [
    {
     "data": {
      "text/plain": [
       "(3, [1, 2, 3])"
      ]
     },
     "execution_count": 16,
     "metadata": {},
     "output_type": "execute_result"
    }
   ],
   "source": [
    "# 좋은 예\n",
    "\n",
    "data = [1, 2, 3, 4]\n",
    "data[2], data[0:3]"
   ]
  },
  {
   "cell_type": "markdown",
   "id": "e881e90c",
   "metadata": {},
   "source": [
    "## 7. 괄호 앞뒤에는 공백 없음"
   ]
  },
  {
   "cell_type": "code",
   "execution_count": 18,
   "id": "0422d594",
   "metadata": {},
   "outputs": [],
   "source": [
    "# 나쁜 예\n",
    "\n",
    "def model_fit ( value1, value2, value3 ) :\n",
    "    feature = [ 180, 75, 19 ]"
   ]
  },
  {
   "cell_type": "code",
   "execution_count": 20,
   "id": "5caa4368",
   "metadata": {},
   "outputs": [],
   "source": [
    "# 좋은 예\n",
    "\n",
    "def model_fit(value1, value2, value3):\n",
    "    feature = [180, 75, 19]"
   ]
  },
  {
   "cell_type": "markdown",
   "id": "6f868135",
   "metadata": {},
   "source": [
    "## 8. 코드행 끝의 주석 앞에는 공백 2칸\n",
    "- 공백이 하나 또는 아예 없는 경우 주석과 코드를 구분하기 어려움"
   ]
  },
  {
   "cell_type": "code",
   "execution_count": 23,
   "id": "55aa073c",
   "metadata": {},
   "outputs": [
    {
     "data": {
      "text/plain": [
       "10"
      ]
     },
     "execution_count": 23,
     "metadata": {},
     "output_type": "execute_result"
    }
   ],
   "source": [
    "# 나쁜 예\n",
    "\n",
    "import random\n",
    "\n",
    "random.randint(1, 10)# random한 숫자를 뽑습니다\n",
    "random.randint(1, 10) # random한 숫자를 뽑습니다"
   ]
  },
  {
   "cell_type": "code",
   "execution_count": 25,
   "id": "2d04201a",
   "metadata": {},
   "outputs": [
    {
     "data": {
      "text/plain": [
       "7"
      ]
     },
     "execution_count": 25,
     "metadata": {},
     "output_type": "execute_result"
    }
   ],
   "source": [
    "# 좋은 예\n",
    "\n",
    "random.randint(1, 10)  # random 숫자를 뽑습니다."
   ]
  },
  {
   "cell_type": "markdown",
   "id": "7f50f41e",
   "metadata": {},
   "source": [
    "## 9. 모듈 불러오기 컨벤션"
   ]
  },
  {
   "cell_type": "code",
   "execution_count": 27,
   "id": "413c3847",
   "metadata": {},
   "outputs": [],
   "source": [
    "# 나쁜 예\n",
    "\n",
    "import math, os, sys"
   ]
  },
  {
   "cell_type": "code",
   "execution_count": 26,
   "id": "bfbcbe74",
   "metadata": {},
   "outputs": [],
   "source": [
    "# 좋은 예\n",
    "\n",
    "import math\n",
    "import os\n",
    "import sys\n",
    "\n",
    "import pandas as pd\n",
    "for bs4 import BeautifulSoup"
   ]
  },
  {
   "cell_type": "markdown",
   "id": "307b703d",
   "metadata": {},
   "source": [
    "## 10. 작명 규칙\n",
    "- snake_case\n",
    "    - 함수, 메서드, 변수 이름은 소문자 스네이크 케이스로 작성\n",
    "- CamelCase\n",
    "    - 클래스"
   ]
  },
  {
   "cell_type": "code",
   "execution_count": 28,
   "id": "4122a044",
   "metadata": {},
   "outputs": [],
   "source": [
    "# 나쁜 예\n",
    "\n",
    "MyData = [1, 2, 3]\n",
    "\n",
    "def FuncCalc():\n",
    "    pass\n",
    "\n",
    "class my_calc():\n",
    "    pass"
   ]
  },
  {
   "cell_type": "code",
   "execution_count": 29,
   "id": "989dec47",
   "metadata": {},
   "outputs": [],
   "source": [
    "# 좋은 예\n",
    "\n",
    "my_data = [1, 2, 3]\n",
    "\n",
    "def func_calc():\n",
    "    pass\n",
    "\n",
    "class MyCalc():\n",
    "    pass"
   ]
  },
  {
   "cell_type": "markdown",
   "id": "1c86cb08",
   "metadata": {},
   "source": [
    "### 소소한 내용"
   ]
  },
  {
   "cell_type": "code",
   "execution_count": 30,
   "id": "bf6dec84",
   "metadata": {},
   "outputs": [
    {
     "name": "stdout",
     "output_type": "stream",
     "text": [
      "python\n",
      "python\n"
     ]
    }
   ],
   "source": [
    "print('python')\n",
    "print(\"python\")"
   ]
  },
  {
   "cell_type": "code",
   "execution_count": 31,
   "id": "9f0cd96b",
   "metadata": {},
   "outputs": [
    {
     "data": {
      "text/plain": [
       "'p'"
      ]
     },
     "execution_count": 31,
     "metadata": {},
     "output_type": "execute_result"
    }
   ],
   "source": [
    "\"python\"  # 글자 여러 개  \n",
    "'p'  # 글자 하나"
   ]
  },
  {
   "cell_type": "markdown",
   "id": "4f270008",
   "metadata": {},
   "source": [
    "# Condition"
   ]
  },
  {
   "cell_type": "markdown",
   "id": "1d8ee548",
   "metadata": {},
   "source": [
    "## 1. if else elif\n",
    "- 특정 조건에 따라서 코드를 실행하고자 할 때 사용\n",
    "- if else elif"
   ]
  },
  {
   "cell_type": "markdown",
   "id": "f236b04a",
   "metadata": {},
   "source": [
    "```python\n",
    "if condition:  # True 이면 코드를 실행\n",
    "    code\n",
    "```"
   ]
  },
  {
   "cell_type": "code",
   "execution_count": 1,
   "id": "f550ad22",
   "metadata": {},
   "outputs": [
    {
     "name": "stdout",
     "output_type": "stream",
     "text": [
      "if 문 안에 있는 print 코드 입니다.\n",
      "if 문 밖에 있는 print 코드 입니다\n"
     ]
    }
   ],
   "source": [
    "# 조건 부분: bool 데이터 타입 이외의 데이터 타입이 오면 자동으로 bool로 형변환\n",
    "\n",
    "if True:\n",
    "    print(\"if 문 안에 있는 print 코드 입니다.\")\n",
    "print(\"if 문 밖에 있는 print 코드 입니다\")"
   ]
  },
  {
   "cell_type": "code",
   "execution_count": 2,
   "id": "b72a7c48",
   "metadata": {},
   "outputs": [
    {
     "name": "stdout",
     "output_type": "stream",
     "text": [
      "if 문 밖에 있는 print 코드 입니다\n"
     ]
    }
   ],
   "source": [
    "if False:\n",
    "    print(\"if 문 안에 있는 print 코드 입니다.\")\n",
    "print(\"if 문 밖에 있는 print 코드 입니다\")"
   ]
  },
  {
   "cell_type": "code",
   "execution_count": 7,
   "id": "9220cfc3",
   "metadata": {},
   "outputs": [
    {
     "name": "stdout",
     "output_type": "stream",
     "text": [
      "if\n",
      "True\n"
     ]
    }
   ],
   "source": [
    "# int: 0을 제외한 나머지 값은 모두 True\n",
    "# float: 0.0을 제외한 나머지는 True\n",
    "# str: \"\", ''을 제외한 나머지는 True\n",
    "#list, tuple, dict: [], (), {}을 제외한 나머지는 True\n",
    "\n",
    "if 1:\n",
    "    print(\"if\")\n",
    "\n",
    "print(bool(1))"
   ]
  },
  {
   "cell_type": "code",
   "execution_count": 10,
   "id": "c0ad1a61",
   "metadata": {},
   "outputs": [
    {
     "name": "stdout",
     "output_type": "stream",
     "text": [
      "False\n"
     ]
    }
   ],
   "source": [
    "if 0:\n",
    "    print(\"if\")\n",
    "\n",
    "print(bool(0))"
   ]
  },
  {
   "cell_type": "code",
   "execution_count": 8,
   "id": "e1cbfad5",
   "metadata": {},
   "outputs": [
    {
     "name": "stdout",
     "output_type": "stream",
     "text": [
      "if\n",
      "True\n"
     ]
    }
   ],
   "source": [
    "if 100:\n",
    "    print(\"if\")\n",
    "    \n",
    "print(bool(100))"
   ]
  },
  {
   "cell_type": "code",
   "execution_count": 12,
   "id": "0ddabd8a",
   "metadata": {},
   "outputs": [
    {
     "name": "stdout",
     "output_type": "stream",
     "text": [
      "if\n",
      "True\n"
     ]
    }
   ],
   "source": [
    "if \"hi\":\n",
    "    print(\"if\")\n",
    "    \n",
    "print(bool(\"hi\"))"
   ]
  },
  {
   "cell_type": "code",
   "execution_count": 21,
   "id": "e391f3c9",
   "metadata": {},
   "outputs": [
    {
     "name": "stdout",
     "output_type": "stream",
     "text": [
      "if\n",
      "True\n"
     ]
    }
   ],
   "source": [
    "if [1, 2, 3]:\n",
    "    print(\"if\")\n",
    "\n",
    "print(bool([1, 2, 3]))"
   ]
  },
  {
   "cell_type": "code",
   "execution_count": 14,
   "id": "456af549",
   "metadata": {},
   "outputs": [
    {
     "name": "stdout",
     "output_type": "stream",
     "text": [
      "False\n"
     ]
    }
   ],
   "source": [
    "if []:\n",
    "    print(\"if\")\n",
    "\n",
    "print(bool([]))"
   ]
  },
  {
   "cell_type": "code",
   "execution_count": 20,
   "id": "d1a284e1",
   "metadata": {},
   "outputs": [
    {
     "name": "stdout",
     "output_type": "stream",
     "text": [
      "if\n",
      "True\n"
     ]
    }
   ],
   "source": [
    "if {\"1\" : 1}:\n",
    "    print(\"if\")\n",
    "    \n",
    "print(bool({\"1\" : 1}))"
   ]
  },
  {
   "cell_type": "code",
   "execution_count": 16,
   "id": "8c305d70",
   "metadata": {},
   "outputs": [
    {
     "name": "stdout",
     "output_type": "stream",
     "text": [
      "False\n"
     ]
    }
   ],
   "source": [
    "if {}:\n",
    "    print(\"if\")\n",
    "\n",
    "print(bool({}))"
   ]
  },
  {
   "cell_type": "code",
   "execution_count": 17,
   "id": "d29d972d",
   "metadata": {},
   "outputs": [
    {
     "name": "stdout",
     "output_type": "stream",
     "text": [
      "if\n",
      "True\n"
     ]
    }
   ],
   "source": [
    "if (1, 2):\n",
    "    print(\"if\")\n",
    "\n",
    "print(bool((1, 2)))"
   ]
  },
  {
   "cell_type": "code",
   "execution_count": 18,
   "id": "720f12a0",
   "metadata": {},
   "outputs": [
    {
     "name": "stdout",
     "output_type": "stream",
     "text": [
      "False\n"
     ]
    }
   ],
   "source": [
    "if ():\n",
    "    print(\"if\")\n",
    "    \n",
    "print(bool(()))"
   ]
  },
  {
   "cell_type": "code",
   "execution_count": 23,
   "id": "6345426d",
   "metadata": {},
   "outputs": [
    {
     "name": "stdout",
     "output_type": "stream",
     "text": [
      "홀수\n",
      "홀수\n"
     ]
    }
   ],
   "source": [
    "num = 7\n",
    "\n",
    "if num % 2:\n",
    "    print(\"홀수\")\n",
    "    \n",
    "if num % 2 == 1:\n",
    "    print(\"홀수\")"
   ]
  },
  {
   "cell_type": "code",
   "execution_count": 24,
   "id": "618c6c66",
   "metadata": {},
   "outputs": [],
   "source": [
    "# 지갑에 돈이 10000원 이상 있으면 택시\n",
    "# 그렇지 않으면, 걸어서"
   ]
  },
  {
   "cell_type": "code",
   "execution_count": 25,
   "id": "09ee8a7d",
   "metadata": {},
   "outputs": [
    {
     "name": "stdout",
     "output_type": "stream",
     "text": [
      "택시를 타고 집에 값니다. 유후~\n"
     ]
    }
   ],
   "source": [
    "money = 12000\n",
    "\n",
    "if money >= 10000:\n",
    "    print(\"택시를 타고 집에 값니다. 유후~\")\n",
    "\n",
    "if money < 10000:\n",
    "    print(\"걸어서 집에 갑니다. ㅠㅠ\")\n",
    "    \n",
    "\n",
    "# else\n",
    "if money >= 10000:\n",
    "    print(\"택시를 타고 집에 값니다. 유후~\")\n",
    "else:\n",
    "    print(\"걸어서 집에 갑니다. ㅠㅠ\")\n",
    "\n",
    "# if - if의 경우 하나가 끝나도 다른 하나가 무조건 실행되므로 비효율적"
   ]
  },
  {
   "cell_type": "code",
   "execution_count": 28,
   "id": "eb0cf47b",
   "metadata": {},
   "outputs": [
    {
     "name": "stdout",
     "output_type": "stream",
     "text": [
      "버스\n"
     ]
    }
   ],
   "source": [
    "# elif\n",
    "\n",
    "money = 5000\n",
    "\n",
    "if money >= 10000:\n",
    "    print(\"택시\")\n",
    "elif 2000 <= money:\n",
    "    print(\"버스\")\n",
    "else:\n",
    "    print(\"걷기\")"
   ]
  },
  {
   "cell_type": "markdown",
   "id": "cadb22cd",
   "metadata": {},
   "source": [
    "## Quiz. 계좌\n",
    "1. 계좌에 10000원이 있습니다.\n",
    "2. 인출 금액을 입력받습니다\n",
    "3. 인출 금액이 계좌에 있는 금액보다 크면 \"인출 불가\"\n",
    "4. 인출 금액이 계좌에 있는 금액보다 작으면 \"인출 가능\"\n",
    "5. 마지막에 현재 계좌의 잔액을 출력"
   ]
  },
  {
   "cell_type": "code",
   "execution_count": 34,
   "id": "a872c4f8",
   "metadata": {},
   "outputs": [
    {
     "name": "stdout",
     "output_type": "stream",
     "text": [
      "인출 금액을 입력하세요 : 7000\n",
      "인출 가능\n",
      "7000 원 인출되었습니다.\n",
      "3000 원 남아 있습니다.\n"
     ]
    }
   ],
   "source": [
    "account = 10000\n",
    "draw_money = int(input(\"인출 금액을 입력하세요 : \"))\n",
    "\n",
    "if draw_money <= account:\n",
    "    print(\"인출 가능\")\n",
    "    print(draw_money, \"원 인출되었습니다.\")\n",
    "    account -= draw_money\n",
    "    print(account, \"원 남아 있습니다.\")\n",
    "else:\n",
    "    print(\"인출 불가\")\n",
    "    print(draw_money - account, \"원의 잔액이 부족합니다.\")"
   ]
  },
  {
   "cell_type": "markdown",
   "id": "4ff717c8",
   "metadata": {},
   "source": [
    "## 추가 Quiz"
   ]
  },
  {
   "cell_type": "code",
   "execution_count": null,
   "id": "7c8ddebe",
   "metadata": {},
   "outputs": [],
   "source": [
    "answer = int(input(\"5 * 2 = ? \"))\n",
    "\n",
    "if answer == 10:\n",
    "    print(\"정답\")\n",
    "else:\n",
    "    print(\"오답\")"
   ]
  },
  {
   "cell_type": "code",
   "execution_count": 62,
   "id": "34f2f8f1",
   "metadata": {},
   "outputs": [
    {
     "name": "stdout",
     "output_type": "stream",
     "text": [
      "9 - 1 = ? 8\n",
      "정답\n"
     ]
    }
   ],
   "source": [
    "import random\n",
    "\n",
    "questions = [\"5 * 2 = ? \", \"3 + 2 = ? \", \"9 - 1 = ? \"]\n",
    "answers = [10, 5, 8]\n",
    "\n",
    "random_int = random.randint(0, len(questions) - 1)\n",
    "answer = int(input(questions[random_int]))\n",
    "\n",
    "if answer == answers[random_int]:\n",
    "    print(\"정답\")\n",
    "else:\n",
    "    print(\"오답\")"
   ]
  },
  {
   "cell_type": "code",
   "execution_count": 49,
   "id": "742bfc98",
   "metadata": {},
   "outputs": [
    {
     "name": "stdout",
     "output_type": "stream",
     "text": [
      "현재 잔액은 10000 원 입니다.\n",
      "현재 잔액은 10000 원 입니다.\n",
      "현재 잔액은 10000 원 입니다. 그리고 인출금액은 5000 입니다.\n",
      "현재 잔액은 10000 원 입니다.\n",
      "현재 잔액은 10000 원 입니다. 그리고 인출금액은 5000 입니다.\n",
      "현재 잔액은 5000 원 입니다. 그리고 인출금액은 10000 입니다.\n",
      "현재 잔액은 10000 원 입니다. 그리고 인출금액은 5000 입니다.\n",
      "현재 잔액은 10000 원 입니다.\n",
      "현재 잔액은 10000 원 입니다. 그리고 인출 금액은 5000 입니다.\n"
     ]
    }
   ],
   "source": [
    "# 문자열 포맷팅\n",
    "# format() 함수\n",
    "\n",
    "account = 10000\n",
    "draw_money = 5000\n",
    "\n",
    "print(\"현재 잔액은 \" + str(account) + \" 원 입니다.\")\n",
    "\n",
    "# f-string 사용 권장\n",
    "print (f\"현재 잔액은 {account} 원 입니다.\")\n",
    "print (f\"현재 잔액은 {account} 원 입니다. 그리고 인출금액은 {draw_money} 입니다.\")\n",
    "\n",
    "print (\"현재 잔액은 {} 원 입니다.\".format(account))\n",
    "print (\"현재 잔액은 {} 원 입니다. 그리고 인출금액은 {} 입니다.\".format(account, draw_money))\n",
    "\n",
    "print (\"현재 잔액은 {} 원 입니다. 그리고 인출금액은 {} 입니다.\".format(draw_money, account))\n",
    "print (\"현재 잔액은 {data1} 원 입니다. 그리고 인출금액은 {data2} 입니다.\".format(data1 = account, data2 = draw_money))\n",
    "\n",
    "print(\"현재 잔액은 %d 원 입니다.\" %account)\n",
    "print(\"현재 잔액은 %d 원 입니다. 그리고 인출 금액은 %d 입니다.\" %(account, draw_money))"
   ]
  },
  {
   "cell_type": "markdown",
   "id": "acb6d0f0",
   "metadata": {},
   "source": [
    "## 2. 삼항연산자\n",
    "- 간단한 조건일 경우, if else 구문을 한 줄의 코드로 표현할 수 있는 문법"
   ]
  },
  {
   "cell_type": "code",
   "execution_count": 50,
   "id": "dee038e6",
   "metadata": {},
   "outputs": [
    {
     "name": "stdout",
     "output_type": "stream",
     "text": [
      "taxi\n"
     ]
    }
   ],
   "source": [
    "money = 10000\n",
    "\n",
    "if money >= 10000:\n",
    "    print(\"taxi\")\n",
    "else:\n",
    "    print(\"walk\")"
   ]
  },
  {
   "cell_type": "code",
   "execution_count": 51,
   "id": "43b92f59",
   "metadata": {},
   "outputs": [
    {
     "name": "stdout",
     "output_type": "stream",
     "text": [
      "taxi\n"
     ]
    }
   ],
   "source": [
    "print(\"taxi\") if money >= 10000 else print(\"walk\")"
   ]
  },
  {
   "cell_type": "code",
   "execution_count": 52,
   "id": "7436b65b",
   "metadata": {},
   "outputs": [
    {
     "name": "stdout",
     "output_type": "stream",
     "text": [
      "zero????\n"
     ]
    }
   ],
   "source": [
    "data = 0\n",
    "\n",
    "if data:\n",
    "    print(\"zero?\")\n",
    "else:\n",
    "    print(\"zero????\")"
   ]
  },
  {
   "cell_type": "code",
   "execution_count": 54,
   "id": "8e403bb3",
   "metadata": {},
   "outputs": [],
   "source": [
    "result = \"not zero\" if data else \"zero\""
   ]
  },
  {
   "cell_type": "code",
   "execution_count": 55,
   "id": "8dbb5617",
   "metadata": {},
   "outputs": [
    {
     "name": "stdout",
     "output_type": "stream",
     "text": [
      "zero\n"
     ]
    }
   ],
   "source": [
    "print(result)"
   ]
  }
 ],
 "metadata": {
  "kernelspec": {
   "display_name": "Python 3 (ipykernel)",
   "language": "python",
   "name": "python3"
  },
  "language_info": {
   "codemirror_mode": {
    "name": "ipython",
    "version": 3
   },
   "file_extension": ".py",
   "mimetype": "text/x-python",
   "name": "python",
   "nbconvert_exporter": "python",
   "pygments_lexer": "ipython3",
   "version": "3.11.4"
  }
 },
 "nbformat": 4,
 "nbformat_minor": 5
}
