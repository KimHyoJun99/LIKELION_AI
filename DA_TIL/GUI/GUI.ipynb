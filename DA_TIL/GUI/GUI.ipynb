{
 "cells": [
  {
   "cell_type": "markdown",
   "metadata": {},
   "source": [
    "# GUI"
   ]
  },
  {
   "cell_type": "markdown",
   "metadata": {},
   "source": [
    "### 1. 기본 위젯 활용\n",
    "- 위젯: 윈도우 창에 나올 수 있는 문자, 버튼, 체크박스, 라디오버튼 등"
   ]
  },
  {
   "cell_type": "code",
   "execution_count": 1,
   "metadata": {},
   "outputs": [],
   "source": [
    "from tkinter import *\n",
    "\n",
    "window = Tk()\n",
    "\n",
    "# 이 부분에서 화면을 구성하고 처리\n",
    "\n",
    "window.mainloop()"
   ]
  },
  {
   "cell_type": "code",
   "execution_count": 5,
   "metadata": {},
   "outputs": [],
   "source": [
    "window = Tk()\n",
    "window.title(\"윈도우 창 연습\")\n",
    "window.geometry(\"400x100\")\n",
    "window.resizable(width = False, height = False)  # 가로와 세로의 크기가 변경되지 않도록 설정\n",
    "\n",
    "window.mainloop()"
   ]
  },
  {
   "cell_type": "markdown",
   "metadata": {},
   "source": [
    "##### 1-1. 라벨(Label)\n",
    "- 문자를 표현할 수 있는 위젯.\n",
    "- 위젯은 pack() 함수를 호출해야 화면에 나타남"
   ]
  },
  {
   "cell_type": "code",
   "execution_count": 6,
   "metadata": {},
   "outputs": [],
   "source": [
    "window = Tk()\n",
    "\n",
    "label1 = Label(window, text = \"SWEDU~~ Python을\")\n",
    "label2 = Label(window, text = \"열심히\", font = (\"궁서체\", 30), fg = \"blue\")  # fg: foreground, 글자 색 지정\n",
    "label3 = Label(window, text = \"공부 중입니다.\", bg = \"magenta\", width = 20, height = 5, anchor = SE)  # bg: background, 배경색 지정 / anchor: 위젯의 위치 지정 (N, NE, E, SE, S, SW, W, NW, CENTER 등이며 기본값은 CENTER)\n",
    "\n",
    "label1.pack()  # 해당 라벨을 화면에 표시\n",
    "label2.pack()\n",
    "label3.pack()\n",
    "\n",
    "window.mainloop()"
   ]
  },
  {
   "cell_type": "code",
   "execution_count": null,
   "metadata": {},
   "outputs": [],
   "source": []
  }
 ],
 "metadata": {
  "kernelspec": {
   "display_name": "LikeLion",
   "language": "python",
   "name": "python3"
  },
  "language_info": {
   "codemirror_mode": {
    "name": "ipython",
    "version": 3
   },
   "file_extension": ".py",
   "mimetype": "text/x-python",
   "name": "python",
   "nbconvert_exporter": "python",
   "pygments_lexer": "ipython3",
   "version": "3.8.18"
  }
 },
 "nbformat": 4,
 "nbformat_minor": 2
}
