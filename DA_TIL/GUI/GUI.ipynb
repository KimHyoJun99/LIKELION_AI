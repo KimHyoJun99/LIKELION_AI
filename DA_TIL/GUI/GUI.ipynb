{
 "cells": [
  {
   "cell_type": "markdown",
   "metadata": {},
   "source": [
    "# GUI"
   ]
  },
  {
   "cell_type": "markdown",
   "metadata": {},
   "source": [
    "### 1. 기본 위젯 활용\n",
    "- 위젯: 윈도우 창에 나올 수 있는 문자, 버튼, 체크박스, 라디오버튼 등"
   ]
  },
  {
   "cell_type": "markdown",
   "metadata": {},
   "source": [
    "##### 1-1. 기본 위젯"
   ]
  },
  {
   "cell_type": "code",
   "execution_count": 2,
   "metadata": {},
   "outputs": [],
   "source": [
    "from tkinter import *\n",
    "\n",
    "window = Tk()\n",
    "\n",
    "# 이 부분에서 화면을 구성하고 처리\n",
    "\n",
    "window.mainloop()"
   ]
  },
  {
   "cell_type": "code",
   "execution_count": 3,
   "metadata": {},
   "outputs": [],
   "source": [
    "window = Tk()\n",
    "window.title(\"윈도우 창 연습\")\n",
    "window.geometry(\"400x100\")\n",
    "window.resizable(width = False, height = False)  # 가로와 세로의 크기가 변경되지 않도록 설정\n",
    "\n",
    "window.mainloop()"
   ]
  },
  {
   "cell_type": "code",
   "execution_count": 4,
   "metadata": {},
   "outputs": [],
   "source": [
    "# 라벨(Label)\n",
    "# 문자를 표현할 수 있는 위젯.\n",
    "# 위젯은 pack() 함수를 호출해야 화면에 나타남\n",
    "\n",
    "window = Tk()\n",
    "\n",
    "label1 = Label(window, text = \"SWEDU~~ Python을\")\n",
    "label2 = Label(window, text = \"열심히\", font = (\"궁서체\", 30), fg = \"blue\")  # fg: foreground, 글자 색 지정\n",
    "label3 = Label(window, text = \"공부 중입니다.\", bg = \"magenta\", width = 20, height = 5, anchor = SE)  # bg: background, 배경색 지정 / anchor: 위젯의 위치 지정 (N, NE, E, SE, S, SW, W, NW, CENTER 등이며 기본값은 CENTER)\n",
    "\n",
    "label1.pack()  # 해당 라벨을 화면에 표시\n",
    "label2.pack()\n",
    "label3.pack()\n",
    "\n",
    "window.mainloop()"
   ]
  },
  {
   "cell_type": "markdown",
   "metadata": {},
   "source": [
    "##### 1-2. 이미지 파일 사용해보기"
   ]
  },
  {
   "cell_type": "code",
   "execution_count": 5,
   "metadata": {},
   "outputs": [],
   "source": [
    "from tkinter import *\n",
    "\n",
    "window = Tk()\n",
    "\n",
    "photo = PhotoImage(file = \"C:\\\\Users\\\\jjjun_ii\\\\Downloads\\\\GIF\\\\dog.gif\")\n",
    "label1 = Label(window, image=photo)\n",
    "\n",
    "label1.pack()\n",
    "\n",
    "window.mainloop()"
   ]
  },
  {
   "cell_type": "markdown",
   "metadata": {},
   "source": [
    "##### 1-3. 버튼"
   ]
  },
  {
   "cell_type": "code",
   "execution_count": 20,
   "metadata": {},
   "outputs": [],
   "source": [
    "from tkinter import *\n",
    "\n",
    "window = Tk()\n",
    "\n",
    "button1 = Button(window, text=\"파이썬 종료\", fg=\"red\", command=\"quit\")\n",
    "button1.pack()\n",
    "\n",
    "window.mainloop()"
   ]
  },
  {
   "cell_type": "code",
   "execution_count": 21,
   "metadata": {},
   "outputs": [],
   "source": [
    "from tkinter import *\n",
    "from tkinter import messagebox\n",
    "\n",
    "def my_func():\n",
    "    messagebox.showinfo(\"강아지 버튼\", \"강아지가 귀엽죠? ^^\")\n",
    "\n",
    "window = Tk()\n",
    "\n",
    "photo = PhotoImage(file = \"C:\\\\Users\\\\jjjun_ii\\\\Downloads\\\\GIF\\\\dog2.gif\")\n",
    "button1 = Button(window, image=photo, command=my_func)\n",
    "\n",
    "button1.pack()\n",
    "\n",
    "window.mainloop()"
   ]
  },
  {
   "cell_type": "markdown",
   "metadata": {},
   "source": [
    "##### 1-4. 체크버튼"
   ]
  },
  {
   "cell_type": "code",
   "execution_count": 22,
   "metadata": {},
   "outputs": [],
   "source": [
    "from tkinter import *\n",
    "\n",
    "window = Tk()\n",
    "\n",
    "def my_func():\n",
    "    if chk.get() == 0:\n",
    "        messagebox.showinfo(\"\", \"체크버튼이 꺼졌어요.\")\n",
    "    else:\n",
    "        messagebox.showinfo(\"\", \"체크버튼이 켜졌어요\")\n",
    "        \n",
    "chk = IntVar()\n",
    "cb1 = Checkbutton(window, text=\"클릭하세요\", variable=chk, command=my_func)\n",
    "\n",
    "cb1.pack()\n",
    "\n",
    "window.mainloop()"
   ]
  },
  {
   "cell_type": "markdown",
   "metadata": {},
   "source": [
    "##### 1-5. 라디오 버튼\n",
    "- 여러 개 중 하나를 선택하는 데 사용되는 위젯\n",
    "- 형식은 Radiobutton(부모 윈도우, 옵션)"
   ]
  },
  {
   "cell_type": "code",
   "execution_count": 24,
   "metadata": {},
   "outputs": [],
   "source": [
    "from tkinter import *\n",
    "window = Tk()\n",
    "\n",
    "def my_func():\n",
    "    if var.get() == 1:\n",
    "        label1.configure(text=\"파이썬\")  # configure: label1의 속성 변경\n",
    "    elif var.get() == 2:\n",
    "        label1.configure(text=\"C++\")\n",
    "    else:\n",
    "        label1.configure(text=\"Jave\")\n",
    "\n",
    "var = IntVar()\n",
    "rb1 = Radiobutton(window, text=\"파이썬\", variable=var, value=1, command=my_func)\n",
    "rb2 = Radiobutton(window, text=\"C++\", variable=var, value=2, command=my_func)\n",
    "rb3 = Radiobutton(window, text=\"Java\", variable=var, value=3, command=my_func)\n",
    "\n",
    "label1 = Label(window, text=\"선택한 언어: \", fg=\"red\")\n",
    "\n",
    "rb1.pack()\n",
    "rb2.pack()\n",
    "rb3.pack()\n",
    "label1.pack()\n",
    "\n",
    "window.mainloop()"
   ]
  },
  {
   "cell_type": "markdown",
   "metadata": {},
   "source": [
    "##### 1-6. 좋아하는 동물 투표 프로그램"
   ]
  },
  {
   "cell_type": "code",
   "execution_count": 29,
   "metadata": {},
   "outputs": [],
   "source": [
    "from tkinter import *\n",
    "from tkinter import messagebox\n",
    "\n",
    "def my_func():\n",
    "    if var.get() == 1:\n",
    "        labelImage.configure(image=image1)\n",
    "    elif var.get() == 2:\n",
    "        labelImage.configure(image=image2)\n",
    "    else:\n",
    "        labelImage.configure(image=image3)\n",
    "\n",
    "window = Tk()\n",
    "var = IntVar()\n",
    "window.geometry(\"400x400\")\n",
    "window.title(\"애완동물 선택하기\")\n",
    "\n",
    "image1 = PhotoImage(file=\"C:\\\\Users\\\\jjjun_ii\\\\Downloads\\\\GIF\\\\dog4.gif\")\n",
    "image2 = PhotoImage(file=\"C:\\\\Users\\\\jjjun_ii\\\\Downloads\\\\GIF\\\\cat.gif\")\n",
    "image3 = PhotoImage(file=\"C:\\\\Users\\\\jjjun_ii\\\\Downloads\\\\GIF\\\\rabbit.gif\")\n",
    "rb1 = Radiobutton(window, text=\"강아지\", variable=var, value=1, command=my_func)\n",
    "rb2 = Radiobutton(window, text=\"고양이\", variable=var, value=2, command=my_func)\n",
    "rb3 = Radiobutton(window, text=\"토끼\", variable=var, value=3, command=my_func)\n",
    "buttonOk = Button(window, text=\"사진 보기\", command=my_func)\n",
    "\n",
    "labelText = Label(window, text=\"좋아하는 동물 투표\", fg=\"blue\", font=(\"궁서체\", 20))\n",
    "labelImage = Label(window, width=200, height=200, bg=\"yellow\", image=None)\n",
    "\n",
    "labelText.pack(padx=5, pady=5)\n",
    "rb1.pack(padx=5, pady=5)\n",
    "rb2.pack(padx=5, pady=5)\n",
    "rb3.pack(padx=5, pady=5)\n",
    "buttonOk.pack(padx=5, pady=5)\n",
    "labelImage.pack(padx=5, pady=5)\n",
    "\n",
    "window.mainloop()"
   ]
  },
  {
   "cell_type": "markdown",
   "metadata": {},
   "source": [
    "### 2. 위젯의 배치와 크기 조절"
   ]
  }
 ],
 "metadata": {
  "kernelspec": {
   "display_name": "LikeLion",
   "language": "python",
   "name": "python3"
  },
  "language_info": {
   "codemirror_mode": {
    "name": "ipython",
    "version": 3
   },
   "file_extension": ".py",
   "mimetype": "text/x-python",
   "name": "python",
   "nbconvert_exporter": "python",
   "pygments_lexer": "ipython3",
   "version": "3.8.18"
  }
 },
 "nbformat": 4,
 "nbformat_minor": 2
}
