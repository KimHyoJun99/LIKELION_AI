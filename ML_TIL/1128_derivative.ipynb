{
 "cells": [
  {
   "cell_type": "markdown",
   "metadata": {},
   "source": [
    "# Derivative"
   ]
  },
  {
   "cell_type": "markdown",
   "metadata": {},
   "source": [
    "### 일변수 함수의 수치미분 코드 구현\n",
    "- 입력으로 함수를 받아서 미분을 수행하는 함수 구현\n",
    "- 파이썬은 일급함수를 지원하므로 함수의 인자로 다른 함수를 받을 수 있음"
   ]
  },
  {
   "cell_type": "code",
   "execution_count": null,
   "metadata": {},
   "outputs": [
    {
     "name": "stdout",
     "output_type": "stream",
     "text": [
      "9.999999999976694\n"
     ]
    }
   ],
   "source": [
    "def numerical_derivative(f, x):\n",
    "\n",
    "    # 입력인자 f는 미분하려는 일변수 함수\n",
    "    # 입력인자 x는 미분값을 알고자하는 입력값\n",
    "\n",
    "    delta_x = 1e-4\n",
    "\n",
    "    # 중앙차분을 이용한 미분 구현\n",
    "\n",
    "    result = (f(x + delta_x) - f(x - delta_x)) / (2 * delta_x)\n",
    "    return result\n",
    "\n",
    "# 함수의 계산값 확인\n",
    "\n",
    "def my_func(x):\n",
    "\n",
    "    return x**2\n",
    "\n",
    "result = numerical_derivative(my_func, 5)\n",
    "print(result) # 9.999999999976694, delta_x를 아주 작은 값을 나타내는 근삿값으로 표현해서\n"
   ]
  },
  {
   "cell_type": "markdown",
   "metadata": {},
   "source": [
    "### 다변수 함수의 수치미분 코드 구현"
   ]
  },
  {
   "cell_type": "code",
   "execution_count": null,
   "metadata": {},
   "outputs": [],
   "source": [
    "import numpy as np\n",
    "\n",
    "def numerical_derivative(f, x):\n",
    "\n",
    "    # f는 미분하려는 다변수 함수\n",
    "    # x는 모든 변수를 포함하는 ndarray [1.0, 2.0]\n",
    "    # 리턴되는 결과는 [8.0, 15.0]\n",
    "\n",
    "    delta_x = 1e-4\n",
    "    derivative_x = np.zeros_like(x)  # [0.0, 0.0]\n",
    "\n",
    "    it = np.nditer(x, flags=['multi_index'])  # 변수별 편미분을 해야하므로 iterator\n",
    "\n",
    "    while not it.finished:\n",
    "\n",
    "        idx = it.multi_index  # 현재 index 추출 => tuple 형태로 리턴\n",
    "\n",
    "        tmp = x[idx]  # 현재 index의 값 일시적으로 저장\n",
    "                      # 이 값을 변경해서 중앙차분 값을 계산\n",
    "                      # 편미분을 해야하므로 다음 변수 편미분할 때 원래 값으로 복원해야함\n",
    "        x[idx] = tmp + delta_x\n",
    "        fx_plus_delta_x = f(x)  # f(x + delta_x)\n",
    "\n",
    "        x[idx] = tmp - delta_x\n",
    "        fx_minus_delta_x = f(x)  # f(x - delta_x)\n",
    "\n",
    "        derivative_x[idx] = (fx_plus_delta_x - fx_minus_delta_x) / (2 * delta_x)\n",
    "\n",
    "        x[idx] = tmp\n",
    "\n",
    "        it.iternext()\n",
    "\n",
    "    return derivative_x\n"
   ]
  },
  {
   "cell_type": "code",
   "execution_count": null,
   "metadata": {},
   "outputs": [
    {
     "name": "stdout",
     "output_type": "stream",
     "text": [
      "[ 8.         15.00000001]\n"
     ]
    }
   ],
   "source": [
    "# 2변수 함수\n",
    "\n",
    "def my_func(input_data):\n",
    "\n",
    "    x = input_data[0]\n",
    "    y = input_data[1]\n",
    "\n",
    "    # f(x) = 2x + 3xy + y^3\n",
    "    return 2*x + 3*x*y + np.power(y, 3)\n",
    "\n",
    "result = numerical_derivative(my_func, np.array([1.0, 2.0]))\n",
    "print(result)  # [ 8.         15.00000001]"
   ]
  },
  {
   "cell_type": "code",
   "execution_count": null,
   "metadata": {},
   "outputs": [
    {
     "name": "stdout",
     "output_type": "stream",
     "text": [
      "[ 5. 13. 32. 15.]\n"
     ]
    }
   ],
   "source": [
    "# 4변수 함수 수치미분\n",
    "# f(w,x,y,z) = wx + xyz + 3w + zy^2\n",
    "# f'(1.0, 2.0, 3.0, 4.0) 의 값 구하기\n",
    "\n",
    "def my_func(input_data):\n",
    "\n",
    "    w = input_data[0]\n",
    "    x = input_data[1]\n",
    "    y = input_data[2]\n",
    "    z = input_data[3]\n",
    "\n",
    "    return w*x + x*y*z + 3*w + z*np.power(y, 2)\n",
    "\n",
    "result = numerical_derivative(my_func, np.array([1.0, 2.0, 3.0, 4.0]))\n",
    "print(result)"
   ]
  }
 ],
 "metadata": {
  "kernelspec": {
   "display_name": "LikeLion",
   "language": "python",
   "name": "python3"
  },
  "language_info": {
   "name": "python",
   "version": "3.11.5"
  }
 },
 "nbformat": 4,
 "nbformat_minor": 2
}
