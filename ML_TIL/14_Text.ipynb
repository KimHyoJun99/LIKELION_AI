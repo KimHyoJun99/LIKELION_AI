{
 "cells": [
  {
   "cell_type": "markdown",
   "metadata": {},
   "source": [
    "# Text"
   ]
  },
  {
   "cell_type": "markdown",
   "metadata": {},
   "source": [
    "### RNN (Recurrent Neural Network)"
   ]
  },
  {
   "cell_type": "code",
   "execution_count": null,
   "metadata": {},
   "outputs": [
    {
     "name": "stdout",
     "output_type": "stream",
     "text": [
      "Downloading data from https://storage.googleapis.com/tensorflow/tf-keras-datasets/imdb.npz\n",
      "17464789/17464789 [==============================] - 0s 0us/step\n"
     ]
    }
   ],
   "source": [
    "# IMDB Review Data Set Loading\n",
    "# tensorflow keras에는 이미 정수로 바꾼 Review 데이터가 포함되어 있음\n",
    "# 가장 많이 등장하는 단어 500개만 vocabulary로 사용해서 데이터 적재\n",
    "# X에는 댓글, t에는 긍정 or 부정\n",
    "from tensorflow.keras.datasets import imdb\n",
    "\n",
    "(x_data_train, t_data_train), (x_data_test, t_data_test) = imdb.load_data(num_words=500)"
   ]
  },
  {
   "cell_type": "code",
   "execution_count": null,
   "metadata": {},
   "outputs": [
    {
     "name": "stdout",
     "output_type": "stream",
     "text": [
      "(25000,)\n",
      "(25000,)\n",
      "(25000,)\n",
      "(25000,)\n",
      "[1 0 0 1 0 0 1 0 1 0]\n",
      "[1, 14, 22, 16, 43, 2, 2, 2, 2, 65, 458, 2, 66, 2, 4, 173, 36, 256, 5, 25, 100, 43, 2, 112, 50, 2, 2, 9, 35, 480, 284, 5, 150, 4, 172, 112, 167, 2, 336, 385, 39, 4, 172, 2, 2, 17, 2, 38, 13, 447, 4, 192, 50, 16, 6, 147, 2, 19, 14, 22, 4, 2, 2, 469, 4, 22, 71, 87, 12, 16, 43, 2, 38, 76, 15, 13, 2, 4, 22, 17, 2, 17, 12, 16, 2, 18, 2, 5, 62, 386, 12, 8, 316, 8, 106, 5, 4, 2, 2, 16, 480, 66, 2, 33, 4, 130, 12, 16, 38, 2, 5, 25, 124, 51, 36, 135, 48, 25, 2, 33, 6, 22, 12, 215, 28, 77, 52, 5, 14, 407, 16, 82, 2, 8, 4, 107, 117, 2, 15, 256, 4, 2, 7, 2, 5, 2, 36, 71, 43, 2, 476, 26, 400, 317, 46, 7, 4, 2, 2, 13, 104, 88, 4, 381, 15, 297, 98, 32, 2, 56, 26, 141, 6, 194, 2, 18, 4, 226, 22, 21, 134, 476, 26, 480, 5, 144, 30, 2, 18, 51, 36, 28, 224, 92, 25, 104, 4, 226, 65, 16, 38, 2, 88, 12, 16, 283, 5, 16, 2, 113, 103, 32, 15, 16, 2, 19, 178, 32]\n",
      "<class 'numpy.ndarray'>\n",
      "<class 'list'>\n",
      "218\n",
      "189\n",
      "[218 189 141 550 147  43 123 562 233 130]\n",
      "238.71364\n",
      "178.0\n"
     ]
    },
    {
     "data": {
      "image/png": "[encoded data removed]",
      "text/plain": [
       "<Figure size 640x480 with 1 Axes>"
      ]
     },
     "metadata": {},
     "output_type": "display_data"
    },
    {
     "name": "stdout",
     "output_type": "stream",
     "text": [
      "<class 'numpy.ndarray'>\n",
      "(25000, 100)\n"
     ]
    }
   ],
   "source": [
    "# 데이터 구성 확인\n",
    "print(x_data_train.shape)\n",
    "print(t_data_train.shape)\n",
    "\n",
    "print(x_data_test.shape)\n",
    "print(t_data_test.shape)\n",
    "\n",
    "# train_data: 25,000, test_data: 25,000\n",
    "# t_data_train\n",
    "print(t_data_train[:10])  # [1 0 0 1 0 0 1 0 1 0]\n",
    "print(x_data_train[0])  # 1차원 ndarray에 python list가 들어가 있음\n",
    "                        # 2차원 ndarray가 아닌 이유는\n",
    "                        # 리뷰마다 길이가 다른데 ndarray는 크기가 고정되어 있어서 공간의 낭비 생김\n",
    "                        # ndarray 안에 python list를 사용하면 공간 낭비 없음\n",
    "\n",
    "print(type(x_data_train))  # <class 'numpy.ndarray'>\n",
    "print(type(x_data_train[0]))  # <class 'list'>\n",
    "\n",
    "print(len(x_data_train[0]))  # 첫 번째 리뷰 길이: 218\n",
    "print(len(x_data_train[1]))  # 두 번째 리뷰 길이: 189\n",
    "\n",
    "# padding\n",
    "import numpy as np\n",
    "import matplotlib.pyplot as plt\n",
    "\n",
    "lengths = np.array([len(x) for x in x_data_train])\n",
    "print(lengths[:10])\n",
    "#\n",
    "\n",
    "# 모든 Review의 평균길이와 중간값을 출력\n",
    "print(np.mean(lengths))\n",
    "print(np.median(lengths))\n",
    "\n",
    "plt.hist(lengths)\n",
    "plt.show()\n",
    "\n",
    "# 대부분의 review는 길이가 300 token 미만\n",
    "# 실제로는 100 token 미만이 대다수일 것\n",
    "\n",
    "# 모든 리뷰 길이를 100으로 맞추기\n",
    "# 100 token 이상의 리뷰는 앞쪽 데이터를 잘라서\n",
    "# 100 token 미만의 리뷰는 앞쪽에 패딩 붙이기\n",
    "# keras 함수를 이용하여 확인\n",
    "\n",
    "from tensorflow.keras.preprocessing.sequence import pad_sequences\n",
    "\n",
    "x_data_train_seq = pad_sequences(x_data_train, maxlen=100)\n",
    "print(type(x_data_train_seq))  # <class 'numpy.ndarray'>\n",
    "print(x_data_train_seq.shape)  # (25000, 100)\n",
    "\n",
    "# 25,000 개의 review, 각 review는 100개의 token(time step)으로 재단"
   ]
  }
 ],
 "metadata": {
  "language_info": {
   "name": "python"
  }
 },
 "nbformat": 4,
 "nbformat_minor": 2
}
