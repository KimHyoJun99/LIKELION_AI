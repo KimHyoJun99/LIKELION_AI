{
 "cells": [
  {
   "cell_type": "markdown",
   "metadata": {},
   "source": [
    "# SQLite\n",
    "- sqlite는 파이썬에 내장되어 있음"
   ]
  },
  {
   "cell_type": "markdown",
   "metadata": {},
   "source": [
    "### 데이터 입력"
   ]
  },
  {
   "cell_type": "code",
   "execution_count": 1,
   "metadata": {},
   "outputs": [],
   "source": [
    "import sqlite3\n",
    "\n",
    "# 변수 선언 부분\n",
    "con, cur = None, None\n",
    "data1, data2, data3, data4 = \"\", \"\", \"\", \"\"\n",
    "sql = \"\"\n",
    "\n",
    "# 메인 코드 부분\n",
    "con = sqlite3.connect(\"naverDB\")\n",
    "cur = con.cursor()\n",
    "\n",
    "while True:\n",
    "    data1 = input(\"사용자 ID ==> \")\n",
    "    if data1 == \"\":\n",
    "        break\n",
    "    data2 = input(\"사용자 이름 ==> \")\n",
    "    data3 = input(\"사용자 이메일 ==> \")\n",
    "    data4 = input(\"사용자 출생연도 ==> \")\n",
    "\n",
    "    # SQL 문법 + python\n",
    "    sql = \"INSERT INTO userTable VALUES('\" + data1 + \"', '\" + data2 + \"', '\" + data3 + \"', \" + data4 + \")\"\n",
    "    cur.execute(sql)\n",
    "\n",
    "# DB에 반영\n",
    "con.commit()\n",
    "\n",
    "con.close()"
   ]
  },
  {
   "cell_type": "markdown",
   "metadata": {},
   "source": [
    "### 데이터 조회"
   ]
  },
  {
   "cell_type": "code",
   "execution_count": 2,
   "metadata": {},
   "outputs": [
    {
     "name": "stdout",
     "output_type": "stream",
     "text": [
      "사용자ID  사용자이름  이메일  출생연도\n",
      "------------------------------\n",
      "hong 홍지윤 help@naver.com 1996\n"
     ]
    }
   ],
   "source": [
    "con, cur = None, None\n",
    "data1, data2, data3, data4 = \"\", \"\", \"\", \"\"\n",
    "row = None\n",
    "\n",
    "con = sqlite3.connect(\"naverDB\")\n",
    "cur = con.cursor()\n",
    "\n",
    "cur.execute(\"SELECT * FROM userTable\")\n",
    "\n",
    "print(\"사용자ID  사용자이름  이메일  출생연도\")\n",
    "print('-'*30)\n",
    "\n",
    "while True:\n",
    "    row = cur.fetchone()\n",
    "    if row == None:\n",
    "        break\n",
    "    data1 = row[0]\n",
    "    data2 = row[1]\n",
    "    data3 = row[2]\n",
    "    data4 = row[3]\n",
    "    print(f\"{data1} {data2} {data3} {data4}\")\n",
    "\n",
    "con.close()"
   ]
  },
  {
   "cell_type": "markdown",
   "metadata": {},
   "source": [
    "### 실습"
   ]
  },
  {
   "cell_type": "code",
   "execution_count": 5,
   "metadata": {},
   "outputs": [
    {
     "name": "stdout",
     "output_type": "stream",
     "text": [
      "hong 홍지윤 help@naver.com 1996\n",
      "kim 김태연 ttt@hanmail.net 2013\n",
      "star 별사랑 ti@ts.com 2001\n",
      "yang 양지은 eee@naver.com 2008\n"
     ]
    }
   ],
   "source": [
    "import sqlite3\n",
    "\n",
    "con = sqlite3.connect(\"naverDB\")\n",
    "cur = con.cursor()\n",
    "\n",
    "cur.execute(\"CREATE TABLE User (아이디 char(4), 회원이름 char(15), 이메일 char(15), 출생연도 int)\")\n",
    "\n",
    "while True:\n",
    "    data1 = input(\"아이디를 입력해 주세요 ==> \")\n",
    "    if data1 == \"\":\n",
    "        break\n",
    "    data2 = input(\"이름을 입력해 주세요 ==> \")\n",
    "    data3 = input(\"이메일을 입력해 주세요 ==> \")\n",
    "    data4 = input(\"출생연도를 입력해 주세요 ==> \")\n",
    "    cur.execute(\"INSERT INTO User VALUES('\" +data1+ \"', '\"+data2+\"', '\"+data3+\"', \"+data4+\")\")\n",
    "\n",
    "con.commit()\n",
    "\n",
    "cur.execute(\"SELECT * FROM User\")\n",
    "\n",
    "while True:\n",
    "    row = cur.fetchone()\n",
    "    if row == None:\n",
    "        break\n",
    "    data1 = row[0]\n",
    "    data2 = row[1]\n",
    "    data3 = row[2]\n",
    "    data4 = row[3]\n",
    "    print(f\"{data1} {data2} {data3} {data4}\")\n",
    "\n",
    "con.close()"
   ]
  },
  {
   "cell_type": "code",
   "execution_count": null,
   "metadata": {},
   "outputs": [],
   "source": []
  }
 ],
 "metadata": {
  "kernelspec": {
   "display_name": "LikeLion",
   "language": "python",
   "name": "python3"
  },
  "language_info": {
   "codemirror_mode": {
    "name": "ipython",
    "version": 3
   },
   "file_extension": ".py",
   "mimetype": "text/x-python",
   "name": "python",
   "nbconvert_exporter": "python",
   "pygments_lexer": "ipython3",
   "version": "3.8.18"
  },
  "orig_nbformat": 4
 },
 "nbformat": 4,
 "nbformat_minor": 2
}
