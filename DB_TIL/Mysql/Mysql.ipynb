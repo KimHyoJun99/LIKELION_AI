{
 "cells": [
  {
   "cell_type": "markdown",
   "metadata": {},
   "source": [
    "# Mysql"
   ]
  },
  {
   "cell_type": "markdown",
   "metadata": {},
   "source": [
    "### 연결"
   ]
  },
  {
   "cell_type": "code",
   "execution_count": 2,
   "metadata": {},
   "outputs": [],
   "source": [
    "import pymysql"
   ]
  },
  {
   "cell_type": "code",
   "execution_count": 20,
   "metadata": {},
   "outputs": [],
   "source": [
    "con = pymysql.connect(host=\"127.0.0.1\", user=\"root\", password=\"mkhj1594\", db=\"shopDB\", charset=\"utf8\")\n",
    "cur = con.cursor()\n",
    "\n",
    "# cur.execute(\"CREATE TABLE peopleTBL (memberID char(4), memberName char(15), memberEmail char(15), birthYear int)\")\n",
    "\n",
    "while True:\n",
    "    data1 = input(\"아이디를 입력하세요 ==> \")\n",
    "    if data1 == \"\":\n",
    "        break\n",
    "    data2 = input(\"이름을 입력해주세요 ==> \")\n",
    "    data3 = input(\"이메일을 입력해주세요 ==> \")\n",
    "    data4 = input(\"출생연도를 입력해주세요 ==> \")\n",
    "    cur.execute(\"INSERT INTO peopleTBL VALUES('\"+data1+\"', '\"+data2+\"', '\"+data3+\"', \"+data4+\")\")\n",
    "\n",
    "con.commit()"
   ]
  },
  {
   "cell_type": "code",
   "execution_count": 21,
   "metadata": {},
   "outputs": [
    {
     "name": "stdout",
     "output_type": "stream",
     "text": [
      "kim 김태연 ttt@hanmail.net 2013\n",
      "star 별사랑 ti@ts.com 2001\n",
      "yang 양지은 eee@naver.com 2008\n",
      "hong 홍지윤 help@naver.com 1996\n"
     ]
    }
   ],
   "source": [
    "cur.execute(\"SELECT * FROM peopleTBL\")\n",
    "\n",
    "while True:\n",
    "    row = cur.fetchone()\n",
    "    if row == None:\n",
    "        break\n",
    "    data1 = row[0]\n",
    "    data2 = row[1]\n",
    "    data3 = row[2]\n",
    "    data4 = row[3]\n",
    "    print(f\"{data1} {data2} {data3} {data4}\")\n"
   ]
  },
  {
   "cell_type": "code",
   "execution_count": 19,
   "metadata": {},
   "outputs": [
    {
     "name": "stdout",
     "output_type": "stream",
     "text": [
      "kim 김태연 ttt@hanmail.net 2013\n",
      "star 별사랑 ti@ts.com 2001\n",
      "yang 양지은 eee@naver.com 2008\n"
     ]
    }
   ],
   "source": [
    "cur.execute(\"DELETE FROM peopleTBL WHERE memberName = '홍지윤'\")\n",
    "\n",
    "con.commit()\n",
    "\n",
    "cur.execute(\"SELECT * FROM peopleTBL\")\n",
    "\n",
    "while True:\n",
    "    row = cur.fetchone()\n",
    "    if row == None:\n",
    "        break\n",
    "    data1 = row[0]\n",
    "    data2 = row[1]\n",
    "    data3 = row[2]\n",
    "    data4 = row[3]\n",
    "    print(f\"{data1} {data2} {data3} {data4}\")"
   ]
  },
  {
   "cell_type": "code",
   "execution_count": 22,
   "metadata": {},
   "outputs": [
    {
     "name": "stdout",
     "output_type": "stream",
     "text": [
      "kim 2013\n"
     ]
    }
   ],
   "source": [
    "cur.execute(\"SELECT memberID, birthYear FROM peopleTBL WHERE memberName = '김태연'\")\n",
    "\n",
    "while True:\n",
    "    row = cur.fetchone()\n",
    "    if row == None:\n",
    "        break\n",
    "    data1 = row[0]\n",
    "    data2 = row[1]\n",
    "    print(f\"{data1} {data2}\")\n",
    "\n",
    "con.close()"
   ]
  }
 ],
 "metadata": {
  "kernelspec": {
   "display_name": "LikeLion",
   "language": "python",
   "name": "python3"
  },
  "language_info": {
   "codemirror_mode": {
    "name": "ipython",
    "version": 3
   },
   "file_extension": ".py",
   "mimetype": "text/x-python",
   "name": "python",
   "nbconvert_exporter": "python",
   "pygments_lexer": "ipython3",
   "version": "3.8.18"
  },
  "orig_nbformat": 4
 },
 "nbformat": 4,
 "nbformat_minor": 2
}
