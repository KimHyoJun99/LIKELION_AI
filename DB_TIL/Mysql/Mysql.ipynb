{
 "cells": [
  {
   "cell_type": "markdown",
   "metadata": {},
   "source": [
    "# Mysql"
   ]
  },
  {
   "cell_type": "markdown",
   "metadata": {},
   "source": [
    "### 연결"
   ]
  },
  {
   "cell_type": "code",
   "execution_count": 2,
   "metadata": {},
   "outputs": [],
   "source": [
    "import pymysql"
   ]
  },
  {
   "cell_type": "code",
   "execution_count": 12,
   "metadata": {},
   "outputs": [],
   "source": [
    "con = pymysql.connect(host=\"127.0.0.1\", user=\"root\", password=\"mkhj1594\", db=\"shopDB\", charset=\"utf8\")\n",
    "cur = con.cursor()\n",
    "\n",
    "# cur.execute(\"CREATE TABLE peopleTBL (memberID char(4), memberName char(15), memberEmail char(15), birthYear int)\")\n",
    "\n",
    "while True:\n",
    "    data1 = input(\"아이디를 입력하세요 ==> \")\n",
    "    if data1 == \"\":\n",
    "        break\n",
    "    data2 = input(\"이름을 입력해주세요 ==> \")\n",
    "    data3 = input(\"이메일을 입력해주세요 ==> \")\n",
    "    data4 = input(\"출생연도를 입력해주세요 ==> \")\n",
    "    cur.execute(\"INSERT INTO peopleTBL VALUES('\"+data1+\"', '\"+data2+\"', '\"+data3+\"', \"+data4+\")\")\n",
    "\n",
    "con.commit\n",
    "\n",
    "cur.execute(\"SELECT * FROM peopleTBL\")\n",
    "\n",
    "while True:\n",
    "    row = cur.fetchone()\n",
    "    if row == None:\n",
    "        break\n",
    "    data1 = row[0]\n",
    "    data2 = row[1]\n",
    "    data3 = row[2]\n",
    "    data4 = row[3]\n",
    "    print(f\"{data1} {data2} {data3} {data4}\")\n",
    "\n",
    "con.close()"
   ]
  },
  {
   "cell_type": "code",
   "execution_count": null,
   "metadata": {},
   "outputs": [],
   "source": []
  }
 ],
 "metadata": {
  "kernelspec": {
   "display_name": "LikeLion",
   "language": "python",
   "name": "python3"
  },
  "language_info": {
   "codemirror_mode": {
    "name": "ipython",
    "version": 3
   },
   "file_extension": ".py",
   "mimetype": "text/x-python",
   "name": "python",
   "nbconvert_exporter": "python",
   "pygments_lexer": "ipython3",
   "version": "3.8.18"
  },
  "orig_nbformat": 4
 },
 "nbformat": 4,
 "nbformat_minor": 2
}
