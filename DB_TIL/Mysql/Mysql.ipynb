{
 "cells": [
  {
   "cell_type": "markdown",
   "metadata": {},
   "source": [
    "# Mysql"
   ]
  },
  {
   "cell_type": "markdown",
   "metadata": {},
   "source": [
    "### pymysql"
   ]
  },
  {
   "cell_type": "code",
   "execution_count": 2,
   "metadata": {},
   "outputs": [],
   "source": [
    "import pymysql"
   ]
  },
  {
   "cell_type": "code",
   "execution_count": 20,
   "metadata": {},
   "outputs": [],
   "source": [
    "con = pymysql.connect(host=\"127.0.0.1\", user=\"root\", password=\"#####\", db=\"shopDB\", charset=\"utf8\")\n",
    "cur = con.cursor()\n",
    "\n",
    "# cur.execute(\"CREATE TABLE peopleTBL (memberID char(4), memberName char(15), memberEmail char(15), birthYear int)\")\n",
    "\n",
    "while True:\n",
    "    data1 = input(\"아이디를 입력하세요 ==> \")\n",
    "    if data1 == \"\":\n",
    "        break\n",
    "    data2 = input(\"이름을 입력해주세요 ==> \")\n",
    "    data3 = input(\"이메일을 입력해주세요 ==> \")\n",
    "    data4 = input(\"출생연도를 입력해주세요 ==> \")\n",
    "    cur.execute(\"INSERT INTO peopleTBL VALUES('\"+data1+\"', '\"+data2+\"', '\"+data3+\"', \"+data4+\")\")\n",
    "\n",
    "con.commit()"
   ]
  },
  {
   "cell_type": "code",
   "execution_count": 21,
   "metadata": {},
   "outputs": [
    {
     "name": "stdout",
     "output_type": "stream",
     "text": [
      "kim 김태연 ttt@hanmail.net 2013\n",
      "star 별사랑 ti@ts.com 2001\n",
      "yang 양지은 eee@naver.com 2008\n",
      "hong 홍지윤 help@naver.com 1996\n"
     ]
    }
   ],
   "source": [
    "cur.execute(\"SELECT * FROM peopleTBL\")\n",
    "\n",
    "while True:\n",
    "    row = cur.fetchone()\n",
    "    if row == None:\n",
    "        break\n",
    "    data1 = row[0]\n",
    "    data2 = row[1]\n",
    "    data3 = row[2]\n",
    "    data4 = row[3]\n",
    "    print(f\"{data1} {data2} {data3} {data4}\")\n"
   ]
  },
  {
   "cell_type": "code",
   "execution_count": 19,
   "metadata": {},
   "outputs": [
    {
     "name": "stdout",
     "output_type": "stream",
     "text": [
      "kim 김태연 ttt@hanmail.net 2013\n",
      "star 별사랑 ti@ts.com 2001\n",
      "yang 양지은 eee@naver.com 2008\n"
     ]
    }
   ],
   "source": [
    "cur.execute(\"DELETE FROM peopleTBL WHERE memberName = '홍지윤'\")\n",
    "\n",
    "con.commit()\n",
    "\n",
    "cur.execute(\"SELECT * FROM peopleTBL\")\n",
    "\n",
    "while True:\n",
    "    row = cur.fetchone()\n",
    "    if row == None:\n",
    "        break\n",
    "    data1 = row[0]\n",
    "    data2 = row[1]\n",
    "    data3 = row[2]\n",
    "    data4 = row[3]\n",
    "    print(f\"{data1} {data2} {data3} {data4}\")"
   ]
  },
  {
   "cell_type": "code",
   "execution_count": 22,
   "metadata": {},
   "outputs": [
    {
     "name": "stdout",
     "output_type": "stream",
     "text": [
      "kim 2013\n"
     ]
    }
   ],
   "source": [
    "cur.execute(\"SELECT memberID, birthYear FROM peopleTBL WHERE memberName = '김태연'\")\n",
    "\n",
    "while True:\n",
    "    row = cur.fetchone()\n",
    "    if row == None:\n",
    "        break\n",
    "    data1 = row[0]\n",
    "    data2 = row[1]\n",
    "    print(f\"{data1} {data2}\")\n",
    "\n",
    "con.close()"
   ]
  },
  {
   "cell_type": "markdown",
   "metadata": {},
   "source": [
    "### 과제\n",
    "- 주소록을 입력받아 결과를 출력\n",
    "- 메인 메뉴\n",
    "    - 입력\n",
    "        - 이름:\n",
    "        - 나이:\n",
    "        - 주소:\n",
    "    - 출력\n",
    "        - table 형태로 출력\n",
    "    - 검색\n",
    "        - 이름 입력\n",
    "    - 종료\n"
   ]
  },
  {
   "cell_type": "code",
   "execution_count": 1,
   "metadata": {},
   "outputs": [],
   "source": [
    "import pymysql"
   ]
  },
  {
   "cell_type": "code",
   "execution_count": 5,
   "metadata": {},
   "outputs": [
    {
     "data": {
      "text/plain": [
       "0"
      ]
     },
     "execution_count": 5,
     "metadata": {},
     "output_type": "execute_result"
    }
   ],
   "source": [
    "con = pymysql.connect(host=\"127.0.0.1\", user=\"root\", password=\"#####\", db=\"shopDB\", charset=\"utf8\")\n",
    "cur = con.cursor()\n",
    "cur.execute(\"DROP TABLE addressBook\")"
   ]
  },
  {
   "cell_type": "code",
   "execution_count": 2,
   "metadata": {},
   "outputs": [],
   "source": [
    "def address_book():\n",
    "    con = pymysql.connect(host=\"127.0.0.1\", user=\"root\", password=\"#####\", db=\"shopDB\", charset=\"utf8\")\n",
    "    cur = con.cursor()\n",
    "    cur.execute(\"CREATE TABLE addressBook (userName char(10), age int, userAddress char(15))\")\n",
    "\n",
    "    while True:\n",
    "        print(\"메인 메뉴)\")\n",
    "        print(\"\\t1. 입력 \\n\\t2. 출력 \\n\\t3. 검색 \\n\\t4. 종료 \\n\")\n",
    "        num = int(input(\"번호를 입력하세요: \"))\n",
    "\n",
    "        if num == 4:\n",
    "            break\n",
    "        else:\n",
    "            if num == 1:\n",
    "                while True:\n",
    "                    data1 = input(\"이름: \")\n",
    "                    data2 = input(\"나이: \")\n",
    "                    data3 = input(\"주소: \")\n",
    "                    cur.execute(\"INSERT INTO addressBook VALUES('\"+data1+\"', \"+data2+\", '\"+data3+\"')\")\n",
    "                    continue_ = input(\"계속 입력하시겠습니까 (y/n)? \")\n",
    "\n",
    "                    if continue_ == 'n':\n",
    "                        con.commit()\n",
    "                        break\n",
    "            elif num == 2:\n",
    "                cur.execute(\"SELECT * FROM addressBook\")\n",
    "                print('-' * 30)\n",
    "                print(\"   이름   나이       주소\")\n",
    "                print('-' * 30)\n",
    "                while True:\n",
    "                    row = cur.fetchone()\n",
    "                    if row == None:\n",
    "                        break\n",
    "                    data1 = row[0]\n",
    "                    data2 = row[1]\n",
    "                    data3 = row[2]\n",
    "                    print(f\"  {data1}   {data2}    {data3}\")\n",
    "                print()\n",
    "            else:\n",
    "                name = input(\"검색할 이름을 입력하세요: \")\n",
    "                print('-' * 30)\n",
    "                print(\"   이름   나이       주소\")\n",
    "                print('-' * 30)\n",
    "                cur.execute(\"SELECT * FROM addressBook WHERE userName = %s\", [name])\n",
    "                row = cur.fetchone()\n",
    "                if row == None:\n",
    "                    break\n",
    "                data1 = row[0]\n",
    "                data2 = row[1]\n",
    "                data3 = row[2]\n",
    "                print(f\"  {data1}   {data2}    {data3}\")\n",
    "                print()\n",
    "    con.close()\n",
    "\n",
    "                "
   ]
  },
  {
   "cell_type": "code",
   "execution_count": 6,
   "metadata": {},
   "outputs": [
    {
     "name": "stdout",
     "output_type": "stream",
     "text": [
      "메인 메뉴)\n",
      "\t1. 입력 \n",
      "\t2. 출력 \n",
      "\t3. 검색 \n",
      "\t4. 종료 \n",
      "\n",
      "메인 메뉴)\n",
      "\t1. 입력 \n",
      "\t2. 출력 \n",
      "\t3. 검색 \n",
      "\t4. 종료 \n",
      "\n",
      "------------------------------\n",
      "   이름   나이       주소\n",
      "------------------------------\n",
      "  김효준   24    경기도 안산시\n",
      "  홍길동   37    서울시\n",
      "  최철수   16    부산시\n",
      "\n",
      "메인 메뉴)\n",
      "\t1. 입력 \n",
      "\t2. 출력 \n",
      "\t3. 검색 \n",
      "\t4. 종료 \n",
      "\n",
      "------------------------------\n",
      "   이름   나이       주소\n",
      "------------------------------\n",
      "  최철수   16    부산시\n",
      "\n",
      "메인 메뉴)\n",
      "\t1. 입력 \n",
      "\t2. 출력 \n",
      "\t3. 검색 \n",
      "\t4. 종료 \n",
      "\n"
     ]
    }
   ],
   "source": [
    "address_book()"
   ]
  },
  {
   "cell_type": "code",
   "execution_count": null,
   "metadata": {},
   "outputs": [],
   "source": []
  }
 ],
 "metadata": {
  "kernelspec": {
   "display_name": "LikeLion",
   "language": "python",
   "name": "python3"
  },
  "language_info": {
   "codemirror_mode": {
    "name": "ipython",
    "version": 3
   },
   "file_extension": ".py",
   "mimetype": "text/x-python",
   "name": "python",
   "nbconvert_exporter": "python",
   "pygments_lexer": "ipython3",
   "version": "3.8.18"
  },
  "orig_nbformat": 4
 },
 "nbformat": 4,
 "nbformat_minor": 2
}
